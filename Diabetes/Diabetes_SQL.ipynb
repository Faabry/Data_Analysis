{
  "nbformat": 4,
  "nbformat_minor": 0,
  "metadata": {
    "colab": {
      "provenance": [],
      "authorship_tag": "ABX9TyO78hWH5CCDyh1r8kUFCyr2",
      "include_colab_link": true
    },
    "kernelspec": {
      "name": "python3",
      "display_name": "Python 3"
    },
    "language_info": {
      "name": "python"
    }
  },
  "cells": [
    {
      "cell_type": "markdown",
      "metadata": {
        "id": "view-in-github",
        "colab_type": "text"
      },
      "source": [
        "<a href=\"https://colab.research.google.com/github/Faabry/Data_Analysis/blob/main/Diabetes_SQL.ipynb\" target=\"_parent\"><img src=\"https://colab.research.google.com/assets/colab-badge.svg\" alt=\"Open In Colab\"/></a>"
      ]
    },
    {
      "cell_type": "markdown",
      "source": [
        "# **Desafio**\n",
        "* # Uma empresa precisa fazer um levantamento sobre quantas pessoas tem mais de 50 anos e dentre essas pessoas quantas tem o BMI abaixo de 30 **\"Normal\"** e quantas pessoas tem o BMI acima de 30 **\"Obeso\"**."
      ],
      "metadata": {
        "id": "FATxPW2Nl85I"
      }
    },
    {
      "cell_type": "markdown",
      "source": [
        "# **Importando os dados a partir de um link usando \"Python\" .**"
      ],
      "metadata": {
        "id": "pME7_9uNmG5t"
      }
    },
    {
      "cell_type": "code",
      "execution_count": 41,
      "metadata": {
        "id": "OpkEpUd_jKWE"
      },
      "outputs": [],
      "source": [
        "import pandas as pd\n",
        "\n",
        "df = pd.read_csv(\"https://raw.githubusercontent.com/plotly/datasets/master/diabetes.csv\")"
      ]
    },
    {
      "cell_type": "code",
      "source": [
        "import sqlite3"
      ],
      "metadata": {
        "id": "RtunFSj2jZTP"
      },
      "execution_count": 42,
      "outputs": []
    },
    {
      "cell_type": "code",
      "source": [
        "# pip install ipython-sql"
      ],
      "metadata": {
        "id": "1W4Rh3HKk--s"
      },
      "execution_count": null,
      "outputs": []
    },
    {
      "cell_type": "markdown",
      "source": [
        "# **Criando o Banco de Dados**"
      ],
      "metadata": {
        "id": "bJbPJ1g5mRqQ"
      }
    },
    {
      "cell_type": "code",
      "source": [
        "# diabetes.db é o nome do nosso BD\n",
        "cnn = sqlite3.connect(\"dados_diabetes.db\")"
      ],
      "metadata": {
        "id": "8N1yl4d0jbUp"
      },
      "execution_count": 52,
      "outputs": []
    },
    {
      "cell_type": "markdown",
      "source": [
        "## **Convertendo o arquivo csv para o formato sql (usando Python)**"
      ],
      "metadata": {
        "id": "Ij8VhUkmmVqK"
      }
    },
    {
      "cell_type": "code",
      "source": [
        "# \"pacientes1\" é o nome da tabela do nosso BD\n",
        "df.to_sql(\"pacientes1\", cnn, index=False)"
      ],
      "metadata": {
        "id": "Q-Gyb_bRjPHT"
      },
      "execution_count": 53,
      "outputs": []
    },
    {
      "cell_type": "markdown",
      "source": [
        "* Carregando a extensão SQL"
      ],
      "metadata": {
        "id": "Ho9sXBBemeTb"
      }
    },
    {
      "cell_type": "code",
      "source": [
        "%reload_ext sql"
      ],
      "metadata": {
        "id": "a4j9esobjXnR"
      },
      "execution_count": 54,
      "outputs": []
    },
    {
      "cell_type": "markdown",
      "source": [
        "* Conectando ao Banco de Dados"
      ],
      "metadata": {
        "id": "tgWmbZJfmksb"
      }
    },
    {
      "cell_type": "code",
      "source": [
        "%sql sqlite:///dados_diabetes.db"
      ],
      "metadata": {
        "colab": {
          "base_uri": "https://localhost:8080/",
          "height": 35
        },
        "id": "IYHx-Pdgj5LR",
        "outputId": "100d9378-3de4-42b0-dc2a-fbb7ae8b1370"
      },
      "execution_count": 56,
      "outputs": [
        {
          "output_type": "execute_result",
          "data": {
            "text/plain": [
              "'Connected: @dados_diabetes.db'"
            ],
            "application/vnd.google.colaboratory.intrinsic+json": {
              "type": "string"
            }
          },
          "metadata": {},
          "execution_count": 56
        }
      ]
    },
    {
      "cell_type": "markdown",
      "source": [
        "# **Agora nosso arquivo está pronto para ser tratado**"
      ],
      "metadata": {
        "id": "D5c9Jx-XmqkG"
      }
    },
    {
      "cell_type": "code",
      "source": [
        "%%sql\n",
        "\n",
        "SELECT * FROM pacientes1\n",
        "LIMIT 10;"
      ],
      "metadata": {
        "colab": {
          "base_uri": "https://localhost:8080/",
          "height": 306
        },
        "id": "AdWtGhXyj_dr",
        "outputId": "623f2192-b988-4882-9b68-ff7d11dac4f5"
      },
      "execution_count": 57,
      "outputs": [
        {
          "output_type": "stream",
          "name": "stdout",
          "text": [
            " * sqlite:///dados_diabetes.db\n",
            "   sqlite:///diabetes.db\n",
            "Done.\n"
          ]
        },
        {
          "output_type": "execute_result",
          "data": {
            "text/plain": [
              "[(6, 148, 72, 35, 0, 33.6, 0.627, 50, 1),\n",
              " (1, 85, 66, 29, 0, 26.6, 0.351, 31, 0),\n",
              " (8, 183, 64, 0, 0, 23.3, 0.672, 32, 1),\n",
              " (1, 89, 66, 23, 94, 28.1, 0.167, 21, 0),\n",
              " (0, 137, 40, 35, 168, 43.1, 2.288, 33, 1),\n",
              " (5, 116, 74, 0, 0, 25.6, 0.201, 30, 0),\n",
              " (3, 78, 50, 32, 88, 31.0, 0.248, 26, 1),\n",
              " (10, 115, 0, 0, 0, 35.3, 0.134, 29, 0),\n",
              " (2, 197, 70, 45, 543, 30.5, 0.158, 53, 1),\n",
              " (8, 125, 96, 0, 0, 0.0, 0.232, 54, 1)]"
            ],
            "text/html": [
              "<table>\n",
              "    <thead>\n",
              "        <tr>\n",
              "            <th>Pregnancies</th>\n",
              "            <th>Glucose</th>\n",
              "            <th>BloodPressure</th>\n",
              "            <th>SkinThickness</th>\n",
              "            <th>Insulin</th>\n",
              "            <th>BMI</th>\n",
              "            <th>DiabetesPedigreeFunction</th>\n",
              "            <th>Age</th>\n",
              "            <th>Outcome</th>\n",
              "        </tr>\n",
              "    </thead>\n",
              "    <tbody>\n",
              "        <tr>\n",
              "            <td>6</td>\n",
              "            <td>148</td>\n",
              "            <td>72</td>\n",
              "            <td>35</td>\n",
              "            <td>0</td>\n",
              "            <td>33.6</td>\n",
              "            <td>0.627</td>\n",
              "            <td>50</td>\n",
              "            <td>1</td>\n",
              "        </tr>\n",
              "        <tr>\n",
              "            <td>1</td>\n",
              "            <td>85</td>\n",
              "            <td>66</td>\n",
              "            <td>29</td>\n",
              "            <td>0</td>\n",
              "            <td>26.6</td>\n",
              "            <td>0.351</td>\n",
              "            <td>31</td>\n",
              "            <td>0</td>\n",
              "        </tr>\n",
              "        <tr>\n",
              "            <td>8</td>\n",
              "            <td>183</td>\n",
              "            <td>64</td>\n",
              "            <td>0</td>\n",
              "            <td>0</td>\n",
              "            <td>23.3</td>\n",
              "            <td>0.672</td>\n",
              "            <td>32</td>\n",
              "            <td>1</td>\n",
              "        </tr>\n",
              "        <tr>\n",
              "            <td>1</td>\n",
              "            <td>89</td>\n",
              "            <td>66</td>\n",
              "            <td>23</td>\n",
              "            <td>94</td>\n",
              "            <td>28.1</td>\n",
              "            <td>0.167</td>\n",
              "            <td>21</td>\n",
              "            <td>0</td>\n",
              "        </tr>\n",
              "        <tr>\n",
              "            <td>0</td>\n",
              "            <td>137</td>\n",
              "            <td>40</td>\n",
              "            <td>35</td>\n",
              "            <td>168</td>\n",
              "            <td>43.1</td>\n",
              "            <td>2.288</td>\n",
              "            <td>33</td>\n",
              "            <td>1</td>\n",
              "        </tr>\n",
              "        <tr>\n",
              "            <td>5</td>\n",
              "            <td>116</td>\n",
              "            <td>74</td>\n",
              "            <td>0</td>\n",
              "            <td>0</td>\n",
              "            <td>25.6</td>\n",
              "            <td>0.201</td>\n",
              "            <td>30</td>\n",
              "            <td>0</td>\n",
              "        </tr>\n",
              "        <tr>\n",
              "            <td>3</td>\n",
              "            <td>78</td>\n",
              "            <td>50</td>\n",
              "            <td>32</td>\n",
              "            <td>88</td>\n",
              "            <td>31.0</td>\n",
              "            <td>0.248</td>\n",
              "            <td>26</td>\n",
              "            <td>1</td>\n",
              "        </tr>\n",
              "        <tr>\n",
              "            <td>10</td>\n",
              "            <td>115</td>\n",
              "            <td>0</td>\n",
              "            <td>0</td>\n",
              "            <td>0</td>\n",
              "            <td>35.3</td>\n",
              "            <td>0.134</td>\n",
              "            <td>29</td>\n",
              "            <td>0</td>\n",
              "        </tr>\n",
              "        <tr>\n",
              "            <td>2</td>\n",
              "            <td>197</td>\n",
              "            <td>70</td>\n",
              "            <td>45</td>\n",
              "            <td>543</td>\n",
              "            <td>30.5</td>\n",
              "            <td>0.158</td>\n",
              "            <td>53</td>\n",
              "            <td>1</td>\n",
              "        </tr>\n",
              "        <tr>\n",
              "            <td>8</td>\n",
              "            <td>125</td>\n",
              "            <td>96</td>\n",
              "            <td>0</td>\n",
              "            <td>0</td>\n",
              "            <td>0.0</td>\n",
              "            <td>0.232</td>\n",
              "            <td>54</td>\n",
              "            <td>1</td>\n",
              "        </tr>\n",
              "    </tbody>\n",
              "</table>"
            ]
          },
          "metadata": {},
          "execution_count": 57
        }
      ]
    },
    {
      "cell_type": "markdown",
      "source": [
        "# *Nosso desafio é filtrar todos os pacientes com **\"mais de 50 anos\"**, verificar o BMI e **criar uma nova coluna chamada Status** onde o valor será **\"Normal\"** se o BMI for menor do que 30 e **\"Obeso\"** se o BMI for maior do que 30.*"
      ],
      "metadata": {
        "id": "Pez7C2EonQQa"
      }
    },
    {
      "cell_type": "markdown",
      "source": [
        "## *Criar uma tabela filtrando somente os pacientes acima de 50 anos.*\n",
        "* A princípio vamos criar uma tabela vazia e em seguida vamos alimenta-la usando o filtro"
      ],
      "metadata": {
        "id": "O16XYfQjDk3j"
      }
    },
    {
      "cell_type": "code",
      "source": [
        "%%sql\n",
        "\n",
        "CREATE TABLE maior_50(\n",
        "                    Pregnancies INT,\n",
        "                    Glucose INT,\n",
        "                    BloodPressure INT,\n",
        "                    SkinThickness INT,\n",
        "                    Insulin INT,\n",
        "                    BMI DECIMAL(8, 2),\n",
        "                    DiabetesPedigreeFunction DECIMAL(8, 2),\n",
        "                    Age INT,\n",
        "                    Outcome INT);"
      ],
      "metadata": {
        "colab": {
          "base_uri": "https://localhost:8080/"
        },
        "id": "YKaeRKgOkJ0e",
        "outputId": "beba9abb-823d-432d-aed2-ca7d948b5b67"
      },
      "execution_count": 58,
      "outputs": [
        {
          "output_type": "stream",
          "name": "stdout",
          "text": [
            " * sqlite:///dados_diabetes.db\n",
            "   sqlite:///diabetes.db\n",
            "Done.\n"
          ]
        },
        {
          "output_type": "execute_result",
          "data": {
            "text/plain": [
              "[]"
            ]
          },
          "metadata": {},
          "execution_count": 58
        }
      ]
    },
    {
      "cell_type": "markdown",
      "source": [
        "## Inserindo os dados filtrados da tabela **pacientes1** na tabela criada anteriormente chamada **maior_50**."
      ],
      "metadata": {
        "id": "3YWsRhS3DzqA"
      }
    },
    {
      "cell_type": "code",
      "source": [
        "%%sql\n",
        "\n",
        "INSERT INTO maior_50(\n",
        "                                Pregnancies,\n",
        "                                Glucose,\n",
        "                                BloodPressure,\n",
        "                                SkinThickness,\n",
        "                                Insulin,\n",
        "                                BMI,\n",
        "                                DiabetesPedigreeFunction,\n",
        "                                Age,\n",
        "                                Outcome)\n",
        "\n",
        "SELECT  Pregnancies,\n",
        "        Glucose,\n",
        "        BloodPressure,\n",
        "        SkinThickness,\n",
        "        Insulin,\n",
        "        BMI,\n",
        "        DiabetesPedigreeFunction,\n",
        "        Age,\n",
        "        Outcome\n",
        "FROM pacientes1\n",
        "WHERE Age > 50;\n"
      ],
      "metadata": {
        "colab": {
          "base_uri": "https://localhost:8080/"
        },
        "id": "LlwoaFmX-ajC",
        "outputId": "ddcb70c2-a6a1-4372-cda7-9dfd55fd057a"
      },
      "execution_count": 59,
      "outputs": [
        {
          "output_type": "stream",
          "name": "stdout",
          "text": [
            " * sqlite:///dados_diabetes.db\n",
            "   sqlite:///diabetes.db\n",
            "81 rows affected.\n"
          ]
        },
        {
          "output_type": "execute_result",
          "data": {
            "text/plain": [
              "[]"
            ]
          },
          "metadata": {},
          "execution_count": 59
        }
      ]
    },
    {
      "cell_type": "code",
      "source": [
        "%%sql\n",
        "\n",
        "SELECT * FROM maior_50\n",
        "LIMIT 10;"
      ],
      "metadata": {
        "colab": {
          "base_uri": "https://localhost:8080/",
          "height": 306
        },
        "id": "sf_BlN3Z_gv9",
        "outputId": "7f59ef76-eb6a-452b-c887-8d5c79c14fff"
      },
      "execution_count": 60,
      "outputs": [
        {
          "output_type": "stream",
          "name": "stdout",
          "text": [
            " * sqlite:///dados_diabetes.db\n",
            "   sqlite:///diabetes.db\n",
            "Done.\n"
          ]
        },
        {
          "output_type": "execute_result",
          "data": {
            "text/plain": [
              "[(2, 197, 70, 45, 543, 30.5, 0.158, 53, 1),\n",
              " (8, 125, 96, 0, 0, 0, 0.232, 54, 1),\n",
              " (10, 139, 80, 0, 0, 27.1, 1.441, 57, 0),\n",
              " (1, 189, 60, 23, 846, 30.1, 0.398, 59, 1),\n",
              " (5, 166, 72, 19, 175, 25.8, 0.587, 51, 1),\n",
              " (11, 143, 94, 33, 146, 36.6, 0.254, 51, 1),\n",
              " (13, 145, 82, 19, 110, 22.2, 0.245, 57, 0),\n",
              " (5, 109, 75, 26, 0, 36, 0.546, 60, 0),\n",
              " (4, 111, 72, 47, 207, 37.1, 1.39, 56, 1),\n",
              " (9, 171, 110, 24, 240, 45.4, 0.721, 54, 1)]"
            ],
            "text/html": [
              "<table>\n",
              "    <thead>\n",
              "        <tr>\n",
              "            <th>Pregnancies</th>\n",
              "            <th>Glucose</th>\n",
              "            <th>BloodPressure</th>\n",
              "            <th>SkinThickness</th>\n",
              "            <th>Insulin</th>\n",
              "            <th>BMI</th>\n",
              "            <th>DiabetesPedigreeFunction</th>\n",
              "            <th>Age</th>\n",
              "            <th>Outcome</th>\n",
              "        </tr>\n",
              "    </thead>\n",
              "    <tbody>\n",
              "        <tr>\n",
              "            <td>2</td>\n",
              "            <td>197</td>\n",
              "            <td>70</td>\n",
              "            <td>45</td>\n",
              "            <td>543</td>\n",
              "            <td>30.5</td>\n",
              "            <td>0.158</td>\n",
              "            <td>53</td>\n",
              "            <td>1</td>\n",
              "        </tr>\n",
              "        <tr>\n",
              "            <td>8</td>\n",
              "            <td>125</td>\n",
              "            <td>96</td>\n",
              "            <td>0</td>\n",
              "            <td>0</td>\n",
              "            <td>0</td>\n",
              "            <td>0.232</td>\n",
              "            <td>54</td>\n",
              "            <td>1</td>\n",
              "        </tr>\n",
              "        <tr>\n",
              "            <td>10</td>\n",
              "            <td>139</td>\n",
              "            <td>80</td>\n",
              "            <td>0</td>\n",
              "            <td>0</td>\n",
              "            <td>27.1</td>\n",
              "            <td>1.441</td>\n",
              "            <td>57</td>\n",
              "            <td>0</td>\n",
              "        </tr>\n",
              "        <tr>\n",
              "            <td>1</td>\n",
              "            <td>189</td>\n",
              "            <td>60</td>\n",
              "            <td>23</td>\n",
              "            <td>846</td>\n",
              "            <td>30.1</td>\n",
              "            <td>0.398</td>\n",
              "            <td>59</td>\n",
              "            <td>1</td>\n",
              "        </tr>\n",
              "        <tr>\n",
              "            <td>5</td>\n",
              "            <td>166</td>\n",
              "            <td>72</td>\n",
              "            <td>19</td>\n",
              "            <td>175</td>\n",
              "            <td>25.8</td>\n",
              "            <td>0.587</td>\n",
              "            <td>51</td>\n",
              "            <td>1</td>\n",
              "        </tr>\n",
              "        <tr>\n",
              "            <td>11</td>\n",
              "            <td>143</td>\n",
              "            <td>94</td>\n",
              "            <td>33</td>\n",
              "            <td>146</td>\n",
              "            <td>36.6</td>\n",
              "            <td>0.254</td>\n",
              "            <td>51</td>\n",
              "            <td>1</td>\n",
              "        </tr>\n",
              "        <tr>\n",
              "            <td>13</td>\n",
              "            <td>145</td>\n",
              "            <td>82</td>\n",
              "            <td>19</td>\n",
              "            <td>110</td>\n",
              "            <td>22.2</td>\n",
              "            <td>0.245</td>\n",
              "            <td>57</td>\n",
              "            <td>0</td>\n",
              "        </tr>\n",
              "        <tr>\n",
              "            <td>5</td>\n",
              "            <td>109</td>\n",
              "            <td>75</td>\n",
              "            <td>26</td>\n",
              "            <td>0</td>\n",
              "            <td>36</td>\n",
              "            <td>0.546</td>\n",
              "            <td>60</td>\n",
              "            <td>0</td>\n",
              "        </tr>\n",
              "        <tr>\n",
              "            <td>4</td>\n",
              "            <td>111</td>\n",
              "            <td>72</td>\n",
              "            <td>47</td>\n",
              "            <td>207</td>\n",
              "            <td>37.1</td>\n",
              "            <td>1.39</td>\n",
              "            <td>56</td>\n",
              "            <td>1</td>\n",
              "        </tr>\n",
              "        <tr>\n",
              "            <td>9</td>\n",
              "            <td>171</td>\n",
              "            <td>110</td>\n",
              "            <td>24</td>\n",
              "            <td>240</td>\n",
              "            <td>45.4</td>\n",
              "            <td>0.721</td>\n",
              "            <td>54</td>\n",
              "            <td>1</td>\n",
              "        </tr>\n",
              "    </tbody>\n",
              "</table>"
            ]
          },
          "metadata": {},
          "execution_count": 60
        }
      ]
    },
    {
      "cell_type": "markdown",
      "source": [
        "## Criando uma nova coluna chamada **Status** que irá receber os valores \"Normal\" ou \"Obeso\"."
      ],
      "metadata": {
        "id": "tnWAJe2XEDwX"
      }
    },
    {
      "cell_type": "code",
      "source": [
        "%%sql\n",
        "\n",
        "ALTER TABLE maior_50\n",
        "ADD COLUMN Status VARCHAR(10);"
      ],
      "metadata": {
        "colab": {
          "base_uri": "https://localhost:8080/"
        },
        "id": "dzYVq1HhAPEy",
        "outputId": "c37e0400-4628-480a-a9de-0298f6acbae6"
      },
      "execution_count": 61,
      "outputs": [
        {
          "output_type": "stream",
          "name": "stdout",
          "text": [
            " * sqlite:///dados_diabetes.db\n",
            "   sqlite:///diabetes.db\n",
            "Done.\n"
          ]
        },
        {
          "output_type": "execute_result",
          "data": {
            "text/plain": [
              "[]"
            ]
          },
          "metadata": {},
          "execution_count": 61
        }
      ]
    },
    {
      "cell_type": "code",
      "source": [
        "%%sql\n",
        "\n",
        "UPDATE maior_50\n",
        "SET Status = \"Normal\"\n",
        "WHERE BMI < 30;"
      ],
      "metadata": {
        "colab": {
          "base_uri": "https://localhost:8080/"
        },
        "id": "fQhY1fuMBAXw",
        "outputId": "51338d0f-5b38-49dd-be28-85253df20918"
      },
      "execution_count": 62,
      "outputs": [
        {
          "output_type": "stream",
          "name": "stdout",
          "text": [
            " * sqlite:///dados_diabetes.db\n",
            "   sqlite:///diabetes.db\n",
            "38 rows affected.\n"
          ]
        },
        {
          "output_type": "execute_result",
          "data": {
            "text/plain": [
              "[]"
            ]
          },
          "metadata": {},
          "execution_count": 62
        }
      ]
    },
    {
      "cell_type": "code",
      "source": [
        "%%sql \n",
        "\n",
        "UPDATE maior_50\n",
        "SET Status = \"Obeso\"\n",
        "WHERE BMI > 30;"
      ],
      "metadata": {
        "colab": {
          "base_uri": "https://localhost:8080/"
        },
        "id": "eI1uwvvsBKoF",
        "outputId": "4e3ebc84-20b5-40fb-bbc6-1c0ca5ba9050"
      },
      "execution_count": 63,
      "outputs": [
        {
          "output_type": "stream",
          "name": "stdout",
          "text": [
            " * sqlite:///dados_diabetes.db\n",
            "   sqlite:///diabetes.db\n",
            "43 rows affected.\n"
          ]
        },
        {
          "output_type": "execute_result",
          "data": {
            "text/plain": [
              "[]"
            ]
          },
          "metadata": {},
          "execution_count": 63
        }
      ]
    },
    {
      "cell_type": "code",
      "source": [
        "%%sql\n",
        "\n",
        "SELECT * FROM maior_50\n",
        "LIMIT 10;"
      ],
      "metadata": {
        "colab": {
          "base_uri": "https://localhost:8080/",
          "height": 306
        },
        "id": "QXfXi9rpBQ_8",
        "outputId": "d813dee7-fb65-4611-d264-901cecf904ec"
      },
      "execution_count": 65,
      "outputs": [
        {
          "output_type": "stream",
          "name": "stdout",
          "text": [
            " * sqlite:///dados_diabetes.db\n",
            "   sqlite:///diabetes.db\n",
            "Done.\n"
          ]
        },
        {
          "output_type": "execute_result",
          "data": {
            "text/plain": [
              "[(2, 197, 70, 45, 543, 30.5, 0.158, 53, 1, 'Obeso'),\n",
              " (8, 125, 96, 0, 0, 0, 0.232, 54, 1, 'Normal'),\n",
              " (10, 139, 80, 0, 0, 27.1, 1.441, 57, 0, 'Normal'),\n",
              " (1, 189, 60, 23, 846, 30.1, 0.398, 59, 1, 'Obeso'),\n",
              " (5, 166, 72, 19, 175, 25.8, 0.587, 51, 1, 'Normal'),\n",
              " (11, 143, 94, 33, 146, 36.6, 0.254, 51, 1, 'Obeso'),\n",
              " (13, 145, 82, 19, 110, 22.2, 0.245, 57, 0, 'Normal'),\n",
              " (5, 109, 75, 26, 0, 36, 0.546, 60, 0, 'Obeso'),\n",
              " (4, 111, 72, 47, 207, 37.1, 1.39, 56, 1, 'Obeso'),\n",
              " (9, 171, 110, 24, 240, 45.4, 0.721, 54, 1, 'Obeso')]"
            ],
            "text/html": [
              "<table>\n",
              "    <thead>\n",
              "        <tr>\n",
              "            <th>Pregnancies</th>\n",
              "            <th>Glucose</th>\n",
              "            <th>BloodPressure</th>\n",
              "            <th>SkinThickness</th>\n",
              "            <th>Insulin</th>\n",
              "            <th>BMI</th>\n",
              "            <th>DiabetesPedigreeFunction</th>\n",
              "            <th>Age</th>\n",
              "            <th>Outcome</th>\n",
              "            <th>Status</th>\n",
              "        </tr>\n",
              "    </thead>\n",
              "    <tbody>\n",
              "        <tr>\n",
              "            <td>2</td>\n",
              "            <td>197</td>\n",
              "            <td>70</td>\n",
              "            <td>45</td>\n",
              "            <td>543</td>\n",
              "            <td>30.5</td>\n",
              "            <td>0.158</td>\n",
              "            <td>53</td>\n",
              "            <td>1</td>\n",
              "            <td>Obeso</td>\n",
              "        </tr>\n",
              "        <tr>\n",
              "            <td>8</td>\n",
              "            <td>125</td>\n",
              "            <td>96</td>\n",
              "            <td>0</td>\n",
              "            <td>0</td>\n",
              "            <td>0</td>\n",
              "            <td>0.232</td>\n",
              "            <td>54</td>\n",
              "            <td>1</td>\n",
              "            <td>Normal</td>\n",
              "        </tr>\n",
              "        <tr>\n",
              "            <td>10</td>\n",
              "            <td>139</td>\n",
              "            <td>80</td>\n",
              "            <td>0</td>\n",
              "            <td>0</td>\n",
              "            <td>27.1</td>\n",
              "            <td>1.441</td>\n",
              "            <td>57</td>\n",
              "            <td>0</td>\n",
              "            <td>Normal</td>\n",
              "        </tr>\n",
              "        <tr>\n",
              "            <td>1</td>\n",
              "            <td>189</td>\n",
              "            <td>60</td>\n",
              "            <td>23</td>\n",
              "            <td>846</td>\n",
              "            <td>30.1</td>\n",
              "            <td>0.398</td>\n",
              "            <td>59</td>\n",
              "            <td>1</td>\n",
              "            <td>Obeso</td>\n",
              "        </tr>\n",
              "        <tr>\n",
              "            <td>5</td>\n",
              "            <td>166</td>\n",
              "            <td>72</td>\n",
              "            <td>19</td>\n",
              "            <td>175</td>\n",
              "            <td>25.8</td>\n",
              "            <td>0.587</td>\n",
              "            <td>51</td>\n",
              "            <td>1</td>\n",
              "            <td>Normal</td>\n",
              "        </tr>\n",
              "        <tr>\n",
              "            <td>11</td>\n",
              "            <td>143</td>\n",
              "            <td>94</td>\n",
              "            <td>33</td>\n",
              "            <td>146</td>\n",
              "            <td>36.6</td>\n",
              "            <td>0.254</td>\n",
              "            <td>51</td>\n",
              "            <td>1</td>\n",
              "            <td>Obeso</td>\n",
              "        </tr>\n",
              "        <tr>\n",
              "            <td>13</td>\n",
              "            <td>145</td>\n",
              "            <td>82</td>\n",
              "            <td>19</td>\n",
              "            <td>110</td>\n",
              "            <td>22.2</td>\n",
              "            <td>0.245</td>\n",
              "            <td>57</td>\n",
              "            <td>0</td>\n",
              "            <td>Normal</td>\n",
              "        </tr>\n",
              "        <tr>\n",
              "            <td>5</td>\n",
              "            <td>109</td>\n",
              "            <td>75</td>\n",
              "            <td>26</td>\n",
              "            <td>0</td>\n",
              "            <td>36</td>\n",
              "            <td>0.546</td>\n",
              "            <td>60</td>\n",
              "            <td>0</td>\n",
              "            <td>Obeso</td>\n",
              "        </tr>\n",
              "        <tr>\n",
              "            <td>4</td>\n",
              "            <td>111</td>\n",
              "            <td>72</td>\n",
              "            <td>47</td>\n",
              "            <td>207</td>\n",
              "            <td>37.1</td>\n",
              "            <td>1.39</td>\n",
              "            <td>56</td>\n",
              "            <td>1</td>\n",
              "            <td>Obeso</td>\n",
              "        </tr>\n",
              "        <tr>\n",
              "            <td>9</td>\n",
              "            <td>171</td>\n",
              "            <td>110</td>\n",
              "            <td>24</td>\n",
              "            <td>240</td>\n",
              "            <td>45.4</td>\n",
              "            <td>0.721</td>\n",
              "            <td>54</td>\n",
              "            <td>1</td>\n",
              "            <td>Obeso</td>\n",
              "        </tr>\n",
              "    </tbody>\n",
              "</table>"
            ]
          },
          "metadata": {},
          "execution_count": 65
        }
      ]
    },
    {
      "cell_type": "code",
      "source": [
        "%%sql\n",
        "\n",
        "SELECT COUNT (*) FROM maior_50\n",
        "WHERE Status = \"Normal\";"
      ],
      "metadata": {
        "colab": {
          "base_uri": "https://localhost:8080/",
          "height": 114
        },
        "id": "5xTk20ILBVzK",
        "outputId": "704b646f-ac16-42cc-8871-8d1d47a6f7b3"
      },
      "execution_count": 66,
      "outputs": [
        {
          "output_type": "stream",
          "name": "stdout",
          "text": [
            " * sqlite:///dados_diabetes.db\n",
            "   sqlite:///diabetes.db\n",
            "Done.\n"
          ]
        },
        {
          "output_type": "execute_result",
          "data": {
            "text/plain": [
              "[(38,)]"
            ],
            "text/html": [
              "<table>\n",
              "    <thead>\n",
              "        <tr>\n",
              "            <th>COUNT (*)</th>\n",
              "        </tr>\n",
              "    </thead>\n",
              "    <tbody>\n",
              "        <tr>\n",
              "            <td>38</td>\n",
              "        </tr>\n",
              "    </tbody>\n",
              "</table>"
            ]
          },
          "metadata": {},
          "execution_count": 66
        }
      ]
    },
    {
      "cell_type": "code",
      "source": [
        "%%sql \n",
        "\n",
        "SELECT COUNT (*) FROM maior_50\n",
        "WHERE Status = \"Obeso\";"
      ],
      "metadata": {
        "colab": {
          "base_uri": "https://localhost:8080/",
          "height": 114
        },
        "id": "HoLjQQxRC_jk",
        "outputId": "d915c135-88f7-432b-d2c9-feae75c15d8a"
      },
      "execution_count": 67,
      "outputs": [
        {
          "output_type": "stream",
          "name": "stdout",
          "text": [
            " * sqlite:///dados_diabetes.db\n",
            "   sqlite:///diabetes.db\n",
            "Done.\n"
          ]
        },
        {
          "output_type": "execute_result",
          "data": {
            "text/plain": [
              "[(43,)]"
            ],
            "text/html": [
              "<table>\n",
              "    <thead>\n",
              "        <tr>\n",
              "            <th>COUNT (*)</th>\n",
              "        </tr>\n",
              "    </thead>\n",
              "    <tbody>\n",
              "        <tr>\n",
              "            <td>43</td>\n",
              "        </tr>\n",
              "    </tbody>\n",
              "</table>"
            ]
          },
          "metadata": {},
          "execution_count": 67
        }
      ]
    },
    {
      "cell_type": "markdown",
      "source": [
        "# **Conclusão:**\n",
        "* Temos 38 pacientes acima de 50 anos com o BMI menor do que 30, ou seja com o status **Normal**.\n",
        "\n",
        "* Temos 43 pacientes acima de 50 anos com o BMI maior do que 30, ou seja com o status **Obeso**."
      ],
      "metadata": {
        "id": "ZbQri4zfDGOf"
      }
    },
    {
      "cell_type": "code",
      "source": [],
      "metadata": {
        "id": "AjshTyYRDb2M"
      },
      "execution_count": null,
      "outputs": []
    }
  ]
}