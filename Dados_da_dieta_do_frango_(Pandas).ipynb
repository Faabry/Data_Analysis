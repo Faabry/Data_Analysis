{
  "nbformat": 4,
  "nbformat_minor": 0,
  "metadata": {
    "colab": {
      "provenance": [],
      "authorship_tag": "ABX9TyNNVCH93GvOP+JdiX4ibvcI",
      "include_colab_link": true
    },
    "kernelspec": {
      "name": "python3",
      "display_name": "Python 3"
    },
    "language_info": {
      "name": "python"
    }
  },
  "cells": [
    {
      "cell_type": "markdown",
      "metadata": {
        "id": "view-in-github",
        "colab_type": "text"
      },
      "source": [
        "<a href=\"https://colab.research.google.com/github/Faabry/Pandas-Repository/blob/main/Dados_da_dieta_do_frango_(Pandas).ipynb\" target=\"_parent\"><img src=\"https://colab.research.google.com/assets/colab-badge.svg\" alt=\"Open In Colab\"/></a>"
      ]
    },
    {
      "cell_type": "markdown",
      "source": [
        "#### Análide de dados Pandas ####"
      ],
      "metadata": {
        "id": "GRBiBd_6CL5-"
      }
    },
    {
      "cell_type": "markdown",
      "source": [
        "# ***Importando a tabela a partir de um arquivo web***\n"
      ],
      "metadata": {
        "id": "liqeifj1CxoH"
      }
    },
    {
      "cell_type": "code",
      "source": [
        "import pandas as pd\n",
        "\n",
        "df = pd.read_csv('https://raw.githubusercontent.com/icaro-freire/dados_csv/main/dados/csv/frango_dieta.csv')\n",
        "df = pd.DataFrame(df)\n",
        "df"
      ],
      "metadata": {
        "colab": {
          "base_uri": "https://localhost:8080/",
          "height": 424
        },
        "id": "6iDizOckCaMe",
        "outputId": "e22e27c5-28ce-4e01-f959-c70e8e1281b7"
      },
      "execution_count": 233,
      "outputs": [
        {
          "output_type": "execute_result",
          "data": {
            "text/plain": [
              "     peso  tempo  frango  dieta\n",
              "0      42      0       1      1\n",
              "1      51      2       1      1\n",
              "2      59      4       1      1\n",
              "3      64      6       1      1\n",
              "4      76      8       1      1\n",
              "..    ...    ...     ...    ...\n",
              "573   175     14      50      4\n",
              "574   205     16      50      4\n",
              "575   234     18      50      4\n",
              "576   264     20      50      4\n",
              "577   264     21      50      4\n",
              "\n",
              "[578 rows x 4 columns]"
            ],
            "text/html": [
              "\n",
              "  <div id=\"df-ccdc7075-19bf-4b81-bf46-8133f4050fd8\">\n",
              "    <div class=\"colab-df-container\">\n",
              "      <div>\n",
              "<style scoped>\n",
              "    .dataframe tbody tr th:only-of-type {\n",
              "        vertical-align: middle;\n",
              "    }\n",
              "\n",
              "    .dataframe tbody tr th {\n",
              "        vertical-align: top;\n",
              "    }\n",
              "\n",
              "    .dataframe thead th {\n",
              "        text-align: right;\n",
              "    }\n",
              "</style>\n",
              "<table border=\"1\" class=\"dataframe\">\n",
              "  <thead>\n",
              "    <tr style=\"text-align: right;\">\n",
              "      <th></th>\n",
              "      <th>peso</th>\n",
              "      <th>tempo</th>\n",
              "      <th>frango</th>\n",
              "      <th>dieta</th>\n",
              "    </tr>\n",
              "  </thead>\n",
              "  <tbody>\n",
              "    <tr>\n",
              "      <th>0</th>\n",
              "      <td>42</td>\n",
              "      <td>0</td>\n",
              "      <td>1</td>\n",
              "      <td>1</td>\n",
              "    </tr>\n",
              "    <tr>\n",
              "      <th>1</th>\n",
              "      <td>51</td>\n",
              "      <td>2</td>\n",
              "      <td>1</td>\n",
              "      <td>1</td>\n",
              "    </tr>\n",
              "    <tr>\n",
              "      <th>2</th>\n",
              "      <td>59</td>\n",
              "      <td>4</td>\n",
              "      <td>1</td>\n",
              "      <td>1</td>\n",
              "    </tr>\n",
              "    <tr>\n",
              "      <th>3</th>\n",
              "      <td>64</td>\n",
              "      <td>6</td>\n",
              "      <td>1</td>\n",
              "      <td>1</td>\n",
              "    </tr>\n",
              "    <tr>\n",
              "      <th>4</th>\n",
              "      <td>76</td>\n",
              "      <td>8</td>\n",
              "      <td>1</td>\n",
              "      <td>1</td>\n",
              "    </tr>\n",
              "    <tr>\n",
              "      <th>...</th>\n",
              "      <td>...</td>\n",
              "      <td>...</td>\n",
              "      <td>...</td>\n",
              "      <td>...</td>\n",
              "    </tr>\n",
              "    <tr>\n",
              "      <th>573</th>\n",
              "      <td>175</td>\n",
              "      <td>14</td>\n",
              "      <td>50</td>\n",
              "      <td>4</td>\n",
              "    </tr>\n",
              "    <tr>\n",
              "      <th>574</th>\n",
              "      <td>205</td>\n",
              "      <td>16</td>\n",
              "      <td>50</td>\n",
              "      <td>4</td>\n",
              "    </tr>\n",
              "    <tr>\n",
              "      <th>575</th>\n",
              "      <td>234</td>\n",
              "      <td>18</td>\n",
              "      <td>50</td>\n",
              "      <td>4</td>\n",
              "    </tr>\n",
              "    <tr>\n",
              "      <th>576</th>\n",
              "      <td>264</td>\n",
              "      <td>20</td>\n",
              "      <td>50</td>\n",
              "      <td>4</td>\n",
              "    </tr>\n",
              "    <tr>\n",
              "      <th>577</th>\n",
              "      <td>264</td>\n",
              "      <td>21</td>\n",
              "      <td>50</td>\n",
              "      <td>4</td>\n",
              "    </tr>\n",
              "  </tbody>\n",
              "</table>\n",
              "<p>578 rows × 4 columns</p>\n",
              "</div>\n",
              "      <button class=\"colab-df-convert\" onclick=\"convertToInteractive('df-ccdc7075-19bf-4b81-bf46-8133f4050fd8')\"\n",
              "              title=\"Convert this dataframe to an interactive table.\"\n",
              "              style=\"display:none;\">\n",
              "        \n",
              "  <svg xmlns=\"http://www.w3.org/2000/svg\" height=\"24px\"viewBox=\"0 0 24 24\"\n",
              "       width=\"24px\">\n",
              "    <path d=\"M0 0h24v24H0V0z\" fill=\"none\"/>\n",
              "    <path d=\"M18.56 5.44l.94 2.06.94-2.06 2.06-.94-2.06-.94-.94-2.06-.94 2.06-2.06.94zm-11 1L8.5 8.5l.94-2.06 2.06-.94-2.06-.94L8.5 2.5l-.94 2.06-2.06.94zm10 10l.94 2.06.94-2.06 2.06-.94-2.06-.94-.94-2.06-.94 2.06-2.06.94z\"/><path d=\"M17.41 7.96l-1.37-1.37c-.4-.4-.92-.59-1.43-.59-.52 0-1.04.2-1.43.59L10.3 9.45l-7.72 7.72c-.78.78-.78 2.05 0 2.83L4 21.41c.39.39.9.59 1.41.59.51 0 1.02-.2 1.41-.59l7.78-7.78 2.81-2.81c.8-.78.8-2.07 0-2.86zM5.41 20L4 18.59l7.72-7.72 1.47 1.35L5.41 20z\"/>\n",
              "  </svg>\n",
              "      </button>\n",
              "      \n",
              "  <style>\n",
              "    .colab-df-container {\n",
              "      display:flex;\n",
              "      flex-wrap:wrap;\n",
              "      gap: 12px;\n",
              "    }\n",
              "\n",
              "    .colab-df-convert {\n",
              "      background-color: #E8F0FE;\n",
              "      border: none;\n",
              "      border-radius: 50%;\n",
              "      cursor: pointer;\n",
              "      display: none;\n",
              "      fill: #1967D2;\n",
              "      height: 32px;\n",
              "      padding: 0 0 0 0;\n",
              "      width: 32px;\n",
              "    }\n",
              "\n",
              "    .colab-df-convert:hover {\n",
              "      background-color: #E2EBFA;\n",
              "      box-shadow: 0px 1px 2px rgba(60, 64, 67, 0.3), 0px 1px 3px 1px rgba(60, 64, 67, 0.15);\n",
              "      fill: #174EA6;\n",
              "    }\n",
              "\n",
              "    [theme=dark] .colab-df-convert {\n",
              "      background-color: #3B4455;\n",
              "      fill: #D2E3FC;\n",
              "    }\n",
              "\n",
              "    [theme=dark] .colab-df-convert:hover {\n",
              "      background-color: #434B5C;\n",
              "      box-shadow: 0px 1px 3px 1px rgba(0, 0, 0, 0.15);\n",
              "      filter: drop-shadow(0px 1px 2px rgba(0, 0, 0, 0.3));\n",
              "      fill: #FFFFFF;\n",
              "    }\n",
              "  </style>\n",
              "\n",
              "      <script>\n",
              "        const buttonEl =\n",
              "          document.querySelector('#df-ccdc7075-19bf-4b81-bf46-8133f4050fd8 button.colab-df-convert');\n",
              "        buttonEl.style.display =\n",
              "          google.colab.kernel.accessAllowed ? 'block' : 'none';\n",
              "\n",
              "        async function convertToInteractive(key) {\n",
              "          const element = document.querySelector('#df-ccdc7075-19bf-4b81-bf46-8133f4050fd8');\n",
              "          const dataTable =\n",
              "            await google.colab.kernel.invokeFunction('convertToInteractive',\n",
              "                                                     [key], {});\n",
              "          if (!dataTable) return;\n",
              "\n",
              "          const docLinkHtml = 'Like what you see? Visit the ' +\n",
              "            '<a target=\"_blank\" href=https://colab.research.google.com/notebooks/data_table.ipynb>data table notebook</a>'\n",
              "            + ' to learn more about interactive tables.';\n",
              "          element.innerHTML = '';\n",
              "          dataTable['output_type'] = 'display_data';\n",
              "          await google.colab.output.renderOutput(dataTable, element);\n",
              "          const docLink = document.createElement('div');\n",
              "          docLink.innerHTML = docLinkHtml;\n",
              "          element.appendChild(docLink);\n",
              "        }\n",
              "      </script>\n",
              "    </div>\n",
              "  </div>\n",
              "  "
            ]
          },
          "metadata": {},
          "execution_count": 233
        }
      ]
    },
    {
      "cell_type": "markdown",
      "source": [
        "# **Quantas pessoas pesam mais que 100Kg?**\n",
        "\n",
        "**negrito**"
      ],
      "metadata": {
        "id": "-zNEWQDVC0zD"
      }
    },
    {
      "cell_type": "code",
      "source": [
        "maior_cem = df.loc[df['peso'] >= 100].count()\n",
        "maior_cem\n",
        "\n",
        "# Temos 304 pessoa com o peso maior que cem ou seja..."
      ],
      "metadata": {
        "colab": {
          "base_uri": "https://localhost:8080/"
        },
        "id": "Jfn7xOOzDBTY",
        "outputId": "0614611b-b6ad-4e89-d88e-809e64e2b845"
      },
      "execution_count": 234,
      "outputs": [
        {
          "output_type": "execute_result",
          "data": {
            "text/plain": [
              "peso      304\n",
              "tempo     304\n",
              "frango    304\n",
              "dieta     304\n",
              "dtype: int64"
            ]
          },
          "metadata": {},
          "execution_count": 234
        }
      ]
    },
    {
      "cell_type": "markdown",
      "source": [
        "# ***Temos 274 pessoas com o peso abaixo de 100kg certo?***\n",
        "# *Vamos verificar*"
      ],
      "metadata": {
        "id": "DSo-F3yTGvIB"
      }
    },
    {
      "cell_type": "code",
      "source": [
        "menor_cem = df.loc[df['peso'] < 100, ['peso']].count()\n",
        "menor_cem\n",
        "\n",
        "# Em cheio !!"
      ],
      "metadata": {
        "id": "hHF1k5KdDJJR",
        "colab": {
          "base_uri": "https://localhost:8080/"
        },
        "outputId": "9e7981ce-672b-4e86-ac07-be9e15bbc8f4"
      },
      "execution_count": 235,
      "outputs": [
        {
          "output_type": "execute_result",
          "data": {
            "text/plain": [
              "peso    274\n",
              "dtype: int64"
            ]
          },
          "metadata": {},
          "execution_count": 235
        }
      ]
    },
    {
      "cell_type": "markdown",
      "source": [
        "# ***Agora vamos ver quais são o maior e o menor peso dentre essas 578 pessoas***"
      ],
      "metadata": {
        "id": "BvIqk8FafOjg"
      }
    },
    {
      "cell_type": "code",
      "source": [
        "df['peso'].max()\n",
        "# O maior peso registrado é de 373Kg"
      ],
      "metadata": {
        "colab": {
          "base_uri": "https://localhost:8080/"
        },
        "id": "1lBf49T6HGKv",
        "outputId": "c5fb767d-5528-4fc4-9fc1-77720e60aac9"
      },
      "execution_count": 236,
      "outputs": [
        {
          "output_type": "execute_result",
          "data": {
            "text/plain": [
              "373"
            ]
          },
          "metadata": {},
          "execution_count": 236
        }
      ]
    },
    {
      "cell_type": "code",
      "source": [
        "df.loc[df['peso'] == 373].count()\n",
        "# Apenas 1 pessoa tem o maior peso de 373Kg do nosso df"
      ],
      "metadata": {
        "colab": {
          "base_uri": "https://localhost:8080/"
        },
        "id": "9OQKAi5t1k85",
        "outputId": "78ebd3ef-2f94-4382-e026-ad4f2a065fc6"
      },
      "execution_count": 237,
      "outputs": [
        {
          "output_type": "execute_result",
          "data": {
            "text/plain": [
              "peso      1\n",
              "tempo     1\n",
              "frango    1\n",
              "dieta     1\n",
              "dtype: int64"
            ]
          },
          "metadata": {},
          "execution_count": 237
        }
      ]
    },
    {
      "cell_type": "code",
      "source": [
        "df['peso'].min()\n",
        "# O menor peso registrado é de 35Kg"
      ],
      "metadata": {
        "colab": {
          "base_uri": "https://localhost:8080/"
        },
        "id": "9BGHuXVt1eSC",
        "outputId": "ba5cc1e8-d423-4eb0-c881-0c6adab36be7"
      },
      "execution_count": 238,
      "outputs": [
        {
          "output_type": "execute_result",
          "data": {
            "text/plain": [
              "35"
            ]
          },
          "metadata": {},
          "execution_count": 238
        }
      ]
    },
    {
      "cell_type": "code",
      "source": [
        "df.loc[df['peso'] == 35].count()\n",
        "# Apenas 1 pessoa possui o menor peso de 35Kg do nosso df"
      ],
      "metadata": {
        "colab": {
          "base_uri": "https://localhost:8080/"
        },
        "id": "G4pT5nE2ftCg",
        "outputId": "83ef827d-5d98-44d7-c85a-879cf109d37b"
      },
      "execution_count": 239,
      "outputs": [
        {
          "output_type": "execute_result",
          "data": {
            "text/plain": [
              "peso      1\n",
              "tempo     1\n",
              "frango    1\n",
              "dieta     1\n",
              "dtype: int64"
            ]
          },
          "metadata": {},
          "execution_count": 239
        }
      ]
    },
    {
      "cell_type": "code",
      "source": [
        "# Aproveitando, vamos ver a média de peso e fazer um gráfico\n",
        "df['peso'].mean()\n"
      ],
      "metadata": {
        "colab": {
          "base_uri": "https://localhost:8080/"
        },
        "id": "9_K3NjN3fyqf",
        "outputId": "7647c947-980a-40b4-fc55-cf7e80bd2348"
      },
      "execution_count": 240,
      "outputs": [
        {
          "output_type": "execute_result",
          "data": {
            "text/plain": [
              "121.81833910034602"
            ]
          },
          "metadata": {},
          "execution_count": 240
        }
      ]
    },
    {
      "cell_type": "code",
      "source": [
        "# Sabemos que a MÉDIA de peso é 121,8KG, agora vamos descobrir quantas pessoas tem esse peso\n",
        "df.loc[df['peso'] == 121]\n"
      ],
      "metadata": {
        "colab": {
          "base_uri": "https://localhost:8080/",
          "height": 49
        },
        "id": "ifpMlwwl17nS",
        "outputId": "cce99fe5-529a-4a4f-8430-85e4c79591cf"
      },
      "execution_count": 241,
      "outputs": [
        {
          "output_type": "execute_result",
          "data": {
            "text/plain": [
              "Empty DataFrame\n",
              "Columns: [peso, tempo, frango, dieta]\n",
              "Index: []"
            ],
            "text/html": [
              "\n",
              "  <div id=\"df-d2233807-f9c3-44ef-abaa-50e9cbbe6910\">\n",
              "    <div class=\"colab-df-container\">\n",
              "      <div>\n",
              "<style scoped>\n",
              "    .dataframe tbody tr th:only-of-type {\n",
              "        vertical-align: middle;\n",
              "    }\n",
              "\n",
              "    .dataframe tbody tr th {\n",
              "        vertical-align: top;\n",
              "    }\n",
              "\n",
              "    .dataframe thead th {\n",
              "        text-align: right;\n",
              "    }\n",
              "</style>\n",
              "<table border=\"1\" class=\"dataframe\">\n",
              "  <thead>\n",
              "    <tr style=\"text-align: right;\">\n",
              "      <th></th>\n",
              "      <th>peso</th>\n",
              "      <th>tempo</th>\n",
              "      <th>frango</th>\n",
              "      <th>dieta</th>\n",
              "    </tr>\n",
              "  </thead>\n",
              "  <tbody>\n",
              "  </tbody>\n",
              "</table>\n",
              "</div>\n",
              "      <button class=\"colab-df-convert\" onclick=\"convertToInteractive('df-d2233807-f9c3-44ef-abaa-50e9cbbe6910')\"\n",
              "              title=\"Convert this dataframe to an interactive table.\"\n",
              "              style=\"display:none;\">\n",
              "        \n",
              "  <svg xmlns=\"http://www.w3.org/2000/svg\" height=\"24px\"viewBox=\"0 0 24 24\"\n",
              "       width=\"24px\">\n",
              "    <path d=\"M0 0h24v24H0V0z\" fill=\"none\"/>\n",
              "    <path d=\"M18.56 5.44l.94 2.06.94-2.06 2.06-.94-2.06-.94-.94-2.06-.94 2.06-2.06.94zm-11 1L8.5 8.5l.94-2.06 2.06-.94-2.06-.94L8.5 2.5l-.94 2.06-2.06.94zm10 10l.94 2.06.94-2.06 2.06-.94-2.06-.94-.94-2.06-.94 2.06-2.06.94z\"/><path d=\"M17.41 7.96l-1.37-1.37c-.4-.4-.92-.59-1.43-.59-.52 0-1.04.2-1.43.59L10.3 9.45l-7.72 7.72c-.78.78-.78 2.05 0 2.83L4 21.41c.39.39.9.59 1.41.59.51 0 1.02-.2 1.41-.59l7.78-7.78 2.81-2.81c.8-.78.8-2.07 0-2.86zM5.41 20L4 18.59l7.72-7.72 1.47 1.35L5.41 20z\"/>\n",
              "  </svg>\n",
              "      </button>\n",
              "      \n",
              "  <style>\n",
              "    .colab-df-container {\n",
              "      display:flex;\n",
              "      flex-wrap:wrap;\n",
              "      gap: 12px;\n",
              "    }\n",
              "\n",
              "    .colab-df-convert {\n",
              "      background-color: #E8F0FE;\n",
              "      border: none;\n",
              "      border-radius: 50%;\n",
              "      cursor: pointer;\n",
              "      display: none;\n",
              "      fill: #1967D2;\n",
              "      height: 32px;\n",
              "      padding: 0 0 0 0;\n",
              "      width: 32px;\n",
              "    }\n",
              "\n",
              "    .colab-df-convert:hover {\n",
              "      background-color: #E2EBFA;\n",
              "      box-shadow: 0px 1px 2px rgba(60, 64, 67, 0.3), 0px 1px 3px 1px rgba(60, 64, 67, 0.15);\n",
              "      fill: #174EA6;\n",
              "    }\n",
              "\n",
              "    [theme=dark] .colab-df-convert {\n",
              "      background-color: #3B4455;\n",
              "      fill: #D2E3FC;\n",
              "    }\n",
              "\n",
              "    [theme=dark] .colab-df-convert:hover {\n",
              "      background-color: #434B5C;\n",
              "      box-shadow: 0px 1px 3px 1px rgba(0, 0, 0, 0.15);\n",
              "      filter: drop-shadow(0px 1px 2px rgba(0, 0, 0, 0.3));\n",
              "      fill: #FFFFFF;\n",
              "    }\n",
              "  </style>\n",
              "\n",
              "      <script>\n",
              "        const buttonEl =\n",
              "          document.querySelector('#df-d2233807-f9c3-44ef-abaa-50e9cbbe6910 button.colab-df-convert');\n",
              "        buttonEl.style.display =\n",
              "          google.colab.kernel.accessAllowed ? 'block' : 'none';\n",
              "\n",
              "        async function convertToInteractive(key) {\n",
              "          const element = document.querySelector('#df-d2233807-f9c3-44ef-abaa-50e9cbbe6910');\n",
              "          const dataTable =\n",
              "            await google.colab.kernel.invokeFunction('convertToInteractive',\n",
              "                                                     [key], {});\n",
              "          if (!dataTable) return;\n",
              "\n",
              "          const docLinkHtml = 'Like what you see? Visit the ' +\n",
              "            '<a target=\"_blank\" href=https://colab.research.google.com/notebooks/data_table.ipynb>data table notebook</a>'\n",
              "            + ' to learn more about interactive tables.';\n",
              "          element.innerHTML = '';\n",
              "          dataTable['output_type'] = 'display_data';\n",
              "          await google.colab.output.renderOutput(dataTable, element);\n",
              "          const docLink = document.createElement('div');\n",
              "          docLink.innerHTML = docLinkHtml;\n",
              "          element.appendChild(docLink);\n",
              "        }\n",
              "      </script>\n",
              "    </div>\n",
              "  </div>\n",
              "  "
            ]
          },
          "metadata": {},
          "execution_count": 241
        }
      ]
    },
    {
      "cell_type": "markdown",
      "source": [
        "# ***Isso é bem interessante... A média de peso é de 121.8KG mas NINGUÉM tem esse peso***"
      ],
      "metadata": {
        "id": "urue4DuN0dd2"
      }
    },
    {
      "cell_type": "markdown",
      "source": [
        "# ***Agora vamos fazer alguns plots***"
      ],
      "metadata": {
        "id": "8ugSGqKQ5SRw"
      }
    },
    {
      "cell_type": "code",
      "source": [
        "from seaborn import set\n",
        "\n",
        "set()\n",
        "\n",
        "peso = df['peso']\n",
        "peso[:20].plot(kind='barh')\n",
        "# Exibindo os primeiros 20 resultados"
      ],
      "metadata": {
        "colab": {
          "base_uri": "https://localhost:8080/",
          "height": 285
        },
        "id": "2QnigHcigDFt",
        "outputId": "e96baade-ea85-4948-b115-502e412f91d1"
      },
      "execution_count": 242,
      "outputs": [
        {
          "output_type": "execute_result",
          "data": {
            "text/plain": [
              "<matplotlib.axes._subplots.AxesSubplot at 0x7f0fdafbea50>"
            ]
          },
          "metadata": {},
          "execution_count": 242
        },
        {
          "output_type": "display_data",
          "data": {
            "text/plain": [
              "<Figure size 432x288 with 1 Axes>"
            ],
            "image/png": "[encoded data removed]"
          },
          "metadata": {}
        }
      ]
    },
    {
      "cell_type": "markdown",
      "source": [
        "# ***Vamos ver quantas pessoas acabaram de começar a dieta de frango***"
      ],
      "metadata": {
        "id": "uXEkYNAeg6-d"
      }
    },
    {
      "cell_type": "code",
      "source": [
        "dieta = df['tempo'].min()\n",
        "dieta\n",
        "\n",
        "# 0 dias é o minimo"
      ],
      "metadata": {
        "colab": {
          "base_uri": "https://localhost:8080/"
        },
        "id": "TkCvL3Mzga5r",
        "outputId": "3be56cca-9876-45ac-aba7-b6d3a5bf7c89"
      },
      "execution_count": 244,
      "outputs": [
        {
          "output_type": "execute_result",
          "data": {
            "text/plain": [
              "0"
            ]
          },
          "metadata": {},
          "execution_count": 244
        }
      ]
    },
    {
      "cell_type": "code",
      "source": [
        "df.loc[df['tempo'] == 0, ['peso', 'tempo']].count()\n",
        "\n",
        "# Temos 50 pessoas que acabaram de começar a dieta, vamos ver o peso de cada uma dela ?"
      ],
      "metadata": {
        "colab": {
          "base_uri": "https://localhost:8080/"
        },
        "id": "9LiBvoP15efw",
        "outputId": "f87244aa-9c88-4970-be40-70aec3cb4a6a"
      },
      "execution_count": 247,
      "outputs": [
        {
          "output_type": "execute_result",
          "data": {
            "text/plain": [
              "peso     50\n",
              "tempo    50\n",
              "dtype: int64"
            ]
          },
          "metadata": {},
          "execution_count": 247
        }
      ]
    },
    {
      "cell_type": "code",
      "source": [
        "tot = df.loc[df['tempo'] == 0, ['peso', 'tempo']]\n",
        "dieta = tot['peso'].mean()\n",
        "dieta \n",
        "\n",
        "tot[:20].plot(kind='barh')"
      ],
      "metadata": {
        "colab": {
          "base_uri": "https://localhost:8080/",
          "height": 285
        },
        "id": "xocPzWi55jL_",
        "outputId": "215877fd-0068-47a9-dc82-208ed9f82ab1"
      },
      "execution_count": 250,
      "outputs": [
        {
          "output_type": "execute_result",
          "data": {
            "text/plain": [
              "<matplotlib.axes._subplots.AxesSubplot at 0x7f0fdad0e050>"
            ]
          },
          "metadata": {},
          "execution_count": 250
        },
        {
          "output_type": "display_data",
          "data": {
            "text/plain": [
              "<Figure size 432x288 with 1 Axes>"
            ],
            "image/png": "[encoded data removed]"
          },
          "metadata": {}
        }
      ]
    },
    {
      "cell_type": "code",
      "source": [
        "tot[20:40].plot(kind='barh')"
      ],
      "metadata": {
        "colab": {
          "base_uri": "https://localhost:8080/",
          "height": 285
        },
        "id": "gW7webadgtdB",
        "outputId": "116202d9-6fd6-4019-fabb-42aef2d50795"
      },
      "execution_count": null,
      "outputs": [
        {
          "output_type": "execute_result",
          "data": {
            "text/plain": [
              "<matplotlib.axes._subplots.AxesSubplot at 0x7f0fdc716d90>"
            ]
          },
          "metadata": {},
          "execution_count": 89
        },
        {
          "output_type": "display_data",
          "data": {
            "text/plain": [
              "<Figure size 432x288 with 1 Axes>"
            ],
            "image/png": "[encoded data removed]"
          },
          "metadata": {}
        }
      ]
    },
    {
      "cell_type": "code",
      "source": [
        "tot[40::].plot(kind='barh')"
      ],
      "metadata": {
        "colab": {
          "base_uri": "https://localhost:8080/",
          "height": 285
        },
        "id": "FQ125uZWiPef",
        "outputId": "cf93c0c0-9d83-4e29-b497-229c2dfed22d"
      },
      "execution_count": null,
      "outputs": [
        {
          "output_type": "execute_result",
          "data": {
            "text/plain": [
              "<matplotlib.axes._subplots.AxesSubplot at 0x7f0fdcdd5fd0>"
            ]
          },
          "metadata": {},
          "execution_count": 91
        },
        {
          "output_type": "display_data",
          "data": {
            "text/plain": [
              "<Figure size 432x288 with 1 Axes>"
            ],
            "image/png": "[encoded data removed]"
          },
          "metadata": {}
        }
      ]
    },
    {
      "cell_type": "markdown",
      "source": [
        "# ***Vamos descobrir a média de peso dessas 50 pessoas?***"
      ],
      "metadata": {
        "id": "BftL0yjgiqgk"
      }
    },
    {
      "cell_type": "code",
      "source": [
        "tot.mean()\n",
        "# Sabemos que dentre as 50 pessoas que começaram o programa \"Hoje\" tem em média 41Kg"
      ],
      "metadata": {
        "colab": {
          "base_uri": "https://localhost:8080/"
        },
        "id": "CjHbwKrOiY1u",
        "outputId": "4ad082af-0135-47f9-fc03-f07ea8882e31"
      },
      "execution_count": 251,
      "outputs": [
        {
          "output_type": "execute_result",
          "data": {
            "text/plain": [
              "peso     41.06\n",
              "tempo     0.00\n",
              "dtype: float64"
            ]
          },
          "metadata": {},
          "execution_count": 251
        }
      ]
    },
    {
      "cell_type": "markdown",
      "source": [
        "# **Vamos descobrir agora quantas pessoas tem o maior peso e à quanto tempo estão está na dieta**"
      ],
      "metadata": {
        "id": "GpWlGSJ_jwu4"
      }
    },
    {
      "cell_type": "code",
      "source": [
        "df['peso'].max()"
      ],
      "metadata": {
        "colab": {
          "base_uri": "https://localhost:8080/"
        },
        "id": "5H1o2MghipBc",
        "outputId": "acd8f6af-5923-4f7f-d947-8ea48f16f856"
      },
      "execution_count": 253,
      "outputs": [
        {
          "output_type": "execute_result",
          "data": {
            "text/plain": [
              "373"
            ]
          },
          "metadata": {},
          "execution_count": 253
        }
      ]
    },
    {
      "cell_type": "code",
      "source": [
        "df.loc[df['peso'] == 373, ['peso', 'tempo']].count()"
      ],
      "metadata": {
        "colab": {
          "base_uri": "https://localhost:8080/"
        },
        "id": "w9hZqTSwjMYx",
        "outputId": "f7db5602-304c-4aeb-cdf8-ab78360bd961"
      },
      "execution_count": 254,
      "outputs": [
        {
          "output_type": "execute_result",
          "data": {
            "text/plain": [
              "peso     1\n",
              "tempo    1\n",
              "dtype: int64"
            ]
          },
          "metadata": {},
          "execution_count": 254
        }
      ]
    },
    {
      "cell_type": "code",
      "source": [
        "media_peso = df.loc[df['peso'] == 41, ['peso', 'tempo']].count()\n",
        "media_peso"
      ],
      "metadata": {
        "colab": {
          "base_uri": "https://localhost:8080/"
        },
        "id": "4ANgdmGvjPFY",
        "outputId": "cba58f99-a3f6-4df0-97c5-13a13ebe8244"
      },
      "execution_count": 256,
      "outputs": [
        {
          "output_type": "execute_result",
          "data": {
            "text/plain": [
              "peso     20\n",
              "tempo    20\n",
              "dtype: int64"
            ]
          },
          "metadata": {},
          "execution_count": 256
        }
      ]
    },
    {
      "cell_type": "code",
      "source": [
        "# Agora sabemos que são apenas 20 pessoas com a média de peso igual à 41Kg\n",
        "\n",
        "media_peso.plot(kind='barh')"
      ],
      "metadata": {
        "colab": {
          "base_uri": "https://localhost:8080/",
          "height": 285
        },
        "id": "kJuxA4dP6gkr",
        "outputId": "8d82ea32-302d-469c-9d0c-9cca209d2b3f"
      },
      "execution_count": 257,
      "outputs": [
        {
          "output_type": "execute_result",
          "data": {
            "text/plain": [
              "<matplotlib.axes._subplots.AxesSubplot at 0x7f0fdab81f50>"
            ]
          },
          "metadata": {},
          "execution_count": 257
        },
        {
          "output_type": "display_data",
          "data": {
            "text/plain": [
              "<Figure size 432x288 with 1 Axes>"
            ],
            "image/png": "[encoded data removed]"
          },
          "metadata": {}
        }
      ]
    },
    {
      "cell_type": "markdown",
      "source": [
        "# ***Literalmente TODAS as pessoas com a média de peso de 41kg começaram a dieta \"hoje\"***"
      ],
      "metadata": {
        "id": "IPAhabN-lQqo"
      }
    },
    {
      "cell_type": "code",
      "source": [
        "peso = df.loc[df['peso'] >= 100 , ['peso']]\n",
        "for p in peso:\n",
        "  m = peso.loc[peso['peso'] < 200].count()\n",
        "\n",
        "m\n",
        "# Temos 219 pessoas entre 100 e 199Kg"
      ],
      "metadata": {
        "colab": {
          "base_uri": "https://localhost:8080/"
        },
        "id": "Xg8gD9Ffk88P",
        "outputId": "3c77b30c-dbb5-4033-9804-b6dde37f9b7f"
      },
      "execution_count": 258,
      "outputs": [
        {
          "output_type": "execute_result",
          "data": {
            "text/plain": [
              "peso    219\n",
              "dtype: int64"
            ]
          },
          "metadata": {},
          "execution_count": 258
        }
      ]
    },
    {
      "cell_type": "code",
      "source": [
        "df.loc[df['peso'] >= 200, ['peso']].count()\n",
        "# Temos 85 pessoas com o peso acima de 200Kg"
      ],
      "metadata": {
        "colab": {
          "base_uri": "https://localhost:8080/"
        },
        "id": "41KiZpn4p2s3",
        "outputId": "bad0af9f-0b2b-4081-a910-e29fe8308bf2"
      },
      "execution_count": 260,
      "outputs": [
        {
          "output_type": "execute_result",
          "data": {
            "text/plain": [
              "peso    85\n",
              "dtype: int64"
            ]
          },
          "metadata": {},
          "execution_count": 260
        }
      ]
    },
    {
      "cell_type": "code",
      "source": [
        "media = df.loc[df['peso'] >= 200, ['peso']]\n",
        "media[:20].plot(kind='bar')"
      ],
      "metadata": {
        "colab": {
          "base_uri": "https://localhost:8080/",
          "height": 296
        },
        "id": "4do8urodqDLE",
        "outputId": "a388c780-88a4-4d94-c851-fee1c2779af9"
      },
      "execution_count": 261,
      "outputs": [
        {
          "output_type": "execute_result",
          "data": {
            "text/plain": [
              "<matplotlib.axes._subplots.AxesSubplot at 0x7f0fdb3e3e50>"
            ]
          },
          "metadata": {},
          "execution_count": 261
        },
        {
          "output_type": "display_data",
          "data": {
            "text/plain": [
              "<Figure size 432x288 with 1 Axes>"
            ],
            "image/png": "[encoded data removed]"
          },
          "metadata": {}
        }
      ]
    },
    {
      "cell_type": "code",
      "source": [
        "maximo = df.loc[df['peso'] > 200, ['peso']].count()\n",
        "maximo"
      ],
      "metadata": {
        "colab": {
          "base_uri": "https://localhost:8080/"
        },
        "id": "pK_AZoYotoGe",
        "outputId": "f44d54e2-84b6-483c-cffe-c69ebea17af3"
      },
      "execution_count": null,
      "outputs": [
        {
          "output_type": "execute_result",
          "data": {
            "text/plain": [
              "peso    84\n",
              "dtype: int64"
            ]
          },
          "metadata": {},
          "execution_count": 204
        }
      ]
    },
    {
      "cell_type": "markdown",
      "source": [
        "# ***Bom chegamos a conclusão de que:***\n",
        "# *274 pessoas tem MENOS que 100KG*\n",
        "# *219 pessoas tem ENTRE 100 e 200KG*\n",
        "# *85 pessoas tem MAIS que 200Kg*\n"
      ],
      "metadata": {
        "id": "1Ic5hKywx6k3"
      }
    },
    {
      "cell_type": "markdown",
      "source": [
        "# ***O Maior peso registrado foi 373Kg e apenas UMA pessoa tem esse peso***"
      ],
      "metadata": {
        "id": "icSq76sQy_bc"
      }
    },
    {
      "cell_type": "markdown",
      "source": [
        "# ***O Menor peso registrado foi 35Kg e apenas UMA pessoa tem esse peso também***"
      ],
      "metadata": {
        "id": "Lvy-4uiIzIX_"
      }
    },
    {
      "cell_type": "markdown",
      "source": [
        "# ***A média de pesso é 121Kg mas NINGUÉM tem esse peso***"
      ],
      "metadata": {
        "id": "C4iAzLiYzfsU"
      }
    }
  ]
}