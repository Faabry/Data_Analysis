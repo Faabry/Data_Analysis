{
  "nbformat": 4,
  "nbformat_minor": 0,
  "metadata": {
    "colab": {
      "provenance": [],
      "authorship_tag": "ABX9TyOHLfuWSOrpu4/Tcu0/6Nm2",
      "include_colab_link": true
    },
    "kernelspec": {
      "name": "python3",
      "display_name": "Python 3"
    },
    "language_info": {
      "name": "python"
    }
  },
  "cells": [
    {
      "cell_type": "markdown",
      "metadata": {
        "id": "view-in-github",
        "colab_type": "text"
      },
      "source": [
        "<a href=\"https://colab.research.google.com/github/Faabry/Data_Analysis/blob/main/Falecimentos.ipynb\" target=\"_parent\"><img src=\"https://colab.research.google.com/assets/colab-badge.svg\" alt=\"Open In Colab\"/></a>"
      ]
    },
    {
      "cell_type": "markdown",
      "source": [
        "<h1> <b> Web Scraping Funerário </b> </h1>\n",
        "<p> Web scraping, também conhecido como raspagem de dados, é o processo de extrair informações e dados estruturados de sites da web. Isso é feito usando software automatizado, que lê o conteúdo do site e extrai as informações desejadas em um formato estruturado, como um arquivo CSV ou um banco de dados. Essas informações podem ser usadas para análise de dados, pesquisa de mercado, monitoramento de preços, entre outras finalidades. No entanto, é importante lembrar que alguns sites podem proibir ou restringir o uso de técnicas de web scraping.</p>"
      ],
      "metadata": {
        "id": "0nnqvQuw3kS9"
      }
    },
    {
      "cell_type": "code",
      "source": [
        "from platform import python_version\n",
        "print(f\"Versão Python para esse projeto: {python_version()}\")"
      ],
      "metadata": {
        "colab": {
          "base_uri": "https://localhost:8080/"
        },
        "id": "ZdzE2nH_FtAK",
        "outputId": "7df5e952-da5a-48f6-9090-44240e3e014d"
      },
      "execution_count": null,
      "outputs": [
        {
          "output_type": "stream",
          "name": "stdout",
          "text": [
            "Versão Python para esse projeto: 3.9.16\n"
          ]
        }
      ]
    },
    {
      "cell_type": "code",
      "source": [
        "!pip install -q watermark"
      ],
      "metadata": {
        "id": "nK-N52RAc2-H"
      },
      "execution_count": null,
      "outputs": []
    },
    {
      "cell_type": "markdown",
      "source": [
        "<h1> <b> Importando as bibliotecas necessárias para a execução do projeto </b> </h1>"
      ],
      "metadata": {
        "id": "DI4v30muF6JW"
      }
    },
    {
      "cell_type": "code",
      "execution_count": null,
      "metadata": {
        "id": "9iIqwTjceHoz"
      },
      "outputs": [],
      "source": [
        "from datetime import datetime\n",
        "from bs4 import BeautifulSoup\n",
        "import requests\n",
        "import pandas as pd\n",
        "import numpy as np"
      ]
    },
    {
      "cell_type": "code",
      "source": [
        "%reload_ext watermark\n",
        "\n",
        "%watermark -a \"Airton Fabre\" --iversions"
      ],
      "metadata": {
        "colab": {
          "base_uri": "https://localhost:8080/"
        },
        "id": "ptqu7pSrc7vT",
        "outputId": "c6a92dbe-a563-4404-d3a5-3cc1c44a8864"
      },
      "execution_count": null,
      "outputs": [
        {
          "output_type": "stream",
          "name": "stdout",
          "text": [
            "Author: Airton Fabre\n",
            "\n",
            "numpy   : 1.22.4\n",
            "requests: 2.27.1\n",
            "pandas  : 1.4.4\n",
            "\n"
          ]
        }
      ]
    },
    {
      "cell_type": "markdown",
      "source": [
        "<h1> <b> Raspagem de dados </b> </h1>"
      ],
      "metadata": {
        "id": "jYrc7EaYGE2E"
      }
    },
    {
      "cell_type": "code",
      "source": [
        "# Definindo o ano através da biblioteca datetime para que o resultado seja\n",
        "# 100% dinâmico em relação ao presente momento da execução do script\n",
        "now = datetime.now()\n",
        "year = now.year\n",
        "\n",
        "url = \"https://www.araras.sp.gov.br/falecimentos/pesquisa_falecimentos.php\"\n",
        "\n",
        "# Esse parâmetro é usado para que o usuário diga ao servidor que não é uma \n",
        "# máquina fazendo essa busca\n",
        "headers = {\"User-Agent\": \"Mozilla/5.0 (Windows NT 10.0; Win64; x64) AppleWebKit/537.36 (KHTML, like Gecko) Chrome/111.0.0.0 Safari/537.36\"}\n",
        "\n",
        "\n",
        "# Criando um dicionário para armazenar as informações da página web\n",
        "falecidos = {\"Nome\":     [],\n",
        "             \"Idade\":    [],\n",
        "             \"DataFal\":  [],\n",
        "             \"DataSep\":  []}\n",
        "\n",
        "# Criando um looping for para extrair todos os dados em um periodo de tempo\n",
        "\n",
        "# for y in range(2012, year + 1): '''(na primeira execução foram coletados todos os registros)'''\n",
        "  \n",
        "# Coletar somente os dados a partir do presente ano, pois não há necessidade de pegar de todos os anos uma segunda vez\n",
        "for m in range(1, 13):\n",
        "  data = {\"mes\": {m}, \"ano\": {year}}\n",
        "  response = requests.post(url, data=data, headers=headers)\n",
        "  soup = BeautifulSoup(response.text, \"html.parser\", from_encoding=\"utf-8\")\n",
        "  feretros = soup.find_all(\"div\", {\"class\":\"col-md-9 sub-falecimento\"})\n",
        "  data_fal = soup.find_all(\"div\", {\"class\":\"col-md-7 sub-falecimento\"})\n",
        "  result = [i.get_text() for i in feretros]\n",
        "  data_falecimento = [i.get_text() for i in data_fal]\n",
        "\n",
        "  for k, v in enumerate(result):\n",
        "      if k % 2 == 0:\n",
        "          falecidos[\"Nome\"].append(v)\n",
        "      else:\n",
        "          falecidos[\"Idade\"].append(v)\n",
        "\n",
        "  for k, v in enumerate(data_falecimento):\n",
        "      if k % 2 == 0:\n",
        "          falecidos[\"DataFal\"].append(v)\n",
        "      else:\n",
        "          falecidos[\"DataSep\"].append(v)"
      ],
      "metadata": {
        "id": "B15UGkiuwHF5"
      },
      "execution_count": null,
      "outputs": []
    },
    {
      "cell_type": "markdown",
      "source": [
        "<p>Foi raspado todos os dados desde o primeiro registro em 2012 até o momento atual</p>"
      ],
      "metadata": {
        "id": "t7hHUvpadroV"
      }
    },
    {
      "cell_type": "markdown",
      "source": [
        "<h1> <b> Criando um DataFrame </b> </h1>\n",
        "<p> Nosso DataFrame será criado a partir do dicionário com os dados extraídos do site </p>"
      ],
      "metadata": {
        "id": "i0tbg0Do7FfU"
      }
    },
    {
      "cell_type": "code",
      "source": [
        "# Primeira execução do script com dados a partir de 2012.\n",
        "# O nome do dicionário foi alterado para que não houvesse divergencia e nem \n",
        "# a necessidade de escrever um novo script\n",
        "df = pd.DataFrame(falecimentos)\n",
        "df.head()"
      ],
      "metadata": {
        "colab": {
          "base_uri": "https://localhost:8080/",
          "height": 320
        },
        "id": "md819kPV6wGH",
        "outputId": "83dd941e-29bf-4915-b6a5-0cadc4730d75"
      },
      "execution_count": null,
      "outputs": [
        {
          "output_type": "execute_result",
          "data": {
            "text/plain": [
              "                               Nome  \\\n",
              "0           Gilson de Jesus Tavares   \n",
              "1    Luzia de Lourdes Silveira Dias   \n",
              "2  Luci Terezinha Martim De Paula     \n",
              "3                 Valter Sorrantino   \n",
              "4         Antonio Vieira dos Santos   \n",
              "\n",
              "                                               Idade     DataFal  \\\n",
              "0  Aos 40 anos, Casado. Residia no endereço: Rua:...  31/01/2012   \n",
              "1  Aos 66 anos, Viúva. Residia no endereço: Rua -...  31/01/2012   \n",
              "2  Aos 53 anos, Casada. Residia no endereço: Rua ...  30/01/2012   \n",
              "3  Aos 47 anos, Casado. Residia no endereço: Rua ...  30/01/2012   \n",
              "4  Aos 55 anos, Solteiro. Residia no endereço: Ru...  30/01/2012   \n",
              "\n",
              "                                             DataSep  \n",
              "0  31/01/2012 às  - Cemitério Municipal: Sepultam...  \n",
              "1  01/02/2012 às  - Cemitério Municipal - Sepulta...  \n",
              "2  30/01/2012 às  - Cemitério Municipal - Sepulta...  \n",
              "3  31/01/2012 às  - Cemitério Municipal - Sepulta...  \n",
              "4  31/01/2012 às  - Cemitério Municipal: Sepultam...  "
            ],
            "text/html": [
              "\n",
              "  <div id=\"df-cf8f8e2d-79ca-41cb-bd95-5d3dc3465ed4\">\n",
              "    <div class=\"colab-df-container\">\n",
              "      <div>\n",
              "<style scoped>\n",
              "    .dataframe tbody tr th:only-of-type {\n",
              "        vertical-align: middle;\n",
              "    }\n",
              "\n",
              "    .dataframe tbody tr th {\n",
              "        vertical-align: top;\n",
              "    }\n",
              "\n",
              "    .dataframe thead th {\n",
              "        text-align: right;\n",
              "    }\n",
              "</style>\n",
              "<table border=\"1\" class=\"dataframe\">\n",
              "  <thead>\n",
              "    <tr style=\"text-align: right;\">\n",
              "      <th></th>\n",
              "      <th>Nome</th>\n",
              "      <th>Idade</th>\n",
              "      <th>DataFal</th>\n",
              "      <th>DataSep</th>\n",
              "    </tr>\n",
              "  </thead>\n",
              "  <tbody>\n",
              "    <tr>\n",
              "      <th>0</th>\n",
              "      <td>Gilson de Jesus Tavares</td>\n",
              "      <td>Aos 40 anos, Casado. Residia no endereço: Rua:...</td>\n",
              "      <td>31/01/2012</td>\n",
              "      <td>31/01/2012 às  - Cemitério Municipal: Sepultam...</td>\n",
              "    </tr>\n",
              "    <tr>\n",
              "      <th>1</th>\n",
              "      <td>Luzia de Lourdes Silveira Dias</td>\n",
              "      <td>Aos 66 anos, Viúva. Residia no endereço: Rua -...</td>\n",
              "      <td>31/01/2012</td>\n",
              "      <td>01/02/2012 às  - Cemitério Municipal - Sepulta...</td>\n",
              "    </tr>\n",
              "    <tr>\n",
              "      <th>2</th>\n",
              "      <td>Luci Terezinha Martim De Paula</td>\n",
              "      <td>Aos 53 anos, Casada. Residia no endereço: Rua ...</td>\n",
              "      <td>30/01/2012</td>\n",
              "      <td>30/01/2012 às  - Cemitério Municipal - Sepulta...</td>\n",
              "    </tr>\n",
              "    <tr>\n",
              "      <th>3</th>\n",
              "      <td>Valter Sorrantino</td>\n",
              "      <td>Aos 47 anos, Casado. Residia no endereço: Rua ...</td>\n",
              "      <td>30/01/2012</td>\n",
              "      <td>31/01/2012 às  - Cemitério Municipal - Sepulta...</td>\n",
              "    </tr>\n",
              "    <tr>\n",
              "      <th>4</th>\n",
              "      <td>Antonio Vieira dos Santos</td>\n",
              "      <td>Aos 55 anos, Solteiro. Residia no endereço: Ru...</td>\n",
              "      <td>30/01/2012</td>\n",
              "      <td>31/01/2012 às  - Cemitério Municipal: Sepultam...</td>\n",
              "    </tr>\n",
              "  </tbody>\n",
              "</table>\n",
              "</div>\n",
              "      <button class=\"colab-df-convert\" onclick=\"convertToInteractive('df-cf8f8e2d-79ca-41cb-bd95-5d3dc3465ed4')\"\n",
              "              title=\"Convert this dataframe to an interactive table.\"\n",
              "              style=\"display:none;\">\n",
              "        \n",
              "  <svg xmlns=\"http://www.w3.org/2000/svg\" height=\"24px\"viewBox=\"0 0 24 24\"\n",
              "       width=\"24px\">\n",
              "    <path d=\"M0 0h24v24H0V0z\" fill=\"none\"/>\n",
              "    <path d=\"M18.56 5.44l.94 2.06.94-2.06 2.06-.94-2.06-.94-.94-2.06-.94 2.06-2.06.94zm-11 1L8.5 8.5l.94-2.06 2.06-.94-2.06-.94L8.5 2.5l-.94 2.06-2.06.94zm10 10l.94 2.06.94-2.06 2.06-.94-2.06-.94-.94-2.06-.94 2.06-2.06.94z\"/><path d=\"M17.41 7.96l-1.37-1.37c-.4-.4-.92-.59-1.43-.59-.52 0-1.04.2-1.43.59L10.3 9.45l-7.72 7.72c-.78.78-.78 2.05 0 2.83L4 21.41c.39.39.9.59 1.41.59.51 0 1.02-.2 1.41-.59l7.78-7.78 2.81-2.81c.8-.78.8-2.07 0-2.86zM5.41 20L4 18.59l7.72-7.72 1.47 1.35L5.41 20z\"/>\n",
              "  </svg>\n",
              "      </button>\n",
              "      \n",
              "  <style>\n",
              "    .colab-df-container {\n",
              "      display:flex;\n",
              "      flex-wrap:wrap;\n",
              "      gap: 12px;\n",
              "    }\n",
              "\n",
              "    .colab-df-convert {\n",
              "      background-color: #E8F0FE;\n",
              "      border: none;\n",
              "      border-radius: 50%;\n",
              "      cursor: pointer;\n",
              "      display: none;\n",
              "      fill: #1967D2;\n",
              "      height: 32px;\n",
              "      padding: 0 0 0 0;\n",
              "      width: 32px;\n",
              "    }\n",
              "\n",
              "    .colab-df-convert:hover {\n",
              "      background-color: #E2EBFA;\n",
              "      box-shadow: 0px 1px 2px rgba(60, 64, 67, 0.3), 0px 1px 3px 1px rgba(60, 64, 67, 0.15);\n",
              "      fill: #174EA6;\n",
              "    }\n",
              "\n",
              "    [theme=dark] .colab-df-convert {\n",
              "      background-color: #3B4455;\n",
              "      fill: #D2E3FC;\n",
              "    }\n",
              "\n",
              "    [theme=dark] .colab-df-convert:hover {\n",
              "      background-color: #434B5C;\n",
              "      box-shadow: 0px 1px 3px 1px rgba(0, 0, 0, 0.15);\n",
              "      filter: drop-shadow(0px 1px 2px rgba(0, 0, 0, 0.3));\n",
              "      fill: #FFFFFF;\n",
              "    }\n",
              "  </style>\n",
              "\n",
              "      <script>\n",
              "        const buttonEl =\n",
              "          document.querySelector('#df-cf8f8e2d-79ca-41cb-bd95-5d3dc3465ed4 button.colab-df-convert');\n",
              "        buttonEl.style.display =\n",
              "          google.colab.kernel.accessAllowed ? 'block' : 'none';\n",
              "\n",
              "        async function convertToInteractive(key) {\n",
              "          const element = document.querySelector('#df-cf8f8e2d-79ca-41cb-bd95-5d3dc3465ed4');\n",
              "          const dataTable =\n",
              "            await google.colab.kernel.invokeFunction('convertToInteractive',\n",
              "                                                     [key], {});\n",
              "          if (!dataTable) return;\n",
              "\n",
              "          const docLinkHtml = 'Like what you see? Visit the ' +\n",
              "            '<a target=\"_blank\" href=https://colab.research.google.com/notebooks/data_table.ipynb>data table notebook</a>'\n",
              "            + ' to learn more about interactive tables.';\n",
              "          element.innerHTML = '';\n",
              "          dataTable['output_type'] = 'display_data';\n",
              "          await google.colab.output.renderOutput(dataTable, element);\n",
              "          const docLink = document.createElement('div');\n",
              "          docLink.innerHTML = docLinkHtml;\n",
              "          element.appendChild(docLink);\n",
              "        }\n",
              "      </script>\n",
              "    </div>\n",
              "  </div>\n",
              "  "
            ]
          },
          "metadata": {},
          "execution_count": 45
        }
      ]
    },
    {
      "cell_type": "code",
      "source": [
        "df.shape"
      ],
      "metadata": {
        "colab": {
          "base_uri": "https://localhost:8080/"
        },
        "id": "8PaKN3PsfXfY",
        "outputId": "ed3eb89d-0a79-49a4-8a35-fe66c4ac7e6f"
      },
      "execution_count": null,
      "outputs": [
        {
          "output_type": "execute_result",
          "data": {
            "text/plain": [
              "(10063, 4)"
            ]
          },
          "metadata": {},
          "execution_count": 46
        }
      ]
    },
    {
      "cell_type": "code",
      "source": [
        "# Salvando o dataframe a partir de 2012.\n",
        "df.to_excel(\"falecimentos.xlsx\", index=False)"
      ],
      "metadata": {
        "id": "jttUZiKqejBK"
      },
      "execution_count": null,
      "outputs": []
    },
    {
      "cell_type": "code",
      "source": [
        "# Segunda execução do script com dados a partir de Jan 2023\n",
        "df_atual = pd.DataFrame(falecidos)\n",
        "df_atual.head()"
      ],
      "metadata": {
        "colab": {
          "base_uri": "https://localhost:8080/",
          "height": 206
        },
        "id": "ux67qpXXeoiC",
        "outputId": "60114c6d-9bb1-4b6f-ea34-c9315c4af123"
      },
      "execution_count": null,
      "outputs": [
        {
          "output_type": "execute_result",
          "data": {
            "text/plain": [
              "                       Nome  \\\n",
              "0        José do Nascimento   \n",
              "1    Pedro Alves dos Santos   \n",
              "2            Clarinda Bueno   \n",
              "3  JOSELMA ALVES NASCIMENTO   \n",
              "4            Abrahão Vieira   \n",
              "\n",
              "                                               Idade     DataFal  \\\n",
              "0  Aos 74 anos, Divorciado. Residia no endereço: ...  31/01/2023   \n",
              "1  Aos 70 anos, Casado. Residia no endereço: Aven...  31/01/2023   \n",
              "2  Aos 83 anos, Divorciada. Residia no endereço: ...  30/01/2023   \n",
              "3  Aos 48 anos, DIVORCIADA . Residia no endereço:...  30/01/2023   \n",
              "4  Aos 79 anos, Divorciado. Residia no endereço: ...  30/01/2023   \n",
              "\n",
              "                                             DataSep  \n",
              "0  01/02/2023 às 13:30 - Cemitério Municipal de A...  \n",
              "1           01/02/2023 às 13:00 - Cemitério de Leme.  \n",
              "2  31/01/2023 às 10:30 - Cemitério Municipal de A...  \n",
              "3  30/01/2023 às 16:00 - CEMITÉRIO MUNICIPAL DE A...  \n",
              "4    31/01/2023 às 14:00 - Cemitério dos Eucaliptos.  "
            ],
            "text/html": [
              "\n",
              "  <div id=\"df-d2ed5461-f518-42b1-a4a5-041633971372\">\n",
              "    <div class=\"colab-df-container\">\n",
              "      <div>\n",
              "<style scoped>\n",
              "    .dataframe tbody tr th:only-of-type {\n",
              "        vertical-align: middle;\n",
              "    }\n",
              "\n",
              "    .dataframe tbody tr th {\n",
              "        vertical-align: top;\n",
              "    }\n",
              "\n",
              "    .dataframe thead th {\n",
              "        text-align: right;\n",
              "    }\n",
              "</style>\n",
              "<table border=\"1\" class=\"dataframe\">\n",
              "  <thead>\n",
              "    <tr style=\"text-align: right;\">\n",
              "      <th></th>\n",
              "      <th>Nome</th>\n",
              "      <th>Idade</th>\n",
              "      <th>DataFal</th>\n",
              "      <th>DataSep</th>\n",
              "    </tr>\n",
              "  </thead>\n",
              "  <tbody>\n",
              "    <tr>\n",
              "      <th>0</th>\n",
              "      <td>José do Nascimento</td>\n",
              "      <td>Aos 74 anos, Divorciado. Residia no endereço: ...</td>\n",
              "      <td>31/01/2023</td>\n",
              "      <td>01/02/2023 às 13:30 - Cemitério Municipal de A...</td>\n",
              "    </tr>\n",
              "    <tr>\n",
              "      <th>1</th>\n",
              "      <td>Pedro Alves dos Santos</td>\n",
              "      <td>Aos 70 anos, Casado. Residia no endereço: Aven...</td>\n",
              "      <td>31/01/2023</td>\n",
              "      <td>01/02/2023 às 13:00 - Cemitério de Leme.</td>\n",
              "    </tr>\n",
              "    <tr>\n",
              "      <th>2</th>\n",
              "      <td>Clarinda Bueno</td>\n",
              "      <td>Aos 83 anos, Divorciada. Residia no endereço: ...</td>\n",
              "      <td>30/01/2023</td>\n",
              "      <td>31/01/2023 às 10:30 - Cemitério Municipal de A...</td>\n",
              "    </tr>\n",
              "    <tr>\n",
              "      <th>3</th>\n",
              "      <td>JOSELMA ALVES NASCIMENTO</td>\n",
              "      <td>Aos 48 anos, DIVORCIADA . Residia no endereço:...</td>\n",
              "      <td>30/01/2023</td>\n",
              "      <td>30/01/2023 às 16:00 - CEMITÉRIO MUNICIPAL DE A...</td>\n",
              "    </tr>\n",
              "    <tr>\n",
              "      <th>4</th>\n",
              "      <td>Abrahão Vieira</td>\n",
              "      <td>Aos 79 anos, Divorciado. Residia no endereço: ...</td>\n",
              "      <td>30/01/2023</td>\n",
              "      <td>31/01/2023 às 14:00 - Cemitério dos Eucaliptos.</td>\n",
              "    </tr>\n",
              "  </tbody>\n",
              "</table>\n",
              "</div>\n",
              "      <button class=\"colab-df-convert\" onclick=\"convertToInteractive('df-d2ed5461-f518-42b1-a4a5-041633971372')\"\n",
              "              title=\"Convert this dataframe to an interactive table.\"\n",
              "              style=\"display:none;\">\n",
              "        \n",
              "  <svg xmlns=\"http://www.w3.org/2000/svg\" height=\"24px\"viewBox=\"0 0 24 24\"\n",
              "       width=\"24px\">\n",
              "    <path d=\"M0 0h24v24H0V0z\" fill=\"none\"/>\n",
              "    <path d=\"M18.56 5.44l.94 2.06.94-2.06 2.06-.94-2.06-.94-.94-2.06-.94 2.06-2.06.94zm-11 1L8.5 8.5l.94-2.06 2.06-.94-2.06-.94L8.5 2.5l-.94 2.06-2.06.94zm10 10l.94 2.06.94-2.06 2.06-.94-2.06-.94-.94-2.06-.94 2.06-2.06.94z\"/><path d=\"M17.41 7.96l-1.37-1.37c-.4-.4-.92-.59-1.43-.59-.52 0-1.04.2-1.43.59L10.3 9.45l-7.72 7.72c-.78.78-.78 2.05 0 2.83L4 21.41c.39.39.9.59 1.41.59.51 0 1.02-.2 1.41-.59l7.78-7.78 2.81-2.81c.8-.78.8-2.07 0-2.86zM5.41 20L4 18.59l7.72-7.72 1.47 1.35L5.41 20z\"/>\n",
              "  </svg>\n",
              "      </button>\n",
              "      \n",
              "  <style>\n",
              "    .colab-df-container {\n",
              "      display:flex;\n",
              "      flex-wrap:wrap;\n",
              "      gap: 12px;\n",
              "    }\n",
              "\n",
              "    .colab-df-convert {\n",
              "      background-color: #E8F0FE;\n",
              "      border: none;\n",
              "      border-radius: 50%;\n",
              "      cursor: pointer;\n",
              "      display: none;\n",
              "      fill: #1967D2;\n",
              "      height: 32px;\n",
              "      padding: 0 0 0 0;\n",
              "      width: 32px;\n",
              "    }\n",
              "\n",
              "    .colab-df-convert:hover {\n",
              "      background-color: #E2EBFA;\n",
              "      box-shadow: 0px 1px 2px rgba(60, 64, 67, 0.3), 0px 1px 3px 1px rgba(60, 64, 67, 0.15);\n",
              "      fill: #174EA6;\n",
              "    }\n",
              "\n",
              "    [theme=dark] .colab-df-convert {\n",
              "      background-color: #3B4455;\n",
              "      fill: #D2E3FC;\n",
              "    }\n",
              "\n",
              "    [theme=dark] .colab-df-convert:hover {\n",
              "      background-color: #434B5C;\n",
              "      box-shadow: 0px 1px 3px 1px rgba(0, 0, 0, 0.15);\n",
              "      filter: drop-shadow(0px 1px 2px rgba(0, 0, 0, 0.3));\n",
              "      fill: #FFFFFF;\n",
              "    }\n",
              "  </style>\n",
              "\n",
              "      <script>\n",
              "        const buttonEl =\n",
              "          document.querySelector('#df-d2ed5461-f518-42b1-a4a5-041633971372 button.colab-df-convert');\n",
              "        buttonEl.style.display =\n",
              "          google.colab.kernel.accessAllowed ? 'block' : 'none';\n",
              "\n",
              "        async function convertToInteractive(key) {\n",
              "          const element = document.querySelector('#df-d2ed5461-f518-42b1-a4a5-041633971372');\n",
              "          const dataTable =\n",
              "            await google.colab.kernel.invokeFunction('convertToInteractive',\n",
              "                                                     [key], {});\n",
              "          if (!dataTable) return;\n",
              "\n",
              "          const docLinkHtml = 'Like what you see? Visit the ' +\n",
              "            '<a target=\"_blank\" href=https://colab.research.google.com/notebooks/data_table.ipynb>data table notebook</a>'\n",
              "            + ' to learn more about interactive tables.';\n",
              "          element.innerHTML = '';\n",
              "          dataTable['output_type'] = 'display_data';\n",
              "          await google.colab.output.renderOutput(dataTable, element);\n",
              "          const docLink = document.createElement('div');\n",
              "          docLink.innerHTML = docLinkHtml;\n",
              "          element.appendChild(docLink);\n",
              "        }\n",
              "      </script>\n",
              "    </div>\n",
              "  </div>\n",
              "  "
            ]
          },
          "metadata": {},
          "execution_count": 368
        }
      ]
    },
    {
      "cell_type": "code",
      "source": [
        "df_atual.shape"
      ],
      "metadata": {
        "colab": {
          "base_uri": "https://localhost:8080/"
        },
        "id": "IVj3EzNVfepm",
        "outputId": "f57c1687-22d8-4b6d-815a-213b7bd4ec46"
      },
      "execution_count": null,
      "outputs": [
        {
          "output_type": "execute_result",
          "data": {
            "text/plain": [
              "(238, 4)"
            ]
          },
          "metadata": {},
          "execution_count": 369
        }
      ]
    },
    {
      "cell_type": "markdown",
      "source": [
        "<h3><b>Abrindo o DataFrame de 2012 e concatenando ao DataFrame atual</b></h3>"
      ],
      "metadata": {
        "id": "rAAgewVhfi8g"
      }
    },
    {
      "cell_type": "code",
      "source": [
        "df = pd.read_excel(\"falecimentos.xlsx\")\n",
        "df.head()"
      ],
      "metadata": {
        "colab": {
          "base_uri": "https://localhost:8080/",
          "height": 206
        },
        "id": "W-cvePHPfHSI",
        "outputId": "f5169274-0ede-4d61-9842-8c9da73c3217"
      },
      "execution_count": null,
      "outputs": [
        {
          "output_type": "execute_result",
          "data": {
            "text/plain": [
              "                               Nome  \\\n",
              "0           Gilson de Jesus Tavares   \n",
              "1    Luzia de Lourdes Silveira Dias   \n",
              "2  Luci Terezinha Martim De Paula     \n",
              "3                 Valter Sorrantino   \n",
              "4         Antonio Vieira dos Santos   \n",
              "\n",
              "                                               Idade     DataFal  \\\n",
              "0  Aos 40 anos, Casado. Residia no endereço: Rua:...  31/01/2012   \n",
              "1  Aos 66 anos, Viúva. Residia no endereço: Rua -...  31/01/2012   \n",
              "2  Aos 53 anos, Casada. Residia no endereço: Rua ...  30/01/2012   \n",
              "3  Aos 47 anos, Casado. Residia no endereço: Rua ...  30/01/2012   \n",
              "4  Aos 55 anos, Solteiro. Residia no endereço: Ru...  30/01/2012   \n",
              "\n",
              "                                             DataSep  \n",
              "0  31/01/2012 às  - Cemitério Municipal: Sepultam...  \n",
              "1  01/02/2012 às  - Cemitério Municipal - Sepulta...  \n",
              "2  30/01/2012 às  - Cemitério Municipal - Sepulta...  \n",
              "3  31/01/2012 às  - Cemitério Municipal - Sepulta...  \n",
              "4  31/01/2012 às  - Cemitério Municipal: Sepultam...  "
            ],
            "text/html": [
              "\n",
              "  <div id=\"df-e36916da-6911-4f9e-95c4-f320d9aa943d\">\n",
              "    <div class=\"colab-df-container\">\n",
              "      <div>\n",
              "<style scoped>\n",
              "    .dataframe tbody tr th:only-of-type {\n",
              "        vertical-align: middle;\n",
              "    }\n",
              "\n",
              "    .dataframe tbody tr th {\n",
              "        vertical-align: top;\n",
              "    }\n",
              "\n",
              "    .dataframe thead th {\n",
              "        text-align: right;\n",
              "    }\n",
              "</style>\n",
              "<table border=\"1\" class=\"dataframe\">\n",
              "  <thead>\n",
              "    <tr style=\"text-align: right;\">\n",
              "      <th></th>\n",
              "      <th>Nome</th>\n",
              "      <th>Idade</th>\n",
              "      <th>DataFal</th>\n",
              "      <th>DataSep</th>\n",
              "    </tr>\n",
              "  </thead>\n",
              "  <tbody>\n",
              "    <tr>\n",
              "      <th>0</th>\n",
              "      <td>Gilson de Jesus Tavares</td>\n",
              "      <td>Aos 40 anos, Casado. Residia no endereço: Rua:...</td>\n",
              "      <td>31/01/2012</td>\n",
              "      <td>31/01/2012 às  - Cemitério Municipal: Sepultam...</td>\n",
              "    </tr>\n",
              "    <tr>\n",
              "      <th>1</th>\n",
              "      <td>Luzia de Lourdes Silveira Dias</td>\n",
              "      <td>Aos 66 anos, Viúva. Residia no endereço: Rua -...</td>\n",
              "      <td>31/01/2012</td>\n",
              "      <td>01/02/2012 às  - Cemitério Municipal - Sepulta...</td>\n",
              "    </tr>\n",
              "    <tr>\n",
              "      <th>2</th>\n",
              "      <td>Luci Terezinha Martim De Paula</td>\n",
              "      <td>Aos 53 anos, Casada. Residia no endereço: Rua ...</td>\n",
              "      <td>30/01/2012</td>\n",
              "      <td>30/01/2012 às  - Cemitério Municipal - Sepulta...</td>\n",
              "    </tr>\n",
              "    <tr>\n",
              "      <th>3</th>\n",
              "      <td>Valter Sorrantino</td>\n",
              "      <td>Aos 47 anos, Casado. Residia no endereço: Rua ...</td>\n",
              "      <td>30/01/2012</td>\n",
              "      <td>31/01/2012 às  - Cemitério Municipal - Sepulta...</td>\n",
              "    </tr>\n",
              "    <tr>\n",
              "      <th>4</th>\n",
              "      <td>Antonio Vieira dos Santos</td>\n",
              "      <td>Aos 55 anos, Solteiro. Residia no endereço: Ru...</td>\n",
              "      <td>30/01/2012</td>\n",
              "      <td>31/01/2012 às  - Cemitério Municipal: Sepultam...</td>\n",
              "    </tr>\n",
              "  </tbody>\n",
              "</table>\n",
              "</div>\n",
              "      <button class=\"colab-df-convert\" onclick=\"convertToInteractive('df-e36916da-6911-4f9e-95c4-f320d9aa943d')\"\n",
              "              title=\"Convert this dataframe to an interactive table.\"\n",
              "              style=\"display:none;\">\n",
              "        \n",
              "  <svg xmlns=\"http://www.w3.org/2000/svg\" height=\"24px\"viewBox=\"0 0 24 24\"\n",
              "       width=\"24px\">\n",
              "    <path d=\"M0 0h24v24H0V0z\" fill=\"none\"/>\n",
              "    <path d=\"M18.56 5.44l.94 2.06.94-2.06 2.06-.94-2.06-.94-.94-2.06-.94 2.06-2.06.94zm-11 1L8.5 8.5l.94-2.06 2.06-.94-2.06-.94L8.5 2.5l-.94 2.06-2.06.94zm10 10l.94 2.06.94-2.06 2.06-.94-2.06-.94-.94-2.06-.94 2.06-2.06.94z\"/><path d=\"M17.41 7.96l-1.37-1.37c-.4-.4-.92-.59-1.43-.59-.52 0-1.04.2-1.43.59L10.3 9.45l-7.72 7.72c-.78.78-.78 2.05 0 2.83L4 21.41c.39.39.9.59 1.41.59.51 0 1.02-.2 1.41-.59l7.78-7.78 2.81-2.81c.8-.78.8-2.07 0-2.86zM5.41 20L4 18.59l7.72-7.72 1.47 1.35L5.41 20z\"/>\n",
              "  </svg>\n",
              "      </button>\n",
              "      \n",
              "  <style>\n",
              "    .colab-df-container {\n",
              "      display:flex;\n",
              "      flex-wrap:wrap;\n",
              "      gap: 12px;\n",
              "    }\n",
              "\n",
              "    .colab-df-convert {\n",
              "      background-color: #E8F0FE;\n",
              "      border: none;\n",
              "      border-radius: 50%;\n",
              "      cursor: pointer;\n",
              "      display: none;\n",
              "      fill: #1967D2;\n",
              "      height: 32px;\n",
              "      padding: 0 0 0 0;\n",
              "      width: 32px;\n",
              "    }\n",
              "\n",
              "    .colab-df-convert:hover {\n",
              "      background-color: #E2EBFA;\n",
              "      box-shadow: 0px 1px 2px rgba(60, 64, 67, 0.3), 0px 1px 3px 1px rgba(60, 64, 67, 0.15);\n",
              "      fill: #174EA6;\n",
              "    }\n",
              "\n",
              "    [theme=dark] .colab-df-convert {\n",
              "      background-color: #3B4455;\n",
              "      fill: #D2E3FC;\n",
              "    }\n",
              "\n",
              "    [theme=dark] .colab-df-convert:hover {\n",
              "      background-color: #434B5C;\n",
              "      box-shadow: 0px 1px 3px 1px rgba(0, 0, 0, 0.15);\n",
              "      filter: drop-shadow(0px 1px 2px rgba(0, 0, 0, 0.3));\n",
              "      fill: #FFFFFF;\n",
              "    }\n",
              "  </style>\n",
              "\n",
              "      <script>\n",
              "        const buttonEl =\n",
              "          document.querySelector('#df-e36916da-6911-4f9e-95c4-f320d9aa943d button.colab-df-convert');\n",
              "        buttonEl.style.display =\n",
              "          google.colab.kernel.accessAllowed ? 'block' : 'none';\n",
              "\n",
              "        async function convertToInteractive(key) {\n",
              "          const element = document.querySelector('#df-e36916da-6911-4f9e-95c4-f320d9aa943d');\n",
              "          const dataTable =\n",
              "            await google.colab.kernel.invokeFunction('convertToInteractive',\n",
              "                                                     [key], {});\n",
              "          if (!dataTable) return;\n",
              "\n",
              "          const docLinkHtml = 'Like what you see? Visit the ' +\n",
              "            '<a target=\"_blank\" href=https://colab.research.google.com/notebooks/data_table.ipynb>data table notebook</a>'\n",
              "            + ' to learn more about interactive tables.';\n",
              "          element.innerHTML = '';\n",
              "          dataTable['output_type'] = 'display_data';\n",
              "          await google.colab.output.renderOutput(dataTable, element);\n",
              "          const docLink = document.createElement('div');\n",
              "          docLink.innerHTML = docLinkHtml;\n",
              "          element.appendChild(docLink);\n",
              "        }\n",
              "      </script>\n",
              "    </div>\n",
              "  </div>\n",
              "  "
            ]
          },
          "metadata": {},
          "execution_count": 370
        }
      ]
    },
    {
      "cell_type": "code",
      "source": [
        "df = pd.concat([df, df_atual])\n",
        "df.head()"
      ],
      "metadata": {
        "colab": {
          "base_uri": "https://localhost:8080/",
          "height": 206
        },
        "id": "SP_ErJGlftMW",
        "outputId": "88842c37-2a7d-46e2-c17a-04d3e667fc85"
      },
      "execution_count": null,
      "outputs": [
        {
          "output_type": "execute_result",
          "data": {
            "text/plain": [
              "                               Nome  \\\n",
              "0           Gilson de Jesus Tavares   \n",
              "1    Luzia de Lourdes Silveira Dias   \n",
              "2  Luci Terezinha Martim De Paula     \n",
              "3                 Valter Sorrantino   \n",
              "4         Antonio Vieira dos Santos   \n",
              "\n",
              "                                               Idade     DataFal  \\\n",
              "0  Aos 40 anos, Casado. Residia no endereço: Rua:...  31/01/2012   \n",
              "1  Aos 66 anos, Viúva. Residia no endereço: Rua -...  31/01/2012   \n",
              "2  Aos 53 anos, Casada. Residia no endereço: Rua ...  30/01/2012   \n",
              "3  Aos 47 anos, Casado. Residia no endereço: Rua ...  30/01/2012   \n",
              "4  Aos 55 anos, Solteiro. Residia no endereço: Ru...  30/01/2012   \n",
              "\n",
              "                                             DataSep  \n",
              "0  31/01/2012 às  - Cemitério Municipal: Sepultam...  \n",
              "1  01/02/2012 às  - Cemitério Municipal - Sepulta...  \n",
              "2  30/01/2012 às  - Cemitério Municipal - Sepulta...  \n",
              "3  31/01/2012 às  - Cemitério Municipal - Sepulta...  \n",
              "4  31/01/2012 às  - Cemitério Municipal: Sepultam...  "
            ],
            "text/html": [
              "\n",
              "  <div id=\"df-34994e6f-3eec-4e9c-85c8-5d41d70401d7\">\n",
              "    <div class=\"colab-df-container\">\n",
              "      <div>\n",
              "<style scoped>\n",
              "    .dataframe tbody tr th:only-of-type {\n",
              "        vertical-align: middle;\n",
              "    }\n",
              "\n",
              "    .dataframe tbody tr th {\n",
              "        vertical-align: top;\n",
              "    }\n",
              "\n",
              "    .dataframe thead th {\n",
              "        text-align: right;\n",
              "    }\n",
              "</style>\n",
              "<table border=\"1\" class=\"dataframe\">\n",
              "  <thead>\n",
              "    <tr style=\"text-align: right;\">\n",
              "      <th></th>\n",
              "      <th>Nome</th>\n",
              "      <th>Idade</th>\n",
              "      <th>DataFal</th>\n",
              "      <th>DataSep</th>\n",
              "    </tr>\n",
              "  </thead>\n",
              "  <tbody>\n",
              "    <tr>\n",
              "      <th>0</th>\n",
              "      <td>Gilson de Jesus Tavares</td>\n",
              "      <td>Aos 40 anos, Casado. Residia no endereço: Rua:...</td>\n",
              "      <td>31/01/2012</td>\n",
              "      <td>31/01/2012 às  - Cemitério Municipal: Sepultam...</td>\n",
              "    </tr>\n",
              "    <tr>\n",
              "      <th>1</th>\n",
              "      <td>Luzia de Lourdes Silveira Dias</td>\n",
              "      <td>Aos 66 anos, Viúva. Residia no endereço: Rua -...</td>\n",
              "      <td>31/01/2012</td>\n",
              "      <td>01/02/2012 às  - Cemitério Municipal - Sepulta...</td>\n",
              "    </tr>\n",
              "    <tr>\n",
              "      <th>2</th>\n",
              "      <td>Luci Terezinha Martim De Paula</td>\n",
              "      <td>Aos 53 anos, Casada. Residia no endereço: Rua ...</td>\n",
              "      <td>30/01/2012</td>\n",
              "      <td>30/01/2012 às  - Cemitério Municipal - Sepulta...</td>\n",
              "    </tr>\n",
              "    <tr>\n",
              "      <th>3</th>\n",
              "      <td>Valter Sorrantino</td>\n",
              "      <td>Aos 47 anos, Casado. Residia no endereço: Rua ...</td>\n",
              "      <td>30/01/2012</td>\n",
              "      <td>31/01/2012 às  - Cemitério Municipal - Sepulta...</td>\n",
              "    </tr>\n",
              "    <tr>\n",
              "      <th>4</th>\n",
              "      <td>Antonio Vieira dos Santos</td>\n",
              "      <td>Aos 55 anos, Solteiro. Residia no endereço: Ru...</td>\n",
              "      <td>30/01/2012</td>\n",
              "      <td>31/01/2012 às  - Cemitério Municipal: Sepultam...</td>\n",
              "    </tr>\n",
              "  </tbody>\n",
              "</table>\n",
              "</div>\n",
              "      <button class=\"colab-df-convert\" onclick=\"convertToInteractive('df-34994e6f-3eec-4e9c-85c8-5d41d70401d7')\"\n",
              "              title=\"Convert this dataframe to an interactive table.\"\n",
              "              style=\"display:none;\">\n",
              "        \n",
              "  <svg xmlns=\"http://www.w3.org/2000/svg\" height=\"24px\"viewBox=\"0 0 24 24\"\n",
              "       width=\"24px\">\n",
              "    <path d=\"M0 0h24v24H0V0z\" fill=\"none\"/>\n",
              "    <path d=\"M18.56 5.44l.94 2.06.94-2.06 2.06-.94-2.06-.94-.94-2.06-.94 2.06-2.06.94zm-11 1L8.5 8.5l.94-2.06 2.06-.94-2.06-.94L8.5 2.5l-.94 2.06-2.06.94zm10 10l.94 2.06.94-2.06 2.06-.94-2.06-.94-.94-2.06-.94 2.06-2.06.94z\"/><path d=\"M17.41 7.96l-1.37-1.37c-.4-.4-.92-.59-1.43-.59-.52 0-1.04.2-1.43.59L10.3 9.45l-7.72 7.72c-.78.78-.78 2.05 0 2.83L4 21.41c.39.39.9.59 1.41.59.51 0 1.02-.2 1.41-.59l7.78-7.78 2.81-2.81c.8-.78.8-2.07 0-2.86zM5.41 20L4 18.59l7.72-7.72 1.47 1.35L5.41 20z\"/>\n",
              "  </svg>\n",
              "      </button>\n",
              "      \n",
              "  <style>\n",
              "    .colab-df-container {\n",
              "      display:flex;\n",
              "      flex-wrap:wrap;\n",
              "      gap: 12px;\n",
              "    }\n",
              "\n",
              "    .colab-df-convert {\n",
              "      background-color: #E8F0FE;\n",
              "      border: none;\n",
              "      border-radius: 50%;\n",
              "      cursor: pointer;\n",
              "      display: none;\n",
              "      fill: #1967D2;\n",
              "      height: 32px;\n",
              "      padding: 0 0 0 0;\n",
              "      width: 32px;\n",
              "    }\n",
              "\n",
              "    .colab-df-convert:hover {\n",
              "      background-color: #E2EBFA;\n",
              "      box-shadow: 0px 1px 2px rgba(60, 64, 67, 0.3), 0px 1px 3px 1px rgba(60, 64, 67, 0.15);\n",
              "      fill: #174EA6;\n",
              "    }\n",
              "\n",
              "    [theme=dark] .colab-df-convert {\n",
              "      background-color: #3B4455;\n",
              "      fill: #D2E3FC;\n",
              "    }\n",
              "\n",
              "    [theme=dark] .colab-df-convert:hover {\n",
              "      background-color: #434B5C;\n",
              "      box-shadow: 0px 1px 3px 1px rgba(0, 0, 0, 0.15);\n",
              "      filter: drop-shadow(0px 1px 2px rgba(0, 0, 0, 0.3));\n",
              "      fill: #FFFFFF;\n",
              "    }\n",
              "  </style>\n",
              "\n",
              "      <script>\n",
              "        const buttonEl =\n",
              "          document.querySelector('#df-34994e6f-3eec-4e9c-85c8-5d41d70401d7 button.colab-df-convert');\n",
              "        buttonEl.style.display =\n",
              "          google.colab.kernel.accessAllowed ? 'block' : 'none';\n",
              "\n",
              "        async function convertToInteractive(key) {\n",
              "          const element = document.querySelector('#df-34994e6f-3eec-4e9c-85c8-5d41d70401d7');\n",
              "          const dataTable =\n",
              "            await google.colab.kernel.invokeFunction('convertToInteractive',\n",
              "                                                     [key], {});\n",
              "          if (!dataTable) return;\n",
              "\n",
              "          const docLinkHtml = 'Like what you see? Visit the ' +\n",
              "            '<a target=\"_blank\" href=https://colab.research.google.com/notebooks/data_table.ipynb>data table notebook</a>'\n",
              "            + ' to learn more about interactive tables.';\n",
              "          element.innerHTML = '';\n",
              "          dataTable['output_type'] = 'display_data';\n",
              "          await google.colab.output.renderOutput(dataTable, element);\n",
              "          const docLink = document.createElement('div');\n",
              "          docLink.innerHTML = docLinkHtml;\n",
              "          element.appendChild(docLink);\n",
              "        }\n",
              "      </script>\n",
              "    </div>\n",
              "  </div>\n",
              "  "
            ]
          },
          "metadata": {},
          "execution_count": 371
        }
      ]
    },
    {
      "cell_type": "markdown",
      "source": [
        "<h1><b>Análise Exploratória</b></h1>"
      ],
      "metadata": {
        "id": "Uwi62iNTfAez"
      }
    },
    {
      "cell_type": "code",
      "source": [
        "df.info()"
      ],
      "metadata": {
        "colab": {
          "base_uri": "https://localhost:8080/"
        },
        "id": "pazej6I8fWID",
        "outputId": "c13acf82-fa1e-45a4-eea1-39b2b78af497"
      },
      "execution_count": null,
      "outputs": [
        {
          "output_type": "stream",
          "name": "stdout",
          "text": [
            "<class 'pandas.core.frame.DataFrame'>\n",
            "Int64Index: 10301 entries, 0 to 237\n",
            "Data columns (total 4 columns):\n",
            " #   Column   Non-Null Count  Dtype \n",
            "---  ------   --------------  ----- \n",
            " 0   Nome     10301 non-null  object\n",
            " 1   Idade    10301 non-null  object\n",
            " 2   DataFal  10301 non-null  object\n",
            " 3   DataSep  10301 non-null  object\n",
            "dtypes: object(4)\n",
            "memory usage: 402.4+ KB\n"
          ]
        }
      ]
    },
    {
      "cell_type": "code",
      "source": [
        "df.shape"
      ],
      "metadata": {
        "colab": {
          "base_uri": "https://localhost:8080/"
        },
        "id": "3Z03plWbfF6a",
        "outputId": "cd53e161-7073-4855-8bf6-7df313816de4"
      },
      "execution_count": null,
      "outputs": [
        {
          "output_type": "execute_result",
          "data": {
            "text/plain": [
              "(10301, 4)"
            ]
          },
          "metadata": {},
          "execution_count": 373
        }
      ]
    },
    {
      "cell_type": "markdown",
      "source": [
        "<p> Não temos nenhum valor ausente, mas os tipos primitivos de algumas colunas como <b> DataFal e DataSep </b> estão incorretos."
      ],
      "metadata": {
        "id": "97YeXtSEHUop"
      }
    },
    {
      "cell_type": "markdown",
      "source": [
        "<h1> <b> Task 1:</b> Verificar se existem valores duplicados</h1>\n",
        "<p>O primerio passo é remover possíveis espaços em branco que podem indicar valores diferentes para o pandas</p>"
      ],
      "metadata": {
        "id": "gyo55_0GHh7P"
      }
    },
    {
      "cell_type": "code",
      "source": [
        "df = df.apply(lambda x: x.str.strip())"
      ],
      "metadata": {
        "id": "6S6KTZX8KNGn"
      },
      "execution_count": null,
      "outputs": []
    },
    {
      "cell_type": "code",
      "source": [
        "# Verificando se existe alguma duplicidade nos dados\n",
        "df[[\"Nome\", \"Idade\"]].duplicated().sum()"
      ],
      "metadata": {
        "colab": {
          "base_uri": "https://localhost:8080/"
        },
        "id": "kQr1ddWXIKoH",
        "outputId": "2eaacad8-821e-4931-fa7b-0d6848fbd9d1"
      },
      "execution_count": null,
      "outputs": [
        {
          "output_type": "execute_result",
          "data": {
            "text/plain": [
              "254"
            ]
          },
          "metadata": {},
          "execution_count": 375
        }
      ]
    },
    {
      "cell_type": "code",
      "source": [
        "df.loc[df[\"Nome\"] == \"Pedro Aparecido Bernardo da Silva\"]"
      ],
      "metadata": {
        "colab": {
          "base_uri": "https://localhost:8080/"
        },
        "id": "PWWs3P-yLnhU",
        "outputId": "867fe874-fb85-4f67-98c1-947bdc1cdd65"
      },
      "execution_count": null,
      "outputs": [
        {
          "output_type": "execute_result",
          "data": {
            "text/plain": [
              "                                    Nome  \\\n",
              "10062  Pedro Aparecido Bernardo da Silva   \n",
              "237    Pedro Aparecido Bernardo da Silva   \n",
              "\n",
              "                                                   Idade     DataFal  \\\n",
              "10062  Aos 36 anos, . Residia no endereço: Rua Guilhe...  01/04/2023   \n",
              "237    Aos 36 anos, . Residia no endereço: Rua Guilhe...  01/04/2023   \n",
              "\n",
              "                                                 DataSep  \n",
              "10062  02/04/2023 às 09:00 - Cemitério Municipal de A...  \n",
              "237    02/04/2023 às 09:00 - Cemitério Municipal de A...  "
            ],
            "text/html": [
              "\n",
              "  <div id=\"df-6681ee48-5291-4777-a944-5fc988a5879a\">\n",
              "    <div class=\"colab-df-container\">\n",
              "      <div>\n",
              "<style scoped>\n",
              "    .dataframe tbody tr th:only-of-type {\n",
              "        vertical-align: middle;\n",
              "    }\n",
              "\n",
              "    .dataframe tbody tr th {\n",
              "        vertical-align: top;\n",
              "    }\n",
              "\n",
              "    .dataframe thead th {\n",
              "        text-align: right;\n",
              "    }\n",
              "</style>\n",
              "<table border=\"1\" class=\"dataframe\">\n",
              "  <thead>\n",
              "    <tr style=\"text-align: right;\">\n",
              "      <th></th>\n",
              "      <th>Nome</th>\n",
              "      <th>Idade</th>\n",
              "      <th>DataFal</th>\n",
              "      <th>DataSep</th>\n",
              "    </tr>\n",
              "  </thead>\n",
              "  <tbody>\n",
              "    <tr>\n",
              "      <th>10062</th>\n",
              "      <td>Pedro Aparecido Bernardo da Silva</td>\n",
              "      <td>Aos 36 anos, . Residia no endereço: Rua Guilhe...</td>\n",
              "      <td>01/04/2023</td>\n",
              "      <td>02/04/2023 às 09:00 - Cemitério Municipal de A...</td>\n",
              "    </tr>\n",
              "    <tr>\n",
              "      <th>237</th>\n",
              "      <td>Pedro Aparecido Bernardo da Silva</td>\n",
              "      <td>Aos 36 anos, . Residia no endereço: Rua Guilhe...</td>\n",
              "      <td>01/04/2023</td>\n",
              "      <td>02/04/2023 às 09:00 - Cemitério Municipal de A...</td>\n",
              "    </tr>\n",
              "  </tbody>\n",
              "</table>\n",
              "</div>\n",
              "      <button class=\"colab-df-convert\" onclick=\"convertToInteractive('df-6681ee48-5291-4777-a944-5fc988a5879a')\"\n",
              "              title=\"Convert this dataframe to an interactive table.\"\n",
              "              style=\"display:none;\">\n",
              "        \n",
              "  <svg xmlns=\"http://www.w3.org/2000/svg\" height=\"24px\"viewBox=\"0 0 24 24\"\n",
              "       width=\"24px\">\n",
              "    <path d=\"M0 0h24v24H0V0z\" fill=\"none\"/>\n",
              "    <path d=\"M18.56 5.44l.94 2.06.94-2.06 2.06-.94-2.06-.94-.94-2.06-.94 2.06-2.06.94zm-11 1L8.5 8.5l.94-2.06 2.06-.94-2.06-.94L8.5 2.5l-.94 2.06-2.06.94zm10 10l.94 2.06.94-2.06 2.06-.94-2.06-.94-.94-2.06-.94 2.06-2.06.94z\"/><path d=\"M17.41 7.96l-1.37-1.37c-.4-.4-.92-.59-1.43-.59-.52 0-1.04.2-1.43.59L10.3 9.45l-7.72 7.72c-.78.78-.78 2.05 0 2.83L4 21.41c.39.39.9.59 1.41.59.51 0 1.02-.2 1.41-.59l7.78-7.78 2.81-2.81c.8-.78.8-2.07 0-2.86zM5.41 20L4 18.59l7.72-7.72 1.47 1.35L5.41 20z\"/>\n",
              "  </svg>\n",
              "      </button>\n",
              "      \n",
              "  <style>\n",
              "    .colab-df-container {\n",
              "      display:flex;\n",
              "      flex-wrap:wrap;\n",
              "      gap: 12px;\n",
              "    }\n",
              "\n",
              "    .colab-df-convert {\n",
              "      background-color: #E8F0FE;\n",
              "      border: none;\n",
              "      border-radius: 50%;\n",
              "      cursor: pointer;\n",
              "      display: none;\n",
              "      fill: #1967D2;\n",
              "      height: 32px;\n",
              "      padding: 0 0 0 0;\n",
              "      width: 32px;\n",
              "    }\n",
              "\n",
              "    .colab-df-convert:hover {\n",
              "      background-color: #E2EBFA;\n",
              "      box-shadow: 0px 1px 2px rgba(60, 64, 67, 0.3), 0px 1px 3px 1px rgba(60, 64, 67, 0.15);\n",
              "      fill: #174EA6;\n",
              "    }\n",
              "\n",
              "    [theme=dark] .colab-df-convert {\n",
              "      background-color: #3B4455;\n",
              "      fill: #D2E3FC;\n",
              "    }\n",
              "\n",
              "    [theme=dark] .colab-df-convert:hover {\n",
              "      background-color: #434B5C;\n",
              "      box-shadow: 0px 1px 3px 1px rgba(0, 0, 0, 0.15);\n",
              "      filter: drop-shadow(0px 1px 2px rgba(0, 0, 0, 0.3));\n",
              "      fill: #FFFFFF;\n",
              "    }\n",
              "  </style>\n",
              "\n",
              "      <script>\n",
              "        const buttonEl =\n",
              "          document.querySelector('#df-6681ee48-5291-4777-a944-5fc988a5879a button.colab-df-convert');\n",
              "        buttonEl.style.display =\n",
              "          google.colab.kernel.accessAllowed ? 'block' : 'none';\n",
              "\n",
              "        async function convertToInteractive(key) {\n",
              "          const element = document.querySelector('#df-6681ee48-5291-4777-a944-5fc988a5879a');\n",
              "          const dataTable =\n",
              "            await google.colab.kernel.invokeFunction('convertToInteractive',\n",
              "                                                     [key], {});\n",
              "          if (!dataTable) return;\n",
              "\n",
              "          const docLinkHtml = 'Like what you see? Visit the ' +\n",
              "            '<a target=\"_blank\" href=https://colab.research.google.com/notebooks/data_table.ipynb>data table notebook</a>'\n",
              "            + ' to learn more about interactive tables.';\n",
              "          element.innerHTML = '';\n",
              "          dataTable['output_type'] = 'display_data';\n",
              "          await google.colab.output.renderOutput(dataTable, element);\n",
              "          const docLink = document.createElement('div');\n",
              "          docLink.innerHTML = docLinkHtml;\n",
              "          element.appendChild(docLink);\n",
              "        }\n",
              "      </script>\n",
              "    </div>\n",
              "  </div>\n",
              "  "
            ]
          },
          "metadata": {},
          "execution_count": 376
        }
      ]
    },
    {
      "cell_type": "markdown",
      "source": [
        "<p> Como podemos ver temos alguns valores duplicados, o próximo passo é remove-los </p>"
      ],
      "metadata": {
        "id": "Aolt7BKJJBdx"
      }
    },
    {
      "cell_type": "code",
      "source": [
        "df.drop_duplicates([\"Nome\", \"Idade\"], inplace=True)"
      ],
      "metadata": {
        "id": "7IL9VwV4H8D_"
      },
      "execution_count": null,
      "outputs": []
    },
    {
      "cell_type": "code",
      "source": [
        "df.count()"
      ],
      "metadata": {
        "colab": {
          "base_uri": "https://localhost:8080/"
        },
        "id": "-73SGNoiJdfI",
        "outputId": "d140ad75-3ce8-4141-9277-2de1852ed7a3"
      },
      "execution_count": null,
      "outputs": [
        {
          "output_type": "execute_result",
          "data": {
            "text/plain": [
              "Nome       10047\n",
              "Idade      10047\n",
              "DataFal    10047\n",
              "DataSep    10047\n",
              "dtype: int64"
            ]
          },
          "metadata": {},
          "execution_count": 378
        }
      ]
    },
    {
      "cell_type": "code",
      "source": [
        "df.head()"
      ],
      "metadata": {
        "colab": {
          "base_uri": "https://localhost:8080/"
        },
        "id": "6CH3kdyVl48i",
        "outputId": "cb4c2191-e563-4cbe-cb33-1ab7a40a103c"
      },
      "execution_count": null,
      "outputs": [
        {
          "output_type": "execute_result",
          "data": {
            "text/plain": [
              "                             Nome  \\\n",
              "0         Gilson de Jesus Tavares   \n",
              "1  Luzia de Lourdes Silveira Dias   \n",
              "2  Luci Terezinha Martim De Paula   \n",
              "3               Valter Sorrantino   \n",
              "4       Antonio Vieira dos Santos   \n",
              "\n",
              "                                               Idade     DataFal  \\\n",
              "0  Aos 40 anos, Casado. Residia no endereço: Rua:...  31/01/2012   \n",
              "1  Aos 66 anos, Viúva. Residia no endereço: Rua -...  31/01/2012   \n",
              "2  Aos 53 anos, Casada. Residia no endereço: Rua ...  30/01/2012   \n",
              "3  Aos 47 anos, Casado. Residia no endereço: Rua ...  30/01/2012   \n",
              "4  Aos 55 anos, Solteiro. Residia no endereço: Ru...  30/01/2012   \n",
              "\n",
              "                                             DataSep  \n",
              "0  31/01/2012 às  - Cemitério Municipal: Sepultam...  \n",
              "1  01/02/2012 às  - Cemitério Municipal - Sepulta...  \n",
              "2  30/01/2012 às  - Cemitério Municipal - Sepulta...  \n",
              "3  31/01/2012 às  - Cemitério Municipal - Sepulta...  \n",
              "4  31/01/2012 às  - Cemitério Municipal: Sepultam...  "
            ],
            "text/html": [
              "\n",
              "  <div id=\"df-b68ef9de-9cbc-4d7c-85c1-f270b8b293a9\">\n",
              "    <div class=\"colab-df-container\">\n",
              "      <div>\n",
              "<style scoped>\n",
              "    .dataframe tbody tr th:only-of-type {\n",
              "        vertical-align: middle;\n",
              "    }\n",
              "\n",
              "    .dataframe tbody tr th {\n",
              "        vertical-align: top;\n",
              "    }\n",
              "\n",
              "    .dataframe thead th {\n",
              "        text-align: right;\n",
              "    }\n",
              "</style>\n",
              "<table border=\"1\" class=\"dataframe\">\n",
              "  <thead>\n",
              "    <tr style=\"text-align: right;\">\n",
              "      <th></th>\n",
              "      <th>Nome</th>\n",
              "      <th>Idade</th>\n",
              "      <th>DataFal</th>\n",
              "      <th>DataSep</th>\n",
              "    </tr>\n",
              "  </thead>\n",
              "  <tbody>\n",
              "    <tr>\n",
              "      <th>0</th>\n",
              "      <td>Gilson de Jesus Tavares</td>\n",
              "      <td>Aos 40 anos, Casado. Residia no endereço: Rua:...</td>\n",
              "      <td>31/01/2012</td>\n",
              "      <td>31/01/2012 às  - Cemitério Municipal: Sepultam...</td>\n",
              "    </tr>\n",
              "    <tr>\n",
              "      <th>1</th>\n",
              "      <td>Luzia de Lourdes Silveira Dias</td>\n",
              "      <td>Aos 66 anos, Viúva. Residia no endereço: Rua -...</td>\n",
              "      <td>31/01/2012</td>\n",
              "      <td>01/02/2012 às  - Cemitério Municipal - Sepulta...</td>\n",
              "    </tr>\n",
              "    <tr>\n",
              "      <th>2</th>\n",
              "      <td>Luci Terezinha Martim De Paula</td>\n",
              "      <td>Aos 53 anos, Casada. Residia no endereço: Rua ...</td>\n",
              "      <td>30/01/2012</td>\n",
              "      <td>30/01/2012 às  - Cemitério Municipal - Sepulta...</td>\n",
              "    </tr>\n",
              "    <tr>\n",
              "      <th>3</th>\n",
              "      <td>Valter Sorrantino</td>\n",
              "      <td>Aos 47 anos, Casado. Residia no endereço: Rua ...</td>\n",
              "      <td>30/01/2012</td>\n",
              "      <td>31/01/2012 às  - Cemitério Municipal - Sepulta...</td>\n",
              "    </tr>\n",
              "    <tr>\n",
              "      <th>4</th>\n",
              "      <td>Antonio Vieira dos Santos</td>\n",
              "      <td>Aos 55 anos, Solteiro. Residia no endereço: Ru...</td>\n",
              "      <td>30/01/2012</td>\n",
              "      <td>31/01/2012 às  - Cemitério Municipal: Sepultam...</td>\n",
              "    </tr>\n",
              "  </tbody>\n",
              "</table>\n",
              "</div>\n",
              "      <button class=\"colab-df-convert\" onclick=\"convertToInteractive('df-b68ef9de-9cbc-4d7c-85c1-f270b8b293a9')\"\n",
              "              title=\"Convert this dataframe to an interactive table.\"\n",
              "              style=\"display:none;\">\n",
              "        \n",
              "  <svg xmlns=\"http://www.w3.org/2000/svg\" height=\"24px\"viewBox=\"0 0 24 24\"\n",
              "       width=\"24px\">\n",
              "    <path d=\"M0 0h24v24H0V0z\" fill=\"none\"/>\n",
              "    <path d=\"M18.56 5.44l.94 2.06.94-2.06 2.06-.94-2.06-.94-.94-2.06-.94 2.06-2.06.94zm-11 1L8.5 8.5l.94-2.06 2.06-.94-2.06-.94L8.5 2.5l-.94 2.06-2.06.94zm10 10l.94 2.06.94-2.06 2.06-.94-2.06-.94-.94-2.06-.94 2.06-2.06.94z\"/><path d=\"M17.41 7.96l-1.37-1.37c-.4-.4-.92-.59-1.43-.59-.52 0-1.04.2-1.43.59L10.3 9.45l-7.72 7.72c-.78.78-.78 2.05 0 2.83L4 21.41c.39.39.9.59 1.41.59.51 0 1.02-.2 1.41-.59l7.78-7.78 2.81-2.81c.8-.78.8-2.07 0-2.86zM5.41 20L4 18.59l7.72-7.72 1.47 1.35L5.41 20z\"/>\n",
              "  </svg>\n",
              "      </button>\n",
              "      \n",
              "  <style>\n",
              "    .colab-df-container {\n",
              "      display:flex;\n",
              "      flex-wrap:wrap;\n",
              "      gap: 12px;\n",
              "    }\n",
              "\n",
              "    .colab-df-convert {\n",
              "      background-color: #E8F0FE;\n",
              "      border: none;\n",
              "      border-radius: 50%;\n",
              "      cursor: pointer;\n",
              "      display: none;\n",
              "      fill: #1967D2;\n",
              "      height: 32px;\n",
              "      padding: 0 0 0 0;\n",
              "      width: 32px;\n",
              "    }\n",
              "\n",
              "    .colab-df-convert:hover {\n",
              "      background-color: #E2EBFA;\n",
              "      box-shadow: 0px 1px 2px rgba(60, 64, 67, 0.3), 0px 1px 3px 1px rgba(60, 64, 67, 0.15);\n",
              "      fill: #174EA6;\n",
              "    }\n",
              "\n",
              "    [theme=dark] .colab-df-convert {\n",
              "      background-color: #3B4455;\n",
              "      fill: #D2E3FC;\n",
              "    }\n",
              "\n",
              "    [theme=dark] .colab-df-convert:hover {\n",
              "      background-color: #434B5C;\n",
              "      box-shadow: 0px 1px 3px 1px rgba(0, 0, 0, 0.15);\n",
              "      filter: drop-shadow(0px 1px 2px rgba(0, 0, 0, 0.3));\n",
              "      fill: #FFFFFF;\n",
              "    }\n",
              "  </style>\n",
              "\n",
              "      <script>\n",
              "        const buttonEl =\n",
              "          document.querySelector('#df-b68ef9de-9cbc-4d7c-85c1-f270b8b293a9 button.colab-df-convert');\n",
              "        buttonEl.style.display =\n",
              "          google.colab.kernel.accessAllowed ? 'block' : 'none';\n",
              "\n",
              "        async function convertToInteractive(key) {\n",
              "          const element = document.querySelector('#df-b68ef9de-9cbc-4d7c-85c1-f270b8b293a9');\n",
              "          const dataTable =\n",
              "            await google.colab.kernel.invokeFunction('convertToInteractive',\n",
              "                                                     [key], {});\n",
              "          if (!dataTable) return;\n",
              "\n",
              "          const docLinkHtml = 'Like what you see? Visit the ' +\n",
              "            '<a target=\"_blank\" href=https://colab.research.google.com/notebooks/data_table.ipynb>data table notebook</a>'\n",
              "            + ' to learn more about interactive tables.';\n",
              "          element.innerHTML = '';\n",
              "          dataTable['output_type'] = 'display_data';\n",
              "          await google.colab.output.renderOutput(dataTable, element);\n",
              "          const docLink = document.createElement('div');\n",
              "          docLink.innerHTML = docLinkHtml;\n",
              "          element.appendChild(docLink);\n",
              "        }\n",
              "      </script>\n",
              "    </div>\n",
              "  </div>\n",
              "  "
            ]
          },
          "metadata": {},
          "execution_count": 379
        }
      ]
    },
    {
      "cell_type": "markdown",
      "source": [
        "<h1> <b>Task 2:</b> Tratar os dados para que se tornem informações</h1>"
      ],
      "metadata": {
        "id": "XSJzZAA767p0"
      }
    },
    {
      "cell_type": "code",
      "source": [
        "pd.set_option(\"display.max_rows\", None)"
      ],
      "metadata": {
        "id": "dN5b-36D8An6"
      },
      "execution_count": null,
      "outputs": []
    },
    {
      "cell_type": "code",
      "source": [
        "# Criando novas colunas para desmembrar os dados\n",
        "df[\"Local\"] = df[\"DataSep\"].apply(lambda x: x[10::])\n",
        "df[\"DataSep\"] = df[\"DataSep\"].apply(lambda x: x[0: 11])\n",
        "df[\"Idade\"] = df[\"Idade\"].apply(lambda x: x[3:7])\n",
        "df.head()"
      ],
      "metadata": {
        "colab": {
          "base_uri": "https://localhost:8080/"
        },
        "id": "_BgEV6Cm9mzE",
        "outputId": "f298dac6-b4e0-4c85-9fab-cab3953c0856"
      },
      "execution_count": null,
      "outputs": [
        {
          "output_type": "execute_result",
          "data": {
            "text/plain": [
              "                             Nome Idade     DataFal      DataSep  \\\n",
              "0         Gilson de Jesus Tavares   40   31/01/2012  31/01/2012    \n",
              "1  Luzia de Lourdes Silveira Dias   66   31/01/2012  01/02/2012    \n",
              "2  Luci Terezinha Martim De Paula   53   30/01/2012  30/01/2012    \n",
              "3               Valter Sorrantino   47   30/01/2012  31/01/2012    \n",
              "4       Antonio Vieira dos Santos   55   30/01/2012  31/01/2012    \n",
              "\n",
              "                                               Local  \n",
              "0   às  - Cemitério Municipal: Sepultamento as 10...  \n",
              "1   às  - Cemitério Municipal - Sepultamento ás 0...  \n",
              "2   às  - Cemitério Municipal - Sepultamento ás 1...  \n",
              "3   às  - Cemitério Municipal - Sepultamento ás 0...  \n",
              "4   às  - Cemitério Municipal: Sepultamento as 10...  "
            ],
            "text/html": [
              "\n",
              "  <div id=\"df-45b5e110-a41d-4d66-a639-4ba88e119e9b\">\n",
              "    <div class=\"colab-df-container\">\n",
              "      <div>\n",
              "<style scoped>\n",
              "    .dataframe tbody tr th:only-of-type {\n",
              "        vertical-align: middle;\n",
              "    }\n",
              "\n",
              "    .dataframe tbody tr th {\n",
              "        vertical-align: top;\n",
              "    }\n",
              "\n",
              "    .dataframe thead th {\n",
              "        text-align: right;\n",
              "    }\n",
              "</style>\n",
              "<table border=\"1\" class=\"dataframe\">\n",
              "  <thead>\n",
              "    <tr style=\"text-align: right;\">\n",
              "      <th></th>\n",
              "      <th>Nome</th>\n",
              "      <th>Idade</th>\n",
              "      <th>DataFal</th>\n",
              "      <th>DataSep</th>\n",
              "      <th>Local</th>\n",
              "    </tr>\n",
              "  </thead>\n",
              "  <tbody>\n",
              "    <tr>\n",
              "      <th>0</th>\n",
              "      <td>Gilson de Jesus Tavares</td>\n",
              "      <td>40</td>\n",
              "      <td>31/01/2012</td>\n",
              "      <td>31/01/2012</td>\n",
              "      <td>às  - Cemitério Municipal: Sepultamento as 10...</td>\n",
              "    </tr>\n",
              "    <tr>\n",
              "      <th>1</th>\n",
              "      <td>Luzia de Lourdes Silveira Dias</td>\n",
              "      <td>66</td>\n",
              "      <td>31/01/2012</td>\n",
              "      <td>01/02/2012</td>\n",
              "      <td>às  - Cemitério Municipal - Sepultamento ás 0...</td>\n",
              "    </tr>\n",
              "    <tr>\n",
              "      <th>2</th>\n",
              "      <td>Luci Terezinha Martim De Paula</td>\n",
              "      <td>53</td>\n",
              "      <td>30/01/2012</td>\n",
              "      <td>30/01/2012</td>\n",
              "      <td>às  - Cemitério Municipal - Sepultamento ás 1...</td>\n",
              "    </tr>\n",
              "    <tr>\n",
              "      <th>3</th>\n",
              "      <td>Valter Sorrantino</td>\n",
              "      <td>47</td>\n",
              "      <td>30/01/2012</td>\n",
              "      <td>31/01/2012</td>\n",
              "      <td>às  - Cemitério Municipal - Sepultamento ás 0...</td>\n",
              "    </tr>\n",
              "    <tr>\n",
              "      <th>4</th>\n",
              "      <td>Antonio Vieira dos Santos</td>\n",
              "      <td>55</td>\n",
              "      <td>30/01/2012</td>\n",
              "      <td>31/01/2012</td>\n",
              "      <td>às  - Cemitério Municipal: Sepultamento as 10...</td>\n",
              "    </tr>\n",
              "  </tbody>\n",
              "</table>\n",
              "</div>\n",
              "      <button class=\"colab-df-convert\" onclick=\"convertToInteractive('df-45b5e110-a41d-4d66-a639-4ba88e119e9b')\"\n",
              "              title=\"Convert this dataframe to an interactive table.\"\n",
              "              style=\"display:none;\">\n",
              "        \n",
              "  <svg xmlns=\"http://www.w3.org/2000/svg\" height=\"24px\"viewBox=\"0 0 24 24\"\n",
              "       width=\"24px\">\n",
              "    <path d=\"M0 0h24v24H0V0z\" fill=\"none\"/>\n",
              "    <path d=\"M18.56 5.44l.94 2.06.94-2.06 2.06-.94-2.06-.94-.94-2.06-.94 2.06-2.06.94zm-11 1L8.5 8.5l.94-2.06 2.06-.94-2.06-.94L8.5 2.5l-.94 2.06-2.06.94zm10 10l.94 2.06.94-2.06 2.06-.94-2.06-.94-.94-2.06-.94 2.06-2.06.94z\"/><path d=\"M17.41 7.96l-1.37-1.37c-.4-.4-.92-.59-1.43-.59-.52 0-1.04.2-1.43.59L10.3 9.45l-7.72 7.72c-.78.78-.78 2.05 0 2.83L4 21.41c.39.39.9.59 1.41.59.51 0 1.02-.2 1.41-.59l7.78-7.78 2.81-2.81c.8-.78.8-2.07 0-2.86zM5.41 20L4 18.59l7.72-7.72 1.47 1.35L5.41 20z\"/>\n",
              "  </svg>\n",
              "      </button>\n",
              "      \n",
              "  <style>\n",
              "    .colab-df-container {\n",
              "      display:flex;\n",
              "      flex-wrap:wrap;\n",
              "      gap: 12px;\n",
              "    }\n",
              "\n",
              "    .colab-df-convert {\n",
              "      background-color: #E8F0FE;\n",
              "      border: none;\n",
              "      border-radius: 50%;\n",
              "      cursor: pointer;\n",
              "      display: none;\n",
              "      fill: #1967D2;\n",
              "      height: 32px;\n",
              "      padding: 0 0 0 0;\n",
              "      width: 32px;\n",
              "    }\n",
              "\n",
              "    .colab-df-convert:hover {\n",
              "      background-color: #E2EBFA;\n",
              "      box-shadow: 0px 1px 2px rgba(60, 64, 67, 0.3), 0px 1px 3px 1px rgba(60, 64, 67, 0.15);\n",
              "      fill: #174EA6;\n",
              "    }\n",
              "\n",
              "    [theme=dark] .colab-df-convert {\n",
              "      background-color: #3B4455;\n",
              "      fill: #D2E3FC;\n",
              "    }\n",
              "\n",
              "    [theme=dark] .colab-df-convert:hover {\n",
              "      background-color: #434B5C;\n",
              "      box-shadow: 0px 1px 3px 1px rgba(0, 0, 0, 0.15);\n",
              "      filter: drop-shadow(0px 1px 2px rgba(0, 0, 0, 0.3));\n",
              "      fill: #FFFFFF;\n",
              "    }\n",
              "  </style>\n",
              "\n",
              "      <script>\n",
              "        const buttonEl =\n",
              "          document.querySelector('#df-45b5e110-a41d-4d66-a639-4ba88e119e9b button.colab-df-convert');\n",
              "        buttonEl.style.display =\n",
              "          google.colab.kernel.accessAllowed ? 'block' : 'none';\n",
              "\n",
              "        async function convertToInteractive(key) {\n",
              "          const element = document.querySelector('#df-45b5e110-a41d-4d66-a639-4ba88e119e9b');\n",
              "          const dataTable =\n",
              "            await google.colab.kernel.invokeFunction('convertToInteractive',\n",
              "                                                     [key], {});\n",
              "          if (!dataTable) return;\n",
              "\n",
              "          const docLinkHtml = 'Like what you see? Visit the ' +\n",
              "            '<a target=\"_blank\" href=https://colab.research.google.com/notebooks/data_table.ipynb>data table notebook</a>'\n",
              "            + ' to learn more about interactive tables.';\n",
              "          element.innerHTML = '';\n",
              "          dataTable['output_type'] = 'display_data';\n",
              "          await google.colab.output.renderOutput(dataTable, element);\n",
              "          const docLink = document.createElement('div');\n",
              "          docLink.innerHTML = docLinkHtml;\n",
              "          element.appendChild(docLink);\n",
              "        }\n",
              "      </script>\n",
              "    </div>\n",
              "  </div>\n",
              "  "
            ]
          },
          "metadata": {},
          "execution_count": 381
        }
      ]
    },
    {
      "cell_type": "code",
      "source": [
        "df[\"Idade\"] = df[\"Idade\"].str.strip()"
      ],
      "metadata": {
        "id": "ym-Jkk7fn4pz"
      },
      "execution_count": null,
      "outputs": []
    },
    {
      "cell_type": "code",
      "source": [
        "df[\"Idade\"].unique()"
      ],
      "metadata": {
        "colab": {
          "base_uri": "https://localhost:8080/"
        },
        "id": "wkDUT-O_mOVa",
        "outputId": "0cb376d7-b062-4612-b0ac-0b574e6463d6"
      },
      "execution_count": null,
      "outputs": [
        {
          "output_type": "execute_result",
          "data": {
            "text/plain": [
              "array(['40', '66', '53', '47', '55', '62', '90', '88', '32', '81', '79',\n",
              "       '24', '34', '76', '82', '80', '89', '49', '31', '73', '78', '65',\n",
              "       '96', '74', '42', '7 a', '94', '57', '60', '68', '41', '50', '48',\n",
              "       '51', '77', '84', '75', '69', '39', '44', '56', '46', '64', '92',\n",
              "       '21', '52', '43', '72', '59', '58', '67', '54', '61', '87', '63',\n",
              "       '85', '93', '95', '45', '91', '83', '86', '97', '70', '29', '71',\n",
              "       '26', '3 a', '33', '35', '36', '27', '22', '19', '38', '28', '37',\n",
              "       '101', '23', '18', '103', '98', '102', '16', '100', '20', '25',\n",
              "       '99', '0 a', '14', '17', '12', '105', '30', '104', '4 a', '13',\n",
              "       '2 a', '15', '8 a', '6 a', '9 a', '5 a', '107', '11', '106'],\n",
              "      dtype=object)"
            ]
          },
          "metadata": {},
          "execution_count": 383
        }
      ]
    },
    {
      "cell_type": "markdown",
      "source": [
        "<p> Existem alguns valores com strings como <b>5 a</b> isso será um problema na análise final e precisa ser resolvido. </p>"
      ],
      "metadata": {
        "id": "8vF2W2_8LQ8I"
      }
    },
    {
      "cell_type": "code",
      "source": [
        "# Substituindo valores \"_ a\" por números\n",
        "for c in range(0, 10):\n",
        "  df[\"Idade\"] = df[\"Idade\"].str.replace(f\"{c} a\", f\"{c}\")"
      ],
      "metadata": {
        "id": "R8E25OCkLi0y"
      },
      "execution_count": null,
      "outputs": []
    },
    {
      "cell_type": "code",
      "source": [
        "df[\"Idade\"].unique()"
      ],
      "metadata": {
        "colab": {
          "base_uri": "https://localhost:8080/"
        },
        "id": "mb2IUe6aLnkp",
        "outputId": "f4c00f4c-6e2e-4f37-85e0-6e65f9abca18"
      },
      "execution_count": null,
      "outputs": [
        {
          "output_type": "execute_result",
          "data": {
            "text/plain": [
              "array(['40', '66', '53', '47', '55', '62', '90', '88', '32', '81', '79',\n",
              "       '24', '34', '76', '82', '80', '89', '49', '31', '73', '78', '65',\n",
              "       '96', '74', '42', '7', '94', '57', '60', '68', '41', '50', '48',\n",
              "       '51', '77', '84', '75', '69', '39', '44', '56', '46', '64', '92',\n",
              "       '21', '52', '43', '72', '59', '58', '67', '54', '61', '87', '63',\n",
              "       '85', '93', '95', '45', '91', '83', '86', '97', '70', '29', '71',\n",
              "       '26', '3', '33', '35', '36', '27', '22', '19', '38', '28', '37',\n",
              "       '101', '23', '18', '103', '98', '102', '16', '100', '20', '25',\n",
              "       '99', '0', '14', '17', '12', '105', '30', '104', '4', '13', '2',\n",
              "       '15', '8', '6', '9', '5', '107', '11', '106'], dtype=object)"
            ]
          },
          "metadata": {},
          "execution_count": 385
        }
      ]
    },
    {
      "cell_type": "markdown",
      "source": [
        "<h1> <b>Task 3:</b> Tratar as colunas de datas e converte-las para o tipo primitivo correto.</b></h1>"
      ],
      "metadata": {
        "id": "nnf9kq42L3ZW"
      }
    },
    {
      "cell_type": "code",
      "source": [
        "df[\"DataFal\"] = df[\"DataFal\"].str.replace(\"/\", \"-\")\n",
        "df[\"DataSep\"] = df[\"DataSep\"].str.replace(\"/\", \"-\")"
      ],
      "metadata": {
        "id": "NDW1Qzw1m_lJ"
      },
      "execution_count": null,
      "outputs": []
    },
    {
      "cell_type": "markdown",
      "source": [
        "<p> Verificando se existem valores estranhos em relação ao ano.</p>"
      ],
      "metadata": {
        "id": "FwL5wvPXL1gA"
      }
    },
    {
      "cell_type": "code",
      "source": [
        "# Verificando valores unicos em relação à data de sepultamento\n",
        "df[\"DataSep\"].apply(lambda x: x[6::]).unique()"
      ],
      "metadata": {
        "colab": {
          "base_uri": "https://localhost:8080/"
        },
        "id": "Dp_5bc7yo39H",
        "outputId": "0777e5fb-6a3c-4ea2-919a-7a3dfa08fe01"
      },
      "execution_count": null,
      "outputs": [
        {
          "output_type": "execute_result",
          "data": {
            "text/plain": [
              "array(['2012 ', '2011 ', '2023 ', '2013 ', '2014 ', '0123 ', '2015 ',\n",
              "       '2016 ', '2000 ', '2017 ', '2018 ', '2019 ', '2020 ', '2021 ',\n",
              "       '2022 ', '2200 '], dtype=object)"
            ]
          },
          "metadata": {},
          "execution_count": 387
        }
      ]
    },
    {
      "cell_type": "markdown",
      "source": [
        "<p> Foi observado que existem valores numéricos porém que não correspondem à uma data como por exemplo <b>\"0123, 2000, 2200\"</b>, será necessário verificar à que ano esses valores estão relacionados. </p>"
      ],
      "metadata": {
        "id": "feD45EP4o85E"
      }
    },
    {
      "cell_type": "code",
      "source": [
        "df.loc[df[\"DataSep\"].str.contains(\"2000 \")] #2000 = 2016\n",
        "df.loc[df[\"DataSep\"].str.contains(\"2200 \")] #2200 = 2022\n",
        "df.loc[df[\"DataSep\"].str.contains(\"0123 \")] #0123 = 2014"
      ],
      "metadata": {
        "colab": {
          "base_uri": "https://localhost:8080/"
        },
        "id": "ygLJ1BL1oNnE",
        "outputId": "71edf506-8047-4bcd-dfc3-f86e167cf5dc"
      },
      "execution_count": null,
      "outputs": [
        {
          "output_type": "execute_result",
          "data": {
            "text/plain": [
              "                      Nome Idade     DataFal      DataSep  \\\n",
              "1831  Anna Gonçalves félix    79  12-03-2014  13-03-0123    \n",
              "\n",
              "                                 Local  \n",
              "1831   às 10:00 - Cemitério Municipal.  "
            ],
            "text/html": [
              "\n",
              "  <div id=\"df-6f21caa4-5317-4eb4-b233-0560ccf78b1a\">\n",
              "    <div class=\"colab-df-container\">\n",
              "      <div>\n",
              "<style scoped>\n",
              "    .dataframe tbody tr th:only-of-type {\n",
              "        vertical-align: middle;\n",
              "    }\n",
              "\n",
              "    .dataframe tbody tr th {\n",
              "        vertical-align: top;\n",
              "    }\n",
              "\n",
              "    .dataframe thead th {\n",
              "        text-align: right;\n",
              "    }\n",
              "</style>\n",
              "<table border=\"1\" class=\"dataframe\">\n",
              "  <thead>\n",
              "    <tr style=\"text-align: right;\">\n",
              "      <th></th>\n",
              "      <th>Nome</th>\n",
              "      <th>Idade</th>\n",
              "      <th>DataFal</th>\n",
              "      <th>DataSep</th>\n",
              "      <th>Local</th>\n",
              "    </tr>\n",
              "  </thead>\n",
              "  <tbody>\n",
              "    <tr>\n",
              "      <th>1831</th>\n",
              "      <td>Anna Gonçalves félix</td>\n",
              "      <td>79</td>\n",
              "      <td>12-03-2014</td>\n",
              "      <td>13-03-0123</td>\n",
              "      <td>às 10:00 - Cemitério Municipal.</td>\n",
              "    </tr>\n",
              "  </tbody>\n",
              "</table>\n",
              "</div>\n",
              "      <button class=\"colab-df-convert\" onclick=\"convertToInteractive('df-6f21caa4-5317-4eb4-b233-0560ccf78b1a')\"\n",
              "              title=\"Convert this dataframe to an interactive table.\"\n",
              "              style=\"display:none;\">\n",
              "        \n",
              "  <svg xmlns=\"http://www.w3.org/2000/svg\" height=\"24px\"viewBox=\"0 0 24 24\"\n",
              "       width=\"24px\">\n",
              "    <path d=\"M0 0h24v24H0V0z\" fill=\"none\"/>\n",
              "    <path d=\"M18.56 5.44l.94 2.06.94-2.06 2.06-.94-2.06-.94-.94-2.06-.94 2.06-2.06.94zm-11 1L8.5 8.5l.94-2.06 2.06-.94-2.06-.94L8.5 2.5l-.94 2.06-2.06.94zm10 10l.94 2.06.94-2.06 2.06-.94-2.06-.94-.94-2.06-.94 2.06-2.06.94z\"/><path d=\"M17.41 7.96l-1.37-1.37c-.4-.4-.92-.59-1.43-.59-.52 0-1.04.2-1.43.59L10.3 9.45l-7.72 7.72c-.78.78-.78 2.05 0 2.83L4 21.41c.39.39.9.59 1.41.59.51 0 1.02-.2 1.41-.59l7.78-7.78 2.81-2.81c.8-.78.8-2.07 0-2.86zM5.41 20L4 18.59l7.72-7.72 1.47 1.35L5.41 20z\"/>\n",
              "  </svg>\n",
              "      </button>\n",
              "      \n",
              "  <style>\n",
              "    .colab-df-container {\n",
              "      display:flex;\n",
              "      flex-wrap:wrap;\n",
              "      gap: 12px;\n",
              "    }\n",
              "\n",
              "    .colab-df-convert {\n",
              "      background-color: #E8F0FE;\n",
              "      border: none;\n",
              "      border-radius: 50%;\n",
              "      cursor: pointer;\n",
              "      display: none;\n",
              "      fill: #1967D2;\n",
              "      height: 32px;\n",
              "      padding: 0 0 0 0;\n",
              "      width: 32px;\n",
              "    }\n",
              "\n",
              "    .colab-df-convert:hover {\n",
              "      background-color: #E2EBFA;\n",
              "      box-shadow: 0px 1px 2px rgba(60, 64, 67, 0.3), 0px 1px 3px 1px rgba(60, 64, 67, 0.15);\n",
              "      fill: #174EA6;\n",
              "    }\n",
              "\n",
              "    [theme=dark] .colab-df-convert {\n",
              "      background-color: #3B4455;\n",
              "      fill: #D2E3FC;\n",
              "    }\n",
              "\n",
              "    [theme=dark] .colab-df-convert:hover {\n",
              "      background-color: #434B5C;\n",
              "      box-shadow: 0px 1px 3px 1px rgba(0, 0, 0, 0.15);\n",
              "      filter: drop-shadow(0px 1px 2px rgba(0, 0, 0, 0.3));\n",
              "      fill: #FFFFFF;\n",
              "    }\n",
              "  </style>\n",
              "\n",
              "      <script>\n",
              "        const buttonEl =\n",
              "          document.querySelector('#df-6f21caa4-5317-4eb4-b233-0560ccf78b1a button.colab-df-convert');\n",
              "        buttonEl.style.display =\n",
              "          google.colab.kernel.accessAllowed ? 'block' : 'none';\n",
              "\n",
              "        async function convertToInteractive(key) {\n",
              "          const element = document.querySelector('#df-6f21caa4-5317-4eb4-b233-0560ccf78b1a');\n",
              "          const dataTable =\n",
              "            await google.colab.kernel.invokeFunction('convertToInteractive',\n",
              "                                                     [key], {});\n",
              "          if (!dataTable) return;\n",
              "\n",
              "          const docLinkHtml = 'Like what you see? Visit the ' +\n",
              "            '<a target=\"_blank\" href=https://colab.research.google.com/notebooks/data_table.ipynb>data table notebook</a>'\n",
              "            + ' to learn more about interactive tables.';\n",
              "          element.innerHTML = '';\n",
              "          dataTable['output_type'] = 'display_data';\n",
              "          await google.colab.output.renderOutput(dataTable, element);\n",
              "          const docLink = document.createElement('div');\n",
              "          docLink.innerHTML = docLinkHtml;\n",
              "          element.appendChild(docLink);\n",
              "        }\n",
              "      </script>\n",
              "    </div>\n",
              "  </div>\n",
              "  "
            ]
          },
          "metadata": {},
          "execution_count": 388
        }
      ]
    },
    {
      "cell_type": "code",
      "source": [
        "df[\"DataSep\"] = df[\"DataSep\"].str.strip()"
      ],
      "metadata": {
        "id": "a4JoYMiqpbut"
      },
      "execution_count": null,
      "outputs": []
    },
    {
      "cell_type": "markdown",
      "source": [
        "<h3> <b>Substituindo os valores incorretos para o seu devido ano.</b> </h3>"
      ],
      "metadata": {
        "id": "-gEY80CSMdh9"
      }
    },
    {
      "cell_type": "code",
      "source": [
        "df[\"DataSep\"] = df[\"DataSep\"].str.replace(\"2000\", \"2016\")\n",
        "df[\"DataSep\"] = df[\"DataSep\"].str.replace(\"2200\", \"2022\")\n",
        "df[\"DataSep\"] = df[\"DataSep\"].str.replace(\"0123\", \"2014\")"
      ],
      "metadata": {
        "id": "CnZfQj8Zofq6"
      },
      "execution_count": null,
      "outputs": []
    },
    {
      "cell_type": "code",
      "source": [
        "pd.to_datetime(df[\"DataFal\"], format='%d-%m-%Y')\n",
        "pd.to_datetime(df[\"DataSep\"], format='%d-%m-%Y')"
      ],
      "metadata": {
        "id": "ITp1JPRkPKw4"
      },
      "execution_count": null,
      "outputs": []
    },
    {
      "cell_type": "code",
      "source": [
        "df[\"DataSep\"].apply(lambda x: x[6::]).unique()"
      ],
      "metadata": {
        "colab": {
          "base_uri": "https://localhost:8080/"
        },
        "id": "txTVahKipqGy",
        "outputId": "7d14d673-fd4d-46cf-94c6-0729be81a6cb"
      },
      "execution_count": null,
      "outputs": [
        {
          "output_type": "execute_result",
          "data": {
            "text/plain": [
              "array(['2012', '2011', '2023', '2013', '2014', '2015', '2016', '2017',\n",
              "       '2018', '2019', '2020', '2021', '2022'], dtype=object)"
            ]
          },
          "metadata": {},
          "execution_count": 392
        }
      ]
    },
    {
      "cell_type": "markdown",
      "source": [
        "<h1> <b>Task 4:</b> Verificar se há muita diferença entre a contagem de valores para <b>[\"DataFal\"]</b> em relação à <b>[\"DataSep\"].</b> </h>"
      ],
      "metadata": {
        "id": "rJYq7_DQMyTJ"
      }
    },
    {
      "cell_type": "code",
      "source": [
        "# Contagem de valores para \"ano\" da coluna \"DataSep\"\n",
        "sep = df[\"DataSep\"].apply(lambda x: x[6::]).value_counts()"
      ],
      "metadata": {
        "id": "Rn44iTtiqO8b"
      },
      "execution_count": null,
      "outputs": []
    },
    {
      "cell_type": "code",
      "source": [
        "# Contagem de valores para \"ano\" da coluna \"DataFal\"\n",
        "fal = df[\"DataFal\"].apply(lambda x: x[6::]).value_counts()"
      ],
      "metadata": {
        "id": "N85sb5wEqTGZ"
      },
      "execution_count": null,
      "outputs": []
    },
    {
      "cell_type": "markdown",
      "source": [
        "<p> Na coluna <b>[\"DataFal\"]</b> existe um valor de <i>2011</i>, pois a pessoa faleceu no ultimo dia do ano e foi sepultada no primeiro dia do ano seguinte, porém se mantermos esse valor vamos ter problemas, pois para criar um DataFrame é necessário que todas as colunas tenham o mesmo tamanho, então nesse caso como é apenas um valor vamos simplesmete remove-lo.</p>"
      ],
      "metadata": {
        "id": "JeWDO-2SNbBt"
      }
    },
    {
      "cell_type": "code",
      "source": [
        "a = pd.Series(sep)\n",
        "b = pd.Series(fal)\n",
        "\n",
        "# Removendo o valor de 2011\n",
        "a = a.drop(index=\"2011\")"
      ],
      "metadata": {
        "id": "kUn_JaFtqeS9"
      },
      "execution_count": null,
      "outputs": []
    },
    {
      "cell_type": "code",
      "source": [
        "# Criando um dicionário para armazenar as informações de cada ano em relação à\n",
        "# data de falecimento/sepultamento\n",
        "data_dict = {\"sep\": a,\n",
        "             \"fal\": b}\n",
        "\n",
        "# Criando um DataFrame para melhor visualização             \n",
        "result = pd.DataFrame(data_dict)\n",
        "result[\"Diferença\"] = result[\"fal\"] - result[\"sep\"]\n",
        "result"
      ],
      "metadata": {
        "colab": {
          "base_uri": "https://localhost:8080/"
        },
        "id": "w7S1zQmbsr54",
        "outputId": "830870e7-0d3f-4da5-e270-2d6e7e9fef12"
      },
      "execution_count": null,
      "outputs": [
        {
          "output_type": "execute_result",
          "data": {
            "text/plain": [
              "       sep   fal  Diferença\n",
              "2021  1137  1132         -5\n",
              "2022  1062  1066          4\n",
              "2020   909   910          1\n",
              "2017   882   884          2\n",
              "2019   869   871          2\n",
              "2015   852   849         -3\n",
              "2018   850   849         -1\n",
              "2012   836   836          0\n",
              "2014   817   820          3\n",
              "2013   803   804          1\n",
              "2016   788   788          0\n",
              "2023   241   238         -3"
            ],
            "text/html": [
              "\n",
              "  <div id=\"df-a14e9c8b-9bf1-43cd-9abd-b0128bc10e49\">\n",
              "    <div class=\"colab-df-container\">\n",
              "      <div>\n",
              "<style scoped>\n",
              "    .dataframe tbody tr th:only-of-type {\n",
              "        vertical-align: middle;\n",
              "    }\n",
              "\n",
              "    .dataframe tbody tr th {\n",
              "        vertical-align: top;\n",
              "    }\n",
              "\n",
              "    .dataframe thead th {\n",
              "        text-align: right;\n",
              "    }\n",
              "</style>\n",
              "<table border=\"1\" class=\"dataframe\">\n",
              "  <thead>\n",
              "    <tr style=\"text-align: right;\">\n",
              "      <th></th>\n",
              "      <th>sep</th>\n",
              "      <th>fal</th>\n",
              "      <th>Diferença</th>\n",
              "    </tr>\n",
              "  </thead>\n",
              "  <tbody>\n",
              "    <tr>\n",
              "      <th>2021</th>\n",
              "      <td>1137</td>\n",
              "      <td>1132</td>\n",
              "      <td>-5</td>\n",
              "    </tr>\n",
              "    <tr>\n",
              "      <th>2022</th>\n",
              "      <td>1062</td>\n",
              "      <td>1066</td>\n",
              "      <td>4</td>\n",
              "    </tr>\n",
              "    <tr>\n",
              "      <th>2020</th>\n",
              "      <td>909</td>\n",
              "      <td>910</td>\n",
              "      <td>1</td>\n",
              "    </tr>\n",
              "    <tr>\n",
              "      <th>2017</th>\n",
              "      <td>882</td>\n",
              "      <td>884</td>\n",
              "      <td>2</td>\n",
              "    </tr>\n",
              "    <tr>\n",
              "      <th>2019</th>\n",
              "      <td>869</td>\n",
              "      <td>871</td>\n",
              "      <td>2</td>\n",
              "    </tr>\n",
              "    <tr>\n",
              "      <th>2015</th>\n",
              "      <td>852</td>\n",
              "      <td>849</td>\n",
              "      <td>-3</td>\n",
              "    </tr>\n",
              "    <tr>\n",
              "      <th>2018</th>\n",
              "      <td>850</td>\n",
              "      <td>849</td>\n",
              "      <td>-1</td>\n",
              "    </tr>\n",
              "    <tr>\n",
              "      <th>2012</th>\n",
              "      <td>836</td>\n",
              "      <td>836</td>\n",
              "      <td>0</td>\n",
              "    </tr>\n",
              "    <tr>\n",
              "      <th>2014</th>\n",
              "      <td>817</td>\n",
              "      <td>820</td>\n",
              "      <td>3</td>\n",
              "    </tr>\n",
              "    <tr>\n",
              "      <th>2013</th>\n",
              "      <td>803</td>\n",
              "      <td>804</td>\n",
              "      <td>1</td>\n",
              "    </tr>\n",
              "    <tr>\n",
              "      <th>2016</th>\n",
              "      <td>788</td>\n",
              "      <td>788</td>\n",
              "      <td>0</td>\n",
              "    </tr>\n",
              "    <tr>\n",
              "      <th>2023</th>\n",
              "      <td>241</td>\n",
              "      <td>238</td>\n",
              "      <td>-3</td>\n",
              "    </tr>\n",
              "  </tbody>\n",
              "</table>\n",
              "</div>\n",
              "      <button class=\"colab-df-convert\" onclick=\"convertToInteractive('df-a14e9c8b-9bf1-43cd-9abd-b0128bc10e49')\"\n",
              "              title=\"Convert this dataframe to an interactive table.\"\n",
              "              style=\"display:none;\">\n",
              "        \n",
              "  <svg xmlns=\"http://www.w3.org/2000/svg\" height=\"24px\"viewBox=\"0 0 24 24\"\n",
              "       width=\"24px\">\n",
              "    <path d=\"M0 0h24v24H0V0z\" fill=\"none\"/>\n",
              "    <path d=\"M18.56 5.44l.94 2.06.94-2.06 2.06-.94-2.06-.94-.94-2.06-.94 2.06-2.06.94zm-11 1L8.5 8.5l.94-2.06 2.06-.94-2.06-.94L8.5 2.5l-.94 2.06-2.06.94zm10 10l.94 2.06.94-2.06 2.06-.94-2.06-.94-.94-2.06-.94 2.06-2.06.94z\"/><path d=\"M17.41 7.96l-1.37-1.37c-.4-.4-.92-.59-1.43-.59-.52 0-1.04.2-1.43.59L10.3 9.45l-7.72 7.72c-.78.78-.78 2.05 0 2.83L4 21.41c.39.39.9.59 1.41.59.51 0 1.02-.2 1.41-.59l7.78-7.78 2.81-2.81c.8-.78.8-2.07 0-2.86zM5.41 20L4 18.59l7.72-7.72 1.47 1.35L5.41 20z\"/>\n",
              "  </svg>\n",
              "      </button>\n",
              "      \n",
              "  <style>\n",
              "    .colab-df-container {\n",
              "      display:flex;\n",
              "      flex-wrap:wrap;\n",
              "      gap: 12px;\n",
              "    }\n",
              "\n",
              "    .colab-df-convert {\n",
              "      background-color: #E8F0FE;\n",
              "      border: none;\n",
              "      border-radius: 50%;\n",
              "      cursor: pointer;\n",
              "      display: none;\n",
              "      fill: #1967D2;\n",
              "      height: 32px;\n",
              "      padding: 0 0 0 0;\n",
              "      width: 32px;\n",
              "    }\n",
              "\n",
              "    .colab-df-convert:hover {\n",
              "      background-color: #E2EBFA;\n",
              "      box-shadow: 0px 1px 2px rgba(60, 64, 67, 0.3), 0px 1px 3px 1px rgba(60, 64, 67, 0.15);\n",
              "      fill: #174EA6;\n",
              "    }\n",
              "\n",
              "    [theme=dark] .colab-df-convert {\n",
              "      background-color: #3B4455;\n",
              "      fill: #D2E3FC;\n",
              "    }\n",
              "\n",
              "    [theme=dark] .colab-df-convert:hover {\n",
              "      background-color: #434B5C;\n",
              "      box-shadow: 0px 1px 3px 1px rgba(0, 0, 0, 0.15);\n",
              "      filter: drop-shadow(0px 1px 2px rgba(0, 0, 0, 0.3));\n",
              "      fill: #FFFFFF;\n",
              "    }\n",
              "  </style>\n",
              "\n",
              "      <script>\n",
              "        const buttonEl =\n",
              "          document.querySelector('#df-a14e9c8b-9bf1-43cd-9abd-b0128bc10e49 button.colab-df-convert');\n",
              "        buttonEl.style.display =\n",
              "          google.colab.kernel.accessAllowed ? 'block' : 'none';\n",
              "\n",
              "        async function convertToInteractive(key) {\n",
              "          const element = document.querySelector('#df-a14e9c8b-9bf1-43cd-9abd-b0128bc10e49');\n",
              "          const dataTable =\n",
              "            await google.colab.kernel.invokeFunction('convertToInteractive',\n",
              "                                                     [key], {});\n",
              "          if (!dataTable) return;\n",
              "\n",
              "          const docLinkHtml = 'Like what you see? Visit the ' +\n",
              "            '<a target=\"_blank\" href=https://colab.research.google.com/notebooks/data_table.ipynb>data table notebook</a>'\n",
              "            + ' to learn more about interactive tables.';\n",
              "          element.innerHTML = '';\n",
              "          dataTable['output_type'] = 'display_data';\n",
              "          await google.colab.output.renderOutput(dataTable, element);\n",
              "          const docLink = document.createElement('div');\n",
              "          docLink.innerHTML = docLinkHtml;\n",
              "          element.appendChild(docLink);\n",
              "        }\n",
              "      </script>\n",
              "    </div>\n",
              "  </div>\n",
              "  "
            ]
          },
          "metadata": {},
          "execution_count": 396
        }
      ]
    },
    {
      "cell_type": "markdown",
      "source": [
        "<p> Aparentemente os valores estão normais, uma vez que é completamente normal uma pessoa falecer no ultimo dia do ano e ser sepultada no primeiro dia do ano seguinte. </p>"
      ],
      "metadata": {
        "id": "jq_eEEw4QUx2"
      }
    },
    {
      "cell_type": "markdown",
      "source": [
        "<h1> <b>Task 5:</b> Ajustar as informações da coluna <b>[\"Local\"]</b>. </h1>"
      ],
      "metadata": {
        "id": "5YF0MQxNQh3y"
      }
    },
    {
      "cell_type": "code",
      "source": [
        "# Removendo todo e qualquer espaço em branco no inicio ou fim da linha\n",
        "# em seguida estou colocando todos os caracteres em letra minúscula para que não\n",
        "# tenhamos problemas com pAlaVRas eScritAS assim \n",
        "df[\"Local\"] = df[\"Local\"].str.strip().str.lower()"
      ],
      "metadata": {
        "id": "IFFxWKtKqDiu"
      },
      "execution_count": null,
      "outputs": []
    },
    {
      "cell_type": "code",
      "source": [
        "df.head()"
      ],
      "metadata": {
        "colab": {
          "base_uri": "https://localhost:8080/"
        },
        "id": "B4B2w876tN4v",
        "outputId": "a41c8c90-9043-456b-8a3f-491351fd7c65"
      },
      "execution_count": null,
      "outputs": [
        {
          "output_type": "execute_result",
          "data": {
            "text/plain": [
              "                             Nome Idade     DataFal     DataSep  \\\n",
              "0         Gilson de Jesus Tavares    40  31-01-2012  31-01-2012   \n",
              "1  Luzia de Lourdes Silveira Dias    66  31-01-2012  01-02-2012   \n",
              "2  Luci Terezinha Martim De Paula    53  30-01-2012  30-01-2012   \n",
              "3               Valter Sorrantino    47  30-01-2012  31-01-2012   \n",
              "4       Antonio Vieira dos Santos    55  30-01-2012  31-01-2012   \n",
              "\n",
              "                                               Local  \n",
              "0  às  - cemitério municipal: sepultamento as 10:...  \n",
              "1  às  - cemitério municipal - sepultamento ás 09...  \n",
              "2  às  - cemitério municipal - sepultamento ás 15...  \n",
              "3  às  - cemitério municipal - sepultamento ás 08...  \n",
              "4  às  - cemitério municipal: sepultamento as 10:...  "
            ],
            "text/html": [
              "\n",
              "  <div id=\"df-b5056f83-79fa-40f5-a781-0a6c7d242d14\">\n",
              "    <div class=\"colab-df-container\">\n",
              "      <div>\n",
              "<style scoped>\n",
              "    .dataframe tbody tr th:only-of-type {\n",
              "        vertical-align: middle;\n",
              "    }\n",
              "\n",
              "    .dataframe tbody tr th {\n",
              "        vertical-align: top;\n",
              "    }\n",
              "\n",
              "    .dataframe thead th {\n",
              "        text-align: right;\n",
              "    }\n",
              "</style>\n",
              "<table border=\"1\" class=\"dataframe\">\n",
              "  <thead>\n",
              "    <tr style=\"text-align: right;\">\n",
              "      <th></th>\n",
              "      <th>Nome</th>\n",
              "      <th>Idade</th>\n",
              "      <th>DataFal</th>\n",
              "      <th>DataSep</th>\n",
              "      <th>Local</th>\n",
              "    </tr>\n",
              "  </thead>\n",
              "  <tbody>\n",
              "    <tr>\n",
              "      <th>0</th>\n",
              "      <td>Gilson de Jesus Tavares</td>\n",
              "      <td>40</td>\n",
              "      <td>31-01-2012</td>\n",
              "      <td>31-01-2012</td>\n",
              "      <td>às  - cemitério municipal: sepultamento as 10:...</td>\n",
              "    </tr>\n",
              "    <tr>\n",
              "      <th>1</th>\n",
              "      <td>Luzia de Lourdes Silveira Dias</td>\n",
              "      <td>66</td>\n",
              "      <td>31-01-2012</td>\n",
              "      <td>01-02-2012</td>\n",
              "      <td>às  - cemitério municipal - sepultamento ás 09...</td>\n",
              "    </tr>\n",
              "    <tr>\n",
              "      <th>2</th>\n",
              "      <td>Luci Terezinha Martim De Paula</td>\n",
              "      <td>53</td>\n",
              "      <td>30-01-2012</td>\n",
              "      <td>30-01-2012</td>\n",
              "      <td>às  - cemitério municipal - sepultamento ás 15...</td>\n",
              "    </tr>\n",
              "    <tr>\n",
              "      <th>3</th>\n",
              "      <td>Valter Sorrantino</td>\n",
              "      <td>47</td>\n",
              "      <td>30-01-2012</td>\n",
              "      <td>31-01-2012</td>\n",
              "      <td>às  - cemitério municipal - sepultamento ás 08...</td>\n",
              "    </tr>\n",
              "    <tr>\n",
              "      <th>4</th>\n",
              "      <td>Antonio Vieira dos Santos</td>\n",
              "      <td>55</td>\n",
              "      <td>30-01-2012</td>\n",
              "      <td>31-01-2012</td>\n",
              "      <td>às  - cemitério municipal: sepultamento as 10:...</td>\n",
              "    </tr>\n",
              "  </tbody>\n",
              "</table>\n",
              "</div>\n",
              "      <button class=\"colab-df-convert\" onclick=\"convertToInteractive('df-b5056f83-79fa-40f5-a781-0a6c7d242d14')\"\n",
              "              title=\"Convert this dataframe to an interactive table.\"\n",
              "              style=\"display:none;\">\n",
              "        \n",
              "  <svg xmlns=\"http://www.w3.org/2000/svg\" height=\"24px\"viewBox=\"0 0 24 24\"\n",
              "       width=\"24px\">\n",
              "    <path d=\"M0 0h24v24H0V0z\" fill=\"none\"/>\n",
              "    <path d=\"M18.56 5.44l.94 2.06.94-2.06 2.06-.94-2.06-.94-.94-2.06-.94 2.06-2.06.94zm-11 1L8.5 8.5l.94-2.06 2.06-.94-2.06-.94L8.5 2.5l-.94 2.06-2.06.94zm10 10l.94 2.06.94-2.06 2.06-.94-2.06-.94-.94-2.06-.94 2.06-2.06.94z\"/><path d=\"M17.41 7.96l-1.37-1.37c-.4-.4-.92-.59-1.43-.59-.52 0-1.04.2-1.43.59L10.3 9.45l-7.72 7.72c-.78.78-.78 2.05 0 2.83L4 21.41c.39.39.9.59 1.41.59.51 0 1.02-.2 1.41-.59l7.78-7.78 2.81-2.81c.8-.78.8-2.07 0-2.86zM5.41 20L4 18.59l7.72-7.72 1.47 1.35L5.41 20z\"/>\n",
              "  </svg>\n",
              "      </button>\n",
              "      \n",
              "  <style>\n",
              "    .colab-df-container {\n",
              "      display:flex;\n",
              "      flex-wrap:wrap;\n",
              "      gap: 12px;\n",
              "    }\n",
              "\n",
              "    .colab-df-convert {\n",
              "      background-color: #E8F0FE;\n",
              "      border: none;\n",
              "      border-radius: 50%;\n",
              "      cursor: pointer;\n",
              "      display: none;\n",
              "      fill: #1967D2;\n",
              "      height: 32px;\n",
              "      padding: 0 0 0 0;\n",
              "      width: 32px;\n",
              "    }\n",
              "\n",
              "    .colab-df-convert:hover {\n",
              "      background-color: #E2EBFA;\n",
              "      box-shadow: 0px 1px 2px rgba(60, 64, 67, 0.3), 0px 1px 3px 1px rgba(60, 64, 67, 0.15);\n",
              "      fill: #174EA6;\n",
              "    }\n",
              "\n",
              "    [theme=dark] .colab-df-convert {\n",
              "      background-color: #3B4455;\n",
              "      fill: #D2E3FC;\n",
              "    }\n",
              "\n",
              "    [theme=dark] .colab-df-convert:hover {\n",
              "      background-color: #434B5C;\n",
              "      box-shadow: 0px 1px 3px 1px rgba(0, 0, 0, 0.15);\n",
              "      filter: drop-shadow(0px 1px 2px rgba(0, 0, 0, 0.3));\n",
              "      fill: #FFFFFF;\n",
              "    }\n",
              "  </style>\n",
              "\n",
              "      <script>\n",
              "        const buttonEl =\n",
              "          document.querySelector('#df-b5056f83-79fa-40f5-a781-0a6c7d242d14 button.colab-df-convert');\n",
              "        buttonEl.style.display =\n",
              "          google.colab.kernel.accessAllowed ? 'block' : 'none';\n",
              "\n",
              "        async function convertToInteractive(key) {\n",
              "          const element = document.querySelector('#df-b5056f83-79fa-40f5-a781-0a6c7d242d14');\n",
              "          const dataTable =\n",
              "            await google.colab.kernel.invokeFunction('convertToInteractive',\n",
              "                                                     [key], {});\n",
              "          if (!dataTable) return;\n",
              "\n",
              "          const docLinkHtml = 'Like what you see? Visit the ' +\n",
              "            '<a target=\"_blank\" href=https://colab.research.google.com/notebooks/data_table.ipynb>data table notebook</a>'\n",
              "            + ' to learn more about interactive tables.';\n",
              "          element.innerHTML = '';\n",
              "          dataTable['output_type'] = 'display_data';\n",
              "          await google.colab.output.renderOutput(dataTable, element);\n",
              "          const docLink = document.createElement('div');\n",
              "          docLink.innerHTML = docLinkHtml;\n",
              "          element.appendChild(docLink);\n",
              "        }\n",
              "      </script>\n",
              "    </div>\n",
              "  </div>\n",
              "  "
            ]
          },
          "metadata": {},
          "execution_count": 398
        }
      ]
    },
    {
      "cell_type": "markdown",
      "source": [
        "<p> Após uma análise foi verificado que existem muitas variações da mesma palavra então será necessário fazer o tratamento de cada uma das variações para que exista apenas um padrão. </p>"
      ],
      "metadata": {
        "id": "oUSgNm1bRDen"
      }
    },
    {
      "cell_type": "code",
      "source": [
        "for c in range(7, 10):\n",
        "  df[\"Local\"] = df[\"Local\"].str.replace(f\"às 0{c}:00 - cemitério municipal.\", f\"0{c}:00 Cemitério Municipal de Araras - SP\")\n",
        "  df[\"Local\"] = df[\"Local\"].str.replace(f\"às 0{c}:30 - cemitério municipal.\", f\"0{c}:30Cemitério Municipal de Araras - SP\")\n",
        "  df[\"Local\"] = df[\"Local\"].str.replace(f\"às  - cemitério municipal: sepultamento as 0{c}:00 hrs.\", \"Cemitério Municipal de Araras - SP\")\n",
        "  \n",
        "for i in range(10, 18):\n",
        "  df[\"Local\"] = df[\"Local\"].str.replace(f\"às  - cemitério municipal: sepultamento as {i}:00 hrs.\", \"Cemitério Municipal de Araras - SP\")\n",
        "  df[\"Local\"] = df[\"Local\"].str.replace(f\"às  - cemitério Municipal: sepultamento as {i}:30 hrs.\", \"Cemitério Municipal de Araras - SP\")\n",
        "  df[\"Local\"] = df[\"Local\"].str.replace(f\"às  - cemitério Municipal: sepultamento as {i}:00 h.\", \"Cemitério Municipal de Araras - SP\")\n",
        "  df[\"Local\"] = df[\"Local\"].str.replace(f\"às  - cemitério Municipal: sepultamento as {i}:30 h.\", \"Cemitério Municipal de Araras - SP\")\n",
        "  df[\"Local\"] = df[\"Local\"].str.replace(f\"às {i}:00 - cemitério municipal.\", f\"{i}:00 - Cemitério Municipal de Araras - SP\")\n",
        "  df[\"Local\"] = df[\"Local\"].str.replace(f\"às {i}:30 - cemitério municipal.\", f\"{i}:30 - Cemitério Municipal de Araras - SP\")"
      ],
      "metadata": {
        "id": "0yY4x4Lxjata"
      },
      "execution_count": null,
      "outputs": []
    },
    {
      "cell_type": "code",
      "source": [
        "df[\"Local\"] = df[\"Local\"].str.replace(\"cemitério municipal de araras sp.\",'Cemitério Municipal de Araras - SP')\\\n",
        "                         .str.replace(\"às cemitério municipal de araras - sp\", \"Cemitério Municipal de Araras - SP\")\\\n",
        "                         .str.replace(\"cemitério municipal de araras - spde araras - sp\", \"Cemitério Municipal de Araras - SP\")\\\n",
        "                         .str.replace(\"às-cemitério municipal.\", \"Cemitério Municipal de Araras - SP\")\\\n",
        "                         .str.replace(\"às-cemitériomunicipaldeararahoarioadefinirs-sp.\", \"Cemitério Municipal de Araras - SP\")\\\n",
        "                         .str.replace(\"às-cemitériopq.doseucaliptos-araras-sp.\", \"Cemitério Pq dos Eucaliptos\")\\\n",
        "                         .str.replace(\"às-crematóriomonumentalemlimeira-sp.\", \"Crematório Monumental\")\\\n",
        "                         .str.replace(\"às-crematóriopq.daspalmeiras-rioclaro-sp.\", \"Crematório Pq Das Palmeiras - Rio Claro - SP\")\\\n",
        "                      "
      ],
      "metadata": {
        "colab": {
          "base_uri": "https://localhost:8080/"
        },
        "id": "L5-ZVIq4vAlF",
        "outputId": "dd1d1adc-f134-4c0d-dfb8-34db96edbdac"
      },
      "execution_count": null,
      "outputs": [
        {
          "output_type": "stream",
          "name": "stderr",
          "text": [
            "<ipython-input-400-18b0d580ede4>:1: FutureWarning: The default value of regex will change from True to False in a future version.\n",
            "  df[\"Local\"] = df[\"Local\"].str.replace(\"cemitério municipal de araras sp.\",'Cemitério Municipal de Araras - SP')\\\n"
          ]
        }
      ]
    },
    {
      "cell_type": "markdown",
      "source": [
        "# Horarios\n"
      ],
      "metadata": {
        "id": "SA-keYeScflg"
      }
    },
    {
      "cell_type": "code",
      "source": [
        "# Criando uma nova coluna para receber a informação do horário do sepultamento\n",
        "df[\"Horário\"] = df[\"Local\"].apply(lambda x: x[0:5]).str.lower()\n",
        "df.head()"
      ],
      "metadata": {
        "colab": {
          "base_uri": "https://localhost:8080/"
        },
        "id": "qS-cSUU4dSJ0",
        "outputId": "9fbb6d64-cc68-4a49-dd95-59a2f0c3a861"
      },
      "execution_count": null,
      "outputs": [
        {
          "output_type": "execute_result",
          "data": {
            "text/plain": [
              "                             Nome Idade     DataFal     DataSep  \\\n",
              "0         Gilson de Jesus Tavares    40  31-01-2012  31-01-2012   \n",
              "1  Luzia de Lourdes Silveira Dias    66  31-01-2012  01-02-2012   \n",
              "2  Luci Terezinha Martim De Paula    53  30-01-2012  30-01-2012   \n",
              "3               Valter Sorrantino    47  30-01-2012  31-01-2012   \n",
              "4       Antonio Vieira dos Santos    55  30-01-2012  31-01-2012   \n",
              "\n",
              "                                               Local Horário  \n",
              "0  às  - cemitério municipal: sepultamento as 10:...   às  -  \n",
              "1  às  - cemitério municipal - sepultamento ás 09...   às  -  \n",
              "2  às  - cemitério municipal - sepultamento ás 15...   às  -  \n",
              "3  às  - cemitério municipal - sepultamento ás 08...   às  -  \n",
              "4  às  - cemitério municipal: sepultamento as 10:...   às  -  "
            ],
            "text/html": [
              "\n",
              "  <div id=\"df-d14b91a3-b737-47ae-90ae-85f0a8c1a3ae\">\n",
              "    <div class=\"colab-df-container\">\n",
              "      <div>\n",
              "<style scoped>\n",
              "    .dataframe tbody tr th:only-of-type {\n",
              "        vertical-align: middle;\n",
              "    }\n",
              "\n",
              "    .dataframe tbody tr th {\n",
              "        vertical-align: top;\n",
              "    }\n",
              "\n",
              "    .dataframe thead th {\n",
              "        text-align: right;\n",
              "    }\n",
              "</style>\n",
              "<table border=\"1\" class=\"dataframe\">\n",
              "  <thead>\n",
              "    <tr style=\"text-align: right;\">\n",
              "      <th></th>\n",
              "      <th>Nome</th>\n",
              "      <th>Idade</th>\n",
              "      <th>DataFal</th>\n",
              "      <th>DataSep</th>\n",
              "      <th>Local</th>\n",
              "      <th>Horário</th>\n",
              "    </tr>\n",
              "  </thead>\n",
              "  <tbody>\n",
              "    <tr>\n",
              "      <th>0</th>\n",
              "      <td>Gilson de Jesus Tavares</td>\n",
              "      <td>40</td>\n",
              "      <td>31-01-2012</td>\n",
              "      <td>31-01-2012</td>\n",
              "      <td>às  - cemitério municipal: sepultamento as 10:...</td>\n",
              "      <td>às  -</td>\n",
              "    </tr>\n",
              "    <tr>\n",
              "      <th>1</th>\n",
              "      <td>Luzia de Lourdes Silveira Dias</td>\n",
              "      <td>66</td>\n",
              "      <td>31-01-2012</td>\n",
              "      <td>01-02-2012</td>\n",
              "      <td>às  - cemitério municipal - sepultamento ás 09...</td>\n",
              "      <td>às  -</td>\n",
              "    </tr>\n",
              "    <tr>\n",
              "      <th>2</th>\n",
              "      <td>Luci Terezinha Martim De Paula</td>\n",
              "      <td>53</td>\n",
              "      <td>30-01-2012</td>\n",
              "      <td>30-01-2012</td>\n",
              "      <td>às  - cemitério municipal - sepultamento ás 15...</td>\n",
              "      <td>às  -</td>\n",
              "    </tr>\n",
              "    <tr>\n",
              "      <th>3</th>\n",
              "      <td>Valter Sorrantino</td>\n",
              "      <td>47</td>\n",
              "      <td>30-01-2012</td>\n",
              "      <td>31-01-2012</td>\n",
              "      <td>às  - cemitério municipal - sepultamento ás 08...</td>\n",
              "      <td>às  -</td>\n",
              "    </tr>\n",
              "    <tr>\n",
              "      <th>4</th>\n",
              "      <td>Antonio Vieira dos Santos</td>\n",
              "      <td>55</td>\n",
              "      <td>30-01-2012</td>\n",
              "      <td>31-01-2012</td>\n",
              "      <td>às  - cemitério municipal: sepultamento as 10:...</td>\n",
              "      <td>às  -</td>\n",
              "    </tr>\n",
              "  </tbody>\n",
              "</table>\n",
              "</div>\n",
              "      <button class=\"colab-df-convert\" onclick=\"convertToInteractive('df-d14b91a3-b737-47ae-90ae-85f0a8c1a3ae')\"\n",
              "              title=\"Convert this dataframe to an interactive table.\"\n",
              "              style=\"display:none;\">\n",
              "        \n",
              "  <svg xmlns=\"http://www.w3.org/2000/svg\" height=\"24px\"viewBox=\"0 0 24 24\"\n",
              "       width=\"24px\">\n",
              "    <path d=\"M0 0h24v24H0V0z\" fill=\"none\"/>\n",
              "    <path d=\"M18.56 5.44l.94 2.06.94-2.06 2.06-.94-2.06-.94-.94-2.06-.94 2.06-2.06.94zm-11 1L8.5 8.5l.94-2.06 2.06-.94-2.06-.94L8.5 2.5l-.94 2.06-2.06.94zm10 10l.94 2.06.94-2.06 2.06-.94-2.06-.94-.94-2.06-.94 2.06-2.06.94z\"/><path d=\"M17.41 7.96l-1.37-1.37c-.4-.4-.92-.59-1.43-.59-.52 0-1.04.2-1.43.59L10.3 9.45l-7.72 7.72c-.78.78-.78 2.05 0 2.83L4 21.41c.39.39.9.59 1.41.59.51 0 1.02-.2 1.41-.59l7.78-7.78 2.81-2.81c.8-.78.8-2.07 0-2.86zM5.41 20L4 18.59l7.72-7.72 1.47 1.35L5.41 20z\"/>\n",
              "  </svg>\n",
              "      </button>\n",
              "      \n",
              "  <style>\n",
              "    .colab-df-container {\n",
              "      display:flex;\n",
              "      flex-wrap:wrap;\n",
              "      gap: 12px;\n",
              "    }\n",
              "\n",
              "    .colab-df-convert {\n",
              "      background-color: #E8F0FE;\n",
              "      border: none;\n",
              "      border-radius: 50%;\n",
              "      cursor: pointer;\n",
              "      display: none;\n",
              "      fill: #1967D2;\n",
              "      height: 32px;\n",
              "      padding: 0 0 0 0;\n",
              "      width: 32px;\n",
              "    }\n",
              "\n",
              "    .colab-df-convert:hover {\n",
              "      background-color: #E2EBFA;\n",
              "      box-shadow: 0px 1px 2px rgba(60, 64, 67, 0.3), 0px 1px 3px 1px rgba(60, 64, 67, 0.15);\n",
              "      fill: #174EA6;\n",
              "    }\n",
              "\n",
              "    [theme=dark] .colab-df-convert {\n",
              "      background-color: #3B4455;\n",
              "      fill: #D2E3FC;\n",
              "    }\n",
              "\n",
              "    [theme=dark] .colab-df-convert:hover {\n",
              "      background-color: #434B5C;\n",
              "      box-shadow: 0px 1px 3px 1px rgba(0, 0, 0, 0.15);\n",
              "      filter: drop-shadow(0px 1px 2px rgba(0, 0, 0, 0.3));\n",
              "      fill: #FFFFFF;\n",
              "    }\n",
              "  </style>\n",
              "\n",
              "      <script>\n",
              "        const buttonEl =\n",
              "          document.querySelector('#df-d14b91a3-b737-47ae-90ae-85f0a8c1a3ae button.colab-df-convert');\n",
              "        buttonEl.style.display =\n",
              "          google.colab.kernel.accessAllowed ? 'block' : 'none';\n",
              "\n",
              "        async function convertToInteractive(key) {\n",
              "          const element = document.querySelector('#df-d14b91a3-b737-47ae-90ae-85f0a8c1a3ae');\n",
              "          const dataTable =\n",
              "            await google.colab.kernel.invokeFunction('convertToInteractive',\n",
              "                                                     [key], {});\n",
              "          if (!dataTable) return;\n",
              "\n",
              "          const docLinkHtml = 'Like what you see? Visit the ' +\n",
              "            '<a target=\"_blank\" href=https://colab.research.google.com/notebooks/data_table.ipynb>data table notebook</a>'\n",
              "            + ' to learn more about interactive tables.';\n",
              "          element.innerHTML = '';\n",
              "          dataTable['output_type'] = 'display_data';\n",
              "          await google.colab.output.renderOutput(dataTable, element);\n",
              "          const docLink = document.createElement('div');\n",
              "          docLink.innerHTML = docLinkHtml;\n",
              "          element.appendChild(docLink);\n",
              "        }\n",
              "      </script>\n",
              "    </div>\n",
              "  </div>\n",
              "  "
            ]
          },
          "metadata": {},
          "execution_count": 401
        }
      ]
    },
    {
      "cell_type": "code",
      "source": [
        "df[\"Horário\"].unique()"
      ],
      "metadata": {
        "id": "soB5qABfuWGB",
        "colab": {
          "base_uri": "https://localhost:8080/"
        },
        "outputId": "dfe952d5-8402-4484-819d-e2277786c001"
      },
      "execution_count": null,
      "outputs": [
        {
          "output_type": "execute_result",
          "data": {
            "text/plain": [
              "array(['às  -', '14:30', 'cemit', '16:00', '16:30', '13:00', '13:30',\n",
              "       '14:00', 'às 15', '15:30', '10:30', '15:00', '09:30', '10:00',\n",
              "       'às 00', '08:00', 'às 90', 'às 83', '08:30', 'às 16', '09:00',\n",
              "       'às 10', 'às 14', 'às 13', '11:00', '17:00', '12:00', 'às 12',\n",
              "       'às 17', 'às 08', 'às 09', '11:30', 'às 18', '17:30', 'às 8:',\n",
              "       '12:30', 'às 11', 'às 07', '07:30', 'às 19', 'às 06', 'às 80',\n",
              "       '07:00', 'às 05'], dtype=object)"
            ]
          },
          "metadata": {},
          "execution_count": 402
        }
      ]
    },
    {
      "cell_type": "code",
      "source": [
        "df[\"Horário\"].value_counts()"
      ],
      "metadata": {
        "colab": {
          "base_uri": "https://localhost:8080/"
        },
        "id": "JS6iq1HENWm1",
        "outputId": "061beebb-5042-4926-c3d2-adf37811b232"
      },
      "execution_count": null,
      "outputs": [
        {
          "output_type": "execute_result",
          "data": {
            "text/plain": [
              "16:00    1149\n",
              "10:00    1130\n",
              "15:00     851\n",
              "09:00     791\n",
              "14:00     681\n",
              "16:30     576\n",
              "08:00     567\n",
              "10:30     483\n",
              "17:00     447\n",
              "13:00     444\n",
              "às  -     331\n",
              "15:30     295\n",
              "13:30     275\n",
              "11:00     248\n",
              "às 16     234\n",
              "09:30     231\n",
              "às 10     229\n",
              "08:30     165\n",
              "14:30     157\n",
              "às 15     110\n",
              "às 13     109\n",
              "às 09      98\n",
              "às 14      81\n",
              "12:00      76\n",
              "às 08      48\n",
              "11:30      40\n",
              "às 00      38\n",
              "às 17      37\n",
              "17:30      36\n",
              "às 11      35\n",
              "às 12      21\n",
              "cemit      10\n",
              "às 18       7\n",
              "12:30       5\n",
              "às 19       2\n",
              "às 90       2\n",
              "07:00       1\n",
              "às 80       1\n",
              "às 06       1\n",
              "às 83       1\n",
              "07:30       1\n",
              "às 07       1\n",
              "às 8:       1\n",
              "às 05       1\n",
              "Name: Horário, dtype: int64"
            ]
          },
          "metadata": {},
          "execution_count": 403
        }
      ]
    },
    {
      "cell_type": "markdown",
      "source": [
        "<p> Existem alguns valores não correspondentes à um valor de horas, portanto será necessário tratá-los. </p>"
      ],
      "metadata": {
        "id": "0SH8epWoRkKS"
      }
    },
    {
      "cell_type": "code",
      "source": [
        "nan_index = df[(df[\"Horário\"].str.startswith(\"às  -\") & (df[\"Local\"].str[-10:]))].index"
      ],
      "metadata": {
        "id": "eAl5x8_GjpYE"
      },
      "execution_count": null,
      "outputs": []
    },
    {
      "cell_type": "code",
      "source": [
        "len(nan_index)"
      ],
      "metadata": {
        "colab": {
          "base_uri": "https://localhost:8080/"
        },
        "id": "pV1jA6e7kNWi",
        "outputId": "7a9e071d-1f4c-46eb-fa9a-461ca1b9967a"
      },
      "execution_count": null,
      "outputs": [
        {
          "output_type": "execute_result",
          "data": {
            "text/plain": [
              "331"
            ]
          },
          "metadata": {},
          "execution_count": 405
        }
      ]
    },
    {
      "cell_type": "code",
      "source": [
        "df = df.reset_index(drop=True)"
      ],
      "metadata": {
        "id": "pe3bSdo9OEi3"
      },
      "execution_count": null,
      "outputs": []
    },
    {
      "cell_type": "code",
      "source": [
        "# Imputando o valor \"15:30\" nos indices corretos\n",
        "df[\"Horário\"][nan_index] = \"15:30\""
      ],
      "metadata": {
        "id": "IMnPKcpLxPJs"
      },
      "execution_count": null,
      "outputs": []
    },
    {
      "cell_type": "code",
      "source": [
        "df[\"Horário\"].unique()"
      ],
      "metadata": {
        "colab": {
          "base_uri": "https://localhost:8080/"
        },
        "id": "pXJsXhLFo_Tg",
        "outputId": "e69da43f-e94b-4429-d91a-af591c09a5ce"
      },
      "execution_count": null,
      "outputs": [
        {
          "output_type": "execute_result",
          "data": {
            "text/plain": [
              "array(['15:30', '14:30', 'cemit', '16:00', '16:30', '13:00', '13:30',\n",
              "       '14:00', 'às 15', '10:30', '15:00', '09:30', '10:00', 'às 00',\n",
              "       '08:00', 'às 90', 'às 83', '08:30', 'às 16', '09:00', 'às 10',\n",
              "       'às 14', 'às 13', '11:00', '17:00', '12:00', 'às 12', 'às 17',\n",
              "       'às 08', 'às 09', '11:30', 'às 18', '17:30', 'às  -', 'às 8:',\n",
              "       '12:30', 'às 11', 'às 07', '07:30', 'às 19', 'às 06', 'às 80',\n",
              "       '07:00', 'às 05'], dtype=object)"
            ]
          },
          "metadata": {},
          "execution_count": 408
        }
      ]
    },
    {
      "cell_type": "code",
      "source": [
        "for c in range(10, 20):\n",
        "  df[\"Horário\"] = np.where(df[\"Horário\"] == f\"às {c}\", f\"{c}:00\", df[\"Horário\"])"
      ],
      "metadata": {
        "id": "QOzO4Jstd2uo"
      },
      "execution_count": null,
      "outputs": []
    },
    {
      "cell_type": "code",
      "source": [
        "for c in range(6, 10):\n",
        "  df[\"Horário\"] = np.where(df[\"Horário\"] == f\"às 0{c}\", f\"0{c}:00\", df[\"Horário\"])"
      ],
      "metadata": {
        "id": "6CZKzXrfp7VU"
      },
      "execution_count": null,
      "outputs": []
    },
    {
      "cell_type": "code",
      "source": [
        "df[\"Horário\"] = np.where(df[\"Horário\"] == \"cemit\", \"10:00\", df[\"Horário\"])\n",
        "df[\"Horário\"] = np.where(df[\"Horário\"] == \"às 83\", \"08:30\", df[\"Horário\"])\n",
        "df[\"Horário\"] = np.where(df[\"Horário\"] == \"às 00\", \"10:00\", df[\"Horário\"])\n",
        "df[\"Horário\"] = np.where(df[\"Horário\"] == \"às 90\", \"09:00\", df[\"Horário\"])\n",
        "df[\"Horário\"] = np.where(df[\"Horário\"] == \"às 8\", \"08:00\", df[\"Horário\"])\n",
        "df[\"Horário\"] = np.where(df[\"Horário\"] == \"às 80\", \"08:00\", df[\"Horário\"])\n",
        "df[\"Horário\"] = np.where(df[\"Horário\"] == \"às 8:\", \"08:00\", df[\"Horário\"])\n",
        "df[\"Horário\"] = np.where(df[\"Horário\"] == \"às 05\", \"15:00\", df[\"Horário\"])"
      ],
      "metadata": {
        "id": "zWx-KCpvOPm1"
      },
      "execution_count": null,
      "outputs": []
    },
    {
      "cell_type": "code",
      "source": [
        "df[\"Horário\"].unique()"
      ],
      "metadata": {
        "colab": {
          "base_uri": "https://localhost:8080/"
        },
        "id": "USddOH07XZkT",
        "outputId": "d6258e1e-9746-4120-d572-ef3d360c8472"
      },
      "execution_count": null,
      "outputs": [
        {
          "output_type": "execute_result",
          "data": {
            "text/plain": [
              "array(['15:30', '14:30', '10:00', '16:00', '16:30', '13:00', '13:30',\n",
              "       '14:00', '15:00', '10:30', '09:30', '08:00', '09:00', '08:30',\n",
              "       '11:00', '17:00', '12:00', '11:30', '18:00', '17:30', 'às  -',\n",
              "       '12:30', '07:00', '07:30', '19:00', '06:00'], dtype=object)"
            ]
          },
          "metadata": {},
          "execution_count": 412
        }
      ]
    },
    {
      "cell_type": "code",
      "source": [
        "df[\"Horário\"].value_counts()"
      ],
      "metadata": {
        "colab": {
          "base_uri": "https://localhost:8080/"
        },
        "id": "hZryHZ8QokoM",
        "outputId": "8e56eaf6-ea17-488d-e175-aa530410fb4b"
      },
      "execution_count": null,
      "outputs": [
        {
          "output_type": "execute_result",
          "data": {
            "text/plain": [
              "10:00    1400\n",
              "16:00    1379\n",
              "15:00     955\n",
              "09:00     890\n",
              "14:00     759\n",
              "15:30     626\n",
              "08:00     612\n",
              "16:30     574\n",
              "13:00     553\n",
              "10:30     483\n",
              "17:00     481\n",
              "11:00     281\n",
              "13:30     275\n",
              "09:30     231\n",
              "08:30     166\n",
              "14:30     157\n",
              "12:00      97\n",
              "11:30      40\n",
              "17:30      36\n",
              "às  -      34\n",
              "18:00       7\n",
              "12:30       5\n",
              "07:00       2\n",
              "19:00       2\n",
              "07:30       1\n",
              "06:00       1\n",
              "Name: Horário, dtype: int64"
            ]
          },
          "metadata": {},
          "execution_count": 413
        }
      ]
    },
    {
      "cell_type": "code",
      "source": [
        "np.where(pd.to_datetime(df[\"Horário\"], format='%H:%M', errors='coerce').isna(), '00:00:00', df[\"Horário\"])"
      ],
      "metadata": {
        "colab": {
          "base_uri": "https://localhost:8080/"
        },
        "id": "3o5oWwrrePKx",
        "outputId": "8a9817a4-9381-4cc0-89b6-c06a3c3a600f"
      },
      "execution_count": null,
      "outputs": [
        {
          "output_type": "execute_result",
          "data": {
            "text/plain": [
              "array(['15:30', '15:30', '15:30', ..., '16:00', '09:00', '09:00'],\n",
              "      dtype=object)"
            ]
          },
          "metadata": {},
          "execution_count": 414
        }
      ]
    },
    {
      "cell_type": "code",
      "source": [
        "df[\"Horário\"].unique()"
      ],
      "metadata": {
        "colab": {
          "base_uri": "https://localhost:8080/"
        },
        "id": "BeK5MSPqqpqv",
        "outputId": "c3a0ced5-39f8-43aa-9c20-f70ffc2f7310"
      },
      "execution_count": null,
      "outputs": [
        {
          "output_type": "execute_result",
          "data": {
            "text/plain": [
              "array(['15:30', '14:30', '10:00', '16:00', '16:30', '13:00', '13:30',\n",
              "       '14:00', '15:00', '10:30', '09:30', '08:00', '09:00', '08:30',\n",
              "       '11:00', '17:00', '12:00', '11:30', '18:00', '17:30', 'às  -',\n",
              "       '12:30', '07:00', '07:30', '19:00', '06:00'], dtype=object)"
            ]
          },
          "metadata": {},
          "execution_count": 415
        }
      ]
    },
    {
      "cell_type": "markdown",
      "source": [
        "# Local"
      ],
      "metadata": {
        "id": "Ph05WgM8ciJE"
      }
    },
    {
      "cell_type": "code",
      "source": [
        "df[\"Local\"] = df[\"Local\"].apply(lambda x: x[11::])"
      ],
      "metadata": {
        "id": "jmbf0eauiNIO"
      },
      "execution_count": null,
      "outputs": []
    },
    {
      "cell_type": "code",
      "source": [
        "df[\"Local\"] = df[\"Local\"].str.lower()"
      ],
      "metadata": {
        "id": "nPNqzQWgr4f4"
      },
      "execution_count": null,
      "outputs": []
    },
    {
      "cell_type": "code",
      "source": [
        "df[\"Local\"].unique()"
      ],
      "metadata": {
        "colab": {
          "base_uri": "https://localhost:8080/"
        },
        "id": "CEfYzkVAQdMo",
        "outputId": "e402bbe4-c10b-4e22-8799-aa1281d1806d"
      },
      "execution_count": null,
      "outputs": [
        {
          "output_type": "execute_result",
          "data": {
            "text/plain": [
              "array(['ério municipal: sepultamento as 10:30 h.',\n",
              "       'ério municipal - sepultamento ás 09:30 hrs.',\n",
              "       'ério municipal - sepultamento ás 15:00 hrs  .',\n",
              "       'ério municipal - sepultamento ás 08:00 hrs.',\n",
              "       'ério municipal: sepultamento as 10:00 h.',\n",
              "       'ério municipal -  sepultamento ás 16:30 hrs.',\n",
              "       'ério municipal - sepultamento ás 16:00 hrs.',\n",
              "       'ério municipal: sepultamento as 15:30 h.',\n",
              "       'ério municipal: sepultamento as 14:00 h.',\n",
              "       'ério municipal; sepultamento  as 9:00 h.',\n",
              "       'ério municipal -sepultamento ás 16:30 hrs.',\n",
              "       'ério municipal - sepultamento ás 10:00.',\n",
              "       'ério municipal: seputamento as 10:30 h.',\n",
              "       'ério municipal: sepultamento as 16:00 h.',\n",
              "       'ério municipal - sepultamento ás 15:30 hrs.',\n",
              "       'ério municipal: sepultamento as 16:30 h.',\n",
              "       'ério municipal - sepultamento ás 08:30 hrs.',\n",
              "       'ério municipal - sepultamento ás 13:30 hrs.',\n",
              "       'ério municipal - sepultamento ás 14:30 hrs.',\n",
              "       'ério municipal - sepultamento ás 13:00 hrs.',\n",
              "       'ério municipal: sepultamento as 9:30 h.',\n",
              "       'ério municipal: sepultamento as 13:30 h.',\n",
              "       'ério municipal : sepultamento as 15:00 h.',\n",
              "       'ério municipal - sepultamento ás 14:00 hrs.',\n",
              "       'ério municipal - sepultamento ás 16:45.',\n",
              "       'ério municipal; sepultamento as 10:00 h.',\n",
              "       'ério municipal: sepultamento as 10:30 h, o enzo tem só  sete dias  .',\n",
              "       'ério municipal, sepultamento as 9:30 h.',\n",
              "       'ério municipal, sepultamento as 13:00 h.',\n",
              "       'ério municipal sepultamento as 14:30 h.',\n",
              "       'ério municipal: sepultamento as 11:30 h.',\n",
              "       'ério municipal - sepultamento às 16h30.',\n",
              "       'ério municipal - sepultamento ás 10:00hrs.',\n",
              "       'ério municipal -sepultamento  ás  10:30 hrs.',\n",
              "       'ério municipal: sepultamento as 8:30 h.',\n",
              "       'ério municipal - sepultamento ás 13:00 hrs .',\n",
              "       'ério municipal: sepultamento as 8:00 h.',\n",
              "       'ério municipal - sepultamento ás 10:00 hrs.',\n",
              "       'ério municipal - sepultamento ás 16:30 hrs.', 'ério municipal.',\n",
              "       'ério municipal sepultamento às 8h30.',\n",
              "       'ério municipal sepultamento às 10h.',\n",
              "       'ério municipal - sepultamento às 10h30.',\n",
              "       'ério municipal sepultamento ás 16:30 hrs.',\n",
              "       'ério municipal _ sepultamento ás 10:00 hrs.',\n",
              "       'ério municipal - sepultamento ás 10:30 hrs.',\n",
              "       'ério municipal- sepultamento ás 09:00 hrs.',\n",
              "       'ério municipal - sepultamento às 17 horas.',\n",
              "       'ério municipal: sepultamento as 9:30 hrs.',\n",
              "       'ério municipal : sepultamento as 13:00 hrs.',\n",
              "       'ério municipal-sepultamento- ás 15:30 hrs.',\n",
              "       'ério municipal - sepultamento ás 15:00 hrs.',\n",
              "       'ério municipal - sepultamento às 10:30 hrs.',\n",
              "       'ério municipal: sepultamento as 15:00 h.',\n",
              "       'ério municipal - sepultamento as 9:00 hrs.',\n",
              "       'ério municipal - sepultamento ás 10:30.',\n",
              "       'ério municipal - sepultamento ás 9:00 hrs.',\n",
              "       'ério municipal - sepultamento à 14h30.',\n",
              "       'ério municipal - sepultamento ás 16:30 hrs..',\n",
              "       'ério municipal - sepultamento ás 16:00 hrs  .',\n",
              "       'ério municipal - sepultamento ás 09:00 hrs.',\n",
              "       'tamento às 14 horas - cem. pq. dos eucaliptos.',\n",
              "       'ério municipal: sepultamento as 13:00 h.',\n",
              "       'ério municipal: sepultamento 10:00 h.',\n",
              "       'ério municipal - sepultamento - ás 09:30 hrs..',\n",
              "       'ério municipal - sepultamento ás 16:30 hrs  .',\n",
              "       'ério municipal- sepultamento ás 09:30 hrs.',\n",
              "       'itério municipal de araras - spde araras.',\n",
              "       'ério municipal- sepultamento ás 16:30 hrs.',\n",
              "       'ério municipal, às 16:30 horas.',\n",
              "       'ério municipal, às 08:30 horas.',\n",
              "       'ério municipal : sepultamento as 15:00 hrs.',\n",
              "       'unicipal de araras - sp',\n",
              "       'ério municipal - sepultamento ás 14:30 hrs .',\n",
              "       'ério municipal, 13:30 horas.', 'ério municipal, 15:30 horas.',\n",
              "       'ério municipal, 16:30 horas.',\n",
              "       'ério municipal: no cemitério pq dos eucaliptos as 14:00 hrs.',\n",
              "       'ério municipal: sepultamento as 10:30 hrs.',\n",
              "       'ério municipal sepultamento ás 15:30 hrs.',\n",
              "       'ério municipal - cemitério pq. dos eucaliptos - ás 16:30 hrs.',\n",
              "       'ério municipal - sepultamento ás 14:00 hrs  .',\n",
              "       'ério municipal : sepultamento ás 9:00 hrs.',\n",
              "       'ério municipal - sepultamento ás 9:30 hrs.',\n",
              "       'ério municipal - sepultamento ás 8:30 hrs.',\n",
              "       'ério municipal: sepultamento as 10:00  hrs.',\n",
              "       'ério municipal : sepultamento as 16:00 hrs.',\n",
              "       'ério municipal - sepultamento ás 10:30hrs.',\n",
              "       'ério municipal    sep:09:00hrs .',\n",
              "       'ério municipal: sepultamento as 8:00 hrs.',\n",
              "       'ério municipal-sepultamento ás 16:30 hrs.',\n",
              "       'ério municipal>: sepultamento as 10:00 hrs.',\n",
              "       'ério municipal - sepultamento sera na bahia.',\n",
              "       'ério municipal: sepultamento as 8:30 hrs.',\n",
              "       'ério municipal : sepultamento as 9:30 hrs.',\n",
              "       'ério municipal    sep:28/04/2012.',\n",
              "       'ério municipal     sep: as 14:30 hrs .',\n",
              "       'ério municipal : sepultamento as 10:30 hrs.',\n",
              "       'ério municipal      sep;  as 10:30 hrs .',\n",
              "       'ério municipal    as 13:00 hs .',\n",
              "       'ério municipal sepultamento as 16:00 hrs, em conchal, vai vela até as 13:30 em araras .',\n",
              "       'ério municipal: sepultamento as 13:30 hrs.',\n",
              "       'ério municipal :sepultamento as 15:30 hrs.',\n",
              "       'ério municipal - sepultamento ás 13:00 hrs  .',\n",
              "       'ério municipal - sepultamento ás 15:00 hrs - ce. pq. dos eucaliptos.',\n",
              "       'ério municipal : sepultamento as 15:30 hrs .',\n",
              "       'ério municipal :sepultamento as 14:30 hrs.',\n",
              "       'ério municipal sep as 16:30 hrs no pq dos eucaliptos.',\n",
              "       'ério municipal: sepultamento as 16:30 hrs.',\n",
              "       'ério municipal: sepultamento as 16:20 hrs.',\n",
              "       'ério municipal sepultamento - ás 08:00 hrs.',\n",
              "       'ério municipal ; sepultamento as 16:30 hrs.',\n",
              "       'ério municipal as 15:30 hrs.', 'ério municipal; as 14:30 hrs.',\n",
              "       'ério municipal: as 16:30 hrs.',\n",
              "       'ério municipal: sepultamento as  09:30 hrs.',\n",
              "       'ério municipal -sepultamento ás 13:30 hrs.',\n",
              "       'ério municipal   as 10:30 hrs.', 'ério municipal  as  09:30 hrs.',\n",
              "       'ério municipal   sep:08:30 hrs .',\n",
              "       'ério municipal; sepultamento as 13:00 hrs.',\n",
              "       'ério municipal : sepultamento as 16:30 hrs.',\n",
              "       'ério municipal - sepultamento ás 13:00 .',\n",
              "       'itério municipal de araras - sp',\n",
              "       'ério municipal - sep. na cidade de leme.',\n",
              "       'itério municipal de araras - sp- sep.´no cemierio municipal.',\n",
              "       'sepultamento em são bernardo do campo.',\n",
              "       'itério municipal de araras - sp- sep. cemiterio pq dos eucaliptos.',\n",
              "       'itério municipal de araras - sp- sep. no cemiterio municipal.',\n",
              "       'rio municipal de araras - sp-sep.cemiterio pq dos eucaliptos.',\n",
              "       'itério municipal de araras - sp- cemiterio municipal.',\n",
              "       'itério municipal de araras - sp-sep. no cemiterio municipal.',\n",
              "       'cemitério municipal - sera cremada em são paulo(vila alpina).',\n",
              "       'itério municipal de araras - sp- cemitério municipal.',\n",
              "       'itério municipal de araras - sp- cem. pq dos eucaliptos.',\n",
              "       'itério municipal de araras - sp cemitério municipal.',\n",
              "       'ério municipal - crematório vila formosa.',\n",
              "       'ério municipal de araras - sp',\n",
              "       'tamento no cemitério parque dos eucaliptos.',\n",
              "       'ério municipal: sepultamento as 15:30 hrs.',\n",
              "       'ério municipal :sepultamento as 9:30 hrs.',\n",
              "       'ério municipal : sepultamento as 14:00 hrs.',\n",
              "       'ério municipal - sepultamento as 10:30 hrs.',\n",
              "       'ério municipal sepultamento às 9:00 hrs.',\n",
              "       'ério municipal - sepultamento às 14:00 hrs.',\n",
              "       'ério municipal : sepultamento as 14:30 hrs.',\n",
              "       'ério municipal : sepultamento as 15:30 hrs.',\n",
              "       'ério municipal: sepultamento as 14:30 hrs .',\n",
              "       'ério municipal : sepultamento as 13:30 hrs.',\n",
              "       'ério municipal - sepultamento ás 16:30hrs.',\n",
              "       'ério municipal - sepultamento em descalvado-sp.',\n",
              "       'ério municipal - sepultamento ás 14:00 cemiterio pq. dos eucaliptos.',\n",
              "       'ério municipal : sepultamento as 9:30 hrs .',\n",
              "       'ério municipal : sepultamento as 10:00 hrs.',\n",
              "       'ério municipal:  sepultamento as 10:00 hrs.',\n",
              "       'cemitério municipal.', 'rio municipal de araras - sp',\n",
              "       'cemitério parque dos eucaliptos.',\n",
              "       'cemitério  : prq dos eucaliptos.',\n",
              "       'cemitério pq. dos eucaliptos.',\n",
              "       'crematório vila alpina são paulo.',\n",
              "       'cemitério municipal de limeira.',\n",
              "       'itério municipal de araras - sp da cidade de leme.',\n",
              "       'cemitério  pq. dos eucaliptos.', ' sepultamento em limeira sp.',\n",
              "       'itério municipal de araras - sp- mogi-mirim.',\n",
              "       'cemitério pq dos eucaliptos.',\n",
              "       'cemitério municipal de bebedouro.',\n",
              "       'itério municipal de araras - spde pirassununga.',\n",
              "       'itério municipal de araras - sp sairá  para o crematório as 11 horas.',\n",
              "       'cemitério municipal de conchal - sp.',\n",
              "       'cemitério municipal - na cidade de corumbataí.',\n",
              "       'cemitério pq; dos eucaliptos.',\n",
              "       'cemitério são joão batista, rio claro - sp * será velado até as 12h00 em araras..',\n",
              "       'cemitério pirassununga .', 'itério municipal de araras - sp.',\n",
              "       'cemitério  pq dos   eucaliptos.',\n",
              "       'itério municipal de araras - spde leme.',\n",
              "       'itério municipal de araras - spde conchal.',\n",
              "       'crematorio  vila  alpina  saõ  paulo.',\n",
              "       'cemitério de santa cruz da conceição.',\n",
              "       'cemitério da paz em são paulo .',\n",
              "       'cemitério municipal de monte belo - mg.',\n",
              "       'cemitério  pq  de   limeira.', 'cemitério municipal de conchal .',\n",
              "       'cemitério  são  pedro   são    paulo.',\n",
              "       'cemitério: são joão batista em rio claro.',\n",
              "       'ério municipal de araras - spde santa cruz das palmeiras - sp .',\n",
              "       'cemitério parque dos eucaliptos .',\n",
              "       'rio municipal de araras - spde limeira - velando no cem.munic.até  as 09;00.',\n",
              "       'cemitério das palmeiras em rio claro/ saira de araras as 8:00 hrs.',\n",
              "       'cemitério parque dos eucaliptos : .',\n",
              "       'itério municipal de araras - spde porto ferreira.',\n",
              "       'cemitério  de piracicaba.',\n",
              "       'cemitério de santa cruz das palmeiras .', 'cemitério de leme.',\n",
              "       'cemitério   saldade  de  limeira.',\n",
              "       'cemitério pq. dos eucaliptos- .',\n",
              "       'cemitério  municipal  vai  sair  as 13:00  para  cemitério  araça   saõ  paulo  sepultamento  as   1.',\n",
              "       'ério municipal vai  sair  10:30  para  crématorio   de  riberão  preto.',\n",
              "       'cemiterio parque dos eucaliptos.',\n",
              "       'itério municipal de araras - spde americana.',\n",
              "       'cemitério municipal na cidade de pirassununga.',\n",
              "       'será sepultada na cidade de rio claro, ficara no velorio até as 11:00 hrs.',\n",
              "       'cemitério  parque   eucaliptos.',\n",
              "       'cemitério  parque  dos  eucaliptos.',\n",
              "       'itério municipal de araras - spde descalvado.',\n",
              "       'cemitério de missão velha - ceara.',\n",
              "       'cemitério municipal de rio claro.',\n",
              "       'cemitério  parque  dos  ecaliptos.',\n",
              "       'cemitério municipal de são carlos.',\n",
              "       'saida para  o cemitério municipal de rio claro as 9:00 hrs.',\n",
              "       'cemitério pq dos eucaliptos no periodo da tarde.',\n",
              "       'cemitério pq   dos  eucaliptos.', 'crematório de são paulo.',\n",
              "       'e de leme.', 'cemitério mucipal.',\n",
              "       'itério municipal de araras - sp está sendo velado na biblioteca municipal.',\n",
              "       'ério municipal de araras - spda cidade de santa cruz do rio pardo-sp.',\n",
              "       'itério municipal de araras - spserá velada até as 14:00 hrs, o sepultamento será em sta rita do passa quatro/sp.',\n",
              "       'cemitério municipal de gardenia - sp .', 'emitério municipal.',\n",
              "       'eal/ba.', 'cemitério muncipal.', '.',\n",
              "       'itério municipal de araras - spde cordeiropolis.',\n",
              "       'cemitério de limeira.',\n",
              "       'ério municipal de araras - sp  sepultamento  :10:00 cidade  conchal.',\n",
              "       'cemiterio pq dos eucaliptos.',\n",
              "       'itério municipal de araras - spde pirassununga sp .',\n",
              "       'cemitério municipal sepultamento sera em limeira.',\n",
              "       'cemitério municipal de conchal.',\n",
              "       'ério municipal de araras - sp- com 5 meses de idade .',\n",
              "       'cemitério  / pq dos eucaliptos.',\n",
              "       'cemitério da saudade  em  limeira { sepultamento   as   13:00 hrs.',\n",
              "       'crematorio de campinas.',\n",
              "       'itério municipal de araras - spvai para o crematório as 11:00hrs).',\n",
              "       'rio municipal de araras - sp da  cidade  de pirassununga : sepultamento  as  10:00 hrs.',\n",
              "       'itério municipal de araras - sp sera  sepultamento :as  16:00  hrs  em  limeira.',\n",
              "       'itério municipal de araras - spde rio claro.',\n",
              "       'será sepultada em são paulo.',\n",
              "       'cemitério municipal da lapa são paulo .',\n",
              "       'vai as 10:00 para o crematorio.',\n",
              "       'cemitério da saudade - em americana.',\n",
              "       'cemitério parque dos eucaliptos : sepultamento as 13:30 .',\n",
              "       'cemitério da paz - jardim morumbi são paulo .',\n",
              "       'itério municipal de araras - sppq dos eucaliptos.',\n",
              "       'o corpo será velado até as 8h da manhã , após irá para o crematório.',\n",
              "       'vai as 12:00 para o crematorio.',\n",
              "       'cem.municipal - velório igreja pentecostal deus é amor,rua:bhia n* 230..',\n",
              "       'ério municipal de conchal.',\n",
              "       'itério municipal de araras - sp são  joão boa  vista  sepultamento : as  14:00 hrs.',\n",
              "       'saida para cidade de paiolinho as 12:00 hr.',\n",
              "       'cemitério parque dos eucaliptos : sepultamento as 11:00.',\n",
              "       'ara crematorio municipal campinas.',\n",
              "       'cemitério parque dos eucaliptos : sepultamento as 09:00.',\n",
              "       'itério municipal de araras - spde cordeiropolis / sp.',\n",
              "       'cemitério parque dos eucaliptos : sepultamento as 16:00hrs.',\n",
              "       'itério municipal de araras - spesta  velano  na  igreja  juda  tadeu  narciso  gomes.',\n",
              "       's 15:00 para o crematorio de campinas.',\n",
              "       'vai para crematorio municipal campinas.',\n",
              "       'o corpo será velado até as 8h 30 da manhã , após irá para o crematório de campinas sp.',\n",
              "       'cemitério pq  dos  eucaliptos  sepultamento :15:00 hrs.',\n",
              "       'ério municipal de araras - sp  cordeiropolis.',\n",
              "       'cemitério municipal andradas /mg.',\n",
              "       'itério municipal de araras - spde  rio  claro  as  16:00.',\n",
              "       'cemiterio informa sera velada  até as 16:00 no municipal sepultamento no pq dos eucaliptos.',\n",
              "       'cemitério pq  dos  eucaliptos.',\n",
              "       'cemitério municipa . informa  orlando lourenço vai para cidade de analândia as  10:00  hrs.',\n",
              "       'rio municipal de araras - sp.',\n",
              "       'velorio até as 13 h no municipal e sepultamento no  pq dos eucaliptos.',\n",
              "       'ério municipal de araras - spso sepultamento.',\n",
              "       'cemitério da lapa em sao paulo.', 'ério pq dos eucaliptos.',\n",
              "       'itério municipal de araras - spespirito santo do pinhal .',\n",
              "       'cemitério municipal /será sepultado em mg. e sairá as 21:00 horas do dia 26/04/2017.',\n",
              "       ' esta sendo velado em leme sera sepultado no cemiterio municipal de araras.',\n",
              "       'velorio ate as 07:00 hr e sera sepultado em rio claro as 11:00.',\n",
              "       'cemiterio municipal.',\n",
              "       'itério municipal de araras - sp(velório na biblioteca municipal).',\n",
              "       'cemitério da cidade de leme.',\n",
              "       'ério pq dos eucaliptos ( sepultamento na  parte da manhã hj).',\n",
              "       'cemitério pq dos eucaliptos :as 16:00 .',\n",
              "       'itério municipal de araras - spararas.',\n",
              "       'cemitério municipal de curitiba - pr.',\n",
              "       'cemitério pq dos eucaliptos .',\n",
              "       'cemitério pq dos eucaliptos as 13:30 hr.',\n",
              "       'itério municipal de araras - spa iris é uma criança de 10 dias.',\n",
              "       'itério municipal de araras - spde andradas mg .',\n",
              "       'cemitério pq  dos  eucaliptos .', 'hora e local não definido.',\n",
              "       'itério municipal de araras - spde conchal sp.',\n",
              "       'ério municipal de araras - spararas.',\n",
              "       'itério municipal de araras - sp saida às 13:30h para sepultamento cemitério pq eucaliptos as 14:00h.',\n",
              "       'cemitério pq dos eucaliptos as 13:30.',\n",
              "       'na igreja  da usina são joão .',\n",
              "       'ério municipal (velando ate as 13:00 hrs depois vai para o crematorio.',\n",
              "       'sepultamento no cemiterio de cosmopolis.',\n",
              "       'ério municipal de araras - spsanta cruz das pameiras.', 'ce.',\n",
              "       'sao bernardo do campo.',\n",
              "       'cemitério da paz - morumbi / são paulo .',\n",
              "       'cemitério de cascalho .', 'cemitério de porteirinha mg.',\n",
              "       'crematorio.',\n",
              "       'itério municipal de araras - sp (velorio igreja nossa senhora de fatima ).',\n",
              "       'cemitério de porto ferreira .', 'cemitério  pq  dos  eucaliptos.',\n",
              "       'pq. dos eucaliptos.', 'cemitério são joão batista (rio claro).',\n",
              "       'saida  do  velorio  as  13:00 hrs  para  o  crematório  de  campinas.',\n",
              "       'velório em araras e sepultamento em conchal.',\n",
              "       'itério municipal de araras - sp(sepultamento sera em livramento).',\n",
              "       'itério municipal de araras - sp- sepultamento em analândia.',\n",
              "       'crematório de campinas.',\n",
              "       '(velório igreja s. josé maribondo)sepul. cemitério municipal.',\n",
              "       'ira para o crematorio as 10 horas não sera velada .',\n",
              "       'cemit. municipal (velório apartir das 07:00 do dia 19/01.',\n",
              "       'itério municipal de araras - sp/ após as 14 horas ira para o crematorio.',\n",
              "       'cemitério municipal, velório na capela do cemitério.',\n",
              "       'cemitério de cascalho.',\n",
              "       'itério municipal de araras - sp/ cremetório piracicaba - sp.',\n",
              "       'parque dos eucalipitos.',\n",
              "       'velório até 24:00 hrs. em araras sepultamento em conchal às 08:30 hrs.do dia 30/03/2019.',\n",
              "       'cemitério pq. dos eucalíptos.',\n",
              "       'itério municipal de araras - spde conchal - sp.',\n",
              "       'itério municipal de araras - sp sepultamento em cascalho..',\n",
              "       'velório em leme e sepultamento no cemiterio municipal de araras.',\n",
              "       'cemiterio pq. dos eucaliptos.', 'cemitï¿½rio municipal.',\n",
              "       'velado até às 09:00 hrs. em araras e depois vai pra sepultamento em leme.',\n",
              "       'cemitério corpo ficará no velorio até as 10:00 horas.',\n",
              "       'parque dos eucaliptos.',\n",
              "       'cemitério municipal de leme - velório até as 6:00 h do dia 08/05 .',\n",
              "       'itério municipal de araras - sp(vai para o crematório).',\n",
              "       'velado no cemitério municipal ate ás 17h após seguira para crematório.',\n",
              "       'crematorio  .',\n",
              "       'itério municipal de araras - sp(sendo velada colégio canossianas) .',\n",
              "       'itério municipal de araras - sp(sendo velado na basilica).',\n",
              "       'crematório.', 'ério em limeira.',\n",
              "       'ério municipal de araras - spde leme.',\n",
              "       'itério municipal de araras - sp- a partir das 07:00 hrs..',\n",
              "       'cemitério limeira - velório em araras até às 13:30.',\n",
              "       'pq dos eucaliptus.',\n",
              "       'sepultamento cemitério de limeira as 09:30.',\n",
              "       'cemitério de arthur nogueira as 13:00 hr.',\n",
              "       'saída para crematório piracicaba as 10:00h.',\n",
              "       'velado até as 9:30, após será sepultado no parque dos eucaliptos.',\n",
              "       'sepultamento cemitério de limeira as 17:00.',\n",
              "       'cemitério cordeiropolis.', 'cemitério de pirassununga .',\n",
              "       'cemitério  pq  eucaliptos.',\n",
              "       'ira para o crematorio dia 30 as 9h00 .',\n",
              "       'velório até as 15h30 apos sepultamento em porto ferreira sp.',\n",
              "       'cem s joao batista (rio claro).',\n",
              "       'sepultamento cemitério da saudade em limeira as 15:00 hrs.',\n",
              "       'sepultamento às 15:00 horas no cemitério de piracicaba .',\n",
              "       'itério municipal de araras - spestará sendo velada até as 14:00, e será levada para sua cidade (itaiba / pe).',\n",
              "       'itério municipal de araras - sp(esta sendo velada no pq dos eucaliptos).',\n",
              "       'vai para cidade  de arcos  mina  gerais  ( 09:30 hrs.', 'torio .',\n",
              "       'ério   cardeal em  são paulo  .',\n",
              "       'itério municipal de araras - spsepultamento na cidade de leme.',\n",
              "       'cemitério  municipal de conchal sp.',\n",
              "       'sepultamento em minas gerais.',\n",
              "       'itério municipal de araras - sp/ velório a partir das 14:00.',\n",
              "       'itério municipal de araras - sp/ velório a partir das 13:00.',\n",
              "       'crematòrio  de  piracicaba.',\n",
              "       ' velado no cemitério municipal até às 16:00 hrs ( será sepultado em são carlos ).',\n",
              "       'itério municipal de araras - spde conchal sp( está sendo velada no velório municipal de araras até dia 14/03 ) .',\n",
              "       'crematório vila alpina - sp.',\n",
              "       'velório até as 8h00 após o corpo sera traslado para limeira sepultamento ás 10h00.',\n",
              "       'itério municipal de araras - spsepultamento na cidade de amparo.',\n",
              "       'velório cemitério municipal/sepultamento pq. dos /eucaliptos.',\n",
              "       'sepultamento cemitério de conchal.',\n",
              "       'cemitério municipal de araras.',\n",
              "       'ério municipal de araras - spde araras.', 'pq dos eucaliptos.',\n",
              "       'tamento na cidade de bauru.',\n",
              "       'itério municipal de araras - spde araras / sp.',\n",
              "       'rio municipal de araras - spde araras.',\n",
              "       'cemiterio municipal de araras.', 'ério municipal de araras.',\n",
              "       'ério municipal de araras - spde araras / sp.',\n",
              "       'velório no canosfiana / sepultamento no velório municipal de araras - sp.',\n",
              "       'itério municipal de araras - spararas/sp.',\n",
              "       'rio municipal de araras - spde araras / sp.',\n",
              "       'crematório monumental (limeira-sp) velório cemitério municipal araras-sp.',\n",
              "       'crematório rio claro - sp.',\n",
              "       'sepultamento em conchal( será velado em araras até às 15 hrs).',\n",
              "       'itério municipal de araras.', 'cemiterio pq dos eucaliptus.',\n",
              "       'cemiterio municipal de pirassununga.',\n",
              "       'cemiterio pq das palmeiras rio claro.',\n",
              "       'cemiterio municipal de conchal.',\n",
              "       'torio  memorial pq das palmeiras.',\n",
              "       'itério municipal de araras - spde araras(velório canossianas).',\n",
              "       'crematório de limeira.', '09/12/2020.',\n",
              "       'cemitério pq. dos eucaliptoss.',\n",
              "       'itério municipal de araras - spde araras - sp.',\n",
              "       'cemitério parque dos eucaliptos..',\n",
              "       'ério municipal de araras - spde araras - sp.',\n",
              "       'itério municipal de araras - spde araras sp.',\n",
              "       'c sao joao batista (rio claro ).', 'crematorio monumental.', 'c.',\n",
              "       'crematorio monumental de limeira.',\n",
              "       'cemitério parque dos eucaliptos- sp.',\n",
              "       'rio municipal de araras - spde araras - sp.',\n",
              "       'cemiterio municipal de santa barbara d´oeste.',\n",
              "       'cemitério camilópolis - sto. andré - sp.',\n",
              "       'cemitério municipal de araras - sp.', 'descalvado.',\n",
              "       'vai  direto  para  o  crematorio  de limeira  as  11:00 horas.',\n",
              "       'crematório de rio claro.', 'cemiterio municipal de araras sp.',\n",
              "       'cemiterio  de  sumarè.', 'cemiterio pq  dos  eucaliptos.',\n",
              "       'cemitério pq. dos eucalipto - araras sp..',\n",
              "       'cemitério pq. dos eucaliptos..',\n",
              "       'crematorio monumental  limeira.',\n",
              "       'vai ser velado no cemiterio de  limeira.',\n",
              "       'cidade de embu guaçu.', '~]gpcemitério municipal de araras - sp.',\n",
              "       'cemiteiro  de  conchal.',\n",
              "       'vai  sai  do velorio municipal meio dia  para o crematorio  de  piracicaba.',\n",
              "       'crematorio das palmeiras (rio claro ).',\n",
              "       'ira para cremetario as 17:00h.', 'crematorio pq das palmeiras.',\n",
              "       'itério municipal de araras - spde leme - sp.',\n",
              "       'cemiterio  de  riberão  preto.', 'e dos eucaliptos.',\n",
              "       'erio pq  dos  eucaliptos.',\n",
              "       'cemiterio são joão batista em rio claro.',\n",
              "       'cemiterio dos eucaliptus.',\n",
              "       'cemitério pq. dos eucaliptos  araras - sp.',\n",
              "       'vai  ser  velado  no cemiterio  de leme  as 10:00 hrsi.',\n",
              "       'cemitério parque dos eucaliptos - araras - sp.',\n",
              "       'crematório monumental - limeira - sp.',\n",
              "       'vai ser velada as 08;00  em  limeira  e as  10;00  crematorio.',\n",
              "       'cemiterio mucicipal de conchal.',\n",
              "       'cemiterio municipal de descalvado.',\n",
              "       'cemiterio araras/será velado na residência                                                       s -.',\n",
              "       'crematório das palmeiras (rio claro ).', '17:00.',\n",
              "       'ério municipal de arara  hoario a definirs - sp.',\n",
              "       'itério municipal de araras - spde araras-sp.',\n",
              "       'itério municipal de araras - sp -sp.',\n",
              "       'ério municipal de araras - spde araras-sp.',\n",
              "       'sepultamento  14:00  em  conchal.', 'vindo de porto ferreira.',\n",
              "       'vai direto para sâo  carlos.',\n",
              "       'ério pq. dos eucaliptos - araras -sp.',\n",
              "       'crematório de rio claro - sp.',\n",
              "       'vai sair  do velorio as 10:00 para crematorio em limeira.',\n",
              "       'itério municipal de araras - spde araras -sp.',\n",
              "       'ério municipal de araras - spde araras sp.',\n",
              "       'cemiterio  municipal de araras.',\n",
              "       'cemitério  municipal  araras - sp.',\n",
              "       'cemiterio  municipal  araras.',\n",
              "       'cemitério parque dos eucalíptos.',\n",
              "       'crematório cidade jardim rio claro -sp.', 'crematório são paulo.',\n",
              "       'crematório monumental em limeira -sp.',\n",
              "       'cemitetrio municipal de araras.', 'santa cruz da conceição sp.',\n",
              "       'itério municipal de araras - spde araras /sp.',\n",
              "       'crematório monumental limeira sp.',\n",
              "       'rio municipal de araras - spde araras sp.',\n",
              "       'sepultamento em piracicaba.',\n",
              "       'crematorio cidade jardim rio claro 11:00h.',\n",
              "       'tório monumental em limeira -sp.', 'cemterio arthur nogueira.',\n",
              "       'cemiterio municipal de araras( crematório limeira).',\n",
              "       'itério municipal de araras - spde aras - sp.',\n",
              "       'itério municipal de araras - spararas sp.',\n",
              "       'cemitério pq. dos eucaliptos araras sp.',\n",
              "       'cemitério parque dos eucaliptos araras sp.',\n",
              "       'rio municipal de araras - spararas.',\n",
              "       'cemitério municipal araras.', 'cemitério de cambui mg.',\n",
              "       'cemitério de cabo verde /mg.', 'cemitério de paranavaí/pr.',\n",
              "       'cidade de itirapina / sp.', 'cemitério pq. dos  eucaliptos.',\n",
              "       'cemitério pq. dos eucaliptos - araras sp.',\n",
              "       'sepultamento em são paulo.', 'cemiterio  municipal de arars.',\n",
              "       'crematório monumental de limeira - sp.',\n",
              "       'cemitério de conchal / será velado em  araras.', 'araras sp.',\n",
              "       'cemitério pq. dos eucaliptos - araras - sp.',\n",
              "       'tório pq. das palmeiras -rio claro-sp.',\n",
              "       'cemiterio municipal de araras-sp.',\n",
              "       'sepultamento  17;00  rio  claro.',\n",
              "       'crematório monumental de limeira -sp.',\n",
              "       'ério municipal de araras - spde araras..',\n",
              "       'cemitério de conchal.', 'cemitério de rio claro.',\n",
              "       'poços de caldas.', 'crematório unidas piracicaba - sp.',\n",
              "       'cemitério da saudade - limeira - sp.',\n",
              "       'cidade de tapiratiba / sp.',\n",
              "       'será velado até as 09:00 horas no municipal e sepultado no parque dos eucaliptos.',\n",
              "       'cemitério municipal de araras - sp', 'e de nipoã / são paulo.',\n",
              "       'parque do eucalitptos.',\n",
              "       'cemiterio municipal de leme  esta sendo  velada no cemiterio municipal de araras.',\n",
              "       'cemiterio conchal.',\n",
              "       'cemiterio pq  dos  eucaliptos - araras -sp.',\n",
              "       'cemiterio municipal de corumbatai.',\n",
              "       'cemiterio evangelico rio claro.', 'crematório unidas piracicaba.',\n",
              "       'crematório monumental limeira as 10:00.',\n",
              "       'crematório monumental.', 'n. srª desterro jundiaí-sp.',\n",
              "       'itério municipal de araras - sp araras - sp.',\n",
              "       'cemiterio municipal araras.', 'camâra municipal de araras.',\n",
              "       'cemitério dos eucaliptos.', 'cemiterio   parque eucaliptos.',\n",
              "       'crematório memorial de campinas.',\n",
              "       'cenitério municipal de araras.', 'cemiterio de  araras.',\n",
              "       'velório municipal de araras - sp/ sep. leme-sp.',\n",
              "       'cemitério de cordeirópolis.', 'crematório monumental-limeira sp.',\n",
              "       'crematório monumental (limeira).', 'cemiterio de leme.'],\n",
              "      dtype=object)"
            ]
          },
          "metadata": {},
          "execution_count": 418
        }
      ]
    },
    {
      "cell_type": "code",
      "source": [
        "araras = df[\"Local\"].loc[df[\"Local\"].str.contains(\"araras\")].index\n",
        "araras2 = df[\"Local\"].loc[df[\"Local\"].str.contains(\"ério municipal\")].index"
      ],
      "metadata": {
        "id": "nqUPohXI0SP_"
      },
      "execution_count": null,
      "outputs": []
    },
    {
      "cell_type": "code",
      "source": [
        "df[\"Local\"][araras] = \"cem. mun de araras sp\"\n",
        "df[\"Local\"][araras2] = \"cem. mun de araras sp\""
      ],
      "metadata": {
        "id": "HRltDwkkUosJ"
      },
      "execution_count": null,
      "outputs": []
    },
    {
      "cell_type": "code",
      "source": [
        "pq = df[\"Local\"].loc[df[\"Local\"].str.contains(\"eucalipt\")].index\n",
        "pq2 = df[\"Local\"].loc[df[\"Local\"].str.contains(\"eucalíp\")].index\n",
        "\n",
        "df[\"Local\"][pq] = \"pq dos eucaliptos araras sp\"\n",
        "df[\"Local\"][pq2] = \"pq dos eucaliptos araras sp\""
      ],
      "metadata": {
        "id": "tENB3JATrF88"
      },
      "execution_count": null,
      "outputs": []
    },
    {
      "cell_type": "code",
      "source": [
        "leme = df[\"Local\"].loc[df[\"Local\"].str.contains(\"leme\")].index\n",
        "\n",
        "df[\"Local\"][leme] = \"cem. mun de leme sp\""
      ],
      "metadata": {
        "id": "oeeHMTzmybD0"
      },
      "execution_count": null,
      "outputs": []
    },
    {
      "cell_type": "code",
      "source": [
        "monumental = df[\"Local\"].loc[df[\"Local\"].str.contains(\"monumental\")].index\n",
        "\n",
        "df[\"Local\"][monumental] = \"crematório monumental bom pastor\""
      ],
      "metadata": {
        "id": "kMbNwvuJ0_40"
      },
      "execution_count": null,
      "outputs": []
    },
    {
      "cell_type": "code",
      "source": [
        "limeira = df[\"Local\"].loc[df[\"Local\"].str.contains(\"limeira\")].index\n",
        "\n",
        "df[\"Local\"][limeira] = \"cem. mun de limeira sp\""
      ],
      "metadata": {
        "id": "edG2y3Jv1L0I"
      },
      "execution_count": null,
      "outputs": []
    },
    {
      "cell_type": "code",
      "source": [
        "conchal = df[\"Local\"].loc[df[\"Local\"].str.contains(\"conchal\")].index\n",
        "\n",
        "df[\"Local\"][conchal] = \"cem. mun de conchal sp\""
      ],
      "metadata": {
        "id": "6yE8mhZf3lDR"
      },
      "execution_count": null,
      "outputs": []
    },
    {
      "cell_type": "code",
      "source": [
        "rio_claro = df[\"Local\"].loc[df[\"Local\"].str.contains(\"rio claro\")].index\n",
        "\n",
        "df[\"Local\"][rio_claro] = \"cem. mun de rio claro sp\""
      ],
      "metadata": {
        "id": "SP9EHJHI5Wzx"
      },
      "execution_count": null,
      "outputs": []
    },
    {
      "cell_type": "code",
      "source": [
        "df[\"Local\"].value_counts()"
      ],
      "metadata": {
        "id": "JALXnaA7sK1G",
        "colab": {
          "base_uri": "https://localhost:8080/"
        },
        "outputId": "9241e812-83ab-454a-ad5b-3ce7030dcc70"
      },
      "execution_count": null,
      "outputs": [
        {
          "output_type": "execute_result",
          "data": {
            "text/plain": [
              "cem. mun de araras sp                                                                                    9439\n",
              "pq dos eucaliptos araras sp                                                                               393\n",
              "crematório monumental bom pastor                                                                           25\n",
              "c.                                                                                                         22\n",
              "cem. mun de rio claro sp                                                                                   20\n",
              "cem. mun de limeira sp                                                                                     16\n",
              "cem. mun de conchal sp                                                                                      9\n",
              "cemiterio municipal.                                                                                        9\n",
              "cem. mun de leme sp                                                                                         9\n",
              "crematório memorial de campinas.                                                                            2\n",
              "ce.                                                                                                         2\n",
              "09/12/2020.                                                                                                 1\n",
              "cemiterio municipal de santa barbara d´oeste.                                                               1\n",
              "cemiterio municipal de pirassununga.                                                                        1\n",
              "cemitério camilópolis - sto. andré - sp.                                                                    1\n",
              "descalvado.                                                                                                 1\n",
              "cemiterio  de  sumarè.                                                                                      1\n",
              "torio  memorial pq das palmeiras.                                                                           1\n",
              "sepultamento em minas gerais.                                                                               1\n",
              "tamento na cidade de bauru.                                                                                 1\n",
              "crematório vila alpina - sp.                                                                                1\n",
              "crematòrio  de  piracicaba.                                                                                 1\n",
              "vai  sai  do velorio municipal meio dia  para o crematorio  de  piracicaba.                                 1\n",
              "ério   cardeal em  são paulo  .                                                                             1\n",
              "torio .                                                                                                     1\n",
              "vai para cidade  de arcos  mina  gerais  ( 09:30 hrs.                                                       1\n",
              "sepultamento às 15:00 horas no cemitério de piracicaba .                                                    1\n",
              "velório até as 15h30 apos sepultamento em porto ferreira sp.                                                1\n",
              "ira para o crematorio dia 30 as 9h00 .                                                                      1\n",
              "cemitério de pirassununga .                                                                                 1\n",
              "cidade de embu guaçu.                                                                                       1\n",
              "cemiterio  de  riberão  preto.                                                                              1\n",
              "ira para cremetario as 17:00h.                                                                              1\n",
              "cidade de itirapina / sp.                                                                                   1\n",
              "n. srª desterro jundiaí-sp.                                                                                 1\n",
              "crematório unidas piracicaba.                                                                               1\n",
              "cemiterio municipal de corumbatai.                                                                          1\n",
              "parque do eucalitptos.                                                                                      1\n",
              "e de nipoã / são paulo.                                                                                     1\n",
              "cidade de tapiratiba / sp.                                                                                  1\n",
              "crematório unidas piracicaba - sp.                                                                          1\n",
              "poços de caldas.                                                                                            1\n",
              "sepultamento  17;00  rio  claro.                                                                            1\n",
              "cemiterio  municipal de arars.                                                                              1\n",
              "sepultamento em são paulo.                                                                                  1\n",
              "cemitério de paranavaí/pr.                                                                                  1\n",
              "crematorio pq das palmeiras.                                                                                1\n",
              "cemitério de cabo verde /mg.                                                                                1\n",
              "cemitério de cambui mg.                                                                                     1\n",
              "cemterio arthur nogueira.                                                                                   1\n",
              "sepultamento em piracicaba.                                                                                 1\n",
              "santa cruz da conceição sp.                                                                                 1\n",
              "crematório são paulo.                                                                                       1\n",
              "vai direto para sâo  carlos.                                                                                1\n",
              "vindo de porto ferreira.                                                                                    1\n",
              "17:00.                                                                                                      1\n",
              "cemiterio municipal de descalvado.                                                                          1\n",
              "saída para crematório piracicaba as 10:00h.                                                                 1\n",
              "cemitério cordeiropolis.                                                                                    1\n",
              "crematorio  .                                                                                               1\n",
              "cemitério de arthur nogueira as 13:00 hr.                                                                   1\n",
              "crematório.                                                                                                 1\n",
              "o corpo será velado até as 8h da manhã , após irá para o crematório.                                        1\n",
              "cemitério da paz - jardim morumbi são paulo .                                                               1\n",
              "cemitério da saudade - em americana.                                                                        1\n",
              "vai as 10:00 para o crematorio.                                                                             1\n",
              "será sepultada em são paulo.                                                                                1\n",
              "crematorio de campinas.                                                                                     1\n",
              ".                                                                                                           1\n",
              "cemitério muncipal.                                                                                         1\n",
              "eal/ba.                                                                                                     1\n",
              "cemitério mucipal.                                                                                          1\n",
              "crematório de são paulo.                                                                                    1\n",
              "cemitério  parque  dos  ecaliptos.                                                                          1\n",
              "cemitério de missão velha - ceara.                                                                          1\n",
              "cemitério  municipal  vai  sair  as 13:00  para  cemitério  araça   saõ  paulo  sepultamento  as   1.       1\n",
              "cemitério de santa cruz das palmeiras .                                                                     1\n",
              "cemitério  de piracicaba.                                                                                   1\n",
              "cemitério  são  pedro   são    paulo.                                                                       1\n",
              "cemitério da paz em são paulo .                                                                             1\n",
              "cemitério de santa cruz da conceição.                                                                       1\n",
              "crematorio  vila  alpina  saõ  paulo.                                                                       1\n",
              "cemitério pirassununga .                                                                                    1\n",
              "crematório vila alpina são paulo.                                                                           1\n",
              "sepultamento em são bernardo do campo.                                                                      1\n",
              "vai as 12:00 para o crematorio.                                                                             1\n",
              "cem.municipal - velório igreja pentecostal deus é amor,rua:bhia n* 230..                                    1\n",
              "saida para cidade de paiolinho as 12:00 hr.                                                                 1\n",
              "cemitério de porteirinha mg.                                                                                1\n",
              "cemitério corpo ficará no velorio até as 10:00 horas.                                                       1\n",
              "cemitï¿½rio municipal.                                                                                      1\n",
              "parque dos eucalipitos.                                                                                     1\n",
              "cemitério de cascalho.                                                                                      1\n",
              "cemit. municipal (velório apartir das 07:00 do dia 19/01.                                                   1\n",
              "ira para o crematorio as 10 horas não sera velada .                                                         1\n",
              "crematório de campinas.                                                                                     1\n",
              "saida  do  velorio  as  13:00 hrs  para  o  crematório  de  campinas.                                       1\n",
              "cemitério de porto ferreira .                                                                               1\n",
              "crematorio.                                                                                                 1\n",
              "cemitério de cascalho .                                                                                     1\n",
              "ara crematorio municipal campinas.                                                                          1\n",
              "cemitério da paz - morumbi / são paulo .                                                                    1\n",
              "sao bernardo do campo.                                                                                      1\n",
              "sepultamento no cemiterio de cosmopolis.                                                                    1\n",
              "na igreja  da usina são joão .                                                                              1\n",
              "hora e local não definido.                                                                                  1\n",
              "cemitério da lapa em sao paulo.                                                                             1\n",
              "cemitério municipa . informa  orlando lourenço vai para cidade de analândia as  10:00  hrs.                 1\n",
              "o corpo será velado até as 8h 30 da manhã , após irá para o crematório de campinas sp.                      1\n",
              "vai para crematorio municipal campinas.                                                                     1\n",
              "s 15:00 para o crematorio de campinas.                                                                      1\n",
              "cemitério de cordeirópolis.                                                                                 1\n",
              "Name: Local, dtype: int64"
            ]
          },
          "metadata": {},
          "execution_count": 427
        }
      ]
    },
    {
      "cell_type": "code",
      "source": [
        "df.columns"
      ],
      "metadata": {
        "colab": {
          "base_uri": "https://localhost:8080/"
        },
        "id": "zdDCkDPaXiLc",
        "outputId": "e0966b1a-80cd-4efe-fc82-8ac0aef044a3"
      },
      "execution_count": null,
      "outputs": [
        {
          "output_type": "execute_result",
          "data": {
            "text/plain": [
              "Index(['Nome', 'Idade', 'DataFal', 'DataSep', 'Local', 'Horário'], dtype='object')"
            ]
          },
          "metadata": {},
          "execution_count": 428
        }
      ]
    },
    {
      "cell_type": "code",
      "source": [
        "df[\"Nome\"] = df[\"Nome\"].apply(lambda x: x.title())\n",
        "df[\"Local\"] = df[\"Local\"].apply(lambda x: x.title())"
      ],
      "metadata": {
        "id": "saqcvOM0V9AQ"
      },
      "execution_count": null,
      "outputs": []
    },
    {
      "cell_type": "code",
      "source": [
        "df.head()"
      ],
      "metadata": {
        "colab": {
          "base_uri": "https://localhost:8080/",
          "height": 206
        },
        "id": "Nm4iSiVXX7oR",
        "outputId": "21780c66-1226-4bf7-b062-b05aa5951279"
      },
      "execution_count": null,
      "outputs": [
        {
          "output_type": "execute_result",
          "data": {
            "text/plain": [
              "                             Nome Idade     DataFal     DataSep  \\\n",
              "0         Gilson De Jesus Tavares    40  31-01-2012  31-01-2012   \n",
              "1  Luzia De Lourdes Silveira Dias    66  31-01-2012  01-02-2012   \n",
              "2  Luci Terezinha Martim De Paula    53  30-01-2012  30-01-2012   \n",
              "3               Valter Sorrantino    47  30-01-2012  31-01-2012   \n",
              "4       Antonio Vieira Dos Santos    55  30-01-2012  31-01-2012   \n",
              "\n",
              "                   Local Horário  \n",
              "0  Cem. Mun De Araras Sp   15:30  \n",
              "1  Cem. Mun De Araras Sp   15:30  \n",
              "2  Cem. Mun De Araras Sp   15:30  \n",
              "3  Cem. Mun De Araras Sp   15:30  \n",
              "4  Cem. Mun De Araras Sp   15:30  "
            ],
            "text/html": [
              "\n",
              "  <div id=\"df-20290402-4258-4504-a30f-c823f064db95\">\n",
              "    <div class=\"colab-df-container\">\n",
              "      <div>\n",
              "<style scoped>\n",
              "    .dataframe tbody tr th:only-of-type {\n",
              "        vertical-align: middle;\n",
              "    }\n",
              "\n",
              "    .dataframe tbody tr th {\n",
              "        vertical-align: top;\n",
              "    }\n",
              "\n",
              "    .dataframe thead th {\n",
              "        text-align: right;\n",
              "    }\n",
              "</style>\n",
              "<table border=\"1\" class=\"dataframe\">\n",
              "  <thead>\n",
              "    <tr style=\"text-align: right;\">\n",
              "      <th></th>\n",
              "      <th>Nome</th>\n",
              "      <th>Idade</th>\n",
              "      <th>DataFal</th>\n",
              "      <th>DataSep</th>\n",
              "      <th>Local</th>\n",
              "      <th>Horário</th>\n",
              "    </tr>\n",
              "  </thead>\n",
              "  <tbody>\n",
              "    <tr>\n",
              "      <th>0</th>\n",
              "      <td>Gilson De Jesus Tavares</td>\n",
              "      <td>40</td>\n",
              "      <td>31-01-2012</td>\n",
              "      <td>31-01-2012</td>\n",
              "      <td>Cem. Mun De Araras Sp</td>\n",
              "      <td>15:30</td>\n",
              "    </tr>\n",
              "    <tr>\n",
              "      <th>1</th>\n",
              "      <td>Luzia De Lourdes Silveira Dias</td>\n",
              "      <td>66</td>\n",
              "      <td>31-01-2012</td>\n",
              "      <td>01-02-2012</td>\n",
              "      <td>Cem. Mun De Araras Sp</td>\n",
              "      <td>15:30</td>\n",
              "    </tr>\n",
              "    <tr>\n",
              "      <th>2</th>\n",
              "      <td>Luci Terezinha Martim De Paula</td>\n",
              "      <td>53</td>\n",
              "      <td>30-01-2012</td>\n",
              "      <td>30-01-2012</td>\n",
              "      <td>Cem. Mun De Araras Sp</td>\n",
              "      <td>15:30</td>\n",
              "    </tr>\n",
              "    <tr>\n",
              "      <th>3</th>\n",
              "      <td>Valter Sorrantino</td>\n",
              "      <td>47</td>\n",
              "      <td>30-01-2012</td>\n",
              "      <td>31-01-2012</td>\n",
              "      <td>Cem. Mun De Araras Sp</td>\n",
              "      <td>15:30</td>\n",
              "    </tr>\n",
              "    <tr>\n",
              "      <th>4</th>\n",
              "      <td>Antonio Vieira Dos Santos</td>\n",
              "      <td>55</td>\n",
              "      <td>30-01-2012</td>\n",
              "      <td>31-01-2012</td>\n",
              "      <td>Cem. Mun De Araras Sp</td>\n",
              "      <td>15:30</td>\n",
              "    </tr>\n",
              "  </tbody>\n",
              "</table>\n",
              "</div>\n",
              "      <button class=\"colab-df-convert\" onclick=\"convertToInteractive('df-20290402-4258-4504-a30f-c823f064db95')\"\n",
              "              title=\"Convert this dataframe to an interactive table.\"\n",
              "              style=\"display:none;\">\n",
              "        \n",
              "  <svg xmlns=\"http://www.w3.org/2000/svg\" height=\"24px\"viewBox=\"0 0 24 24\"\n",
              "       width=\"24px\">\n",
              "    <path d=\"M0 0h24v24H0V0z\" fill=\"none\"/>\n",
              "    <path d=\"M18.56 5.44l.94 2.06.94-2.06 2.06-.94-2.06-.94-.94-2.06-.94 2.06-2.06.94zm-11 1L8.5 8.5l.94-2.06 2.06-.94-2.06-.94L8.5 2.5l-.94 2.06-2.06.94zm10 10l.94 2.06.94-2.06 2.06-.94-2.06-.94-.94-2.06-.94 2.06-2.06.94z\"/><path d=\"M17.41 7.96l-1.37-1.37c-.4-.4-.92-.59-1.43-.59-.52 0-1.04.2-1.43.59L10.3 9.45l-7.72 7.72c-.78.78-.78 2.05 0 2.83L4 21.41c.39.39.9.59 1.41.59.51 0 1.02-.2 1.41-.59l7.78-7.78 2.81-2.81c.8-.78.8-2.07 0-2.86zM5.41 20L4 18.59l7.72-7.72 1.47 1.35L5.41 20z\"/>\n",
              "  </svg>\n",
              "      </button>\n",
              "      \n",
              "  <style>\n",
              "    .colab-df-container {\n",
              "      display:flex;\n",
              "      flex-wrap:wrap;\n",
              "      gap: 12px;\n",
              "    }\n",
              "\n",
              "    .colab-df-convert {\n",
              "      background-color: #E8F0FE;\n",
              "      border: none;\n",
              "      border-radius: 50%;\n",
              "      cursor: pointer;\n",
              "      display: none;\n",
              "      fill: #1967D2;\n",
              "      height: 32px;\n",
              "      padding: 0 0 0 0;\n",
              "      width: 32px;\n",
              "    }\n",
              "\n",
              "    .colab-df-convert:hover {\n",
              "      background-color: #E2EBFA;\n",
              "      box-shadow: 0px 1px 2px rgba(60, 64, 67, 0.3), 0px 1px 3px 1px rgba(60, 64, 67, 0.15);\n",
              "      fill: #174EA6;\n",
              "    }\n",
              "\n",
              "    [theme=dark] .colab-df-convert {\n",
              "      background-color: #3B4455;\n",
              "      fill: #D2E3FC;\n",
              "    }\n",
              "\n",
              "    [theme=dark] .colab-df-convert:hover {\n",
              "      background-color: #434B5C;\n",
              "      box-shadow: 0px 1px 3px 1px rgba(0, 0, 0, 0.15);\n",
              "      filter: drop-shadow(0px 1px 2px rgba(0, 0, 0, 0.3));\n",
              "      fill: #FFFFFF;\n",
              "    }\n",
              "  </style>\n",
              "\n",
              "      <script>\n",
              "        const buttonEl =\n",
              "          document.querySelector('#df-20290402-4258-4504-a30f-c823f064db95 button.colab-df-convert');\n",
              "        buttonEl.style.display =\n",
              "          google.colab.kernel.accessAllowed ? 'block' : 'none';\n",
              "\n",
              "        async function convertToInteractive(key) {\n",
              "          const element = document.querySelector('#df-20290402-4258-4504-a30f-c823f064db95');\n",
              "          const dataTable =\n",
              "            await google.colab.kernel.invokeFunction('convertToInteractive',\n",
              "                                                     [key], {});\n",
              "          if (!dataTable) return;\n",
              "\n",
              "          const docLinkHtml = 'Like what you see? Visit the ' +\n",
              "            '<a target=\"_blank\" href=https://colab.research.google.com/notebooks/data_table.ipynb>data table notebook</a>'\n",
              "            + ' to learn more about interactive tables.';\n",
              "          element.innerHTML = '';\n",
              "          dataTable['output_type'] = 'display_data';\n",
              "          await google.colab.output.renderOutput(dataTable, element);\n",
              "          const docLink = document.createElement('div');\n",
              "          docLink.innerHTML = docLinkHtml;\n",
              "          element.appendChild(docLink);\n",
              "        }\n",
              "      </script>\n",
              "    </div>\n",
              "  </div>\n",
              "  "
            ]
          },
          "metadata": {},
          "execution_count": 430
        }
      ]
    },
    {
      "cell_type": "code",
      "source": [
        "df.shape"
      ],
      "metadata": {
        "id": "o6OIQHAVsgaW",
        "outputId": "d162e3f8-2208-42a3-99f8-8c2ec7467530",
        "colab": {
          "base_uri": "https://localhost:8080/"
        }
      },
      "execution_count": null,
      "outputs": [
        {
          "output_type": "execute_result",
          "data": {
            "text/plain": [
              "(10047, 6)"
            ]
          },
          "metadata": {},
          "execution_count": 431
        }
      ]
    },
    {
      "cell_type": "code",
      "source": [
        "df.to_excel(\"óbitos.xlsx\", index=False)"
      ],
      "metadata": {
        "id": "w4fbZc-ToKnS"
      },
      "execution_count": null,
      "outputs": []
    }
  ]
}