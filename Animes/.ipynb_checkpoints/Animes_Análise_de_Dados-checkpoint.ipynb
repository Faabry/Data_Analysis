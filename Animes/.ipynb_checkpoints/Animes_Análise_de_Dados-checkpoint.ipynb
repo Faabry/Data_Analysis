{
 "cells": [
  {
   "cell_type": "markdown",
   "id": "1ae7fcf0",
   "metadata": {
    "colab_type": "text",
    "id": "view-in-github"
   },
   "source": [
    "<a href=\"https://colab.research.google.com/github/Faabry/Data_Analysis/blob/main/Animes_An%C3%A1lise_de_Dados.ipynb\" target=\"_parent\"><img src=\"https://colab.research.google.com/assets/colab-badge.svg\" alt=\"Open In Colab\"/></a>"
   ]
  },
  {
   "cell_type": "markdown",
   "id": "55eb08e9",
   "metadata": {
    "id": "55eb08e9"
   },
   "source": [
    "<h1><b>Análise de Dados</b></h1>"
   ]
  },
  {
   "cell_type": "code",
   "execution_count": null,
   "id": "eebabc20",
   "metadata": {
    "id": "eebabc20",
    "outputId": "62fa5a4c-5d6d-479e-933d-e016165d00a0"
   },
   "outputs": [],
   "source": [
    "# Versão Python\n",
    "from platform import python_version\n",
    "print(\"Versão Python Para Este Projeto:\", python_version())"
   ]
  },
  {
   "cell_type": "code",
   "execution_count": null,
   "id": "c7235e73",
   "metadata": {
    "id": "c7235e73"
   },
   "outputs": [],
   "source": [
    "# Imports\n",
    "import pandas as pd\n",
    "import numpy as np\n",
    "import matplotlib.pyplot as plt\n",
    "import seaborn as sns"
   ]
  },
  {
   "cell_type": "code",
   "execution_count": null,
   "id": "e660401b",
   "metadata": {
    "id": "e660401b",
    "outputId": "1dec6228-03b5-4eab-e8b3-12cf5ecbc919"
   },
   "outputs": [],
   "source": [
    "%reload_ext watermark\n",
    "%watermark -a \"Airton Fabre\" --iversions"
   ]
  },
  {
   "cell_type": "markdown",
   "id": "82b732fa",
   "metadata": {
    "id": "82b732fa"
   },
   "source": [
    "<h3><b>Carregando o Conjunto de Dados</b><h3>"
   ]
  },
  {
   "cell_type": "code",
   "execution_count": null,
   "id": "7b4c0202",
   "metadata": {
    "id": "7b4c0202"
   },
   "outputs": [],
   "source": [
    "df = pd.read_csv(\"animesv2.csv\")"
   ]
  },
  {
   "cell_type": "code",
   "execution_count": null,
   "id": "056682d2",
   "metadata": {
    "id": "056682d2",
    "outputId": "680ba6f2-3daf-4a36-9dbd-23dfa51c43a5"
   },
   "outputs": [],
   "source": [
    "df.head()"
   ]
  },
  {
   "cell_type": "code",
   "execution_count": null,
   "id": "feb0a730",
   "metadata": {
    "id": "feb0a730",
    "outputId": "4991bbff-be04-4320-9ba4-2c919855f159"
   },
   "outputs": [],
   "source": [
    "df.info()"
   ]
  },
  {
   "cell_type": "code",
   "execution_count": null,
   "id": "7322d364",
   "metadata": {
    "id": "7322d364",
    "outputId": "e3e41564-12ce-40ee-84f4-2ce7a580c4b3"
   },
   "outputs": [],
   "source": [
    "df.shape"
   ]
  },
  {
   "cell_type": "markdown",
   "id": "85647988",
   "metadata": {
    "id": "85647988"
   },
   "source": [
    "<h3><b>Verificando Valores Ausentes</b></h3>"
   ]
  },
  {
   "cell_type": "code",
   "execution_count": null,
   "id": "08307676",
   "metadata": {
    "id": "08307676"
   },
   "outputs": [],
   "source": [
    "missing_values = df.isna().sum() / len(df) * 100"
   ]
  },
  {
   "cell_type": "code",
   "execution_count": null,
   "id": "ba521fa4",
   "metadata": {
    "id": "ba521fa4",
    "outputId": "2f5cda6e-c7f9-4aff-a7c4-06702a0c9386"
   },
   "outputs": [],
   "source": [
    "# Valores ausentes por percentual\n",
    "missing_values"
   ]
  },
  {
   "cell_type": "code",
   "execution_count": null,
   "id": "210a2b30",
   "metadata": {
    "id": "210a2b30"
   },
   "outputs": [],
   "source": [
    "# Lista de colunas a serem exibidas no gráfico\n",
    "columns = [\"genre\", \"theme\"]"
   ]
  },
  {
   "cell_type": "code",
   "execution_count": null,
   "id": "b379328e",
   "metadata": {
    "id": "b379328e"
   },
   "outputs": [],
   "source": [
    "# Função que retorna valores ausentes passando o dataframe e o nome da coluna como parâmetros\n",
    "def nan_values(df, column):\n",
    "    return df[column].isna().sum()"
   ]
  },
  {
   "cell_type": "code",
   "execution_count": null,
   "id": "c5b45ad3",
   "metadata": {
    "id": "c5b45ad3",
    "outputId": "20466c64-5627-4c7b-9d21-93eac22e2a82"
   },
   "outputs": [],
   "source": [
    "# Valores ausentes por quantidade\n",
    "for col in df:\n",
    "    print(f\"{col}: {nan_values(df, col)} valores ausentes\")"
   ]
  },
  {
   "cell_type": "code",
   "execution_count": null,
   "id": "d29c930b",
   "metadata": {
    "id": "d29c930b",
    "outputId": "646072ab-a68e-40a3-94ad-aacc85b9c915"
   },
   "outputs": [],
   "source": [
    "# Figura\n",
    "plt.figure(figsize=(30, 40))\n",
    "\n",
    "# Contador\n",
    "A = 0\n",
    "for col in columns:\n",
    "    A += 1\n",
    "    plt.subplot(2, 1, A)\n",
    "    # Título\n",
    "    plt.title(f\"Valores Ausentes Em {col}\", fontdict={\"size\": 50})\n",
    "\n",
    "    # Gráfico\n",
    "    ax = sns.countplot(data=df.fillna(\"NaN\"), x=col, alpha=0.7, edgecolor=\"black\")\n",
    "    plt.xticks(rotation=45, size=22, labels=None)\n",
    "    plt.yticks(labels=None)\n",
    "    ax.set_xlabel(\"\")\n",
    "    ax.set_ylabel(\"\")\n",
    "    # Rótulo de dados\n",
    "    for p in ax.patches:\n",
    "        ax.annotate(f\"{p.get_height()}\", (p.get_x()+0.4, p.get_height()),\n",
    "                   color=\"black\", ha=\"center\", size=20)\n",
    "\n",
    "# Show\n",
    "plt.show()"
   ]
  },
  {
   "cell_type": "markdown",
   "id": "5f908eba",
   "metadata": {
    "id": "5f908eba"
   },
   "source": [
    "<p>A variável <b>theme</b> é que mais possui valores ausentes, seguida da variável <b>end_date</b> que por sinal faz sentido ter valores ausentes para animes que <b>ainda estão em exibição</b>, logo não existe uma data de encerramento, não analisamos graficamente as variáveis <b>episodes</b> e <b>end_date</b> pois elas contém muita informação e o grafico ficaria poluído demais.</p>"
   ]
  },
  {
   "cell_type": "markdown",
   "id": "2a12926e",
   "metadata": {
    "id": "2a12926e"
   },
   "source": [
    "<h1><b>Qual foi o anime mais favoritado?</b></h1>"
   ]
  },
  {
   "cell_type": "code",
   "execution_count": null,
   "id": "85cd8721",
   "metadata": {
    "id": "85cd8721",
    "outputId": "6e83be5d-aaab-4a78-8ace-095234a4ab02"
   },
   "outputs": [],
   "source": [
    "df.loc[df[\"favorites\"].argmax()]"
   ]
  },
  {
   "cell_type": "markdown",
   "id": "e0c338a3",
   "metadata": {
    "id": "e0c338a3"
   },
   "source": [
    "<p>O anime mais favoritado foi Initial D Second Stage classificado no Rank 396 com nada menos que 978.00 favoritações.</p>"
   ]
  },
  {
   "cell_type": "markdown",
   "id": "9cc20fb8",
   "metadata": {
    "id": "9cc20fb8"
   },
   "source": [
    "<h1><b>Quais os Gêneros de Animes?</b></h1>"
   ]
  },
  {
   "cell_type": "code",
   "execution_count": null,
   "id": "e450972d",
   "metadata": {
    "id": "e450972d",
    "outputId": "9bb14244-16a8-43eb-9b55-9dabc4424a9e"
   },
   "outputs": [],
   "source": [
    "df[\"genre\"].value_counts()"
   ]
  },
  {
   "cell_type": "markdown",
   "id": "885570db",
   "metadata": {
    "id": "885570db"
   },
   "source": [
    "<p>Nosso Top 3 de gêneros são:</p>\n",
    "<ul>\n",
    "    <li> Action: 182</li>\n",
    "    <li> Drama: 70</li>\n",
    "    <li> Comedy: 52</li>\n",
    "</ul>\n",
    "<p> Temos muito mais animes do tipo Action, oque significa que tendem a ser mais populares dentre os demais generos? </p>"
   ]
  },
  {
   "cell_type": "code",
   "execution_count": null,
   "id": "f977b7b6",
   "metadata": {
    "id": "f977b7b6",
    "outputId": "3377c28c-6dda-4bdf-94f9-235d877e5c00"
   },
   "outputs": [],
   "source": [
    "# Verificando os animes do tipo Action que já foram encerrados\n",
    "df.loc[(df[\"genre\"] == \"Action\") & (df[\"status\"] == \"Finished\")]"
   ]
  },
  {
   "cell_type": "code",
   "execution_count": null,
   "id": "79eacea3",
   "metadata": {
    "id": "79eacea3",
    "outputId": "d772fa59-546b-464e-d8d7-7d566fe142b3"
   },
   "outputs": [],
   "source": [
    "# Localizando a variável \"genre\" que seja \"Action\" e tenha sido encerrado\n",
    "df.loc[(df[\"genre\"] == \"Action\") & (df[\"status\"] == \"Finished\")].groupby(by=\"status\").count()"
   ]
  },
  {
   "cell_type": "code",
   "execution_count": null,
   "id": "a02272a6",
   "metadata": {
    "id": "a02272a6",
    "outputId": "a063f53a-5469-4142-b996-c8a6bea379c1"
   },
   "outputs": [],
   "source": [
    "# Verificando os gêneros com agregação da variável \"status\"\n",
    "df.groupby([\"genre\"])[\"status\"].count()"
   ]
  },
  {
   "cell_type": "markdown",
   "id": "6075d6f1",
   "metadata": {
    "id": "6075d6f1"
   },
   "source": [
    "<h1><b>Conclusão:</b></h1>\n",
    "<p>Mesmo após o seu encerramento, os animes do gênero Action continuam sendo os animes mais populares dentre os gêneros.</p>"
   ]
  },
  {
   "cell_type": "markdown",
   "id": "366f15f3",
   "metadata": {
    "id": "366f15f3"
   },
   "source": [
    "<h1><b>Quantos animes ja foram encerrados e quantos ainda estão em exibição?</b></h1>"
   ]
  },
  {
   "cell_type": "code",
   "execution_count": null,
   "id": "eaf21918",
   "metadata": {
    "id": "eaf21918",
    "outputId": "8d52ae8a-73b7-4088-f851-c60b56a66b62"
   },
   "outputs": [],
   "source": [
    "df[\"status\"].value_counts()"
   ]
  },
  {
   "cell_type": "code",
   "execution_count": null,
   "id": "44ffb462",
   "metadata": {
    "id": "44ffb462",
    "outputId": "a127bde0-d68b-4b08-bb94-5d1b1420e82d"
   },
   "outputs": [],
   "source": [
    "# Figura\n",
    "plt.figure(figsize=(10, 6))\n",
    "\n",
    "# Gráfico\n",
    "ax = sns.countplot(data=df, x=\"status\", alpha=0.7, edgecolor=\"black\")\n",
    "\n",
    "# Título\n",
    "plt.title(\"Finalizados x Em Exibição\", fontdict={\"size\": 30})\n",
    "\n",
    "# Removendo os títulos dos eixos X Y\n",
    "ax.set_ylabel(\"\")\n",
    "ax.set_xlabel(\"\")\n",
    "\n",
    "# Rótulo de dados\n",
    "for p in ax.patches:\n",
    "    ax.annotate(f\"{p.get_height()}\", (p.get_x()+0.4, p.get_height()),\n",
    "               color=\"black\", size=15, ha=\"center\")\n",
    "    \n",
    "# Show\n",
    "plt.show()"
   ]
  },
  {
   "cell_type": "markdown",
   "id": "1f8124c5",
   "metadata": {
    "id": "1f8124c5"
   },
   "source": [
    "<p>Apesar de termos 500 registros de animes, existem milhares por ai, é muito interessante descobrir que do top 500 quase 100% dos animes ja foram encerrados e continuam no ranking, vamos verificar quais desses animes foram encerrados recentemente.</p>"
   ]
  },
  {
   "cell_type": "code",
   "execution_count": null,
   "id": "37f8bb4c",
   "metadata": {
    "id": "37f8bb4c"
   },
   "outputs": [],
   "source": [
    "# Localizando as linhas onde \"status\" seja igual à \"Finished\" e agrupando pela variável \"end_date\"\n",
    "finished = df.loc[df[\"status\"] == \"Finished\"].groupby(\"end_date\").apply(lambda x: x[[\"end_date\"]]).reset_index(drop=True)"
   ]
  },
  {
   "cell_type": "code",
   "execution_count": null,
   "id": "f7a3e45b",
   "metadata": {
    "id": "f7a3e45b"
   },
   "outputs": [],
   "source": [
    "# Agora vamos filtrar somente o ano de cada anime\n",
    "total = []\n",
    "for col in finished[\"end_date\"]:\n",
    "        total.append(col[-4::])"
   ]
  },
  {
   "cell_type": "code",
   "execution_count": null,
   "id": "f05257f1",
   "metadata": {
    "id": "f05257f1"
   },
   "outputs": [],
   "source": [
    "# Transformando a lista em uma Series \n",
    "year = pd.Series(total)"
   ]
  },
  {
   "cell_type": "code",
   "execution_count": null,
   "id": "fd835a80",
   "metadata": {
    "id": "fd835a80",
    "outputId": "85a715be-efa7-476e-b568-1c7a40fd1448"
   },
   "outputs": [],
   "source": [
    "# Contando os valores\n",
    "year.value_counts()"
   ]
  },
  {
   "cell_type": "markdown",
   "id": "aa96ffab",
   "metadata": {
    "id": "aa96ffab"
   },
   "source": [
    "<p>Oque podemos verificar é que a maioria dos registros está incompleta, vamos verificar mais afundo.</p>"
   ]
  },
  {
   "cell_type": "code",
   "execution_count": null,
   "id": "38375c9d",
   "metadata": {
    "id": "38375c9d"
   },
   "outputs": [],
   "source": [
    "# Verificando o tamanho da linha da variável \"end_date\"\n",
    "size = finished[\"end_date\"].apply(lambda x: len(x))"
   ]
  },
  {
   "cell_type": "code",
   "execution_count": null,
   "id": "247fa614",
   "metadata": {
    "id": "247fa614",
    "outputId": "c104eb00-f868-44fc-9799-15158cb5f896"
   },
   "outputs": [],
   "source": [
    "# Size\n",
    "size.value_counts()"
   ]
  },
  {
   "cell_type": "markdown",
   "id": "3f83bd83",
   "metadata": {
    "id": "3f83bd83"
   },
   "source": [
    "<h1><b>Conclusão</b></h1>\n",
    "<p> Dos 489 registros 158 estão com ausência de informação, portanto não podemos levar em consideração todos os registros, no entanto, podemos observar que todos os animes foram encerrados à pelo menos 1 ano atrás, oque significa que mesmo após o seu termino ainda continuam populares.</p>"
   ]
  },
  {
   "cell_type": "markdown",
   "id": "6b0c2874",
   "metadata": {},
   "source": [
    "<h1><b>Qual a média de duração dos episódios?</b></h1>"
   ]
  },
  {
   "cell_type": "code",
   "execution_count": null,
   "id": "587c6de9",
   "metadata": {},
   "outputs": [],
   "source": [
    "df.head(3)"
   ]
  },
  {
   "cell_type": "code",
   "execution_count": null,
   "id": "bdd4323d",
   "metadata": {},
   "outputs": [],
   "source": [
    "# Localizando as linhas do dataframe onde o nome seja diferente de \"Unknown\"\n",
    "not_unknown = df.loc[df[\"duration\"] != \"Unknown\"]"
   ]
  },
  {
   "cell_type": "code",
   "execution_count": null,
   "id": "8ba9c99f",
   "metadata": {},
   "outputs": [],
   "source": [
    "not_unknown"
   ]
  },
  {
   "cell_type": "code",
   "execution_count": null,
   "id": "9bde30c0",
   "metadata": {},
   "outputs": [],
   "source": [
    "# Convertendo as categorias da variável \"duration\" para o tipo int64\n",
    "not_unknown[\"duration\"] = pd.to_numeric(not_unknown[\"duration\"])"
   ]
  },
  {
   "cell_type": "code",
   "execution_count": 63,
   "id": "d2649500",
   "metadata": {},
   "outputs": [
    {
     "data": {
      "text/plain": [
       "18.917670682730925"
      ]
     },
     "execution_count": 63,
     "metadata": {},
     "output_type": "execute_result"
    }
   ],
   "source": [
    "# Calculando a média\n",
    "not_unknown[\"duration\"].mean()"
   ]
  },
  {
   "cell_type": "markdown",
   "id": "ff0f7086",
   "metadata": {},
   "source": [
    "<h1><b>Qual o maior e menor tempo de duração de um episódio</b></h1>"
   ]
  },
  {
   "cell_type": "code",
   "execution_count": 69,
   "id": "e24d6869",
   "metadata": {},
   "outputs": [
    {
     "data": {
      "text/plain": [
       "name           Gankutsuou\n",
       "ranked                422\n",
       "genre               Award\n",
       "theme                 NaN\n",
       "status           Finished\n",
       "episodes             24.0\n",
       "duration               24\n",
       "start_date    Apr;12;2023\n",
       "end_date      Mar;30;2005\n",
       "favorites           3.779\n",
       "Name: 420, dtype: object"
      ]
     },
     "execution_count": 69,
     "metadata": {},
     "output_type": "execute_result"
    }
   ],
   "source": [
    "not_unknown.loc[not_unknown[\"duration\"].argmax()]"
   ]
  },
  {
   "cell_type": "code",
   "execution_count": null,
   "id": "64a3e8d5",
   "metadata": {},
   "outputs": [],
   "source": []
  }
 ],
 "metadata": {
  "colab": {
   "include_colab_link": true,
   "provenance": []
  },
  "kernelspec": {
   "display_name": "Python 3 (ipykernel)",
   "language": "python",
   "name": "python3"
  },
  "language_info": {
   "codemirror_mode": {
    "name": "ipython",
    "version": 3
   },
   "file_extension": ".py",
   "mimetype": "text/x-python",
   "name": "python",
   "nbconvert_exporter": "python",
   "pygments_lexer": "ipython3",
   "version": "3.10.9"
  }
 },
 "nbformat": 4,
 "nbformat_minor": 5
}
