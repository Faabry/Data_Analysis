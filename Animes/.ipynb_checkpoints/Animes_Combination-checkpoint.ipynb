{
 "cells": [
  {
   "cell_type": "markdown",
   "id": "e185b235",
   "metadata": {
    "colab_type": "text",
    "id": "view-in-github"
   },
   "source": [
    "<a href=\"https://colab.research.google.com/github/Faabry/Data_Analysis/blob/main/Animes_Combination.ipynb\" target=\"_parent\"><img src=\"https://colab.research.google.com/assets/colab-badge.svg\" alt=\"Open In Colab\"/></a>"
   ]
  },
  {
   "cell_type": "markdown",
   "id": "e3f254d8",
   "metadata": {
    "id": "e3f254d8"
   },
   "source": [
    "<h1><b>Combination</b></h1>"
   ]
  },
  {
   "cell_type": "code",
   "execution_count": 1,
   "id": "f7d0b1c2",
   "metadata": {
    "id": "f7d0b1c2",
    "outputId": "041fd41c-9d7c-4d72-c4ac-9b14f41fd6d3"
   },
   "outputs": [
    {
     "name": "stdout",
     "output_type": "stream",
     "text": [
      "Versão Python Para Este Projeto: 3.10.9\n"
     ]
    }
   ],
   "source": [
    "# Versão Python\n",
    "from platform import python_version\n",
    "print(\"Versão Python Para Este Projeto:\", python_version())"
   ]
  },
  {
   "cell_type": "code",
   "execution_count": 2,
   "id": "8f19d3e4",
   "metadata": {
    "id": "8f19d3e4"
   },
   "outputs": [],
   "source": [
    "# Imports\n",
    "import json\n",
    "import pandas as pd"
   ]
  },
  {
   "cell_type": "code",
   "execution_count": 3,
   "id": "54f8c500",
   "metadata": {
    "id": "54f8c500",
    "outputId": "9333d20c-4784-41f4-c9c9-9b5c3c5df845"
   },
   "outputs": [
    {
     "name": "stdout",
     "output_type": "stream",
     "text": [
      "Author: Airton Fabre\n",
      "\n",
      "pandas: 1.5.3\n",
      "json  : 2.0.9\n",
      "\n"
     ]
    }
   ],
   "source": [
    "%reload_ext watermark\n",
    "%watermark -a \"Airton Fabre\" --iversions"
   ]
  },
  {
   "cell_type": "code",
   "execution_count": 4,
   "id": "a23d26be",
   "metadata": {
    "id": "a23d26be"
   },
   "outputs": [],
   "source": [
    "# Lista\n",
    "animes = []\n",
    "\n",
    "# Loop para percorrer todos os arquivos.txt\n",
    "for limit in range(0, 451, 50):\n",
    "    \n",
    "    # Acessando os arquivos no modo leitura e carregando no formato JSON\n",
    "    with open(f\"dados/AnimeInfo/animeInfo{limit}.txt\", \"r\") as file:\n",
    "        animeInfo = json.load(file)\n",
    "        \n",
    "        # Extraindo as informações dos 50 animes presentes em cada arquivo.txt\n",
    "        # Append das informações em uma lista\n",
    "        for link in range(50):\n",
    "            animes.append(animeInfo[link])"
   ]
  },
  {
   "cell_type": "code",
   "execution_count": 5,
   "id": "f6b70384",
   "metadata": {
    "id": "f6b70384"
   },
   "outputs": [],
   "source": [
    "# Criando um DataFrame a partir da lista\n",
    "df = pd.DataFrame(animes)"
   ]
  },
  {
   "cell_type": "code",
   "execution_count": 6,
   "id": "81d30ab7",
   "metadata": {
    "id": "81d30ab7",
    "outputId": "2fc37dcb-221e-44ec-ec60-d7cb70484c29"
   },
   "outputs": [
    {
     "data": {
      "text/html": [
       "<div>\n",
       "<style scoped>\n",
       "    .dataframe tbody tr th:only-of-type {\n",
       "        vertical-align: middle;\n",
       "    }\n",
       "\n",
       "    .dataframe tbody tr th {\n",
       "        vertical-align: top;\n",
       "    }\n",
       "\n",
       "    .dataframe thead th {\n",
       "        text-align: right;\n",
       "    }\n",
       "</style>\n",
       "<table border=\"1\" class=\"dataframe\">\n",
       "  <thead>\n",
       "    <tr style=\"text-align: right;\">\n",
       "      <th></th>\n",
       "      <th>name</th>\n",
       "      <th>ranked</th>\n",
       "      <th>genre</th>\n",
       "      <th>theme</th>\n",
       "      <th>status</th>\n",
       "      <th>episodes</th>\n",
       "      <th>duration</th>\n",
       "      <th>start_date</th>\n",
       "      <th>end_date</th>\n",
       "      <th>favorites</th>\n",
       "    </tr>\n",
       "  </thead>\n",
       "  <tbody>\n",
       "    <tr>\n",
       "      <th>0</th>\n",
       "      <td>\"Oshi no Ko\"</td>\n",
       "      <td>Ranked #1</td>\n",
       "      <td>DramaDrama,</td>\n",
       "      <td>ReincarnationReincarnation,</td>\n",
       "      <td>Currently</td>\n",
       "      <td>11</td>\n",
       "      <td>Unknown</td>\n",
       "      <td>[Apr12, 2023]</td>\n",
       "      <td>[?]</td>\n",
       "      <td>7.523</td>\n",
       "    </tr>\n",
       "    <tr>\n",
       "      <th>1</th>\n",
       "      <td>Fullmetal Alchemist: Brotherhood</td>\n",
       "      <td>Ranked #2</td>\n",
       "      <td>ActionAction,</td>\n",
       "      <td>None</td>\n",
       "      <td>Finished</td>\n",
       "      <td>64</td>\n",
       "      <td>24</td>\n",
       "      <td>[Apr5, 2009]</td>\n",
       "      <td>[Jul4, 2010]</td>\n",
       "      <td>215.444</td>\n",
       "    </tr>\n",
       "    <tr>\n",
       "      <th>2</th>\n",
       "      <td>Shingeki no Kyojin: The Final Season - Kankets...</td>\n",
       "      <td>Ranked #3</td>\n",
       "      <td>ActionAction,</td>\n",
       "      <td>GoreGore,</td>\n",
       "      <td>Currently</td>\n",
       "      <td>2</td>\n",
       "      <td>1</td>\n",
       "      <td>[Mar4, 2023]</td>\n",
       "      <td>[2023]</td>\n",
       "      <td>7.949</td>\n",
       "    </tr>\n",
       "    <tr>\n",
       "      <th>3</th>\n",
       "      <td>Steins;Gate</td>\n",
       "      <td>Ranked #4</td>\n",
       "      <td>DramaDrama,</td>\n",
       "      <td>PsychologicalPsychological,</td>\n",
       "      <td>Finished</td>\n",
       "      <td>24</td>\n",
       "      <td>24</td>\n",
       "      <td>[Apr6, 2011]</td>\n",
       "      <td>[Sep14, 2011]</td>\n",
       "      <td>181.179</td>\n",
       "    </tr>\n",
       "    <tr>\n",
       "      <th>4</th>\n",
       "      <td>Bleach: Sennen Kessen-hen</td>\n",
       "      <td>Ranked #5</td>\n",
       "      <td>ActionAction,</td>\n",
       "      <td>None</td>\n",
       "      <td>Finished</td>\n",
       "      <td>13</td>\n",
       "      <td>24</td>\n",
       "      <td>[Oct11, 2022]</td>\n",
       "      <td>[Dec27, 2022]</td>\n",
       "      <td>16.916</td>\n",
       "    </tr>\n",
       "  </tbody>\n",
       "</table>\n",
       "</div>"
      ],
      "text/plain": [
       "                                                name     ranked  \\\n",
       "0                                       \"Oshi no Ko\"  Ranked #1   \n",
       "1                   Fullmetal Alchemist: Brotherhood  Ranked #2   \n",
       "2  Shingeki no Kyojin: The Final Season - Kankets...  Ranked #3   \n",
       "3                                        Steins;Gate  Ranked #4   \n",
       "4                          Bleach: Sennen Kessen-hen  Ranked #5   \n",
       "\n",
       "           genre                        theme     status episodes duration  \\\n",
       "0    DramaDrama,  ReincarnationReincarnation,  Currently       11  Unknown   \n",
       "1  ActionAction,                         None   Finished       64       24   \n",
       "2  ActionAction,                    GoreGore,  Currently        2        1   \n",
       "3    DramaDrama,  PsychologicalPsychological,   Finished       24       24   \n",
       "4  ActionAction,                         None   Finished       13       24   \n",
       "\n",
       "      start_date       end_date favorites  \n",
       "0  [Apr12, 2023]            [?]     7.523  \n",
       "1   [Apr5, 2009]   [Jul4, 2010]   215.444  \n",
       "2   [Mar4, 2023]         [2023]     7.949  \n",
       "3   [Apr6, 2011]  [Sep14, 2011]   181.179  \n",
       "4  [Oct11, 2022]  [Dec27, 2022]    16.916  "
      ]
     },
     "execution_count": 6,
     "metadata": {},
     "output_type": "execute_result"
    }
   ],
   "source": [
    "df.head()"
   ]
  },
  {
   "cell_type": "code",
   "execution_count": 7,
   "id": "2a0816cc",
   "metadata": {
    "id": "2a0816cc",
    "outputId": "c6106e61-c446-4045-9d58-001e7caf854e"
   },
   "outputs": [
    {
     "data": {
      "text/plain": [
       "(500, 10)"
      ]
     },
     "execution_count": 7,
     "metadata": {},
     "output_type": "execute_result"
    }
   ],
   "source": [
    "df.shape"
   ]
  },
  {
   "cell_type": "code",
   "execution_count": 8,
   "id": "deb9735b",
   "metadata": {
    "id": "deb9735b",
    "outputId": "3a282f5e-7d0a-4230-ea36-0af5fa64a62b"
   },
   "outputs": [
    {
     "name": "stdout",
     "output_type": "stream",
     "text": [
      "<class 'pandas.core.frame.DataFrame'>\n",
      "RangeIndex: 500 entries, 0 to 499\n",
      "Data columns (total 10 columns):\n",
      " #   Column      Non-Null Count  Dtype \n",
      "---  ------      --------------  ----- \n",
      " 0   name        500 non-null    object\n",
      " 1   ranked      500 non-null    object\n",
      " 2   genre       402 non-null    object\n",
      " 3   theme       273 non-null    object\n",
      " 4   status      500 non-null    object\n",
      " 5   episodes    495 non-null    object\n",
      " 6   duration    500 non-null    object\n",
      " 7   start_date  500 non-null    object\n",
      " 8   end_date    500 non-null    object\n",
      " 9   favorites   500 non-null    object\n",
      "dtypes: object(10)\n",
      "memory usage: 39.2+ KB\n"
     ]
    }
   ],
   "source": [
    "df.info()"
   ]
  },
  {
   "cell_type": "markdown",
   "id": "73069673",
   "metadata": {
    "id": "73069673"
   },
   "source": [
    "<p>Salvando o DataFrame em disco</p>"
   ]
  },
  {
   "cell_type": "code",
   "execution_count": 9,
   "id": "001b3b30",
   "metadata": {
    "id": "001b3b30"
   },
   "outputs": [],
   "source": [
    "df.to_csv(\"animes.csv\", index=False)"
   ]
  },
  {
   "cell_type": "markdown",
   "id": "6c1eba07",
   "metadata": {
    "id": "6c1eba07"
   },
   "source": [
    "<h1><b>Fim</b></h1>"
   ]
  }
 ],
 "metadata": {
  "colab": {
   "include_colab_link": true,
   "provenance": []
  },
  "kernelspec": {
   "display_name": "Python 3 (ipykernel)",
   "language": "python",
   "name": "python3"
  },
  "language_info": {
   "codemirror_mode": {
    "name": "ipython",
    "version": 3
   },
   "file_extension": ".py",
   "mimetype": "text/x-python",
   "name": "python",
   "nbconvert_exporter": "python",
   "pygments_lexer": "ipython3",
   "version": "3.10.9"
  }
 },
 "nbformat": 4,
 "nbformat_minor": 5
}
