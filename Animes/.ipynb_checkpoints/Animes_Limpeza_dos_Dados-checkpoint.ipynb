{
 "cells": [
  {
   "cell_type": "markdown",
   "id": "fb7f5a37",
   "metadata": {
    "colab_type": "text",
    "id": "view-in-github"
   },
   "source": [
    "<a href=\"https://colab.research.google.com/github/Faabry/Data_Analysis/blob/main/Animes_Limpeza_dos_Dados.ipynb\" target=\"_parent\"><img src=\"https://colab.research.google.com/assets/colab-badge.svg\" alt=\"Open In Colab\"/></a>"
   ]
  },
  {
   "cell_type": "markdown",
   "id": "cd4107b7",
   "metadata": {
    "id": "cd4107b7"
   },
   "source": [
    "<h1><b>Limpeza dos Dados</b></h1>"
   ]
  },
  {
   "cell_type": "code",
   "execution_count": 1,
   "id": "c2338fbf",
   "metadata": {
    "id": "c2338fbf",
    "outputId": "f581807d-1642-469e-b1d1-2807855f3c96"
   },
   "outputs": [
    {
     "name": "stdout",
     "output_type": "stream",
     "text": [
      "Versão Python Para Este Projeto: 3.10.9\n"
     ]
    }
   ],
   "source": [
    "# Versão Python\n",
    "from platform import python_version\n",
    "print(\"Versão Python Para Este Projeto:\", python_version())"
   ]
  },
  {
   "cell_type": "code",
   "execution_count": 2,
   "id": "3ab27648",
   "metadata": {
    "id": "3ab27648"
   },
   "outputs": [],
   "source": [
    "# Imports\n",
    "import re\n",
    "import pandas as pd\n",
    "import numpy as np\n",
    "import warnings\n",
    "warnings.filterwarnings(\"ignore\")"
   ]
  },
  {
   "cell_type": "code",
   "execution_count": 3,
   "id": "fa6e5633",
   "metadata": {
    "id": "fa6e5633",
    "outputId": "3bd0d066-91c1-4396-d71d-216e6e052088"
   },
   "outputs": [
    {
     "name": "stdout",
     "output_type": "stream",
     "text": [
      "Author: Airton Fabre\n",
      "\n",
      "pandas: 1.5.3\n",
      "numpy : 1.23.5\n",
      "re    : 2.2.1\n",
      "\n"
     ]
    }
   ],
   "source": [
    "%reload_ext watermark\n",
    "%watermark -a \"Airton Fabre\" --iversions"
   ]
  },
  {
   "cell_type": "markdown",
   "id": "54048766",
   "metadata": {
    "id": "54048766"
   },
   "source": [
    "<h1><b>Carregando o Dataset</b></h1>"
   ]
  },
  {
   "cell_type": "code",
   "execution_count": 4,
   "id": "0523aec0",
   "metadata": {
    "id": "0523aec0"
   },
   "outputs": [],
   "source": [
    "# Carregando os Dados\n",
    "df = pd.read_csv(\"animes.csv\")"
   ]
  },
  {
   "cell_type": "code",
   "execution_count": 5,
   "id": "f07a8422",
   "metadata": {
    "id": "f07a8422",
    "outputId": "0323c29f-5db1-4076-97ce-42b4ba9f7917"
   },
   "outputs": [
    {
     "data": {
      "text/html": [
       "<div>\n",
       "<style scoped>\n",
       "    .dataframe tbody tr th:only-of-type {\n",
       "        vertical-align: middle;\n",
       "    }\n",
       "\n",
       "    .dataframe tbody tr th {\n",
       "        vertical-align: top;\n",
       "    }\n",
       "\n",
       "    .dataframe thead th {\n",
       "        text-align: right;\n",
       "    }\n",
       "</style>\n",
       "<table border=\"1\" class=\"dataframe\">\n",
       "  <thead>\n",
       "    <tr style=\"text-align: right;\">\n",
       "      <th></th>\n",
       "      <th>name</th>\n",
       "      <th>ranked</th>\n",
       "      <th>genre</th>\n",
       "      <th>theme</th>\n",
       "      <th>status</th>\n",
       "      <th>episodes</th>\n",
       "      <th>duration</th>\n",
       "      <th>start_date</th>\n",
       "      <th>end_date</th>\n",
       "      <th>favorites</th>\n",
       "    </tr>\n",
       "  </thead>\n",
       "  <tbody>\n",
       "    <tr>\n",
       "      <th>0</th>\n",
       "      <td>\"Oshi no Ko\"</td>\n",
       "      <td>Ranked #1</td>\n",
       "      <td>DramaDrama,</td>\n",
       "      <td>ReincarnationReincarnation,</td>\n",
       "      <td>Currently</td>\n",
       "      <td>11.0</td>\n",
       "      <td>Unknown</td>\n",
       "      <td>['Apr12', '2023']</td>\n",
       "      <td>['?']</td>\n",
       "      <td>7.523</td>\n",
       "    </tr>\n",
       "    <tr>\n",
       "      <th>1</th>\n",
       "      <td>Fullmetal Alchemist: Brotherhood</td>\n",
       "      <td>Ranked #2</td>\n",
       "      <td>ActionAction,</td>\n",
       "      <td>NaN</td>\n",
       "      <td>Finished</td>\n",
       "      <td>64.0</td>\n",
       "      <td>24</td>\n",
       "      <td>['Apr5', '2009']</td>\n",
       "      <td>['Jul4', '2010']</td>\n",
       "      <td>215.444</td>\n",
       "    </tr>\n",
       "    <tr>\n",
       "      <th>2</th>\n",
       "      <td>Shingeki no Kyojin: The Final Season - Kankets...</td>\n",
       "      <td>Ranked #3</td>\n",
       "      <td>ActionAction,</td>\n",
       "      <td>GoreGore,</td>\n",
       "      <td>Currently</td>\n",
       "      <td>2.0</td>\n",
       "      <td>1</td>\n",
       "      <td>['Mar4', '2023']</td>\n",
       "      <td>['2023']</td>\n",
       "      <td>7.949</td>\n",
       "    </tr>\n",
       "    <tr>\n",
       "      <th>3</th>\n",
       "      <td>Steins;Gate</td>\n",
       "      <td>Ranked #4</td>\n",
       "      <td>DramaDrama,</td>\n",
       "      <td>PsychologicalPsychological,</td>\n",
       "      <td>Finished</td>\n",
       "      <td>24.0</td>\n",
       "      <td>24</td>\n",
       "      <td>['Apr6', '2011']</td>\n",
       "      <td>['Sep14', '2011']</td>\n",
       "      <td>181.179</td>\n",
       "    </tr>\n",
       "    <tr>\n",
       "      <th>4</th>\n",
       "      <td>Bleach: Sennen Kessen-hen</td>\n",
       "      <td>Ranked #5</td>\n",
       "      <td>ActionAction,</td>\n",
       "      <td>NaN</td>\n",
       "      <td>Finished</td>\n",
       "      <td>13.0</td>\n",
       "      <td>24</td>\n",
       "      <td>['Oct11', '2022']</td>\n",
       "      <td>['Dec27', '2022']</td>\n",
       "      <td>16.916</td>\n",
       "    </tr>\n",
       "  </tbody>\n",
       "</table>\n",
       "</div>"
      ],
      "text/plain": [
       "                                                name     ranked  \\\n",
       "0                                       \"Oshi no Ko\"  Ranked #1   \n",
       "1                   Fullmetal Alchemist: Brotherhood  Ranked #2   \n",
       "2  Shingeki no Kyojin: The Final Season - Kankets...  Ranked #3   \n",
       "3                                        Steins;Gate  Ranked #4   \n",
       "4                          Bleach: Sennen Kessen-hen  Ranked #5   \n",
       "\n",
       "           genre                        theme     status  episodes duration  \\\n",
       "0    DramaDrama,  ReincarnationReincarnation,  Currently      11.0  Unknown   \n",
       "1  ActionAction,                          NaN   Finished      64.0       24   \n",
       "2  ActionAction,                    GoreGore,  Currently       2.0        1   \n",
       "3    DramaDrama,  PsychologicalPsychological,   Finished      24.0       24   \n",
       "4  ActionAction,                          NaN   Finished      13.0       24   \n",
       "\n",
       "          start_date           end_date  favorites  \n",
       "0  ['Apr12', '2023']              ['?']      7.523  \n",
       "1   ['Apr5', '2009']   ['Jul4', '2010']    215.444  \n",
       "2   ['Mar4', '2023']           ['2023']      7.949  \n",
       "3   ['Apr6', '2011']  ['Sep14', '2011']    181.179  \n",
       "4  ['Oct11', '2022']  ['Dec27', '2022']     16.916  "
      ]
     },
     "execution_count": 5,
     "metadata": {},
     "output_type": "execute_result"
    }
   ],
   "source": [
    "df.head()"
   ]
  },
  {
   "cell_type": "code",
   "execution_count": 6,
   "id": "34ec9fac",
   "metadata": {
    "id": "34ec9fac",
    "outputId": "7dd9fc34-c10f-4400-ff81-342f575bf8b5"
   },
   "outputs": [
    {
     "data": {
      "text/plain": [
       "(500, 10)"
      ]
     },
     "execution_count": 6,
     "metadata": {},
     "output_type": "execute_result"
    }
   ],
   "source": [
    "df.shape"
   ]
  },
  {
   "cell_type": "code",
   "execution_count": 7,
   "id": "61ff9706",
   "metadata": {
    "id": "61ff9706",
    "outputId": "f8d7c815-4aff-42ce-f7d4-987860f0e626"
   },
   "outputs": [
    {
     "name": "stdout",
     "output_type": "stream",
     "text": [
      "<class 'pandas.core.frame.DataFrame'>\n",
      "RangeIndex: 500 entries, 0 to 499\n",
      "Data columns (total 10 columns):\n",
      " #   Column      Non-Null Count  Dtype  \n",
      "---  ------      --------------  -----  \n",
      " 0   name        500 non-null    object \n",
      " 1   ranked      500 non-null    object \n",
      " 2   genre       402 non-null    object \n",
      " 3   theme       273 non-null    object \n",
      " 4   status      500 non-null    object \n",
      " 5   episodes    495 non-null    float64\n",
      " 6   duration    500 non-null    object \n",
      " 7   start_date  500 non-null    object \n",
      " 8   end_date    500 non-null    object \n",
      " 9   favorites   500 non-null    float64\n",
      "dtypes: float64(2), object(8)\n",
      "memory usage: 39.2+ KB\n"
     ]
    }
   ],
   "source": [
    "df.info()"
   ]
  },
  {
   "cell_type": "code",
   "execution_count": 8,
   "id": "117bccd8",
   "metadata": {
    "id": "117bccd8",
    "outputId": "a33ad677-75ae-4273-eb6f-17e8224af785"
   },
   "outputs": [
    {
     "data": {
      "text/plain": [
       "0      ['Apr12', '2023']\n",
       "1       ['Apr5', '2009']\n",
       "2       ['Mar4', '2023']\n",
       "3       ['Apr6', '2011']\n",
       "4      ['Oct11', '2022']\n",
       "             ...        \n",
       "495     ['Oct6', '2008']\n",
       "496    ['Sep23', '2005']\n",
       "497     ['Apr8', '2012']\n",
       "498    ['Jul11', '2014']\n",
       "499     ['Apr6', '2007']\n",
       "Name: start_date, Length: 500, dtype: object"
      ]
     },
     "execution_count": 8,
     "metadata": {},
     "output_type": "execute_result"
    }
   ],
   "source": [
    "df[\"start_date\"]"
   ]
  },
  {
   "cell_type": "markdown",
   "id": "14f3b570",
   "metadata": {
    "id": "14f3b570"
   },
   "source": [
    "<h3><b>Funções Para Limpeza dos Dados</b></h3>"
   ]
  },
  {
   "cell_type": "code",
   "execution_count": 9,
   "id": "c6285835",
   "metadata": {
    "id": "c6285835"
   },
   "outputs": [],
   "source": [
    "# Função que remove as aspas da palavra\n",
    "def clear_quotes(word):\n",
    "    return word.replace(\"'\", \"\")"
   ]
  },
  {
   "cell_type": "code",
   "execution_count": 10,
   "id": "6e0f33d2",
   "metadata": {
    "id": "6e0f33d2"
   },
   "outputs": [],
   "source": [
    "# Função que remove os colchetes de \"abertura\"\n",
    "def clear_open_brackets(word):\n",
    "    return word.replace(\"[\", \"\")"
   ]
  },
  {
   "cell_type": "code",
   "execution_count": 11,
   "id": "45a946f2",
   "metadata": {
    "id": "45a946f2"
   },
   "outputs": [],
   "source": [
    "# Função que remove os colchetes de \"fechamento\"\n",
    "def clear_close_brackets(word):\n",
    "    return word.replace(\"]\", \"\")"
   ]
  },
  {
   "cell_type": "code",
   "execution_count": 12,
   "id": "ecc7ffd6",
   "metadata": {
    "id": "ecc7ffd6"
   },
   "outputs": [],
   "source": [
    "# Função que substitui vírgula por ponto e vírugla\n",
    "def replace_comma(word):\n",
    "    return word.replace(\",\", \";\")"
   ]
  },
  {
   "cell_type": "code",
   "execution_count": 13,
   "id": "973771fb",
   "metadata": {
    "id": "973771fb"
   },
   "outputs": [],
   "source": [
    "# Função que remove qualquer tipo de espaço em branco\n",
    "def remove_spaces(word):\n",
    "    return word.replace(\" \", \"\")"
   ]
  },
  {
   "cell_type": "code",
   "execution_count": 14,
   "id": "f43ef4d0",
   "metadata": {
    "id": "f43ef4d0"
   },
   "outputs": [],
   "source": [
    "# Função que separa o dia do mês e divide em 3 elementos\n",
    "def date_separated(word):\n",
    "    return word[0][0:3] + \";\" + word[0][3::]"
   ]
  },
  {
   "cell_type": "code",
   "execution_count": 15,
   "id": "8e2e2e95",
   "metadata": {
    "id": "8e2e2e95"
   },
   "outputs": [],
   "source": [
    "# Aplicando as funções à viriável \"start_date\"\n",
    "df[\"start_date\"] = clear_quotes(df[\"start_date\"].str)\n",
    "df[\"start_date\"] = clear_open_brackets(df[\"start_date\"].str)\n",
    "df[\"start_date\"] = clear_close_brackets(df[\"start_date\"].str)\n",
    "df[\"start_date\"] = replace_comma(df[\"start_date\"].str)\n",
    "df[\"start_date\"] = remove_spaces(df[\"start_date\"].str)\n",
    "df[\"start_date\"] = date_separated(df[\"start_date\"])"
   ]
  },
  {
   "cell_type": "code",
   "execution_count": 16,
   "id": "ba356719",
   "metadata": {
    "id": "ba356719",
    "outputId": "0b5bb52d-b577-4853-b11e-95ecf900020e"
   },
   "outputs": [
    {
     "data": {
      "text/plain": [
       "'Apr;12;2023'"
      ]
     },
     "execution_count": 16,
     "metadata": {},
     "output_type": "execute_result"
    }
   ],
   "source": [
    "df[\"start_date\"][0]"
   ]
  },
  {
   "cell_type": "code",
   "execution_count": 17,
   "id": "8352ec04",
   "metadata": {
    "id": "8352ec04"
   },
   "outputs": [],
   "source": [
    "# Aplicando as funções à variável \"end_date\"\n",
    "df[\"end_date\"] = clear_quotes(df[\"end_date\"].str)\n",
    "df[\"end_date\"] = clear_open_brackets(df[\"end_date\"].str)\n",
    "df[\"end_date\"] = clear_close_brackets(df[\"end_date\"].str)\n",
    "df[\"end_date\"] = replace_comma(df[\"end_date\"].str)\n",
    "df[\"end_date\"] = remove_spaces(df[\"end_date\"].str)"
   ]
  },
  {
   "cell_type": "code",
   "execution_count": 18,
   "id": "65f4f3cd",
   "metadata": {
    "id": "65f4f3cd"
   },
   "outputs": [],
   "source": [
    "# Aplicando função lambda para dividir as datas\n",
    "df[\"end_date\"] = df[\"end_date\"].apply(lambda x: x[0:3]+\";\"+x[3::])"
   ]
  },
  {
   "cell_type": "code",
   "execution_count": 19,
   "id": "d07116d2",
   "metadata": {
    "id": "d07116d2",
    "outputId": "9a149f03-04c9-4e63-ebd5-7614e2fa9067"
   },
   "outputs": [
    {
     "data": {
      "text/html": [
       "<div>\n",
       "<style scoped>\n",
       "    .dataframe tbody tr th:only-of-type {\n",
       "        vertical-align: middle;\n",
       "    }\n",
       "\n",
       "    .dataframe tbody tr th {\n",
       "        vertical-align: top;\n",
       "    }\n",
       "\n",
       "    .dataframe thead th {\n",
       "        text-align: right;\n",
       "    }\n",
       "</style>\n",
       "<table border=\"1\" class=\"dataframe\">\n",
       "  <thead>\n",
       "    <tr style=\"text-align: right;\">\n",
       "      <th></th>\n",
       "      <th>name</th>\n",
       "      <th>ranked</th>\n",
       "      <th>genre</th>\n",
       "      <th>theme</th>\n",
       "      <th>status</th>\n",
       "      <th>episodes</th>\n",
       "      <th>duration</th>\n",
       "      <th>start_date</th>\n",
       "      <th>end_date</th>\n",
       "      <th>favorites</th>\n",
       "    </tr>\n",
       "  </thead>\n",
       "  <tbody>\n",
       "    <tr>\n",
       "      <th>0</th>\n",
       "      <td>\"Oshi no Ko\"</td>\n",
       "      <td>Ranked #1</td>\n",
       "      <td>DramaDrama,</td>\n",
       "      <td>ReincarnationReincarnation,</td>\n",
       "      <td>Currently</td>\n",
       "      <td>11.0</td>\n",
       "      <td>Unknown</td>\n",
       "      <td>Apr;12;2023</td>\n",
       "      <td>?;</td>\n",
       "      <td>7.523</td>\n",
       "    </tr>\n",
       "    <tr>\n",
       "      <th>1</th>\n",
       "      <td>Fullmetal Alchemist: Brotherhood</td>\n",
       "      <td>Ranked #2</td>\n",
       "      <td>ActionAction,</td>\n",
       "      <td>NaN</td>\n",
       "      <td>Finished</td>\n",
       "      <td>64.0</td>\n",
       "      <td>24</td>\n",
       "      <td>Apr;12;2023</td>\n",
       "      <td>Jul;4;2010</td>\n",
       "      <td>215.444</td>\n",
       "    </tr>\n",
       "    <tr>\n",
       "      <th>2</th>\n",
       "      <td>Shingeki no Kyojin: The Final Season - Kankets...</td>\n",
       "      <td>Ranked #3</td>\n",
       "      <td>ActionAction,</td>\n",
       "      <td>GoreGore,</td>\n",
       "      <td>Currently</td>\n",
       "      <td>2.0</td>\n",
       "      <td>1</td>\n",
       "      <td>Apr;12;2023</td>\n",
       "      <td>202;3</td>\n",
       "      <td>7.949</td>\n",
       "    </tr>\n",
       "    <tr>\n",
       "      <th>3</th>\n",
       "      <td>Steins;Gate</td>\n",
       "      <td>Ranked #4</td>\n",
       "      <td>DramaDrama,</td>\n",
       "      <td>PsychologicalPsychological,</td>\n",
       "      <td>Finished</td>\n",
       "      <td>24.0</td>\n",
       "      <td>24</td>\n",
       "      <td>Apr;12;2023</td>\n",
       "      <td>Sep;14;2011</td>\n",
       "      <td>181.179</td>\n",
       "    </tr>\n",
       "    <tr>\n",
       "      <th>4</th>\n",
       "      <td>Bleach: Sennen Kessen-hen</td>\n",
       "      <td>Ranked #5</td>\n",
       "      <td>ActionAction,</td>\n",
       "      <td>NaN</td>\n",
       "      <td>Finished</td>\n",
       "      <td>13.0</td>\n",
       "      <td>24</td>\n",
       "      <td>Apr;12;2023</td>\n",
       "      <td>Dec;27;2022</td>\n",
       "      <td>16.916</td>\n",
       "    </tr>\n",
       "  </tbody>\n",
       "</table>\n",
       "</div>"
      ],
      "text/plain": [
       "                                                name     ranked  \\\n",
       "0                                       \"Oshi no Ko\"  Ranked #1   \n",
       "1                   Fullmetal Alchemist: Brotherhood  Ranked #2   \n",
       "2  Shingeki no Kyojin: The Final Season - Kankets...  Ranked #3   \n",
       "3                                        Steins;Gate  Ranked #4   \n",
       "4                          Bleach: Sennen Kessen-hen  Ranked #5   \n",
       "\n",
       "           genre                        theme     status  episodes duration  \\\n",
       "0    DramaDrama,  ReincarnationReincarnation,  Currently      11.0  Unknown   \n",
       "1  ActionAction,                          NaN   Finished      64.0       24   \n",
       "2  ActionAction,                    GoreGore,  Currently       2.0        1   \n",
       "3    DramaDrama,  PsychologicalPsychological,   Finished      24.0       24   \n",
       "4  ActionAction,                          NaN   Finished      13.0       24   \n",
       "\n",
       "    start_date     end_date  favorites  \n",
       "0  Apr;12;2023           ?;      7.523  \n",
       "1  Apr;12;2023   Jul;4;2010    215.444  \n",
       "2  Apr;12;2023        202;3      7.949  \n",
       "3  Apr;12;2023  Sep;14;2011    181.179  \n",
       "4  Apr;12;2023  Dec;27;2022     16.916  "
      ]
     },
     "execution_count": 19,
     "metadata": {},
     "output_type": "execute_result"
    }
   ],
   "source": [
    "df.head()"
   ]
  },
  {
   "cell_type": "code",
   "execution_count": 20,
   "id": "deba9daa",
   "metadata": {
    "id": "deba9daa"
   },
   "outputs": [],
   "source": [
    "# Removendo a vírgula final de cada palavra da variável \"genre\"\n",
    "df[\"genre\"] = df[\"genre\"].str.replace(\",\", \"\")\n",
    "df[\"theme\"] = df[\"theme\"].str.replace(\",\", \"\")"
   ]
  },
  {
   "cell_type": "code",
   "execution_count": 21,
   "id": "6e5d6fca",
   "metadata": {
    "id": "6e5d6fca",
    "outputId": "9c00c1bb-c830-4399-8f30-5d5ad2fa8e2c"
   },
   "outputs": [
    {
     "data": {
      "text/plain": [
       "array(['DramaDrama', 'ActionAction', 'ComedyComedy', nan, 'Award',\n",
       "       'AdventureAdventure', 'SupernaturalSupernatural', 'Avant',\n",
       "       'MysteryMystery', 'FantasyFantasy', 'Boys', 'Sci-FiSci-Fi',\n",
       "       'GourmetGourmet'], dtype=object)"
      ]
     },
     "execution_count": 21,
     "metadata": {},
     "output_type": "execute_result"
    }
   ],
   "source": [
    "df[\"genre\"].unique()"
   ]
  },
  {
   "cell_type": "code",
   "execution_count": 22,
   "id": "aa5be09e",
   "metadata": {
    "id": "aa5be09e"
   },
   "outputs": [],
   "source": [
    "# Substituindo os valores duplicados da variável \"genre\"\n",
    "df[\"genre\"] = np.where(df[\"genre\"] == \"DramaDrama\", \"Drama\", df[\"genre\"])\n",
    "df[\"genre\"] = np.where(df[\"genre\"] == \"ComedyComedy\", \"Comedy\", df[\"genre\"])\n",
    "df[\"genre\"] = np.where(df[\"genre\"] == \"AdventureAdventure\", \"Adventure\", df[\"genre\"])\n",
    "df[\"genre\"] = np.where(df[\"genre\"] == \"SupernaturalSupernatural\", \"Supernatural\", df[\"genre\"])\n",
    "df[\"genre\"] = np.where(df[\"genre\"] == \"MysteryMystery\", \"Mystery\", df[\"genre\"])\n",
    "df[\"genre\"] = np.where(df[\"genre\"] == \"FantasyFantasy\", \"Fantasy\", df[\"genre\"])\n",
    "df[\"genre\"] = np.where(df[\"genre\"] == \"Sci-FiSci-Fi\", \"Sci-Fi\", df[\"genre\"])\n",
    "df[\"genre\"] = np.where(df[\"genre\"] == \"GourmetGourmet\", \"Gourmet\", df[\"genre\"])\n",
    "df[\"genre\"] = np.where(df[\"genre\"] == \"ActionAction\", \"Action\", df[\"genre\"])"
   ]
  },
  {
   "cell_type": "code",
   "execution_count": 23,
   "id": "f70c782e",
   "metadata": {
    "id": "f70c782e",
    "outputId": "5c502370-99e3-410e-c711-1167afc665ef"
   },
   "outputs": [
    {
     "data": {
      "text/plain": [
       "array(['ReincarnationReincarnation', nan, 'GoreGore',\n",
       "       'PsychologicalPsychological', 'Gag', 'Adult', 'ChildcareChildcare',\n",
       "       'MechaMecha', 'CGDCTCGDCT', 'HistoricalHistorical', 'SchoolSchool',\n",
       "       'IsekaiIsekai', 'DelinquentsDelinquents', 'IyashikeiIyashikei',\n",
       "       'MusicMusic', 'DetectiveDetective', 'Mahou', 'Love', 'Martial',\n",
       "       'HaremHarem', 'MythologyMythology', 'Otaku', 'Idols',\n",
       "       'SurvivalSurvival', 'AnthropomorphicAnthropomorphic',\n",
       "       'MilitaryMilitary', 'CrossdressingCrossdressing', 'Organized',\n",
       "       'Romantic', 'ParodyParody', 'SpaceSpace'], dtype=object)"
      ]
     },
     "execution_count": 23,
     "metadata": {},
     "output_type": "execute_result"
    }
   ],
   "source": [
    "df[\"theme\"].unique()"
   ]
  },
  {
   "cell_type": "code",
   "execution_count": 24,
   "id": "3354e501",
   "metadata": {
    "id": "3354e501"
   },
   "outputs": [],
   "source": [
    "# Substituindo valores duplicados na variável \"theme\"\n",
    "df[\"theme\"] = np.where(df[\"theme\"] == \"ReincarnationReincarnation\", \"Reincarnation\", df[\"theme\"])\n",
    "df[\"theme\"] = np.where(df[\"theme\"] == \"GoreGore\", \"Gore\", df[\"theme\"])\n",
    "df[\"theme\"] = np.where(df[\"theme\"] == \"PsychologicalPsychological\", \"Psychological\", df[\"theme\"])\n",
    "df[\"theme\"] = np.where(df[\"theme\"] == \"ChildcareChildcare\", \"Childcare\", df[\"theme\"])\n",
    "df[\"theme\"] = np.where(df[\"theme\"] == \"MechaMecha\", \"Mecha\", df[\"theme\"])\n",
    "df[\"theme\"] = np.where(df[\"theme\"] == \"CGDCTCGDCT\", \"CGDCT\", df[\"theme\"])\n",
    "df[\"theme\"] = np.where(df[\"theme\"] == \"HistoricalHistorical\", \"Historical\", df[\"theme\"])\n",
    "df[\"theme\"] = np.where(df[\"theme\"] == \"SchoolSchool\", \"School\", df[\"theme\"])\n",
    "df[\"theme\"] = np.where(df[\"theme\"] == \"IsekaiIsekai\", \"Isekai\", df[\"theme\"])\n",
    "df[\"theme\"] = np.where(df[\"theme\"] == \"DelinquentsDelinquents\", \"Delinquents\", df[\"theme\"])\n",
    "df[\"theme\"] = np.where(df[\"theme\"] == \"HaremHarem\", \"Harem\", df[\"theme\"])\n",
    "df[\"theme\"] = np.where(df[\"theme\"] == \"MythologyMythology\", \"Mythology\", df[\"theme\"])\n",
    "df[\"theme\"] = np.where(df[\"theme\"] == \"SurvivalSurvival\", \"Survival\", df[\"theme\"])\n",
    "df[\"theme\"] = np.where(df[\"theme\"] == \"AnthropomorphicAnthropomorphic\", \"Anthropomorphic\", df[\"theme\"])\n",
    "df[\"theme\"] = np.where(df[\"theme\"] == \"MilitaryMilitary\", \"Military\", df[\"theme\"])\n",
    "df[\"theme\"] = np.where(df[\"theme\"] == \"CrossdressingCrossdressing\", \"Crossdressing\", df[\"theme\"])\n",
    "df[\"theme\"] = np.where(df[\"theme\"] == \"ParodyParody\", \"Parody\", df[\"theme\"])\n",
    "df[\"theme\"] = np.where(df[\"theme\"] == \"SpaceSpace\", \"Space\", df[\"theme\"])\n",
    "df[\"theme\"] = np.where(df[\"theme\"] == \"DetectiveDetective\", \"Detective\", df[\"theme\"])\n",
    "df[\"theme\"] = np.where(df[\"theme\"] == \"IyashikeiIyashikei\", \"Iyashikei\", df[\"theme\"])\n",
    "df[\"theme\"] = np.where(df[\"theme\"] == \"MusicMusic\", \"Music\", df[\"theme\"])"
   ]
  },
  {
   "cell_type": "code",
   "execution_count": 25,
   "id": "ee0c7cc0",
   "metadata": {
    "id": "ee0c7cc0",
    "outputId": "a119ed46-fbc7-42be-f849-07d5171e365a"
   },
   "outputs": [
    {
     "data": {
      "text/plain": [
       "array(['Reincarnation', nan, 'Gore', 'Psychological', 'Gag', 'Adult',\n",
       "       'Childcare', 'Mecha', 'CGDCT', 'Historical', 'School', 'Isekai',\n",
       "       'Delinquents', 'Iyashikei', 'Music', 'Detective', 'Mahou', 'Love',\n",
       "       'Martial', 'Harem', 'Mythology', 'Otaku', 'Idols', 'Survival',\n",
       "       'Anthropomorphic', 'Military', 'Crossdressing', 'Organized',\n",
       "       'Romantic', 'Parody', 'Space'], dtype=object)"
      ]
     },
     "execution_count": 25,
     "metadata": {},
     "output_type": "execute_result"
    }
   ],
   "source": [
    "df[\"theme\"].unique()"
   ]
  },
  {
   "cell_type": "code",
   "execution_count": 26,
   "id": "ff62e1fb",
   "metadata": {
    "id": "ff62e1fb"
   },
   "outputs": [],
   "source": [
    "# Removendo a informação \"Ranked #\" e mantendo apenas o valor numérico\n",
    "df[\"ranked\"] = df[\"ranked\"].apply(lambda x: x[8::])"
   ]
  },
  {
   "cell_type": "code",
   "execution_count": 27,
   "id": "c1a3b5e6",
   "metadata": {
    "id": "c1a3b5e6",
    "outputId": "23903a9d-bb9b-402d-fc5f-20229339066c"
   },
   "outputs": [
    {
     "data": {
      "text/html": [
       "<div>\n",
       "<style scoped>\n",
       "    .dataframe tbody tr th:only-of-type {\n",
       "        vertical-align: middle;\n",
       "    }\n",
       "\n",
       "    .dataframe tbody tr th {\n",
       "        vertical-align: top;\n",
       "    }\n",
       "\n",
       "    .dataframe thead th {\n",
       "        text-align: right;\n",
       "    }\n",
       "</style>\n",
       "<table border=\"1\" class=\"dataframe\">\n",
       "  <thead>\n",
       "    <tr style=\"text-align: right;\">\n",
       "      <th></th>\n",
       "      <th>name</th>\n",
       "      <th>ranked</th>\n",
       "      <th>genre</th>\n",
       "      <th>theme</th>\n",
       "      <th>status</th>\n",
       "      <th>episodes</th>\n",
       "      <th>duration</th>\n",
       "      <th>start_date</th>\n",
       "      <th>end_date</th>\n",
       "      <th>favorites</th>\n",
       "    </tr>\n",
       "  </thead>\n",
       "  <tbody>\n",
       "    <tr>\n",
       "      <th>0</th>\n",
       "      <td>\"Oshi no Ko\"</td>\n",
       "      <td>1</td>\n",
       "      <td>Drama</td>\n",
       "      <td>Reincarnation</td>\n",
       "      <td>Currently</td>\n",
       "      <td>11.0</td>\n",
       "      <td>Unknown</td>\n",
       "      <td>Apr;12;2023</td>\n",
       "      <td>?;</td>\n",
       "      <td>7.523</td>\n",
       "    </tr>\n",
       "    <tr>\n",
       "      <th>1</th>\n",
       "      <td>Fullmetal Alchemist: Brotherhood</td>\n",
       "      <td>2</td>\n",
       "      <td>Action</td>\n",
       "      <td>NaN</td>\n",
       "      <td>Finished</td>\n",
       "      <td>64.0</td>\n",
       "      <td>24</td>\n",
       "      <td>Apr;12;2023</td>\n",
       "      <td>Jul;4;2010</td>\n",
       "      <td>215.444</td>\n",
       "    </tr>\n",
       "    <tr>\n",
       "      <th>2</th>\n",
       "      <td>Shingeki no Kyojin: The Final Season - Kankets...</td>\n",
       "      <td>3</td>\n",
       "      <td>Action</td>\n",
       "      <td>Gore</td>\n",
       "      <td>Currently</td>\n",
       "      <td>2.0</td>\n",
       "      <td>1</td>\n",
       "      <td>Apr;12;2023</td>\n",
       "      <td>202;3</td>\n",
       "      <td>7.949</td>\n",
       "    </tr>\n",
       "    <tr>\n",
       "      <th>3</th>\n",
       "      <td>Steins;Gate</td>\n",
       "      <td>4</td>\n",
       "      <td>Drama</td>\n",
       "      <td>Psychological</td>\n",
       "      <td>Finished</td>\n",
       "      <td>24.0</td>\n",
       "      <td>24</td>\n",
       "      <td>Apr;12;2023</td>\n",
       "      <td>Sep;14;2011</td>\n",
       "      <td>181.179</td>\n",
       "    </tr>\n",
       "    <tr>\n",
       "      <th>4</th>\n",
       "      <td>Bleach: Sennen Kessen-hen</td>\n",
       "      <td>5</td>\n",
       "      <td>Action</td>\n",
       "      <td>NaN</td>\n",
       "      <td>Finished</td>\n",
       "      <td>13.0</td>\n",
       "      <td>24</td>\n",
       "      <td>Apr;12;2023</td>\n",
       "      <td>Dec;27;2022</td>\n",
       "      <td>16.916</td>\n",
       "    </tr>\n",
       "  </tbody>\n",
       "</table>\n",
       "</div>"
      ],
      "text/plain": [
       "                                                name ranked   genre  \\\n",
       "0                                       \"Oshi no Ko\"      1   Drama   \n",
       "1                   Fullmetal Alchemist: Brotherhood      2  Action   \n",
       "2  Shingeki no Kyojin: The Final Season - Kankets...      3  Action   \n",
       "3                                        Steins;Gate      4   Drama   \n",
       "4                          Bleach: Sennen Kessen-hen      5  Action   \n",
       "\n",
       "           theme     status  episodes duration   start_date     end_date  \\\n",
       "0  Reincarnation  Currently      11.0  Unknown  Apr;12;2023           ?;   \n",
       "1            NaN   Finished      64.0       24  Apr;12;2023   Jul;4;2010   \n",
       "2           Gore  Currently       2.0        1  Apr;12;2023        202;3   \n",
       "3  Psychological   Finished      24.0       24  Apr;12;2023  Sep;14;2011   \n",
       "4            NaN   Finished      13.0       24  Apr;12;2023  Dec;27;2022   \n",
       "\n",
       "   favorites  \n",
       "0      7.523  \n",
       "1    215.444  \n",
       "2      7.949  \n",
       "3    181.179  \n",
       "4     16.916  "
      ]
     },
     "execution_count": 27,
     "metadata": {},
     "output_type": "execute_result"
    }
   ],
   "source": [
    "df.head()"
   ]
  },
  {
   "cell_type": "code",
   "execution_count": 28,
   "id": "230b2721",
   "metadata": {
    "id": "230b2721",
    "outputId": "384cf531-d884-4cfc-e5ef-cdc445c0f153"
   },
   "outputs": [
    {
     "data": {
      "text/html": [
       "<div>\n",
       "<style scoped>\n",
       "    .dataframe tbody tr th:only-of-type {\n",
       "        vertical-align: middle;\n",
       "    }\n",
       "\n",
       "    .dataframe tbody tr th {\n",
       "        vertical-align: top;\n",
       "    }\n",
       "\n",
       "    .dataframe thead th {\n",
       "        text-align: right;\n",
       "    }\n",
       "</style>\n",
       "<table border=\"1\" class=\"dataframe\">\n",
       "  <thead>\n",
       "    <tr style=\"text-align: right;\">\n",
       "      <th></th>\n",
       "      <th>name</th>\n",
       "      <th>genre</th>\n",
       "      <th>theme</th>\n",
       "      <th>status</th>\n",
       "      <th>episodes</th>\n",
       "      <th>duration</th>\n",
       "      <th>start_date</th>\n",
       "      <th>end_date</th>\n",
       "      <th>favorites</th>\n",
       "    </tr>\n",
       "    <tr>\n",
       "      <th>ranked</th>\n",
       "      <th></th>\n",
       "      <th></th>\n",
       "      <th></th>\n",
       "      <th></th>\n",
       "      <th></th>\n",
       "      <th></th>\n",
       "      <th></th>\n",
       "      <th></th>\n",
       "      <th></th>\n",
       "    </tr>\n",
       "  </thead>\n",
       "  <tbody>\n",
       "    <tr>\n",
       "      <th>1</th>\n",
       "      <td>\"Oshi no Ko\"</td>\n",
       "      <td>Drama</td>\n",
       "      <td>Reincarnation</td>\n",
       "      <td>Currently</td>\n",
       "      <td>11.0</td>\n",
       "      <td>Unknown</td>\n",
       "      <td>Apr;12;2023</td>\n",
       "      <td>?;</td>\n",
       "      <td>7.523</td>\n",
       "    </tr>\n",
       "    <tr>\n",
       "      <th>2</th>\n",
       "      <td>Fullmetal Alchemist: Brotherhood</td>\n",
       "      <td>Action</td>\n",
       "      <td>NaN</td>\n",
       "      <td>Finished</td>\n",
       "      <td>64.0</td>\n",
       "      <td>24</td>\n",
       "      <td>Apr;12;2023</td>\n",
       "      <td>Jul;4;2010</td>\n",
       "      <td>215.444</td>\n",
       "    </tr>\n",
       "    <tr>\n",
       "      <th>3</th>\n",
       "      <td>Shingeki no Kyojin: The Final Season - Kankets...</td>\n",
       "      <td>Action</td>\n",
       "      <td>Gore</td>\n",
       "      <td>Currently</td>\n",
       "      <td>2.0</td>\n",
       "      <td>1</td>\n",
       "      <td>Apr;12;2023</td>\n",
       "      <td>202;3</td>\n",
       "      <td>7.949</td>\n",
       "    </tr>\n",
       "    <tr>\n",
       "      <th>4</th>\n",
       "      <td>Steins;Gate</td>\n",
       "      <td>Drama</td>\n",
       "      <td>Psychological</td>\n",
       "      <td>Finished</td>\n",
       "      <td>24.0</td>\n",
       "      <td>24</td>\n",
       "      <td>Apr;12;2023</td>\n",
       "      <td>Sep;14;2011</td>\n",
       "      <td>181.179</td>\n",
       "    </tr>\n",
       "    <tr>\n",
       "      <th>5</th>\n",
       "      <td>Bleach: Sennen Kessen-hen</td>\n",
       "      <td>Action</td>\n",
       "      <td>NaN</td>\n",
       "      <td>Finished</td>\n",
       "      <td>13.0</td>\n",
       "      <td>24</td>\n",
       "      <td>Apr;12;2023</td>\n",
       "      <td>Dec;27;2022</td>\n",
       "      <td>16.916</td>\n",
       "    </tr>\n",
       "    <tr>\n",
       "      <th>...</th>\n",
       "      <td>...</td>\n",
       "      <td>...</td>\n",
       "      <td>...</td>\n",
       "      <td>...</td>\n",
       "      <td>...</td>\n",
       "      <td>...</td>\n",
       "      <td>...</td>\n",
       "      <td>...</td>\n",
       "      <td>...</td>\n",
       "    </tr>\n",
       "    <tr>\n",
       "      <th>496</th>\n",
       "      <td>Skip Beat!</td>\n",
       "      <td>Comedy</td>\n",
       "      <td>Love</td>\n",
       "      <td>Finished</td>\n",
       "      <td>25.0</td>\n",
       "      <td>24</td>\n",
       "      <td>Apr;12;2023</td>\n",
       "      <td>Mar;30;2009</td>\n",
       "      <td>5.088</td>\n",
       "    </tr>\n",
       "    <tr>\n",
       "      <th>497</th>\n",
       "      <td>Koukaku Kidoutai: Stand Alone Complex - The La...</td>\n",
       "      <td>Action</td>\n",
       "      <td>Adult</td>\n",
       "      <td>Finished</td>\n",
       "      <td>1.0</td>\n",
       "      <td>2</td>\n",
       "      <td>Apr;12;2023</td>\n",
       "      <td>;</td>\n",
       "      <td>55.000</td>\n",
       "    </tr>\n",
       "    <tr>\n",
       "      <th>498</th>\n",
       "      <td>Kuroko no Basket</td>\n",
       "      <td>NaN</td>\n",
       "      <td>School</td>\n",
       "      <td>Finished</td>\n",
       "      <td>25.0</td>\n",
       "      <td>24</td>\n",
       "      <td>Apr;12;2023</td>\n",
       "      <td>Sep;22;2012</td>\n",
       "      <td>20.581</td>\n",
       "    </tr>\n",
       "    <tr>\n",
       "      <th>499</th>\n",
       "      <td>Kuroshitsuji: Book of Circus</td>\n",
       "      <td>Action</td>\n",
       "      <td>Historical</td>\n",
       "      <td>Finished</td>\n",
       "      <td>10.0</td>\n",
       "      <td>24</td>\n",
       "      <td>Apr;12;2023</td>\n",
       "      <td>Sep;12;2014</td>\n",
       "      <td>3.482</td>\n",
       "    </tr>\n",
       "    <tr>\n",
       "      <th>501</th>\n",
       "      <td>Darker than Black: Kuro no Keiyakusha</td>\n",
       "      <td>Action</td>\n",
       "      <td>NaN</td>\n",
       "      <td>Finished</td>\n",
       "      <td>25.0</td>\n",
       "      <td>24</td>\n",
       "      <td>Apr;12;2023</td>\n",
       "      <td>Sep;28;2007</td>\n",
       "      <td>16.342</td>\n",
       "    </tr>\n",
       "  </tbody>\n",
       "</table>\n",
       "<p>500 rows × 9 columns</p>\n",
       "</div>"
      ],
      "text/plain": [
       "                                                     name   genre  \\\n",
       "ranked                                                              \n",
       "1                                            \"Oshi no Ko\"   Drama   \n",
       "2                        Fullmetal Alchemist: Brotherhood  Action   \n",
       "3       Shingeki no Kyojin: The Final Season - Kankets...  Action   \n",
       "4                                             Steins;Gate   Drama   \n",
       "5                               Bleach: Sennen Kessen-hen  Action   \n",
       "...                                                   ...     ...   \n",
       "496                                            Skip Beat!  Comedy   \n",
       "497     Koukaku Kidoutai: Stand Alone Complex - The La...  Action   \n",
       "498                                      Kuroko no Basket     NaN   \n",
       "499                          Kuroshitsuji: Book of Circus  Action   \n",
       "501                 Darker than Black: Kuro no Keiyakusha  Action   \n",
       "\n",
       "                theme     status  episodes duration   start_date     end_date  \\\n",
       "ranked                                                                          \n",
       "1       Reincarnation  Currently      11.0  Unknown  Apr;12;2023           ?;   \n",
       "2                 NaN   Finished      64.0       24  Apr;12;2023   Jul;4;2010   \n",
       "3                Gore  Currently       2.0        1  Apr;12;2023        202;3   \n",
       "4       Psychological   Finished      24.0       24  Apr;12;2023  Sep;14;2011   \n",
       "5                 NaN   Finished      13.0       24  Apr;12;2023  Dec;27;2022   \n",
       "...               ...        ...       ...      ...          ...          ...   \n",
       "496              Love   Finished      25.0       24  Apr;12;2023  Mar;30;2009   \n",
       "497             Adult   Finished       1.0        2  Apr;12;2023            ;   \n",
       "498            School   Finished      25.0       24  Apr;12;2023  Sep;22;2012   \n",
       "499        Historical   Finished      10.0       24  Apr;12;2023  Sep;12;2014   \n",
       "501               NaN   Finished      25.0       24  Apr;12;2023  Sep;28;2007   \n",
       "\n",
       "        favorites  \n",
       "ranked             \n",
       "1           7.523  \n",
       "2         215.444  \n",
       "3           7.949  \n",
       "4         181.179  \n",
       "5          16.916  \n",
       "...           ...  \n",
       "496         5.088  \n",
       "497        55.000  \n",
       "498        20.581  \n",
       "499         3.482  \n",
       "501        16.342  \n",
       "\n",
       "[500 rows x 9 columns]"
      ]
     },
     "execution_count": 28,
     "metadata": {},
     "output_type": "execute_result"
    }
   ],
   "source": [
    "# Reindexando o DataFrame pelo ranking\n",
    "df.set_index(\"ranked\")"
   ]
  },
  {
   "cell_type": "code",
   "execution_count": 29,
   "id": "25f26959",
   "metadata": {
    "id": "25f26959"
   },
   "outputs": [],
   "source": [
    "# Salvando o DataFrame\n",
    "df.to_csv(\"animesv2.csv\", index=False)"
   ]
  },
  {
   "cell_type": "markdown",
   "id": "2f1fdb13",
   "metadata": {
    "id": "2f1fdb13"
   },
   "source": [
    "<h1><b>Fim</b></h1>"
   ]
  }
 ],
 "metadata": {
  "colab": {
   "include_colab_link": true,
   "provenance": []
  },
  "kernelspec": {
   "display_name": "Python 3 (ipykernel)",
   "language": "python",
   "name": "python3"
  },
  "language_info": {
   "codemirror_mode": {
    "name": "ipython",
    "version": 3
   },
   "file_extension": ".py",
   "mimetype": "text/x-python",
   "name": "python",
   "nbconvert_exporter": "python",
   "pygments_lexer": "ipython3",
   "version": "3.10.9"
  }
 },
 "nbformat": 4,
 "nbformat_minor": 5
}
