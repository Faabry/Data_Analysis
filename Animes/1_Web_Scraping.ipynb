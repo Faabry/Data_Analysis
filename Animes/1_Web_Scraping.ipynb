{
  "cells": [
    {
      "cell_type": "markdown",
      "metadata": {
        "id": "view-in-github",
        "colab_type": "text"
      },
      "source": [
        "<a href=\"https://colab.research.google.com/github/Faabry/Data_Analysis/blob/main/Animes_Web_Scraping.ipynb\" target=\"_parent\"><img src=\"https://colab.research.google.com/assets/colab-badge.svg\" alt=\"Open In Colab\"/></a>"
      ]
    },
    {
      "cell_type": "markdown",
      "id": "a9207504",
      "metadata": {
        "id": "a9207504"
      },
      "source": [
        "<h1><b>Web Scraping Animes</b></h1>\n",
        "<a href=\"http://myanimelist.net/topanime.php\">http://myanimelist.net/topanime.php</a>"
      ]
    },
    {
      "cell_type": "markdown",
      "id": "b99c1e48",
      "metadata": {
        "id": "b99c1e48"
      },
      "source": [
        "<h3><b>Funções Para Modularizar o Código</b></h3>"
      ]
    },
    {
      "cell_type": "code",
      "execution_count": null,
      "id": "3caba5e8",
      "metadata": {
        "id": "3caba5e8"
      },
      "outputs": [],
      "source": [
        "# Função que coleta todas as informações do anime\n",
        "def getInfo(soup):\n",
        "    infos = soup.select(\"div .spaceit_pad\")\n",
        "    info_list = []\n",
        "    for info in infos:\n",
        "        info_list.append(info.text.split())\n",
        "    return info_list"
      ]
    },
    {
      "cell_type": "code",
      "execution_count": null,
      "id": "136ca2c8",
      "metadata": {
        "id": "136ca2c8"
      },
      "outputs": [],
      "source": [
        "# Função que extrai o título do anime\n",
        "def animeName(soup):\n",
        "    name = soup.select_one(\".title-name\").text\n",
        "    if len(name) > 1:\n",
        "        return name\n",
        "    return None"
      ]
    },
    {
      "cell_type": "code",
      "execution_count": null,
      "id": "c497b028",
      "metadata": {
        "id": "c497b028"
      },
      "outputs": [],
      "source": [
        "# Função que retorna o rank\n",
        "def getRank(soup):\n",
        "    rank = soup.find_all([\"div\", \"span\"], {\"class\": \"numbers ranked\"})\n",
        "    for item in rank:\n",
        "        return item.text"
      ]
    },
    {
      "cell_type": "code",
      "execution_count": null,
      "id": "84f6bd2a",
      "metadata": {
        "id": "84f6bd2a"
      },
      "outputs": [],
      "source": [
        "# Função que extrai o gênero do anime\n",
        "def animeGenre(information):\n",
        "    for info in information:\n",
        "        if (info[0]) == \"Genres:\":\n",
        "            return (info[1])\n",
        "    return None"
      ]
    },
    {
      "cell_type": "code",
      "execution_count": null,
      "id": "2097efcc",
      "metadata": {
        "id": "2097efcc"
      },
      "outputs": [],
      "source": [
        "# Função que extrai o status (finalizado | em andamento)\n",
        "def getStatus(information):\n",
        "    for info in information:\n",
        "        if (info[0]) == \"Status:\":\n",
        "            return (info[1])\n",
        "    return None"
      ]
    },
    {
      "cell_type": "code",
      "execution_count": null,
      "id": "3c88999d",
      "metadata": {
        "id": "3c88999d"
      },
      "outputs": [],
      "source": [
        "# Função que retorna a quantidade de episódios\n",
        "def getEpisodes(information):\n",
        "    for info in information:\n",
        "        if info[0] == \"Episodes:\":\n",
        "            if info[1] != \"Unknown\":\n",
        "                return info[1]\n",
        "    return None"
      ]
    },
    {
      "cell_type": "code",
      "execution_count": null,
      "id": "e1cf2025",
      "metadata": {
        "id": "e1cf2025"
      },
      "outputs": [],
      "source": [
        "# Função que retorna o tema do anime\n",
        "def getThemes(information):\n",
        "    for info in information:\n",
        "        if info[0] == \"Themes:\":\n",
        "            return info[1]\n",
        "    return None"
      ]
    },
    {
      "cell_type": "code",
      "execution_count": null,
      "id": "f74b7688",
      "metadata": {
        "id": "f74b7688"
      },
      "outputs": [],
      "source": [
        "# Função que retorna o tempo de duração por episódio\n",
        "def duration(information):\n",
        "    for info in information:\n",
        "        if info[0] == \"Duration:\":\n",
        "            return info[1]\n",
        "    return None"
      ]
    },
    {
      "cell_type": "code",
      "execution_count": null,
      "id": "9bbc4b5b",
      "metadata": {
        "id": "9bbc4b5b"
      },
      "outputs": [],
      "source": [
        "# Função que retorna quantas vezes aquele anime foi favoritado\n",
        "def getFavorites(information):\n",
        "    for info in information:\n",
        "        if info[0] == \"Favorites:\":\n",
        "            return info[1].replace(\",\", \".\")\n",
        "    return None"
      ]
    },
    {
      "cell_type": "code",
      "execution_count": null,
      "id": "1eca8057",
      "metadata": {
        "id": "1eca8057"
      },
      "outputs": [],
      "source": [
        "# Função que retorna o inicio da transmissão do anime\n",
        "def startDate(information):\n",
        "    for info in information:\n",
        "        if info[0] == \"Aired:\":\n",
        "            date = \"\".join(info[1:4])\n",
        "            return date.split(\",\")\n",
        "    return None"
      ]
    },
    {
      "cell_type": "code",
      "execution_count": null,
      "id": "a129e80f",
      "metadata": {
        "id": "a129e80f"
      },
      "outputs": [],
      "source": [
        "# Função que retorna o término da transmissão do anime (caso ele tenha sido finalizado)\n",
        "def endDate(information):\n",
        "    for info in information:\n",
        "        if info[0] == \"Aired:\":\n",
        "            date = \"\".join(info[5::])\n",
        "            return date.split(\",\")\n",
        "    return None"
      ]
    },
    {
      "cell_type": "markdown",
      "id": "9fe68e14",
      "metadata": {
        "id": "9fe68e14"
      },
      "source": [
        "<h3><b>Importando e Carregandos os Pacotes Necessários</b></h3>"
      ]
    },
    {
      "cell_type": "code",
      "execution_count": null,
      "id": "d1fce751",
      "metadata": {
        "id": "d1fce751",
        "outputId": "7d76b8be-b34f-45be-ac97-abc92fc4fdcb"
      },
      "outputs": [
        {
          "name": "stdout",
          "output_type": "stream",
          "text": [
            "Versão Python Para Este Notebook: 3.10.9\n"
          ]
        }
      ],
      "source": [
        "# Versão Python\n",
        "from platform import python_version\n",
        "print(f\"Versão Python Para Este Notebook: {python_version()}\")"
      ]
    },
    {
      "cell_type": "code",
      "execution_count": null,
      "id": "4d7baef0",
      "metadata": {
        "id": "4d7baef0"
      },
      "outputs": [],
      "source": [
        "# Imports\n",
        "import bs4\n",
        "from time import sleep\n",
        "import json\n",
        "import requests\n",
        "from bs4 import BeautifulSoup"
      ]
    },
    {
      "cell_type": "code",
      "execution_count": null,
      "id": "6c983c8c",
      "metadata": {
        "id": "6c983c8c",
        "outputId": "437d7ce2-50fa-40b7-f4db-e8529802def8"
      },
      "outputs": [
        {
          "name": "stdout",
          "output_type": "stream",
          "text": [
            "Author: Airton Fabre\n",
            "\n",
            "requests: 2.28.1\n",
            "json    : 2.0.9\n",
            "bs4     : 4.11.1\n",
            "\n"
          ]
        }
      ],
      "source": [
        "%reload_ext watermark\n",
        "%watermark -a \"Airton Fabre\" --iversions"
      ]
    },
    {
      "cell_type": "markdown",
      "id": "0f746bc5",
      "metadata": {
        "id": "0f746bc5"
      },
      "source": [
        "<h3><b>Extrair os links de cada anime por página</b></h3>"
      ]
    },
    {
      "cell_type": "code",
      "execution_count": null,
      "id": "aba19656",
      "metadata": {
        "id": "aba19656"
      },
      "outputs": [],
      "source": [
        "# Criando loop for para percorrer o número de páginas desejadas\n",
        "for limit in range(0, 451, 50):\n",
        "    \n",
        "    # lista\n",
        "    links = []\n",
        "\n",
        "    # Criando uma variável URl\n",
        "    url = f\"https://myanimelist.net/topanime.php?limit={limit}\"\n",
        "\n",
        "    # Extraindo o conteúdo da página\n",
        "    response = requests.get(url)\n",
        "\n",
        "    # Formatando o parser da URL\n",
        "    soup = BeautifulSoup(response.text, \"html.parser\")\n",
        "\n",
        "    # Armazenando todas as tags <a> que contém a class \"horverinfo_trigger\"\n",
        "    list_of_a = (soup.select(\".hoverinfo_trigger a\"))\n",
        "\n",
        "    # Extraindo as informações do attr \"href\"\n",
        "    for a in list_of_a:\n",
        "        links.append(a.get(\"href\"))\n",
        "    \n",
        "    # Criando os arquivos.txt com cada link \n",
        "    #OBS: cada página terá 50 links\n",
        "    file = open(f\"dados/links/animeslinks{limit}.txt\", \"w\", encoding=\"utf-8\")\n",
        "    \n",
        "    # Varrendo os links da lista e armazenando no arquivo.txt\n",
        "    for link in links:\n",
        "        file.writelines(link + \"\\n\")\n",
        "    \n",
        "    # Fechando o arquivo.txt\n",
        "    file.close()\n",
        "    \n",
        "    # sleep\n",
        "    sleep(5)"
      ]
    },
    {
      "cell_type": "markdown",
      "id": "7965e507",
      "metadata": {
        "id": "7965e507"
      },
      "source": [
        "<p>Esse looping percorerrá todos os links dos arquivos.txt que foram gerados no código acima e atráves dos módulos que foram definidos no inicio do script, vamos extrair todas as informações desejadas como nome, gênero etc.\n",
        "    <br>\n",
        "PS: Cada página contém 50 animes.<p>\n"
      ]
    },
    {
      "cell_type": "code",
      "execution_count": null,
      "id": "3ceff655",
      "metadata": {
        "id": "3ceff655",
        "outputId": "cfb71f2b-c883-47a6-fd3f-ba9d884aaba9"
      },
      "outputs": [
        {
          "name": "stdout",
          "output_type": "stream",
          "text": [
            "Extraindo os dados, por favor aguarde...\n",
            "Extraindo os dados, por favor aguarde...\n",
            "Extraindo os dados, por favor aguarde...\n",
            "Extraindo os dados, por favor aguarde...\n",
            "Extraindo os dados, por favor aguarde...\n",
            "Extraindo os dados, por favor aguarde...\n",
            "Extraindo os dados, por favor aguarde...\n",
            "Extraindo os dados, por favor aguarde...\n",
            "Extraindo os dados, por favor aguarde...\n",
            "Extraindo os dados, por favor aguarde...\n",
            "CPU times: total: 4min 10s\n",
            "Wall time: 1h 38min 4s\n"
          ]
        }
      ],
      "source": [
        "%%time\n",
        "# Loop para percorer todas as páginas desejadas\n",
        "for limit in range(0, 451, 50):\n",
        "    \n",
        "    # Dicionário\n",
        "    animeInfo = []\n",
        "    # Abrindo o arquivo.txt\n",
        "    with open(f\"dados/links/animeslinks{limit}.txt\", \"r\") as file:\n",
        "        links = file.readlines()\n",
        "        \n",
        "    print(\"Extraindo os dados, por favor aguarde...\")\n",
        "    \n",
        "    # Acessando cada link do arquivo.txt\n",
        "    for link in links:\n",
        "        # Acessando o link\n",
        "        resp = requests.get(link)\n",
        "        \n",
        "        # Parser do HTML\n",
        "        soup_info = BeautifulSoup(resp.text, \"html.parser\")\n",
        "        \n",
        "        # Informação dos animes através do módulo \"getInfo()\"\n",
        "        information = getInfo(soup_info)\n",
        "        \n",
        "        # Adicionando cada dado à sua chave correspondente da lista \n",
        "        # e convertendo em dicionário\n",
        "        animeInfo.append(dict(\n",
        "            name          = animeName(soup_info),\n",
        "            ranked        = getRank(soup_info),\n",
        "            genre         = animeGenre(information),\n",
        "            theme         = getThemes(information),\n",
        "            status        = getStatus(information),\n",
        "            episodes      = getEpisodes(information),\n",
        "            duration      = duration(information),\n",
        "            start_date    = startDate(information),\n",
        "            end_date      = endDate(information),\n",
        "            favorites     = getFavorites(information)))   \n",
        "        # Sleep\n",
        "        sleep(10)\n",
        "\n",
        "    # Gravando o resultado em disco\n",
        "    with open(f\"dados/AnimeInfo/animeInfo{limit}.txt\", 'w') as fout:\n",
        "        json.dump(animeInfo, fout)\n",
        "        \n",
        "    # Sleep\n",
        "    sleep(10)"
      ]
    },
    {
      "cell_type": "code",
      "execution_count": null,
      "id": "a9b73b57",
      "metadata": {
        "id": "a9b73b57",
        "outputId": "e9c081b4-3afb-438f-ebc4-3cd25eadc1ad"
      },
      "outputs": [
        {
          "name": "stdout",
          "output_type": "stream",
          "text": [
            "WebScraping Concluído com Sucesso !!\n"
          ]
        }
      ],
      "source": [
        "print(\"Web Scraping Concluído com Sucesso !!\")"
      ]
    },
    {
      "cell_type": "markdown",
      "id": "259415dd",
      "metadata": {
        "id": "259415dd"
      },
      "source": [
        "<h1><b>Fim</b></h1>"
      ]
    }
  ],
  "metadata": {
    "kernelspec": {
      "display_name": "Python 3 (ipykernel)",
      "language": "python",
      "name": "python3"
    },
    "language_info": {
      "codemirror_mode": {
        "name": "ipython",
        "version": 3
      },
      "file_extension": ".py",
      "mimetype": "text/x-python",
      "name": "python",
      "nbconvert_exporter": "python",
      "pygments_lexer": "ipython3",
      "version": "3.10.9"
    },
    "colab": {
      "provenance": [],
      "include_colab_link": true
    }
  },
  "nbformat": 4,
  "nbformat_minor": 5
}