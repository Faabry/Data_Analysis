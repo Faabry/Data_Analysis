{
  "nbformat": 4,
  "nbformat_minor": 0,
  "metadata": {
    "colab": {
      "provenance": [],
      "authorship_tag": "ABX9TyPdR0s82JzvwL51ypGinL8i",
      "include_colab_link": true
    },
    "kernelspec": {
      "name": "python3",
      "display_name": "Python 3"
    },
    "language_info": {
      "name": "python"
    }
  },
  "cells": [
    {
      "cell_type": "markdown",
      "metadata": {
        "id": "view-in-github",
        "colab_type": "text"
      },
      "source": [
        "<a href=\"https://colab.research.google.com/github/Faabry/Data_Analysis/blob/main/Falecimentos.ipynb\" target=\"_parent\"><img src=\"https://colab.research.google.com/assets/colab-badge.svg\" alt=\"Open In Colab\"/></a>"
      ]
    },
    {
      "cell_type": "markdown",
      "source": [
        "<h1> <b> Web Scraping Funerário </b> </h1>\n",
        "<p> Web scraping, também conhecido como raspagem de dados, é o processo de extrair informações e dados estruturados de sites da web. Isso é feito usando software automatizado, que lê o conteúdo do site e extrai as informações desejadas em um formato estruturado, como um arquivo CSV ou um banco de dados. Essas informações podem ser usadas para análise de dados, pesquisa de mercado, monitoramento de preços, entre outras finalidades. No entanto, é importante lembrar que alguns sites podem proibir ou restringir o uso de técnicas de web scraping.</p>"
      ],
      "metadata": {
        "id": "0nnqvQuw3kS9"
      }
    },
    {
      "cell_type": "code",
      "source": [
        "from platform import python_version\n",
        "print(f\"Versão Python para esse projeto: {python_version()}\")"
      ],
      "metadata": {
        "colab": {
          "base_uri": "https://localhost:8080/"
        },
        "id": "ZdzE2nH_FtAK",
        "outputId": "1a12a988-ea06-48eb-926c-5a21ac140c6d"
      },
      "execution_count": 1,
      "outputs": [
        {
          "output_type": "stream",
          "name": "stdout",
          "text": [
            "Versão Python para esse projeto: 3.9.16\n"
          ]
        }
      ]
    },
    {
      "cell_type": "markdown",
      "source": [
        "<h1> <b> Importando as bibliotecas necessárias para a execução do projeto </b> </h1>"
      ],
      "metadata": {
        "id": "DI4v30muF6JW"
      }
    },
    {
      "cell_type": "code",
      "execution_count": 2,
      "metadata": {
        "id": "9iIqwTjceHoz"
      },
      "outputs": [],
      "source": [
        "from datetime import datetime\n",
        "from bs4 import BeautifulSoup\n",
        "import requests\n",
        "import pandas as pd"
      ]
    },
    {
      "cell_type": "markdown",
      "source": [
        "<h1> <b> Raspagem de dados </b> </h1>"
      ],
      "metadata": {
        "id": "jYrc7EaYGE2E"
      }
    },
    {
      "cell_type": "code",
      "source": [
        "# Definindo o ano através da biblioteca datetime para que o resultado seja\n",
        "# 100% dinâmico em relação ao presente momento da execução do script\n",
        "now = datetime.now()\n",
        "year = now.year\n",
        "\n",
        "url = \"https://www.araras.sp.gov.br/falecimentos/pesquisa_falecimentos.php\"\n",
        "\n",
        "# Esse parâmetro é usado para que o usuário diga ao servidor que não é uma \n",
        "# máquina fazendo essa busca\n",
        "headers = {\"User-Agent\": \"Mozilla/5.0 (Windows NT 10.0; Win64; x64) AppleWebKit/537.36 (KHTML, like Gecko) Chrome/111.0.0.0 Safari/537.36\"}\n",
        "\n",
        "\n",
        "# Criando um dicionário para armazenar as informações da página web\n",
        "falecidos = {\"Nome\":     [],\n",
        "             \"Idade\":    [],\n",
        "             \"DataFal\":  [],\n",
        "             \"DataSep\":  []}\n",
        "\n",
        "# Criando um looping for para extrair todos os dados em um periodo de tempo\n",
        "for y in range(2012, year + 1):\n",
        "  for m in range(1, 13):\n",
        "    data = {\"mes\": {m}, \"ano\": {y}}\n",
        "    response = requests.post(url, data=data, headers=headers)\n",
        "    soup = BeautifulSoup(response.text, \"html.parser\", from_encoding=\"utf-8\")\n",
        "\n",
        "    feretros = soup.find_all(\"div\", {\"class\":\"col-md-9 sub-falecimento\"})\n",
        "    data_fal = soup.find_all(\"div\", {\"class\":\"col-md-7 sub-falecimento\"})\n",
        "    result = [i.get_text() for i in feretros]\n",
        "    data_falecimento = [i.get_text() for i in data_fal]\n",
        "\n",
        "    for k, v in enumerate(result):\n",
        "        if k % 2 == 0:\n",
        "            falecidos[\"Nome\"].append(v)\n",
        "        else:\n",
        "            falecidos[\"Idade\"].append(v)\n",
        "\n",
        "    for k, v in enumerate(data_falecimento):\n",
        "        if k % 2 == 0:\n",
        "            falecidos[\"DataFal\"].append(v)\n",
        "        else:\n",
        "            falecidos[\"DataSep\"].append(v)"
      ],
      "metadata": {
        "colab": {
          "base_uri": "https://localhost:8080/"
        },
        "id": "B15UGkiuwHF5",
        "outputId": "562c1b1d-0752-4b16-c182-0ef3a516d662"
      },
      "execution_count": 3,
      "outputs": [
        {
          "output_type": "stream",
          "name": "stderr",
          "text": [
            "/usr/local/lib/python3.9/dist-packages/bs4/__init__.py:226: UserWarning: You provided Unicode markup but also provided a value for from_encoding. Your from_encoding will be ignored.\n",
            "  warnings.warn(\"You provided Unicode markup but also provided a value for from_encoding. Your from_encoding will be ignored.\")\n"
          ]
        }
      ]
    },
    {
      "cell_type": "markdown",
      "source": [
        "<h1> <b> Criando um DataFrame </b> </h1>\n",
        "<p> Nosso DataFrame será criado a partir do dicionário com os dados extraídos do site </p>"
      ],
      "metadata": {
        "id": "i0tbg0Do7FfU"
      }
    },
    {
      "cell_type": "code",
      "source": [
        "df = pd.DataFrame(falecidos)\n",
        "df.head()"
      ],
      "metadata": {
        "colab": {
          "base_uri": "https://localhost:8080/",
          "height": 206
        },
        "id": "md819kPV6wGH",
        "outputId": "2e1b62fb-ee71-4c80-c64a-5aa1ad3dfae1"
      },
      "execution_count": 4,
      "outputs": [
        {
          "output_type": "execute_result",
          "data": {
            "text/plain": [
              "                               Nome  \\\n",
              "0           Gilson de Jesus Tavares   \n",
              "1    Luzia de Lourdes Silveira Dias   \n",
              "2  Luci Terezinha Martim De Paula     \n",
              "3                 Valter Sorrantino   \n",
              "4         Antonio Vieira dos Santos   \n",
              "\n",
              "                                               Idade     DataFal  \\\n",
              "0  Aos 40 anos, Casado. Residia no endereço: Rua:...  31/01/2012   \n",
              "1  Aos 66 anos, Viúva. Residia no endereço: Rua -...  31/01/2012   \n",
              "2  Aos 53 anos, Casada. Residia no endereço: Rua ...  30/01/2012   \n",
              "3  Aos 47 anos, Casado. Residia no endereço: Rua ...  30/01/2012   \n",
              "4  Aos 55 anos, Solteiro. Residia no endereço: Ru...  30/01/2012   \n",
              "\n",
              "                                             DataSep  \n",
              "0  31/01/2012 às  - Cemitério Municipal: Sepultam...  \n",
              "1  01/02/2012 às  - Cemitério Municipal - Sepulta...  \n",
              "2  30/01/2012 às  - Cemitério Municipal - Sepulta...  \n",
              "3  31/01/2012 às  - Cemitério Municipal - Sepulta...  \n",
              "4  31/01/2012 às  - Cemitério Municipal: Sepultam...  "
            ],
            "text/html": [
              "\n",
              "  <div id=\"df-1ed4ff5b-eb71-46d8-9fdc-910c19b9bc43\">\n",
              "    <div class=\"colab-df-container\">\n",
              "      <div>\n",
              "<style scoped>\n",
              "    .dataframe tbody tr th:only-of-type {\n",
              "        vertical-align: middle;\n",
              "    }\n",
              "\n",
              "    .dataframe tbody tr th {\n",
              "        vertical-align: top;\n",
              "    }\n",
              "\n",
              "    .dataframe thead th {\n",
              "        text-align: right;\n",
              "    }\n",
              "</style>\n",
              "<table border=\"1\" class=\"dataframe\">\n",
              "  <thead>\n",
              "    <tr style=\"text-align: right;\">\n",
              "      <th></th>\n",
              "      <th>Nome</th>\n",
              "      <th>Idade</th>\n",
              "      <th>DataFal</th>\n",
              "      <th>DataSep</th>\n",
              "    </tr>\n",
              "  </thead>\n",
              "  <tbody>\n",
              "    <tr>\n",
              "      <th>0</th>\n",
              "      <td>Gilson de Jesus Tavares</td>\n",
              "      <td>Aos 40 anos, Casado. Residia no endereço: Rua:...</td>\n",
              "      <td>31/01/2012</td>\n",
              "      <td>31/01/2012 às  - Cemitério Municipal: Sepultam...</td>\n",
              "    </tr>\n",
              "    <tr>\n",
              "      <th>1</th>\n",
              "      <td>Luzia de Lourdes Silveira Dias</td>\n",
              "      <td>Aos 66 anos, Viúva. Residia no endereço: Rua -...</td>\n",
              "      <td>31/01/2012</td>\n",
              "      <td>01/02/2012 às  - Cemitério Municipal - Sepulta...</td>\n",
              "    </tr>\n",
              "    <tr>\n",
              "      <th>2</th>\n",
              "      <td>Luci Terezinha Martim De Paula</td>\n",
              "      <td>Aos 53 anos, Casada. Residia no endereço: Rua ...</td>\n",
              "      <td>30/01/2012</td>\n",
              "      <td>30/01/2012 às  - Cemitério Municipal - Sepulta...</td>\n",
              "    </tr>\n",
              "    <tr>\n",
              "      <th>3</th>\n",
              "      <td>Valter Sorrantino</td>\n",
              "      <td>Aos 47 anos, Casado. Residia no endereço: Rua ...</td>\n",
              "      <td>30/01/2012</td>\n",
              "      <td>31/01/2012 às  - Cemitério Municipal - Sepulta...</td>\n",
              "    </tr>\n",
              "    <tr>\n",
              "      <th>4</th>\n",
              "      <td>Antonio Vieira dos Santos</td>\n",
              "      <td>Aos 55 anos, Solteiro. Residia no endereço: Ru...</td>\n",
              "      <td>30/01/2012</td>\n",
              "      <td>31/01/2012 às  - Cemitério Municipal: Sepultam...</td>\n",
              "    </tr>\n",
              "  </tbody>\n",
              "</table>\n",
              "</div>\n",
              "      <button class=\"colab-df-convert\" onclick=\"convertToInteractive('df-1ed4ff5b-eb71-46d8-9fdc-910c19b9bc43')\"\n",
              "              title=\"Convert this dataframe to an interactive table.\"\n",
              "              style=\"display:none;\">\n",
              "        \n",
              "  <svg xmlns=\"http://www.w3.org/2000/svg\" height=\"24px\"viewBox=\"0 0 24 24\"\n",
              "       width=\"24px\">\n",
              "    <path d=\"M0 0h24v24H0V0z\" fill=\"none\"/>\n",
              "    <path d=\"M18.56 5.44l.94 2.06.94-2.06 2.06-.94-2.06-.94-.94-2.06-.94 2.06-2.06.94zm-11 1L8.5 8.5l.94-2.06 2.06-.94-2.06-.94L8.5 2.5l-.94 2.06-2.06.94zm10 10l.94 2.06.94-2.06 2.06-.94-2.06-.94-.94-2.06-.94 2.06-2.06.94z\"/><path d=\"M17.41 7.96l-1.37-1.37c-.4-.4-.92-.59-1.43-.59-.52 0-1.04.2-1.43.59L10.3 9.45l-7.72 7.72c-.78.78-.78 2.05 0 2.83L4 21.41c.39.39.9.59 1.41.59.51 0 1.02-.2 1.41-.59l7.78-7.78 2.81-2.81c.8-.78.8-2.07 0-2.86zM5.41 20L4 18.59l7.72-7.72 1.47 1.35L5.41 20z\"/>\n",
              "  </svg>\n",
              "      </button>\n",
              "      \n",
              "  <style>\n",
              "    .colab-df-container {\n",
              "      display:flex;\n",
              "      flex-wrap:wrap;\n",
              "      gap: 12px;\n",
              "    }\n",
              "\n",
              "    .colab-df-convert {\n",
              "      background-color: #E8F0FE;\n",
              "      border: none;\n",
              "      border-radius: 50%;\n",
              "      cursor: pointer;\n",
              "      display: none;\n",
              "      fill: #1967D2;\n",
              "      height: 32px;\n",
              "      padding: 0 0 0 0;\n",
              "      width: 32px;\n",
              "    }\n",
              "\n",
              "    .colab-df-convert:hover {\n",
              "      background-color: #E2EBFA;\n",
              "      box-shadow: 0px 1px 2px rgba(60, 64, 67, 0.3), 0px 1px 3px 1px rgba(60, 64, 67, 0.15);\n",
              "      fill: #174EA6;\n",
              "    }\n",
              "\n",
              "    [theme=dark] .colab-df-convert {\n",
              "      background-color: #3B4455;\n",
              "      fill: #D2E3FC;\n",
              "    }\n",
              "\n",
              "    [theme=dark] .colab-df-convert:hover {\n",
              "      background-color: #434B5C;\n",
              "      box-shadow: 0px 1px 3px 1px rgba(0, 0, 0, 0.15);\n",
              "      filter: drop-shadow(0px 1px 2px rgba(0, 0, 0, 0.3));\n",
              "      fill: #FFFFFF;\n",
              "    }\n",
              "  </style>\n",
              "\n",
              "      <script>\n",
              "        const buttonEl =\n",
              "          document.querySelector('#df-1ed4ff5b-eb71-46d8-9fdc-910c19b9bc43 button.colab-df-convert');\n",
              "        buttonEl.style.display =\n",
              "          google.colab.kernel.accessAllowed ? 'block' : 'none';\n",
              "\n",
              "        async function convertToInteractive(key) {\n",
              "          const element = document.querySelector('#df-1ed4ff5b-eb71-46d8-9fdc-910c19b9bc43');\n",
              "          const dataTable =\n",
              "            await google.colab.kernel.invokeFunction('convertToInteractive',\n",
              "                                                     [key], {});\n",
              "          if (!dataTable) return;\n",
              "\n",
              "          const docLinkHtml = 'Like what you see? Visit the ' +\n",
              "            '<a target=\"_blank\" href=https://colab.research.google.com/notebooks/data_table.ipynb>data table notebook</a>'\n",
              "            + ' to learn more about interactive tables.';\n",
              "          element.innerHTML = '';\n",
              "          dataTable['output_type'] = 'display_data';\n",
              "          await google.colab.output.renderOutput(dataTable, element);\n",
              "          const docLink = document.createElement('div');\n",
              "          docLink.innerHTML = docLinkHtml;\n",
              "          element.appendChild(docLink);\n",
              "        }\n",
              "      </script>\n",
              "    </div>\n",
              "  </div>\n",
              "  "
            ]
          },
          "metadata": {},
          "execution_count": 4
        }
      ]
    },
    {
      "cell_type": "code",
      "source": [
        "df.shape"
      ],
      "metadata": {
        "colab": {
          "base_uri": "https://localhost:8080/"
        },
        "id": "GE2rzdkrnAMZ",
        "outputId": "9b4d91f3-bbc1-44d5-8723-6fe2cda452e6"
      },
      "execution_count": 5,
      "outputs": [
        {
          "output_type": "execute_result",
          "data": {
            "text/plain": [
              "(10058, 4)"
            ]
          },
          "metadata": {},
          "execution_count": 5
        }
      ]
    },
    {
      "cell_type": "markdown",
      "source": [
        "# **Tratando os dados**"
      ],
      "metadata": {
        "id": "aIyAKuulHIwe"
      }
    },
    {
      "cell_type": "code",
      "source": [
        "df.info()"
      ],
      "metadata": {
        "colab": {
          "base_uri": "https://localhost:8080/"
        },
        "id": "rZDn61NvHQv1",
        "outputId": "34d0b34d-9dab-40fa-aed8-52adaca151fc"
      },
      "execution_count": 6,
      "outputs": [
        {
          "output_type": "stream",
          "name": "stdout",
          "text": [
            "<class 'pandas.core.frame.DataFrame'>\n",
            "RangeIndex: 10058 entries, 0 to 10057\n",
            "Data columns (total 4 columns):\n",
            " #   Column   Non-Null Count  Dtype \n",
            "---  ------   --------------  ----- \n",
            " 0   Nome     10058 non-null  object\n",
            " 1   Idade    10058 non-null  object\n",
            " 2   DataFal  10058 non-null  object\n",
            " 3   DataSep  10058 non-null  object\n",
            "dtypes: object(4)\n",
            "memory usage: 314.4+ KB\n"
          ]
        }
      ]
    },
    {
      "cell_type": "markdown",
      "source": [
        "<p> Não temos nenhum valor ausente, mas os tipos primitivos de algumas colunas como <b> DataFal e DataSep </b> estão incorretos."
      ],
      "metadata": {
        "id": "97YeXtSEHUop"
      }
    },
    {
      "cell_type": "markdown",
      "source": [
        "<h1> <b> Task 1:</b> Verificar se existem valores duplicados</h1>"
      ],
      "metadata": {
        "id": "gyo55_0GHh7P"
      }
    },
    {
      "cell_type": "code",
      "source": [
        "# O primerio passo é remover possíveis espaços em branco que podem indicar valores\n",
        "# diferentes ao pandas\n",
        "df = df.apply(lambda x: x.str.strip())"
      ],
      "metadata": {
        "id": "6S6KTZX8KNGn"
      },
      "execution_count": 7,
      "outputs": []
    },
    {
      "cell_type": "code",
      "source": [
        "df[[\"Nome\", \"Idade\"]].duplicated().sum()"
      ],
      "metadata": {
        "colab": {
          "base_uri": "https://localhost:8080/"
        },
        "id": "apnWn7EYHrQq",
        "outputId": "7ddac057-6f81-4dad-9de3-0a31e3617c67"
      },
      "execution_count": 8,
      "outputs": [
        {
          "output_type": "execute_result",
          "data": {
            "text/plain": [
              "17"
            ]
          },
          "metadata": {},
          "execution_count": 8
        }
      ]
    },
    {
      "cell_type": "code",
      "source": [
        "df.loc[df[\"Nome\"] == \"Jose Abilio Baggio\"]"
      ],
      "metadata": {
        "colab": {
          "base_uri": "https://localhost:8080/",
          "height": 175
        },
        "id": "kQr1ddWXIKoH",
        "outputId": "8588543b-72ce-4e63-81d8-8b07aa6950fe"
      },
      "execution_count": 9,
      "outputs": [
        {
          "output_type": "execute_result",
          "data": {
            "text/plain": [
              "                    Nome                                              Idade  \\\n",
              "8634  Jose Abilio Baggio  Aos 95 anos, Casado. Residia no endereço: Rua ...   \n",
              "8635  Jose Abilio Baggio  Aos 95 anos, Casado. Residia no endereço: Rua ...   \n",
              "8636  Jose Abilio Baggio  Aos 95 anos, Casado. Residia no endereço: Rua ...   \n",
              "8637  Jose Abilio Baggio  Aos 95 anos, Casado. Residia no endereço: Rua ...   \n",
              "\n",
              "         DataFal                                            DataSep  \n",
              "8634  28/11/2021    28/11/2021 às 16:00 - CEMITÉRIO MUNICIPAl  -SP.  \n",
              "8635  28/11/2021    28/11/2021 às 16:00 - CEMITÉRIO MUNICIPAl  -SP.  \n",
              "8636  28/11/2021    28/11/2021 às 16:00 - CEMITÉRIO MUNICIPAl  -SP.  \n",
              "8637  28/11/2021  28/11/2021 às 16:00 - CEMITÉRIO MUNICIPAl  -  ...  "
            ],
            "text/html": [
              "\n",
              "  <div id=\"df-4f9296b0-8e5e-428c-90b8-a13dbcf1a462\">\n",
              "    <div class=\"colab-df-container\">\n",
              "      <div>\n",
              "<style scoped>\n",
              "    .dataframe tbody tr th:only-of-type {\n",
              "        vertical-align: middle;\n",
              "    }\n",
              "\n",
              "    .dataframe tbody tr th {\n",
              "        vertical-align: top;\n",
              "    }\n",
              "\n",
              "    .dataframe thead th {\n",
              "        text-align: right;\n",
              "    }\n",
              "</style>\n",
              "<table border=\"1\" class=\"dataframe\">\n",
              "  <thead>\n",
              "    <tr style=\"text-align: right;\">\n",
              "      <th></th>\n",
              "      <th>Nome</th>\n",
              "      <th>Idade</th>\n",
              "      <th>DataFal</th>\n",
              "      <th>DataSep</th>\n",
              "    </tr>\n",
              "  </thead>\n",
              "  <tbody>\n",
              "    <tr>\n",
              "      <th>8634</th>\n",
              "      <td>Jose Abilio Baggio</td>\n",
              "      <td>Aos 95 anos, Casado. Residia no endereço: Rua ...</td>\n",
              "      <td>28/11/2021</td>\n",
              "      <td>28/11/2021 às 16:00 - CEMITÉRIO MUNICIPAl  -SP.</td>\n",
              "    </tr>\n",
              "    <tr>\n",
              "      <th>8635</th>\n",
              "      <td>Jose Abilio Baggio</td>\n",
              "      <td>Aos 95 anos, Casado. Residia no endereço: Rua ...</td>\n",
              "      <td>28/11/2021</td>\n",
              "      <td>28/11/2021 às 16:00 - CEMITÉRIO MUNICIPAl  -SP.</td>\n",
              "    </tr>\n",
              "    <tr>\n",
              "      <th>8636</th>\n",
              "      <td>Jose Abilio Baggio</td>\n",
              "      <td>Aos 95 anos, Casado. Residia no endereço: Rua ...</td>\n",
              "      <td>28/11/2021</td>\n",
              "      <td>28/11/2021 às 16:00 - CEMITÉRIO MUNICIPAl  -SP.</td>\n",
              "    </tr>\n",
              "    <tr>\n",
              "      <th>8637</th>\n",
              "      <td>Jose Abilio Baggio</td>\n",
              "      <td>Aos 95 anos, Casado. Residia no endereço: Rua ...</td>\n",
              "      <td>28/11/2021</td>\n",
              "      <td>28/11/2021 às 16:00 - CEMITÉRIO MUNICIPAl  -  ...</td>\n",
              "    </tr>\n",
              "  </tbody>\n",
              "</table>\n",
              "</div>\n",
              "      <button class=\"colab-df-convert\" onclick=\"convertToInteractive('df-4f9296b0-8e5e-428c-90b8-a13dbcf1a462')\"\n",
              "              title=\"Convert this dataframe to an interactive table.\"\n",
              "              style=\"display:none;\">\n",
              "        \n",
              "  <svg xmlns=\"http://www.w3.org/2000/svg\" height=\"24px\"viewBox=\"0 0 24 24\"\n",
              "       width=\"24px\">\n",
              "    <path d=\"M0 0h24v24H0V0z\" fill=\"none\"/>\n",
              "    <path d=\"M18.56 5.44l.94 2.06.94-2.06 2.06-.94-2.06-.94-.94-2.06-.94 2.06-2.06.94zm-11 1L8.5 8.5l.94-2.06 2.06-.94-2.06-.94L8.5 2.5l-.94 2.06-2.06.94zm10 10l.94 2.06.94-2.06 2.06-.94-2.06-.94-.94-2.06-.94 2.06-2.06.94z\"/><path d=\"M17.41 7.96l-1.37-1.37c-.4-.4-.92-.59-1.43-.59-.52 0-1.04.2-1.43.59L10.3 9.45l-7.72 7.72c-.78.78-.78 2.05 0 2.83L4 21.41c.39.39.9.59 1.41.59.51 0 1.02-.2 1.41-.59l7.78-7.78 2.81-2.81c.8-.78.8-2.07 0-2.86zM5.41 20L4 18.59l7.72-7.72 1.47 1.35L5.41 20z\"/>\n",
              "  </svg>\n",
              "      </button>\n",
              "      \n",
              "  <style>\n",
              "    .colab-df-container {\n",
              "      display:flex;\n",
              "      flex-wrap:wrap;\n",
              "      gap: 12px;\n",
              "    }\n",
              "\n",
              "    .colab-df-convert {\n",
              "      background-color: #E8F0FE;\n",
              "      border: none;\n",
              "      border-radius: 50%;\n",
              "      cursor: pointer;\n",
              "      display: none;\n",
              "      fill: #1967D2;\n",
              "      height: 32px;\n",
              "      padding: 0 0 0 0;\n",
              "      width: 32px;\n",
              "    }\n",
              "\n",
              "    .colab-df-convert:hover {\n",
              "      background-color: #E2EBFA;\n",
              "      box-shadow: 0px 1px 2px rgba(60, 64, 67, 0.3), 0px 1px 3px 1px rgba(60, 64, 67, 0.15);\n",
              "      fill: #174EA6;\n",
              "    }\n",
              "\n",
              "    [theme=dark] .colab-df-convert {\n",
              "      background-color: #3B4455;\n",
              "      fill: #D2E3FC;\n",
              "    }\n",
              "\n",
              "    [theme=dark] .colab-df-convert:hover {\n",
              "      background-color: #434B5C;\n",
              "      box-shadow: 0px 1px 3px 1px rgba(0, 0, 0, 0.15);\n",
              "      filter: drop-shadow(0px 1px 2px rgba(0, 0, 0, 0.3));\n",
              "      fill: #FFFFFF;\n",
              "    }\n",
              "  </style>\n",
              "\n",
              "      <script>\n",
              "        const buttonEl =\n",
              "          document.querySelector('#df-4f9296b0-8e5e-428c-90b8-a13dbcf1a462 button.colab-df-convert');\n",
              "        buttonEl.style.display =\n",
              "          google.colab.kernel.accessAllowed ? 'block' : 'none';\n",
              "\n",
              "        async function convertToInteractive(key) {\n",
              "          const element = document.querySelector('#df-4f9296b0-8e5e-428c-90b8-a13dbcf1a462');\n",
              "          const dataTable =\n",
              "            await google.colab.kernel.invokeFunction('convertToInteractive',\n",
              "                                                     [key], {});\n",
              "          if (!dataTable) return;\n",
              "\n",
              "          const docLinkHtml = 'Like what you see? Visit the ' +\n",
              "            '<a target=\"_blank\" href=https://colab.research.google.com/notebooks/data_table.ipynb>data table notebook</a>'\n",
              "            + ' to learn more about interactive tables.';\n",
              "          element.innerHTML = '';\n",
              "          dataTable['output_type'] = 'display_data';\n",
              "          await google.colab.output.renderOutput(dataTable, element);\n",
              "          const docLink = document.createElement('div');\n",
              "          docLink.innerHTML = docLinkHtml;\n",
              "          element.appendChild(docLink);\n",
              "        }\n",
              "      </script>\n",
              "    </div>\n",
              "  </div>\n",
              "  "
            ]
          },
          "metadata": {},
          "execution_count": 9
        }
      ]
    },
    {
      "cell_type": "markdown",
      "source": [
        "<p> Como podemos ver temos alguns valores duplicados, o próximo passo é remove-los </p>"
      ],
      "metadata": {
        "id": "Aolt7BKJJBdx"
      }
    },
    {
      "cell_type": "code",
      "source": [
        "df.drop_duplicates([\"Nome\", \"Idade\"], inplace=True)"
      ],
      "metadata": {
        "id": "7IL9VwV4H8D_"
      },
      "execution_count": 10,
      "outputs": []
    },
    {
      "cell_type": "code",
      "source": [
        "df.count()"
      ],
      "metadata": {
        "colab": {
          "base_uri": "https://localhost:8080/"
        },
        "id": "-73SGNoiJdfI",
        "outputId": "976f4b6d-eec7-4752-f581-dce28cca0582"
      },
      "execution_count": 11,
      "outputs": [
        {
          "output_type": "execute_result",
          "data": {
            "text/plain": [
              "Nome       10041\n",
              "Idade      10041\n",
              "DataFal    10041\n",
              "DataSep    10041\n",
              "dtype: int64"
            ]
          },
          "metadata": {},
          "execution_count": 11
        }
      ]
    },
    {
      "cell_type": "code",
      "source": [
        "df.head()"
      ],
      "metadata": {
        "colab": {
          "base_uri": "https://localhost:8080/",
          "height": 206
        },
        "id": "6CH3kdyVl48i",
        "outputId": "d7243c5e-8289-40c1-d4f2-534faac1b25c"
      },
      "execution_count": 12,
      "outputs": [
        {
          "output_type": "execute_result",
          "data": {
            "text/plain": [
              "                             Nome  \\\n",
              "0         Gilson de Jesus Tavares   \n",
              "1  Luzia de Lourdes Silveira Dias   \n",
              "2  Luci Terezinha Martim De Paula   \n",
              "3               Valter Sorrantino   \n",
              "4       Antonio Vieira dos Santos   \n",
              "\n",
              "                                               Idade     DataFal  \\\n",
              "0  Aos 40 anos, Casado. Residia no endereço: Rua:...  31/01/2012   \n",
              "1  Aos 66 anos, Viúva. Residia no endereço: Rua -...  31/01/2012   \n",
              "2  Aos 53 anos, Casada. Residia no endereço: Rua ...  30/01/2012   \n",
              "3  Aos 47 anos, Casado. Residia no endereço: Rua ...  30/01/2012   \n",
              "4  Aos 55 anos, Solteiro. Residia no endereço: Ru...  30/01/2012   \n",
              "\n",
              "                                             DataSep  \n",
              "0  31/01/2012 às  - Cemitério Municipal: Sepultam...  \n",
              "1  01/02/2012 às  - Cemitério Municipal - Sepulta...  \n",
              "2  30/01/2012 às  - Cemitério Municipal - Sepulta...  \n",
              "3  31/01/2012 às  - Cemitério Municipal - Sepulta...  \n",
              "4  31/01/2012 às  - Cemitério Municipal: Sepultam...  "
            ],
            "text/html": [
              "\n",
              "  <div id=\"df-faf12f3b-e53d-4d47-9f72-33c27b824cfe\">\n",
              "    <div class=\"colab-df-container\">\n",
              "      <div>\n",
              "<style scoped>\n",
              "    .dataframe tbody tr th:only-of-type {\n",
              "        vertical-align: middle;\n",
              "    }\n",
              "\n",
              "    .dataframe tbody tr th {\n",
              "        vertical-align: top;\n",
              "    }\n",
              "\n",
              "    .dataframe thead th {\n",
              "        text-align: right;\n",
              "    }\n",
              "</style>\n",
              "<table border=\"1\" class=\"dataframe\">\n",
              "  <thead>\n",
              "    <tr style=\"text-align: right;\">\n",
              "      <th></th>\n",
              "      <th>Nome</th>\n",
              "      <th>Idade</th>\n",
              "      <th>DataFal</th>\n",
              "      <th>DataSep</th>\n",
              "    </tr>\n",
              "  </thead>\n",
              "  <tbody>\n",
              "    <tr>\n",
              "      <th>0</th>\n",
              "      <td>Gilson de Jesus Tavares</td>\n",
              "      <td>Aos 40 anos, Casado. Residia no endereço: Rua:...</td>\n",
              "      <td>31/01/2012</td>\n",
              "      <td>31/01/2012 às  - Cemitério Municipal: Sepultam...</td>\n",
              "    </tr>\n",
              "    <tr>\n",
              "      <th>1</th>\n",
              "      <td>Luzia de Lourdes Silveira Dias</td>\n",
              "      <td>Aos 66 anos, Viúva. Residia no endereço: Rua -...</td>\n",
              "      <td>31/01/2012</td>\n",
              "      <td>01/02/2012 às  - Cemitério Municipal - Sepulta...</td>\n",
              "    </tr>\n",
              "    <tr>\n",
              "      <th>2</th>\n",
              "      <td>Luci Terezinha Martim De Paula</td>\n",
              "      <td>Aos 53 anos, Casada. Residia no endereço: Rua ...</td>\n",
              "      <td>30/01/2012</td>\n",
              "      <td>30/01/2012 às  - Cemitério Municipal - Sepulta...</td>\n",
              "    </tr>\n",
              "    <tr>\n",
              "      <th>3</th>\n",
              "      <td>Valter Sorrantino</td>\n",
              "      <td>Aos 47 anos, Casado. Residia no endereço: Rua ...</td>\n",
              "      <td>30/01/2012</td>\n",
              "      <td>31/01/2012 às  - Cemitério Municipal - Sepulta...</td>\n",
              "    </tr>\n",
              "    <tr>\n",
              "      <th>4</th>\n",
              "      <td>Antonio Vieira dos Santos</td>\n",
              "      <td>Aos 55 anos, Solteiro. Residia no endereço: Ru...</td>\n",
              "      <td>30/01/2012</td>\n",
              "      <td>31/01/2012 às  - Cemitério Municipal: Sepultam...</td>\n",
              "    </tr>\n",
              "  </tbody>\n",
              "</table>\n",
              "</div>\n",
              "      <button class=\"colab-df-convert\" onclick=\"convertToInteractive('df-faf12f3b-e53d-4d47-9f72-33c27b824cfe')\"\n",
              "              title=\"Convert this dataframe to an interactive table.\"\n",
              "              style=\"display:none;\">\n",
              "        \n",
              "  <svg xmlns=\"http://www.w3.org/2000/svg\" height=\"24px\"viewBox=\"0 0 24 24\"\n",
              "       width=\"24px\">\n",
              "    <path d=\"M0 0h24v24H0V0z\" fill=\"none\"/>\n",
              "    <path d=\"M18.56 5.44l.94 2.06.94-2.06 2.06-.94-2.06-.94-.94-2.06-.94 2.06-2.06.94zm-11 1L8.5 8.5l.94-2.06 2.06-.94-2.06-.94L8.5 2.5l-.94 2.06-2.06.94zm10 10l.94 2.06.94-2.06 2.06-.94-2.06-.94-.94-2.06-.94 2.06-2.06.94z\"/><path d=\"M17.41 7.96l-1.37-1.37c-.4-.4-.92-.59-1.43-.59-.52 0-1.04.2-1.43.59L10.3 9.45l-7.72 7.72c-.78.78-.78 2.05 0 2.83L4 21.41c.39.39.9.59 1.41.59.51 0 1.02-.2 1.41-.59l7.78-7.78 2.81-2.81c.8-.78.8-2.07 0-2.86zM5.41 20L4 18.59l7.72-7.72 1.47 1.35L5.41 20z\"/>\n",
              "  </svg>\n",
              "      </button>\n",
              "      \n",
              "  <style>\n",
              "    .colab-df-container {\n",
              "      display:flex;\n",
              "      flex-wrap:wrap;\n",
              "      gap: 12px;\n",
              "    }\n",
              "\n",
              "    .colab-df-convert {\n",
              "      background-color: #E8F0FE;\n",
              "      border: none;\n",
              "      border-radius: 50%;\n",
              "      cursor: pointer;\n",
              "      display: none;\n",
              "      fill: #1967D2;\n",
              "      height: 32px;\n",
              "      padding: 0 0 0 0;\n",
              "      width: 32px;\n",
              "    }\n",
              "\n",
              "    .colab-df-convert:hover {\n",
              "      background-color: #E2EBFA;\n",
              "      box-shadow: 0px 1px 2px rgba(60, 64, 67, 0.3), 0px 1px 3px 1px rgba(60, 64, 67, 0.15);\n",
              "      fill: #174EA6;\n",
              "    }\n",
              "\n",
              "    [theme=dark] .colab-df-convert {\n",
              "      background-color: #3B4455;\n",
              "      fill: #D2E3FC;\n",
              "    }\n",
              "\n",
              "    [theme=dark] .colab-df-convert:hover {\n",
              "      background-color: #434B5C;\n",
              "      box-shadow: 0px 1px 3px 1px rgba(0, 0, 0, 0.15);\n",
              "      filter: drop-shadow(0px 1px 2px rgba(0, 0, 0, 0.3));\n",
              "      fill: #FFFFFF;\n",
              "    }\n",
              "  </style>\n",
              "\n",
              "      <script>\n",
              "        const buttonEl =\n",
              "          document.querySelector('#df-faf12f3b-e53d-4d47-9f72-33c27b824cfe button.colab-df-convert');\n",
              "        buttonEl.style.display =\n",
              "          google.colab.kernel.accessAllowed ? 'block' : 'none';\n",
              "\n",
              "        async function convertToInteractive(key) {\n",
              "          const element = document.querySelector('#df-faf12f3b-e53d-4d47-9f72-33c27b824cfe');\n",
              "          const dataTable =\n",
              "            await google.colab.kernel.invokeFunction('convertToInteractive',\n",
              "                                                     [key], {});\n",
              "          if (!dataTable) return;\n",
              "\n",
              "          const docLinkHtml = 'Like what you see? Visit the ' +\n",
              "            '<a target=\"_blank\" href=https://colab.research.google.com/notebooks/data_table.ipynb>data table notebook</a>'\n",
              "            + ' to learn more about interactive tables.';\n",
              "          element.innerHTML = '';\n",
              "          dataTable['output_type'] = 'display_data';\n",
              "          await google.colab.output.renderOutput(dataTable, element);\n",
              "          const docLink = document.createElement('div');\n",
              "          docLink.innerHTML = docLinkHtml;\n",
              "          element.appendChild(docLink);\n",
              "        }\n",
              "      </script>\n",
              "    </div>\n",
              "  </div>\n",
              "  "
            ]
          },
          "metadata": {},
          "execution_count": 12
        }
      ]
    },
    {
      "cell_type": "markdown",
      "source": [
        "<h1> <b>Task 2:</b> Tratar os dados para que se tornem informações</h1>"
      ],
      "metadata": {
        "id": "XSJzZAA767p0"
      }
    },
    {
      "cell_type": "code",
      "source": [
        "pd.set_option(\"display.max_rows\", None)"
      ],
      "metadata": {
        "id": "dN5b-36D8An6"
      },
      "execution_count": 13,
      "outputs": []
    },
    {
      "cell_type": "code",
      "source": [
        "df[\"Local\"] = df[\"DataSep\"].apply(lambda x: x[10::])\n",
        "df[\"DataSep\"] = df[\"DataSep\"].apply(lambda x: x[0: 11])\n",
        "df[\"Idade\"] = df[\"Idade\"].apply(lambda x: x[3:7])\n",
        "df.head()"
      ],
      "metadata": {
        "colab": {
          "base_uri": "https://localhost:8080/",
          "height": 206
        },
        "id": "_BgEV6Cm9mzE",
        "outputId": "9375ae16-f59f-41df-881a-d5734a2d6f8a"
      },
      "execution_count": 14,
      "outputs": [
        {
          "output_type": "execute_result",
          "data": {
            "text/plain": [
              "                             Nome Idade     DataFal      DataSep  \\\n",
              "0         Gilson de Jesus Tavares   40   31/01/2012  31/01/2012    \n",
              "1  Luzia de Lourdes Silveira Dias   66   31/01/2012  01/02/2012    \n",
              "2  Luci Terezinha Martim De Paula   53   30/01/2012  30/01/2012    \n",
              "3               Valter Sorrantino   47   30/01/2012  31/01/2012    \n",
              "4       Antonio Vieira dos Santos   55   30/01/2012  31/01/2012    \n",
              "\n",
              "                                               Local  \n",
              "0   às  - Cemitério Municipal: Sepultamento as 10...  \n",
              "1   às  - Cemitério Municipal - Sepultamento ás 0...  \n",
              "2   às  - Cemitério Municipal - Sepultamento ás 1...  \n",
              "3   às  - Cemitério Municipal - Sepultamento ás 0...  \n",
              "4   às  - Cemitério Municipal: Sepultamento as 10...  "
            ],
            "text/html": [
              "\n",
              "  <div id=\"df-bf06ac30-9b96-48fa-b9f2-7cd8797bd146\">\n",
              "    <div class=\"colab-df-container\">\n",
              "      <div>\n",
              "<style scoped>\n",
              "    .dataframe tbody tr th:only-of-type {\n",
              "        vertical-align: middle;\n",
              "    }\n",
              "\n",
              "    .dataframe tbody tr th {\n",
              "        vertical-align: top;\n",
              "    }\n",
              "\n",
              "    .dataframe thead th {\n",
              "        text-align: right;\n",
              "    }\n",
              "</style>\n",
              "<table border=\"1\" class=\"dataframe\">\n",
              "  <thead>\n",
              "    <tr style=\"text-align: right;\">\n",
              "      <th></th>\n",
              "      <th>Nome</th>\n",
              "      <th>Idade</th>\n",
              "      <th>DataFal</th>\n",
              "      <th>DataSep</th>\n",
              "      <th>Local</th>\n",
              "    </tr>\n",
              "  </thead>\n",
              "  <tbody>\n",
              "    <tr>\n",
              "      <th>0</th>\n",
              "      <td>Gilson de Jesus Tavares</td>\n",
              "      <td>40</td>\n",
              "      <td>31/01/2012</td>\n",
              "      <td>31/01/2012</td>\n",
              "      <td>às  - Cemitério Municipal: Sepultamento as 10...</td>\n",
              "    </tr>\n",
              "    <tr>\n",
              "      <th>1</th>\n",
              "      <td>Luzia de Lourdes Silveira Dias</td>\n",
              "      <td>66</td>\n",
              "      <td>31/01/2012</td>\n",
              "      <td>01/02/2012</td>\n",
              "      <td>às  - Cemitério Municipal - Sepultamento ás 0...</td>\n",
              "    </tr>\n",
              "    <tr>\n",
              "      <th>2</th>\n",
              "      <td>Luci Terezinha Martim De Paula</td>\n",
              "      <td>53</td>\n",
              "      <td>30/01/2012</td>\n",
              "      <td>30/01/2012</td>\n",
              "      <td>às  - Cemitério Municipal - Sepultamento ás 1...</td>\n",
              "    </tr>\n",
              "    <tr>\n",
              "      <th>3</th>\n",
              "      <td>Valter Sorrantino</td>\n",
              "      <td>47</td>\n",
              "      <td>30/01/2012</td>\n",
              "      <td>31/01/2012</td>\n",
              "      <td>às  - Cemitério Municipal - Sepultamento ás 0...</td>\n",
              "    </tr>\n",
              "    <tr>\n",
              "      <th>4</th>\n",
              "      <td>Antonio Vieira dos Santos</td>\n",
              "      <td>55</td>\n",
              "      <td>30/01/2012</td>\n",
              "      <td>31/01/2012</td>\n",
              "      <td>às  - Cemitério Municipal: Sepultamento as 10...</td>\n",
              "    </tr>\n",
              "  </tbody>\n",
              "</table>\n",
              "</div>\n",
              "      <button class=\"colab-df-convert\" onclick=\"convertToInteractive('df-bf06ac30-9b96-48fa-b9f2-7cd8797bd146')\"\n",
              "              title=\"Convert this dataframe to an interactive table.\"\n",
              "              style=\"display:none;\">\n",
              "        \n",
              "  <svg xmlns=\"http://www.w3.org/2000/svg\" height=\"24px\"viewBox=\"0 0 24 24\"\n",
              "       width=\"24px\">\n",
              "    <path d=\"M0 0h24v24H0V0z\" fill=\"none\"/>\n",
              "    <path d=\"M18.56 5.44l.94 2.06.94-2.06 2.06-.94-2.06-.94-.94-2.06-.94 2.06-2.06.94zm-11 1L8.5 8.5l.94-2.06 2.06-.94-2.06-.94L8.5 2.5l-.94 2.06-2.06.94zm10 10l.94 2.06.94-2.06 2.06-.94-2.06-.94-.94-2.06-.94 2.06-2.06.94z\"/><path d=\"M17.41 7.96l-1.37-1.37c-.4-.4-.92-.59-1.43-.59-.52 0-1.04.2-1.43.59L10.3 9.45l-7.72 7.72c-.78.78-.78 2.05 0 2.83L4 21.41c.39.39.9.59 1.41.59.51 0 1.02-.2 1.41-.59l7.78-7.78 2.81-2.81c.8-.78.8-2.07 0-2.86zM5.41 20L4 18.59l7.72-7.72 1.47 1.35L5.41 20z\"/>\n",
              "  </svg>\n",
              "      </button>\n",
              "      \n",
              "  <style>\n",
              "    .colab-df-container {\n",
              "      display:flex;\n",
              "      flex-wrap:wrap;\n",
              "      gap: 12px;\n",
              "    }\n",
              "\n",
              "    .colab-df-convert {\n",
              "      background-color: #E8F0FE;\n",
              "      border: none;\n",
              "      border-radius: 50%;\n",
              "      cursor: pointer;\n",
              "      display: none;\n",
              "      fill: #1967D2;\n",
              "      height: 32px;\n",
              "      padding: 0 0 0 0;\n",
              "      width: 32px;\n",
              "    }\n",
              "\n",
              "    .colab-df-convert:hover {\n",
              "      background-color: #E2EBFA;\n",
              "      box-shadow: 0px 1px 2px rgba(60, 64, 67, 0.3), 0px 1px 3px 1px rgba(60, 64, 67, 0.15);\n",
              "      fill: #174EA6;\n",
              "    }\n",
              "\n",
              "    [theme=dark] .colab-df-convert {\n",
              "      background-color: #3B4455;\n",
              "      fill: #D2E3FC;\n",
              "    }\n",
              "\n",
              "    [theme=dark] .colab-df-convert:hover {\n",
              "      background-color: #434B5C;\n",
              "      box-shadow: 0px 1px 3px 1px rgba(0, 0, 0, 0.15);\n",
              "      filter: drop-shadow(0px 1px 2px rgba(0, 0, 0, 0.3));\n",
              "      fill: #FFFFFF;\n",
              "    }\n",
              "  </style>\n",
              "\n",
              "      <script>\n",
              "        const buttonEl =\n",
              "          document.querySelector('#df-bf06ac30-9b96-48fa-b9f2-7cd8797bd146 button.colab-df-convert');\n",
              "        buttonEl.style.display =\n",
              "          google.colab.kernel.accessAllowed ? 'block' : 'none';\n",
              "\n",
              "        async function convertToInteractive(key) {\n",
              "          const element = document.querySelector('#df-bf06ac30-9b96-48fa-b9f2-7cd8797bd146');\n",
              "          const dataTable =\n",
              "            await google.colab.kernel.invokeFunction('convertToInteractive',\n",
              "                                                     [key], {});\n",
              "          if (!dataTable) return;\n",
              "\n",
              "          const docLinkHtml = 'Like what you see? Visit the ' +\n",
              "            '<a target=\"_blank\" href=https://colab.research.google.com/notebooks/data_table.ipynb>data table notebook</a>'\n",
              "            + ' to learn more about interactive tables.';\n",
              "          element.innerHTML = '';\n",
              "          dataTable['output_type'] = 'display_data';\n",
              "          await google.colab.output.renderOutput(dataTable, element);\n",
              "          const docLink = document.createElement('div');\n",
              "          docLink.innerHTML = docLinkHtml;\n",
              "          element.appendChild(docLink);\n",
              "        }\n",
              "      </script>\n",
              "    </div>\n",
              "  </div>\n",
              "  "
            ]
          },
          "metadata": {},
          "execution_count": 14
        }
      ]
    },
    {
      "cell_type": "code",
      "source": [
        "df[\"Idade\"] = df[\"Idade\"].str.strip()"
      ],
      "metadata": {
        "id": "ym-Jkk7fn4pz"
      },
      "execution_count": 15,
      "outputs": []
    },
    {
      "cell_type": "code",
      "source": [
        "df[\"Idade\"].unique()"
      ],
      "metadata": {
        "colab": {
          "base_uri": "https://localhost:8080/"
        },
        "id": "wkDUT-O_mOVa",
        "outputId": "27fc91c8-25d6-407f-bb4d-40e6a2661daf"
      },
      "execution_count": 16,
      "outputs": [
        {
          "output_type": "execute_result",
          "data": {
            "text/plain": [
              "array(['40', '66', '53', '47', '55', '62', '90', '88', '32', '81', '79',\n",
              "       '24', '34', '76', '82', '80', '89', '49', '31', '73', '78', '65',\n",
              "       '96', '74', '42', '7 a', '94', '57', '60', '68', '41', '50', '48',\n",
              "       '51', '77', '84', '75', '69', '39', '44', '56', '46', '64', '92',\n",
              "       '21', '52', '43', '72', '59', '58', '67', '54', '61', '87', '63',\n",
              "       '85', '93', '95', '45', '91', '83', '86', '97', '70', '29', '71',\n",
              "       '26', '3 a', '33', '35', '36', '27', '22', '19', '38', '28', '37',\n",
              "       '101', '23', '18', '103', '98', '102', '16', '100', '20', '25',\n",
              "       '99', '0 a', '14', '17', '12', '105', '30', '104', '4 a', '13',\n",
              "       '2 a', '15', '8 a', '6 a', '9 a', '5 a', '107', '11', '106'],\n",
              "      dtype=object)"
            ]
          },
          "metadata": {},
          "execution_count": 16
        }
      ]
    },
    {
      "cell_type": "markdown",
      "source": [
        "<p> Existem alguns valores com strings como <b>5 a</b> isso será um problema na análise final e precisa ser resolvido. </p>"
      ],
      "metadata": {
        "id": "8vF2W2_8LQ8I"
      }
    },
    {
      "cell_type": "code",
      "source": [
        "# Substituindo valores \"_ a\" por números\n",
        "for c in range(0, 10):\n",
        "  df[\"Idade\"] = df[\"Idade\"].str.replace(f\"{c} a\", f\"{c}\")"
      ],
      "metadata": {
        "id": "R8E25OCkLi0y"
      },
      "execution_count": 17,
      "outputs": []
    },
    {
      "cell_type": "code",
      "source": [
        "df[\"Idade\"].unique()"
      ],
      "metadata": {
        "colab": {
          "base_uri": "https://localhost:8080/"
        },
        "id": "mb2IUe6aLnkp",
        "outputId": "ba9dc4a3-dd56-4e08-8a73-b32af3506124"
      },
      "execution_count": 18,
      "outputs": [
        {
          "output_type": "execute_result",
          "data": {
            "text/plain": [
              "array(['40', '66', '53', '47', '55', '62', '90', '88', '32', '81', '79',\n",
              "       '24', '34', '76', '82', '80', '89', '49', '31', '73', '78', '65',\n",
              "       '96', '74', '42', '7', '94', '57', '60', '68', '41', '50', '48',\n",
              "       '51', '77', '84', '75', '69', '39', '44', '56', '46', '64', '92',\n",
              "       '21', '52', '43', '72', '59', '58', '67', '54', '61', '87', '63',\n",
              "       '85', '93', '95', '45', '91', '83', '86', '97', '70', '29', '71',\n",
              "       '26', '3', '33', '35', '36', '27', '22', '19', '38', '28', '37',\n",
              "       '101', '23', '18', '103', '98', '102', '16', '100', '20', '25',\n",
              "       '99', '0', '14', '17', '12', '105', '30', '104', '4', '13', '2',\n",
              "       '15', '8', '6', '9', '5', '107', '11', '106'], dtype=object)"
            ]
          },
          "metadata": {},
          "execution_count": 18
        }
      ]
    },
    {
      "cell_type": "markdown",
      "source": [
        "<h1> <b>Task 3:</b> Tratar as colunas de datas e converte-las para o tipo primitivo correto.</b></h1>"
      ],
      "metadata": {
        "id": "nnf9kq42L3ZW"
      }
    },
    {
      "cell_type": "code",
      "source": [
        "df[\"DataFal\"] = df[\"DataFal\"].str.replace(\"/\", \"-\")\n",
        "df[\"DataSep\"] = df[\"DataSep\"].str.replace(\"/\", \"-\")"
      ],
      "metadata": {
        "id": "NDW1Qzw1m_lJ"
      },
      "execution_count": 19,
      "outputs": []
    },
    {
      "cell_type": "markdown",
      "source": [
        "<p> Verificando se existem valores estranhos em relação ao ano.</p>"
      ],
      "metadata": {
        "id": "FwL5wvPXL1gA"
      }
    },
    {
      "cell_type": "code",
      "source": [
        "# Verificando valores ausentes\n",
        "df[\"DataSep\"].apply(lambda x: x[6::]).unique()"
      ],
      "metadata": {
        "colab": {
          "base_uri": "https://localhost:8080/"
        },
        "id": "Dp_5bc7yo39H",
        "outputId": "01faee67-2b20-4e9e-b806-dc78d5393d88"
      },
      "execution_count": 20,
      "outputs": [
        {
          "output_type": "execute_result",
          "data": {
            "text/plain": [
              "array(['2012 ', '2011 ', '2023 ', '2013 ', '2014 ', '0123 ', '2015 ',\n",
              "       '2016 ', '2000 ', '2017 ', '2018 ', '2019 ', '2020 ', '2021 ',\n",
              "       '2022 ', '2200 '], dtype=object)"
            ]
          },
          "metadata": {},
          "execution_count": 20
        }
      ]
    },
    {
      "cell_type": "markdown",
      "source": [
        "<p> Foi observado que existem valores numéricos porém que não correspondem à uma data como por exemplo <b>\"0123, 2000, 2200\"</b>, será necessário verificar à que ano esses valores estão relacionados. </p>"
      ],
      "metadata": {
        "id": "feD45EP4o85E"
      }
    },
    {
      "cell_type": "code",
      "source": [
        "df.loc[df[\"DataSep\"].str.contains(\"2000 \")] #2000 = 2016\n",
        "df.loc[df[\"DataSep\"].str.contains(\"2200 \")] #2200 = 2022\n",
        "df.loc[df[\"DataSep\"].str.contains(\"0123 \")] #0123 = 2014"
      ],
      "metadata": {
        "colab": {
          "base_uri": "https://localhost:8080/",
          "height": 81
        },
        "id": "ygLJ1BL1oNnE",
        "outputId": "296635f5-3e68-4383-8f4d-aae76e7860be"
      },
      "execution_count": 21,
      "outputs": [
        {
          "output_type": "execute_result",
          "data": {
            "text/plain": [
              "                      Nome Idade     DataFal      DataSep  \\\n",
              "1831  Anna Gonçalves félix    79  12-03-2014  13-03-0123    \n",
              "\n",
              "                                 Local  \n",
              "1831   às 10:00 - Cemitério Municipal.  "
            ],
            "text/html": [
              "\n",
              "  <div id=\"df-2ed635c3-15bb-479b-ad90-1cd4ca68eb96\">\n",
              "    <div class=\"colab-df-container\">\n",
              "      <div>\n",
              "<style scoped>\n",
              "    .dataframe tbody tr th:only-of-type {\n",
              "        vertical-align: middle;\n",
              "    }\n",
              "\n",
              "    .dataframe tbody tr th {\n",
              "        vertical-align: top;\n",
              "    }\n",
              "\n",
              "    .dataframe thead th {\n",
              "        text-align: right;\n",
              "    }\n",
              "</style>\n",
              "<table border=\"1\" class=\"dataframe\">\n",
              "  <thead>\n",
              "    <tr style=\"text-align: right;\">\n",
              "      <th></th>\n",
              "      <th>Nome</th>\n",
              "      <th>Idade</th>\n",
              "      <th>DataFal</th>\n",
              "      <th>DataSep</th>\n",
              "      <th>Local</th>\n",
              "    </tr>\n",
              "  </thead>\n",
              "  <tbody>\n",
              "    <tr>\n",
              "      <th>1831</th>\n",
              "      <td>Anna Gonçalves félix</td>\n",
              "      <td>79</td>\n",
              "      <td>12-03-2014</td>\n",
              "      <td>13-03-0123</td>\n",
              "      <td>às 10:00 - Cemitério Municipal.</td>\n",
              "    </tr>\n",
              "  </tbody>\n",
              "</table>\n",
              "</div>\n",
              "      <button class=\"colab-df-convert\" onclick=\"convertToInteractive('df-2ed635c3-15bb-479b-ad90-1cd4ca68eb96')\"\n",
              "              title=\"Convert this dataframe to an interactive table.\"\n",
              "              style=\"display:none;\">\n",
              "        \n",
              "  <svg xmlns=\"http://www.w3.org/2000/svg\" height=\"24px\"viewBox=\"0 0 24 24\"\n",
              "       width=\"24px\">\n",
              "    <path d=\"M0 0h24v24H0V0z\" fill=\"none\"/>\n",
              "    <path d=\"M18.56 5.44l.94 2.06.94-2.06 2.06-.94-2.06-.94-.94-2.06-.94 2.06-2.06.94zm-11 1L8.5 8.5l.94-2.06 2.06-.94-2.06-.94L8.5 2.5l-.94 2.06-2.06.94zm10 10l.94 2.06.94-2.06 2.06-.94-2.06-.94-.94-2.06-.94 2.06-2.06.94z\"/><path d=\"M17.41 7.96l-1.37-1.37c-.4-.4-.92-.59-1.43-.59-.52 0-1.04.2-1.43.59L10.3 9.45l-7.72 7.72c-.78.78-.78 2.05 0 2.83L4 21.41c.39.39.9.59 1.41.59.51 0 1.02-.2 1.41-.59l7.78-7.78 2.81-2.81c.8-.78.8-2.07 0-2.86zM5.41 20L4 18.59l7.72-7.72 1.47 1.35L5.41 20z\"/>\n",
              "  </svg>\n",
              "      </button>\n",
              "      \n",
              "  <style>\n",
              "    .colab-df-container {\n",
              "      display:flex;\n",
              "      flex-wrap:wrap;\n",
              "      gap: 12px;\n",
              "    }\n",
              "\n",
              "    .colab-df-convert {\n",
              "      background-color: #E8F0FE;\n",
              "      border: none;\n",
              "      border-radius: 50%;\n",
              "      cursor: pointer;\n",
              "      display: none;\n",
              "      fill: #1967D2;\n",
              "      height: 32px;\n",
              "      padding: 0 0 0 0;\n",
              "      width: 32px;\n",
              "    }\n",
              "\n",
              "    .colab-df-convert:hover {\n",
              "      background-color: #E2EBFA;\n",
              "      box-shadow: 0px 1px 2px rgba(60, 64, 67, 0.3), 0px 1px 3px 1px rgba(60, 64, 67, 0.15);\n",
              "      fill: #174EA6;\n",
              "    }\n",
              "\n",
              "    [theme=dark] .colab-df-convert {\n",
              "      background-color: #3B4455;\n",
              "      fill: #D2E3FC;\n",
              "    }\n",
              "\n",
              "    [theme=dark] .colab-df-convert:hover {\n",
              "      background-color: #434B5C;\n",
              "      box-shadow: 0px 1px 3px 1px rgba(0, 0, 0, 0.15);\n",
              "      filter: drop-shadow(0px 1px 2px rgba(0, 0, 0, 0.3));\n",
              "      fill: #FFFFFF;\n",
              "    }\n",
              "  </style>\n",
              "\n",
              "      <script>\n",
              "        const buttonEl =\n",
              "          document.querySelector('#df-2ed635c3-15bb-479b-ad90-1cd4ca68eb96 button.colab-df-convert');\n",
              "        buttonEl.style.display =\n",
              "          google.colab.kernel.accessAllowed ? 'block' : 'none';\n",
              "\n",
              "        async function convertToInteractive(key) {\n",
              "          const element = document.querySelector('#df-2ed635c3-15bb-479b-ad90-1cd4ca68eb96');\n",
              "          const dataTable =\n",
              "            await google.colab.kernel.invokeFunction('convertToInteractive',\n",
              "                                                     [key], {});\n",
              "          if (!dataTable) return;\n",
              "\n",
              "          const docLinkHtml = 'Like what you see? Visit the ' +\n",
              "            '<a target=\"_blank\" href=https://colab.research.google.com/notebooks/data_table.ipynb>data table notebook</a>'\n",
              "            + ' to learn more about interactive tables.';\n",
              "          element.innerHTML = '';\n",
              "          dataTable['output_type'] = 'display_data';\n",
              "          await google.colab.output.renderOutput(dataTable, element);\n",
              "          const docLink = document.createElement('div');\n",
              "          docLink.innerHTML = docLinkHtml;\n",
              "          element.appendChild(docLink);\n",
              "        }\n",
              "      </script>\n",
              "    </div>\n",
              "  </div>\n",
              "  "
            ]
          },
          "metadata": {},
          "execution_count": 21
        }
      ]
    },
    {
      "cell_type": "code",
      "source": [
        "df[\"DataSep\"] = df[\"DataSep\"].str.strip()"
      ],
      "metadata": {
        "id": "a4JoYMiqpbut"
      },
      "execution_count": 22,
      "outputs": []
    },
    {
      "cell_type": "markdown",
      "source": [
        "<h3> <b>Substituindo os valores incorretos para o seu devido ano.</b> </h3>"
      ],
      "metadata": {
        "id": "-gEY80CSMdh9"
      }
    },
    {
      "cell_type": "code",
      "source": [
        "df[\"DataSep\"] = df[\"DataSep\"].str.replace(\"2000\", \"2016\")\n",
        "df[\"DataSep\"] = df[\"DataSep\"].str.replace(\"2200\", \"2022\")\n",
        "df[\"DataSep\"] = df[\"DataSep\"].str.replace(\"0123\", \"2014\")"
      ],
      "metadata": {
        "id": "CnZfQj8Zofq6"
      },
      "execution_count": 23,
      "outputs": []
    },
    {
      "cell_type": "code",
      "source": [
        "pd.to_datetime(df[\"DataFal\"], format='%d-%m-%Y')\n",
        "pd.to_datetime(df[\"DataSep\"], format='%d-%m-%Y')"
      ],
      "metadata": {
        "id": "ITp1JPRkPKw4"
      },
      "execution_count": null,
      "outputs": []
    },
    {
      "cell_type": "code",
      "source": [
        "df[\"DataSep\"].apply(lambda x: x[6::]).unique()"
      ],
      "metadata": {
        "colab": {
          "base_uri": "https://localhost:8080/"
        },
        "id": "txTVahKipqGy",
        "outputId": "200f3b04-253c-48a5-b72c-a2283f7a7370"
      },
      "execution_count": 25,
      "outputs": [
        {
          "output_type": "execute_result",
          "data": {
            "text/plain": [
              "array(['2012', '2011', '2023', '2013', '2014', '2015', '2016', '2017',\n",
              "       '2018', '2019', '2020', '2021', '2022'], dtype=object)"
            ]
          },
          "metadata": {},
          "execution_count": 25
        }
      ]
    },
    {
      "cell_type": "markdown",
      "source": [
        "<h1> <b>Task 4:</b> Verificar se há muita diferença entre a contagem de valores para <b>[\"DataFal\"]</b> em relação à <b>[\"DataSep\"].</b> </h>"
      ],
      "metadata": {
        "id": "rJYq7_DQMyTJ"
      }
    },
    {
      "cell_type": "code",
      "source": [
        "# Contagem de valores para \"ano\" da coluna \"DataSep\"\n",
        "sep = df[\"DataSep\"].apply(lambda x: x[6::]).value_counts()"
      ],
      "metadata": {
        "id": "Rn44iTtiqO8b"
      },
      "execution_count": 27,
      "outputs": []
    },
    {
      "cell_type": "code",
      "source": [
        "# Contagem de valores para \"ano\" da coluna \"DataFal\"\n",
        "fal = df[\"DataFal\"].apply(lambda x: x[6::]).value_counts()"
      ],
      "metadata": {
        "id": "N85sb5wEqTGZ"
      },
      "execution_count": 28,
      "outputs": []
    },
    {
      "cell_type": "markdown",
      "source": [
        "<p> Na coluna <b>[\"DataFal\"]</b> existe um valor de <i>2011</i>, pois a pessoa faleceu no ultimo dia do ano e foi sepultada no primeiro dia do ano seguinte, porém se mantermos esse valor vamos ter problemas, pois para criar um DataFrame é necessário que todas as colunas tenham o mesmo tamanho, então nesse caso como é apenas um valor vamos simplesmete remove-lo.</p>"
      ],
      "metadata": {
        "id": "JeWDO-2SNbBt"
      }
    },
    {
      "cell_type": "code",
      "source": [
        "a = pd.Series(sep)\n",
        "b = pd.Series(fal)\n",
        "\n",
        "# Removendo o valor de 2011\n",
        "a = a.drop(index=\"2011\")"
      ],
      "metadata": {
        "id": "kUn_JaFtqeS9"
      },
      "execution_count": 29,
      "outputs": []
    },
    {
      "cell_type": "code",
      "source": [
        "# Criando um dicionário para armazenar as informações de cada ano em relação à\n",
        "# data de falecimento/sepultamento\n",
        "data_dict = {\"sep\": a,\n",
        "             \"fal\": b}\n",
        "result = pd.DataFrame(data_dict)\n",
        "result[\"Diferença\"] = result[\"fal\"] - result[\"sep\"]\n",
        "result"
      ],
      "metadata": {
        "colab": {
          "base_uri": "https://localhost:8080/",
          "height": 426
        },
        "id": "w7S1zQmbsr54",
        "outputId": "7737554f-42c7-4527-8ba0-afde09fa12d7"
      },
      "execution_count": 30,
      "outputs": [
        {
          "output_type": "execute_result",
          "data": {
            "text/plain": [
              "       sep   fal  Diferença\n",
              "2021  1137  1132         -5\n",
              "2022  1062  1066          4\n",
              "2020   909   910          1\n",
              "2017   882   884          2\n",
              "2019   869   871          2\n",
              "2015   852   849         -3\n",
              "2018   850   849         -1\n",
              "2012   836   836          0\n",
              "2014   817   820          3\n",
              "2013   803   804          1\n",
              "2016   788   788          0\n",
              "2023   235   232         -3"
            ],
            "text/html": [
              "\n",
              "  <div id=\"df-3685c50c-857f-45ab-8390-ff109299c1df\">\n",
              "    <div class=\"colab-df-container\">\n",
              "      <div>\n",
              "<style scoped>\n",
              "    .dataframe tbody tr th:only-of-type {\n",
              "        vertical-align: middle;\n",
              "    }\n",
              "\n",
              "    .dataframe tbody tr th {\n",
              "        vertical-align: top;\n",
              "    }\n",
              "\n",
              "    .dataframe thead th {\n",
              "        text-align: right;\n",
              "    }\n",
              "</style>\n",
              "<table border=\"1\" class=\"dataframe\">\n",
              "  <thead>\n",
              "    <tr style=\"text-align: right;\">\n",
              "      <th></th>\n",
              "      <th>sep</th>\n",
              "      <th>fal</th>\n",
              "      <th>Diferença</th>\n",
              "    </tr>\n",
              "  </thead>\n",
              "  <tbody>\n",
              "    <tr>\n",
              "      <th>2021</th>\n",
              "      <td>1137</td>\n",
              "      <td>1132</td>\n",
              "      <td>-5</td>\n",
              "    </tr>\n",
              "    <tr>\n",
              "      <th>2022</th>\n",
              "      <td>1062</td>\n",
              "      <td>1066</td>\n",
              "      <td>4</td>\n",
              "    </tr>\n",
              "    <tr>\n",
              "      <th>2020</th>\n",
              "      <td>909</td>\n",
              "      <td>910</td>\n",
              "      <td>1</td>\n",
              "    </tr>\n",
              "    <tr>\n",
              "      <th>2017</th>\n",
              "      <td>882</td>\n",
              "      <td>884</td>\n",
              "      <td>2</td>\n",
              "    </tr>\n",
              "    <tr>\n",
              "      <th>2019</th>\n",
              "      <td>869</td>\n",
              "      <td>871</td>\n",
              "      <td>2</td>\n",
              "    </tr>\n",
              "    <tr>\n",
              "      <th>2015</th>\n",
              "      <td>852</td>\n",
              "      <td>849</td>\n",
              "      <td>-3</td>\n",
              "    </tr>\n",
              "    <tr>\n",
              "      <th>2018</th>\n",
              "      <td>850</td>\n",
              "      <td>849</td>\n",
              "      <td>-1</td>\n",
              "    </tr>\n",
              "    <tr>\n",
              "      <th>2012</th>\n",
              "      <td>836</td>\n",
              "      <td>836</td>\n",
              "      <td>0</td>\n",
              "    </tr>\n",
              "    <tr>\n",
              "      <th>2014</th>\n",
              "      <td>817</td>\n",
              "      <td>820</td>\n",
              "      <td>3</td>\n",
              "    </tr>\n",
              "    <tr>\n",
              "      <th>2013</th>\n",
              "      <td>803</td>\n",
              "      <td>804</td>\n",
              "      <td>1</td>\n",
              "    </tr>\n",
              "    <tr>\n",
              "      <th>2016</th>\n",
              "      <td>788</td>\n",
              "      <td>788</td>\n",
              "      <td>0</td>\n",
              "    </tr>\n",
              "    <tr>\n",
              "      <th>2023</th>\n",
              "      <td>235</td>\n",
              "      <td>232</td>\n",
              "      <td>-3</td>\n",
              "    </tr>\n",
              "  </tbody>\n",
              "</table>\n",
              "</div>\n",
              "      <button class=\"colab-df-convert\" onclick=\"convertToInteractive('df-3685c50c-857f-45ab-8390-ff109299c1df')\"\n",
              "              title=\"Convert this dataframe to an interactive table.\"\n",
              "              style=\"display:none;\">\n",
              "        \n",
              "  <svg xmlns=\"http://www.w3.org/2000/svg\" height=\"24px\"viewBox=\"0 0 24 24\"\n",
              "       width=\"24px\">\n",
              "    <path d=\"M0 0h24v24H0V0z\" fill=\"none\"/>\n",
              "    <path d=\"M18.56 5.44l.94 2.06.94-2.06 2.06-.94-2.06-.94-.94-2.06-.94 2.06-2.06.94zm-11 1L8.5 8.5l.94-2.06 2.06-.94-2.06-.94L8.5 2.5l-.94 2.06-2.06.94zm10 10l.94 2.06.94-2.06 2.06-.94-2.06-.94-.94-2.06-.94 2.06-2.06.94z\"/><path d=\"M17.41 7.96l-1.37-1.37c-.4-.4-.92-.59-1.43-.59-.52 0-1.04.2-1.43.59L10.3 9.45l-7.72 7.72c-.78.78-.78 2.05 0 2.83L4 21.41c.39.39.9.59 1.41.59.51 0 1.02-.2 1.41-.59l7.78-7.78 2.81-2.81c.8-.78.8-2.07 0-2.86zM5.41 20L4 18.59l7.72-7.72 1.47 1.35L5.41 20z\"/>\n",
              "  </svg>\n",
              "      </button>\n",
              "      \n",
              "  <style>\n",
              "    .colab-df-container {\n",
              "      display:flex;\n",
              "      flex-wrap:wrap;\n",
              "      gap: 12px;\n",
              "    }\n",
              "\n",
              "    .colab-df-convert {\n",
              "      background-color: #E8F0FE;\n",
              "      border: none;\n",
              "      border-radius: 50%;\n",
              "      cursor: pointer;\n",
              "      display: none;\n",
              "      fill: #1967D2;\n",
              "      height: 32px;\n",
              "      padding: 0 0 0 0;\n",
              "      width: 32px;\n",
              "    }\n",
              "\n",
              "    .colab-df-convert:hover {\n",
              "      background-color: #E2EBFA;\n",
              "      box-shadow: 0px 1px 2px rgba(60, 64, 67, 0.3), 0px 1px 3px 1px rgba(60, 64, 67, 0.15);\n",
              "      fill: #174EA6;\n",
              "    }\n",
              "\n",
              "    [theme=dark] .colab-df-convert {\n",
              "      background-color: #3B4455;\n",
              "      fill: #D2E3FC;\n",
              "    }\n",
              "\n",
              "    [theme=dark] .colab-df-convert:hover {\n",
              "      background-color: #434B5C;\n",
              "      box-shadow: 0px 1px 3px 1px rgba(0, 0, 0, 0.15);\n",
              "      filter: drop-shadow(0px 1px 2px rgba(0, 0, 0, 0.3));\n",
              "      fill: #FFFFFF;\n",
              "    }\n",
              "  </style>\n",
              "\n",
              "      <script>\n",
              "        const buttonEl =\n",
              "          document.querySelector('#df-3685c50c-857f-45ab-8390-ff109299c1df button.colab-df-convert');\n",
              "        buttonEl.style.display =\n",
              "          google.colab.kernel.accessAllowed ? 'block' : 'none';\n",
              "\n",
              "        async function convertToInteractive(key) {\n",
              "          const element = document.querySelector('#df-3685c50c-857f-45ab-8390-ff109299c1df');\n",
              "          const dataTable =\n",
              "            await google.colab.kernel.invokeFunction('convertToInteractive',\n",
              "                                                     [key], {});\n",
              "          if (!dataTable) return;\n",
              "\n",
              "          const docLinkHtml = 'Like what you see? Visit the ' +\n",
              "            '<a target=\"_blank\" href=https://colab.research.google.com/notebooks/data_table.ipynb>data table notebook</a>'\n",
              "            + ' to learn more about interactive tables.';\n",
              "          element.innerHTML = '';\n",
              "          dataTable['output_type'] = 'display_data';\n",
              "          await google.colab.output.renderOutput(dataTable, element);\n",
              "          const docLink = document.createElement('div');\n",
              "          docLink.innerHTML = docLinkHtml;\n",
              "          element.appendChild(docLink);\n",
              "        }\n",
              "      </script>\n",
              "    </div>\n",
              "  </div>\n",
              "  "
            ]
          },
          "metadata": {},
          "execution_count": 30
        }
      ]
    },
    {
      "cell_type": "markdown",
      "source": [
        "<p> Aparentemente os valores estão normais, uma vez que é completamente normal uma pessoa falecer no ultimo dia do ano e ser sepultada no primeiro dia do ano seguinte. </p>"
      ],
      "metadata": {
        "id": "jq_eEEw4QUx2"
      }
    },
    {
      "cell_type": "markdown",
      "source": [
        "<h1> <b>Task 5:</b> Ajustar as informações da coluna <b>[\"Local\"]</b>. </h1>"
      ],
      "metadata": {
        "id": "5YF0MQxNQh3y"
      }
    },
    {
      "cell_type": "code",
      "source": [
        "# Removendo todo e qualquer espaço em branco no inicio ou fim da linha\n",
        "# em seguida estou colocando todos os caracteres em letra minúscula para que não\n",
        "# tenhamos problemas com pAlaVRas eScritAS assim \n",
        "df[\"Local\"] = df[\"Local\"].str.strip().str.lower()"
      ],
      "metadata": {
        "id": "IFFxWKtKqDiu"
      },
      "execution_count": 31,
      "outputs": []
    },
    {
      "cell_type": "code",
      "source": [
        "df.head()"
      ],
      "metadata": {
        "colab": {
          "base_uri": "https://localhost:8080/",
          "height": 206
        },
        "id": "B4B2w876tN4v",
        "outputId": "390f1a13-12b7-4958-eb12-1ed861d21c83"
      },
      "execution_count": 32,
      "outputs": [
        {
          "output_type": "execute_result",
          "data": {
            "text/plain": [
              "                             Nome Idade     DataFal     DataSep  \\\n",
              "0         Gilson de Jesus Tavares    40  31-01-2012  31-01-2012   \n",
              "1  Luzia de Lourdes Silveira Dias    66  31-01-2012  01-02-2012   \n",
              "2  Luci Terezinha Martim De Paula    53  30-01-2012  30-01-2012   \n",
              "3               Valter Sorrantino    47  30-01-2012  31-01-2012   \n",
              "4       Antonio Vieira dos Santos    55  30-01-2012  31-01-2012   \n",
              "\n",
              "                                               Local  \n",
              "0  às  - cemitério municipal: sepultamento as 10:...  \n",
              "1  às  - cemitério municipal - sepultamento ás 09...  \n",
              "2  às  - cemitério municipal - sepultamento ás 15...  \n",
              "3  às  - cemitério municipal - sepultamento ás 08...  \n",
              "4  às  - cemitério municipal: sepultamento as 10:...  "
            ],
            "text/html": [
              "\n",
              "  <div id=\"df-bea419a4-349c-4513-afb5-2a9373ffe6dd\">\n",
              "    <div class=\"colab-df-container\">\n",
              "      <div>\n",
              "<style scoped>\n",
              "    .dataframe tbody tr th:only-of-type {\n",
              "        vertical-align: middle;\n",
              "    }\n",
              "\n",
              "    .dataframe tbody tr th {\n",
              "        vertical-align: top;\n",
              "    }\n",
              "\n",
              "    .dataframe thead th {\n",
              "        text-align: right;\n",
              "    }\n",
              "</style>\n",
              "<table border=\"1\" class=\"dataframe\">\n",
              "  <thead>\n",
              "    <tr style=\"text-align: right;\">\n",
              "      <th></th>\n",
              "      <th>Nome</th>\n",
              "      <th>Idade</th>\n",
              "      <th>DataFal</th>\n",
              "      <th>DataSep</th>\n",
              "      <th>Local</th>\n",
              "    </tr>\n",
              "  </thead>\n",
              "  <tbody>\n",
              "    <tr>\n",
              "      <th>0</th>\n",
              "      <td>Gilson de Jesus Tavares</td>\n",
              "      <td>40</td>\n",
              "      <td>31-01-2012</td>\n",
              "      <td>31-01-2012</td>\n",
              "      <td>às  - cemitério municipal: sepultamento as 10:...</td>\n",
              "    </tr>\n",
              "    <tr>\n",
              "      <th>1</th>\n",
              "      <td>Luzia de Lourdes Silveira Dias</td>\n",
              "      <td>66</td>\n",
              "      <td>31-01-2012</td>\n",
              "      <td>01-02-2012</td>\n",
              "      <td>às  - cemitério municipal - sepultamento ás 09...</td>\n",
              "    </tr>\n",
              "    <tr>\n",
              "      <th>2</th>\n",
              "      <td>Luci Terezinha Martim De Paula</td>\n",
              "      <td>53</td>\n",
              "      <td>30-01-2012</td>\n",
              "      <td>30-01-2012</td>\n",
              "      <td>às  - cemitério municipal - sepultamento ás 15...</td>\n",
              "    </tr>\n",
              "    <tr>\n",
              "      <th>3</th>\n",
              "      <td>Valter Sorrantino</td>\n",
              "      <td>47</td>\n",
              "      <td>30-01-2012</td>\n",
              "      <td>31-01-2012</td>\n",
              "      <td>às  - cemitério municipal - sepultamento ás 08...</td>\n",
              "    </tr>\n",
              "    <tr>\n",
              "      <th>4</th>\n",
              "      <td>Antonio Vieira dos Santos</td>\n",
              "      <td>55</td>\n",
              "      <td>30-01-2012</td>\n",
              "      <td>31-01-2012</td>\n",
              "      <td>às  - cemitério municipal: sepultamento as 10:...</td>\n",
              "    </tr>\n",
              "  </tbody>\n",
              "</table>\n",
              "</div>\n",
              "      <button class=\"colab-df-convert\" onclick=\"convertToInteractive('df-bea419a4-349c-4513-afb5-2a9373ffe6dd')\"\n",
              "              title=\"Convert this dataframe to an interactive table.\"\n",
              "              style=\"display:none;\">\n",
              "        \n",
              "  <svg xmlns=\"http://www.w3.org/2000/svg\" height=\"24px\"viewBox=\"0 0 24 24\"\n",
              "       width=\"24px\">\n",
              "    <path d=\"M0 0h24v24H0V0z\" fill=\"none\"/>\n",
              "    <path d=\"M18.56 5.44l.94 2.06.94-2.06 2.06-.94-2.06-.94-.94-2.06-.94 2.06-2.06.94zm-11 1L8.5 8.5l.94-2.06 2.06-.94-2.06-.94L8.5 2.5l-.94 2.06-2.06.94zm10 10l.94 2.06.94-2.06 2.06-.94-2.06-.94-.94-2.06-.94 2.06-2.06.94z\"/><path d=\"M17.41 7.96l-1.37-1.37c-.4-.4-.92-.59-1.43-.59-.52 0-1.04.2-1.43.59L10.3 9.45l-7.72 7.72c-.78.78-.78 2.05 0 2.83L4 21.41c.39.39.9.59 1.41.59.51 0 1.02-.2 1.41-.59l7.78-7.78 2.81-2.81c.8-.78.8-2.07 0-2.86zM5.41 20L4 18.59l7.72-7.72 1.47 1.35L5.41 20z\"/>\n",
              "  </svg>\n",
              "      </button>\n",
              "      \n",
              "  <style>\n",
              "    .colab-df-container {\n",
              "      display:flex;\n",
              "      flex-wrap:wrap;\n",
              "      gap: 12px;\n",
              "    }\n",
              "\n",
              "    .colab-df-convert {\n",
              "      background-color: #E8F0FE;\n",
              "      border: none;\n",
              "      border-radius: 50%;\n",
              "      cursor: pointer;\n",
              "      display: none;\n",
              "      fill: #1967D2;\n",
              "      height: 32px;\n",
              "      padding: 0 0 0 0;\n",
              "      width: 32px;\n",
              "    }\n",
              "\n",
              "    .colab-df-convert:hover {\n",
              "      background-color: #E2EBFA;\n",
              "      box-shadow: 0px 1px 2px rgba(60, 64, 67, 0.3), 0px 1px 3px 1px rgba(60, 64, 67, 0.15);\n",
              "      fill: #174EA6;\n",
              "    }\n",
              "\n",
              "    [theme=dark] .colab-df-convert {\n",
              "      background-color: #3B4455;\n",
              "      fill: #D2E3FC;\n",
              "    }\n",
              "\n",
              "    [theme=dark] .colab-df-convert:hover {\n",
              "      background-color: #434B5C;\n",
              "      box-shadow: 0px 1px 3px 1px rgba(0, 0, 0, 0.15);\n",
              "      filter: drop-shadow(0px 1px 2px rgba(0, 0, 0, 0.3));\n",
              "      fill: #FFFFFF;\n",
              "    }\n",
              "  </style>\n",
              "\n",
              "      <script>\n",
              "        const buttonEl =\n",
              "          document.querySelector('#df-bea419a4-349c-4513-afb5-2a9373ffe6dd button.colab-df-convert');\n",
              "        buttonEl.style.display =\n",
              "          google.colab.kernel.accessAllowed ? 'block' : 'none';\n",
              "\n",
              "        async function convertToInteractive(key) {\n",
              "          const element = document.querySelector('#df-bea419a4-349c-4513-afb5-2a9373ffe6dd');\n",
              "          const dataTable =\n",
              "            await google.colab.kernel.invokeFunction('convertToInteractive',\n",
              "                                                     [key], {});\n",
              "          if (!dataTable) return;\n",
              "\n",
              "          const docLinkHtml = 'Like what you see? Visit the ' +\n",
              "            '<a target=\"_blank\" href=https://colab.research.google.com/notebooks/data_table.ipynb>data table notebook</a>'\n",
              "            + ' to learn more about interactive tables.';\n",
              "          element.innerHTML = '';\n",
              "          dataTable['output_type'] = 'display_data';\n",
              "          await google.colab.output.renderOutput(dataTable, element);\n",
              "          const docLink = document.createElement('div');\n",
              "          docLink.innerHTML = docLinkHtml;\n",
              "          element.appendChild(docLink);\n",
              "        }\n",
              "      </script>\n",
              "    </div>\n",
              "  </div>\n",
              "  "
            ]
          },
          "metadata": {},
          "execution_count": 32
        }
      ]
    },
    {
      "cell_type": "markdown",
      "source": [
        "<p> Após uma análise foi verificado que existem muitas variações da mesma palavra então será necessário fazer o tratamento de cada uma das variações para que exista apenas um padrão. </p>"
      ],
      "metadata": {
        "id": "oUSgNm1bRDen"
      }
    },
    {
      "cell_type": "code",
      "source": [
        "for c in range(7, 10):\n",
        "  df[\"Local\"] = df[\"Local\"].str.replace(f\"às 0{c}:00 - cemitério municipal.\", f\"0{c}:00 Cemitério Municipal de Araras - SP\")\n",
        "  df[\"Local\"] = df[\"Local\"].str.replace(f\"às 0{c}:30 - cemitério municipal.\", f\"0{c}:30Cemitério Municipal de Araras - SP\")\n",
        "  df[\"Local\"] = df[\"Local\"].str.replace(f\"às  - cemitério municipal: sepultamento as 0{c}:00 hrs.\", \"Cemitério Municipal de Araras - SP\")\n",
        "  \n",
        "for i in range(10, 18):\n",
        "  df[\"Local\"] = df[\"Local\"].str.replace(f\"às  - cemitério municipal: sepultamento as {i}:00 hrs.\", \"Cemitério Municipal de Araras - SP\")\n",
        "  df[\"Local\"] = df[\"Local\"].str.replace(f\"às  - cemitério Municipal: sepultamento as {i}:30 hrs.\", \"Cemitério Municipal de Araras - SP\")\n",
        "  df[\"Local\"] = df[\"Local\"].str.replace(f\"às  - cemitério Municipal: sepultamento as {i}:00 h.\", \"Cemitério Municipal de Araras - SP\")\n",
        "  df[\"Local\"] = df[\"Local\"].str.replace(f\"às  - cemitério Municipal: sepultamento as {i}:30 h.\", \"Cemitério Municipal de Araras - SP\")\n",
        "  df[\"Local\"] = df[\"Local\"].str.replace(f\"às {i}:00 - cemitério municipal.\", f\"{i}:00 - Cemitério Municipal de Araras - SP\")\n",
        "  df[\"Local\"] = df[\"Local\"].str.replace(f\"às {i}:30 - cemitério municipal.\", f\"{i}:30 - Cemitério Municipal de Araras - SP\")"
      ],
      "metadata": {
        "id": "0yY4x4Lxjata"
      },
      "execution_count": null,
      "outputs": []
    },
    {
      "cell_type": "code",
      "source": [
        "df[\"Local\"] = df[\"Local\"].str.replace(\"cemitério municipal de araras sp.\",'Cemitério Municipal de Araras - SP')\\\n",
        "                         .str.replace(\"às cemitério municipal de araras - sp\", \"Cemitério Municipal de Araras - SP\")\\\n",
        "                         .str.replace(\"cemitério municipal de araras - spde araras - sp\", \"Cemitério Municipal de Araras - SP\")\\\n",
        "                         .str.replace(\"às-cemitério municipal.\", \"Cemitério Municipal de Araras - SP\")\\\n",
        "                         .str.replace(\"às-cemitériomunicipaldeararahoarioadefinirs-sp.\", \"Cemitério Municipal de Araras - SP\")\\\n",
        "                         .str.replace(\"às-cemitériopq.doseucaliptos-araras-sp.\", \"Cemitério Pq dos Eucaliptos\")\\\n",
        "                         .str.replace(\"às-crematóriomonumentalemlimeira-sp.\", \"Crematório Monumental\")\\\n",
        "                         .str.replace(\"às-crematóriopq.daspalmeiras-rioclaro-sp.\", \"Crematório Pq Das Palmeiras - Rio Claro - SP\")\\\n",
        "                      "
      ],
      "metadata": {
        "colab": {
          "base_uri": "https://localhost:8080/"
        },
        "id": "L5-ZVIq4vAlF",
        "outputId": "a5e227b2-4176-40eb-ff46-f85fca047ba2"
      },
      "execution_count": 34,
      "outputs": [
        {
          "output_type": "stream",
          "name": "stderr",
          "text": [
            "<ipython-input-34-18b0d580ede4>:1: FutureWarning: The default value of regex will change from True to False in a future version.\n",
            "  df[\"Local\"] = df[\"Local\"].str.replace(\"cemitério municipal de araras sp.\",'Cemitério Municipal de Araras - SP')\\\n"
          ]
        }
      ]
    },
    {
      "cell_type": "markdown",
      "source": [
        "# Horarios\n"
      ],
      "metadata": {
        "id": "SA-keYeScflg"
      }
    },
    {
      "cell_type": "code",
      "source": [
        "# Criando uma nova coluna para receber a informação do horário do sepultamento\n",
        "df[\"Horário\"] = df[\"Local\"].apply(lambda x: x[0:5]).str.lower()\n",
        "df.head()"
      ],
      "metadata": {
        "colab": {
          "base_uri": "https://localhost:8080/",
          "height": 0
        },
        "id": "qS-cSUU4dSJ0",
        "outputId": "76e9d68f-a991-4f56-bbbd-3435ac2247c4"
      },
      "execution_count": 35,
      "outputs": [
        {
          "output_type": "execute_result",
          "data": {
            "text/plain": [
              "                             Nome Idade     DataFal     DataSep  \\\n",
              "0         Gilson de Jesus Tavares    40  31-01-2012  31-01-2012   \n",
              "1  Luzia de Lourdes Silveira Dias    66  31-01-2012  01-02-2012   \n",
              "2  Luci Terezinha Martim De Paula    53  30-01-2012  30-01-2012   \n",
              "3               Valter Sorrantino    47  30-01-2012  31-01-2012   \n",
              "4       Antonio Vieira dos Santos    55  30-01-2012  31-01-2012   \n",
              "\n",
              "                                               Local Horário  \n",
              "0  às  - cemitério municipal: sepultamento as 10:...   às  -  \n",
              "1  às  - cemitério municipal - sepultamento ás 09...   às  -  \n",
              "2  às  - cemitério municipal - sepultamento ás 15...   às  -  \n",
              "3  às  - cemitério municipal - sepultamento ás 08...   às  -  \n",
              "4  às  - cemitério municipal: sepultamento as 10:...   às  -  "
            ],
            "text/html": [
              "\n",
              "  <div id=\"df-65520b84-4021-4b74-a1a2-cf5802d7c13a\">\n",
              "    <div class=\"colab-df-container\">\n",
              "      <div>\n",
              "<style scoped>\n",
              "    .dataframe tbody tr th:only-of-type {\n",
              "        vertical-align: middle;\n",
              "    }\n",
              "\n",
              "    .dataframe tbody tr th {\n",
              "        vertical-align: top;\n",
              "    }\n",
              "\n",
              "    .dataframe thead th {\n",
              "        text-align: right;\n",
              "    }\n",
              "</style>\n",
              "<table border=\"1\" class=\"dataframe\">\n",
              "  <thead>\n",
              "    <tr style=\"text-align: right;\">\n",
              "      <th></th>\n",
              "      <th>Nome</th>\n",
              "      <th>Idade</th>\n",
              "      <th>DataFal</th>\n",
              "      <th>DataSep</th>\n",
              "      <th>Local</th>\n",
              "      <th>Horário</th>\n",
              "    </tr>\n",
              "  </thead>\n",
              "  <tbody>\n",
              "    <tr>\n",
              "      <th>0</th>\n",
              "      <td>Gilson de Jesus Tavares</td>\n",
              "      <td>40</td>\n",
              "      <td>31-01-2012</td>\n",
              "      <td>31-01-2012</td>\n",
              "      <td>às  - cemitério municipal: sepultamento as 10:...</td>\n",
              "      <td>às  -</td>\n",
              "    </tr>\n",
              "    <tr>\n",
              "      <th>1</th>\n",
              "      <td>Luzia de Lourdes Silveira Dias</td>\n",
              "      <td>66</td>\n",
              "      <td>31-01-2012</td>\n",
              "      <td>01-02-2012</td>\n",
              "      <td>às  - cemitério municipal - sepultamento ás 09...</td>\n",
              "      <td>às  -</td>\n",
              "    </tr>\n",
              "    <tr>\n",
              "      <th>2</th>\n",
              "      <td>Luci Terezinha Martim De Paula</td>\n",
              "      <td>53</td>\n",
              "      <td>30-01-2012</td>\n",
              "      <td>30-01-2012</td>\n",
              "      <td>às  - cemitério municipal - sepultamento ás 15...</td>\n",
              "      <td>às  -</td>\n",
              "    </tr>\n",
              "    <tr>\n",
              "      <th>3</th>\n",
              "      <td>Valter Sorrantino</td>\n",
              "      <td>47</td>\n",
              "      <td>30-01-2012</td>\n",
              "      <td>31-01-2012</td>\n",
              "      <td>às  - cemitério municipal - sepultamento ás 08...</td>\n",
              "      <td>às  -</td>\n",
              "    </tr>\n",
              "    <tr>\n",
              "      <th>4</th>\n",
              "      <td>Antonio Vieira dos Santos</td>\n",
              "      <td>55</td>\n",
              "      <td>30-01-2012</td>\n",
              "      <td>31-01-2012</td>\n",
              "      <td>às  - cemitério municipal: sepultamento as 10:...</td>\n",
              "      <td>às  -</td>\n",
              "    </tr>\n",
              "  </tbody>\n",
              "</table>\n",
              "</div>\n",
              "      <button class=\"colab-df-convert\" onclick=\"convertToInteractive('df-65520b84-4021-4b74-a1a2-cf5802d7c13a')\"\n",
              "              title=\"Convert this dataframe to an interactive table.\"\n",
              "              style=\"display:none;\">\n",
              "        \n",
              "  <svg xmlns=\"http://www.w3.org/2000/svg\" height=\"24px\"viewBox=\"0 0 24 24\"\n",
              "       width=\"24px\">\n",
              "    <path d=\"M0 0h24v24H0V0z\" fill=\"none\"/>\n",
              "    <path d=\"M18.56 5.44l.94 2.06.94-2.06 2.06-.94-2.06-.94-.94-2.06-.94 2.06-2.06.94zm-11 1L8.5 8.5l.94-2.06 2.06-.94-2.06-.94L8.5 2.5l-.94 2.06-2.06.94zm10 10l.94 2.06.94-2.06 2.06-.94-2.06-.94-.94-2.06-.94 2.06-2.06.94z\"/><path d=\"M17.41 7.96l-1.37-1.37c-.4-.4-.92-.59-1.43-.59-.52 0-1.04.2-1.43.59L10.3 9.45l-7.72 7.72c-.78.78-.78 2.05 0 2.83L4 21.41c.39.39.9.59 1.41.59.51 0 1.02-.2 1.41-.59l7.78-7.78 2.81-2.81c.8-.78.8-2.07 0-2.86zM5.41 20L4 18.59l7.72-7.72 1.47 1.35L5.41 20z\"/>\n",
              "  </svg>\n",
              "      </button>\n",
              "      \n",
              "  <style>\n",
              "    .colab-df-container {\n",
              "      display:flex;\n",
              "      flex-wrap:wrap;\n",
              "      gap: 12px;\n",
              "    }\n",
              "\n",
              "    .colab-df-convert {\n",
              "      background-color: #E8F0FE;\n",
              "      border: none;\n",
              "      border-radius: 50%;\n",
              "      cursor: pointer;\n",
              "      display: none;\n",
              "      fill: #1967D2;\n",
              "      height: 32px;\n",
              "      padding: 0 0 0 0;\n",
              "      width: 32px;\n",
              "    }\n",
              "\n",
              "    .colab-df-convert:hover {\n",
              "      background-color: #E2EBFA;\n",
              "      box-shadow: 0px 1px 2px rgba(60, 64, 67, 0.3), 0px 1px 3px 1px rgba(60, 64, 67, 0.15);\n",
              "      fill: #174EA6;\n",
              "    }\n",
              "\n",
              "    [theme=dark] .colab-df-convert {\n",
              "      background-color: #3B4455;\n",
              "      fill: #D2E3FC;\n",
              "    }\n",
              "\n",
              "    [theme=dark] .colab-df-convert:hover {\n",
              "      background-color: #434B5C;\n",
              "      box-shadow: 0px 1px 3px 1px rgba(0, 0, 0, 0.15);\n",
              "      filter: drop-shadow(0px 1px 2px rgba(0, 0, 0, 0.3));\n",
              "      fill: #FFFFFF;\n",
              "    }\n",
              "  </style>\n",
              "\n",
              "      <script>\n",
              "        const buttonEl =\n",
              "          document.querySelector('#df-65520b84-4021-4b74-a1a2-cf5802d7c13a button.colab-df-convert');\n",
              "        buttonEl.style.display =\n",
              "          google.colab.kernel.accessAllowed ? 'block' : 'none';\n",
              "\n",
              "        async function convertToInteractive(key) {\n",
              "          const element = document.querySelector('#df-65520b84-4021-4b74-a1a2-cf5802d7c13a');\n",
              "          const dataTable =\n",
              "            await google.colab.kernel.invokeFunction('convertToInteractive',\n",
              "                                                     [key], {});\n",
              "          if (!dataTable) return;\n",
              "\n",
              "          const docLinkHtml = 'Like what you see? Visit the ' +\n",
              "            '<a target=\"_blank\" href=https://colab.research.google.com/notebooks/data_table.ipynb>data table notebook</a>'\n",
              "            + ' to learn more about interactive tables.';\n",
              "          element.innerHTML = '';\n",
              "          dataTable['output_type'] = 'display_data';\n",
              "          await google.colab.output.renderOutput(dataTable, element);\n",
              "          const docLink = document.createElement('div');\n",
              "          docLink.innerHTML = docLinkHtml;\n",
              "          element.appendChild(docLink);\n",
              "        }\n",
              "      </script>\n",
              "    </div>\n",
              "  </div>\n",
              "  "
            ]
          },
          "metadata": {},
          "execution_count": 35
        }
      ]
    },
    {
      "cell_type": "code",
      "source": [
        "df[\"Horário\"].unique()"
      ],
      "metadata": {
        "id": "soB5qABfuWGB",
        "colab": {
          "base_uri": "https://localhost:8080/"
        },
        "outputId": "3accf52d-0eec-4d94-d179-ebba86ecf5bc"
      },
      "execution_count": 36,
      "outputs": [
        {
          "output_type": "execute_result",
          "data": {
            "text/plain": [
              "array(['às  -', '14:30', 'cemit', '16:00', '16:30', '13:00', '13:30',\n",
              "       '14:00', 'às 15', '15:30', '10:30', '15:00', '09:30', '10:00',\n",
              "       'às 00', '08:00', 'às 90', 'às 83', '08:30', 'às 16', '09:00',\n",
              "       'às 10', 'às 14', 'às 13', '11:00', '17:00', '12:00', 'às 12',\n",
              "       'às 17', 'às 08', 'às 09', '11:30', 'às 18', '17:30', 'às 8:',\n",
              "       '12:30', 'às 11', 'às 07', '07:30', 'às 19', 'às 06', 'às 80',\n",
              "       '07:00', 'às 05'], dtype=object)"
            ]
          },
          "metadata": {},
          "execution_count": 36
        }
      ]
    },
    {
      "cell_type": "markdown",
      "source": [
        "<p> Existem alguns valores não correspondentes à um valor de horas, portanto será necessário tratá-los. </p>"
      ],
      "metadata": {
        "id": "0SH8epWoRkKS"
      }
    },
    {
      "cell_type": "code",
      "source": [
        "mask = df['Horário'].str.startswith('às  -')\n",
        "\n",
        "# extract last 5 elements of local column for filtered rows\n",
        "filtered_df = df.loc[mask, 'Local'].str[-10:]"
      ],
      "metadata": {
        "id": "Oiod75xmSjPe"
      },
      "execution_count": 37,
      "outputs": []
    },
    {
      "cell_type": "code",
      "source": [
        "df.loc[mask, \"Horário\"] = filtered_df.values"
      ],
      "metadata": {
        "id": "IMnPKcpLxPJs"
      },
      "execution_count": 38,
      "outputs": []
    },
    {
      "cell_type": "code",
      "source": [
        "df[\"Horário\"] = df[\"Horário\"].str.replace(\"s\", \"\")\n",
        "df[\"Horário\"] = df[\"Horário\"].str.replace(\"h.\", \"\")\n",
        "df[\"Horário\"] = df[\"Horário\"].str.replace(\"hrs.\", \"\")\n",
        "df[\"Horário\"] = df[\"Horário\"].str.replace(\".\", \"\")\n",
        "df[\"Horário\"] = df[\"Horário\"].str.replace(\"a\", \"\")\n",
        "df[\"Horário\"] = df[\"Horário\"].str.replace(\"á\", \"\")\n",
        "df[\"Horário\"] = df[\"Horário\"].str.replace(\"à\", \"\")\n"
      ],
      "metadata": {
        "colab": {
          "base_uri": "https://localhost:8080/"
        },
        "id": "QOzO4Jstd2uo",
        "outputId": "5da73f44-09bf-4942-d5e1-e340d82d2272"
      },
      "execution_count": 39,
      "outputs": [
        {
          "output_type": "stream",
          "name": "stderr",
          "text": [
            "<ipython-input-39-c4aca1d63508>:2: FutureWarning: The default value of regex will change from True to False in a future version.\n",
            "  df[\"Horário\"] = df[\"Horário\"].str.replace(\"h.\", \"\")\n",
            "<ipython-input-39-c4aca1d63508>:3: FutureWarning: The default value of regex will change from True to False in a future version.\n",
            "  df[\"Horário\"] = df[\"Horário\"].str.replace(\"hrs.\", \"\")\n",
            "<ipython-input-39-c4aca1d63508>:4: FutureWarning: The default value of regex will change from True to False in a future version. In addition, single character regular expressions will *not* be treated as literal strings when regex=True.\n",
            "  df[\"Horário\"] = df[\"Horário\"].str.replace(\".\", \"\")\n"
          ]
        }
      ]
    },
    {
      "cell_type": "code",
      "source": [
        "df[\"Horário\"] = df[\"Horário\"].str.strip()"
      ],
      "metadata": {
        "id": "9Eh0cLSfXmlL"
      },
      "execution_count": 40,
      "outputs": []
    },
    {
      "cell_type": "code",
      "source": [
        "\n",
        "df[\"Horário\"].unique()"
      ],
      "metadata": {
        "colab": {
          "base_uri": "https://localhost:8080/"
        },
        "id": "USddOH07XZkT",
        "outputId": "62ed1510-6464-4e60-e02a-7a3009913df1"
      },
      "execution_count": 41,
      "outputs": [
        {
          "output_type": "execute_result",
          "data": {
            "text/plain": [
              "array(['10:30', '09:30', ':00', '08:00', '10:00', '16:30', '16:00',\n",
              "       '15:30', '14:00', '9:00', '08:30', '13:30', '14:30', '13:00',\n",
              "       '9:30', '15:00', '16:45', 'te di', '11:30', '160', '8:30', '3:00',\n",
              "       '8:00', 'municipl', 'o  80', 'to  10', '100', '09:00', '17 r',\n",
              "       'o  140', '6:30', 'uclipto', 'o 10:00', ':30', ':30 r', 'cemit',\n",
              "       '4:30', '0:00', 'n b', '8/04/2012', '0:30', 'm rr', '5:30',\n",
              "       '16:20', 'e de leme', '15', '00', 'formo', 'lvdo-p', '90', '83',\n",
              "       '16', '10', '14', '13', '11:00', '17:00', '12:00', '12', '17',\n",
              "       '08', '09', '18', 'ão  preto', '17:30', '8:', 'o rel/b', '12:30',\n",
              "       '11', 'e concl', 'cmpin', '07', 'mn )', '07:30', 'remtorio', '19',\n",
              "       '06', 'm limeir', 'emtorio', 'o pulo', '80', '07:00', 'crlo )',\n",
              "       'de buru', 'de rr', 'plmeir', '05', 'nir - p', 'rr -p', 'meir -p',\n",
              "       'clro-p', 'ão pulo'], dtype=object)"
            ]
          },
          "metadata": {},
          "execution_count": 41
        }
      ]
    },
    {
      "cell_type": "code",
      "source": [
        "import numpy as np\n",
        "np.where(pd.to_datetime(df[\"Horário\"], format='%H:%M', errors='coerce').isna(), '00:00:00', df[\"Horário\"])"
      ],
      "metadata": {
        "colab": {
          "base_uri": "https://localhost:8080/"
        },
        "id": "3o5oWwrrePKx",
        "outputId": "be19412a-5714-4b9f-94e5-7173cdcf1084"
      },
      "execution_count": 42,
      "outputs": [
        {
          "output_type": "execute_result",
          "data": {
            "text/plain": [
              "array(['10:30', '09:30', '00:00:00', ..., '14:00', '09:00', '13:00'],\n",
              "      dtype=object)"
            ]
          },
          "metadata": {},
          "execution_count": 42
        }
      ]
    },
    {
      "cell_type": "code",
      "source": [
        "df[\"Horário\"] = df[\"Horário\"].str.replace(\"116:30\", \"16:30\")\n",
        "df[\"Horário\"] = df[\"Horário\"].str.replace(\"115:30\", \"15:30\")\n",
        "df[\"Horário\"] = df[\"Horário\"].str.replace(\"113:00\", \"13:00\")\n",
        "df[\"Horário\"] = df[\"Horário\"].str.replace(\"te di\", \"13:00\")\n",
        "df[\"Horário\"] = df[\"Horário\"].str.replace(\"uclipto\", \"15:00\")\n",
        "df[\"Horário\"] = df[\"Horário\"].str.replace(\"8/04/2012\", \"16:00\")\n",
        "df[\"Horário\"] = df[\"Horário\"].str.replace(\"e de leme\", \"10:00\")"
      ],
      "metadata": {
        "id": "992Dle4helCi"
      },
      "execution_count": 43,
      "outputs": []
    },
    {
      "cell_type": "code",
      "source": [
        "df[\"Horário\"].unique()"
      ],
      "metadata": {
        "colab": {
          "base_uri": "https://localhost:8080/"
        },
        "id": "ofRGnOO8cOec",
        "outputId": "5fabdf8d-d959-4841-ade9-7dbd6c8fb56b"
      },
      "execution_count": 44,
      "outputs": [
        {
          "output_type": "execute_result",
          "data": {
            "text/plain": [
              "array(['10:30', '09:30', ':00', '08:00', '10:00', '16:30', '16:00',\n",
              "       '15:30', '14:00', '9:00', '08:30', '13:30', '14:30', '13:00',\n",
              "       '9:30', '15:00', '16:45', '11:30', '160', '8:30', '3:00', '8:00',\n",
              "       'municipl', 'o  80', 'to  10', '100', '09:00', '17 r', 'o  140',\n",
              "       '6:30', 'o 10:00', ':30', ':30 r', 'cemit', '4:30', '0:00', 'n b',\n",
              "       '0:30', 'm rr', '5:30', '16:20', '15', '00', 'formo', 'lvdo-p',\n",
              "       '90', '83', '16', '10', '14', '13', '11:00', '17:00', '12:00',\n",
              "       '12', '17', '08', '09', '18', 'ão  preto', '17:30', '8:',\n",
              "       'o rel/b', '12:30', '11', 'e concl', 'cmpin', '07', 'mn )',\n",
              "       '07:30', 'remtorio', '19', '06', 'm limeir', 'emtorio', 'o pulo',\n",
              "       '80', '07:00', 'crlo )', 'de buru', 'de rr', 'plmeir', '05',\n",
              "       'nir - p', 'rr -p', 'meir -p', 'clro-p', 'ão pulo'], dtype=object)"
            ]
          },
          "metadata": {},
          "execution_count": 44
        }
      ]
    },
    {
      "cell_type": "markdown",
      "source": [
        "# Local"
      ],
      "metadata": {
        "id": "Ph05WgM8ciJE"
      }
    },
    {
      "cell_type": "code",
      "source": [
        "df[\"Local\"] = df[\"Local\"].apply(lambda x: x[11::])"
      ],
      "metadata": {
        "id": "jmbf0eauiNIO"
      },
      "execution_count": 45,
      "outputs": []
    },
    {
      "cell_type": "code",
      "source": [
        "df[\"Local\"] = df[\"Local\"].str.lower()"
      ],
      "metadata": {
        "id": "nPNqzQWgr4f4"
      },
      "execution_count": 46,
      "outputs": []
    },
    {
      "cell_type": "code",
      "source": [
        "araras = df[\"Local\"].loc[df[\"Local\"].str.contains(\"ério municipal\")]\n",
        "araras.count()"
      ],
      "metadata": {
        "colab": {
          "base_uri": "https://localhost:8080/"
        },
        "id": "nqUPohXI0SP_",
        "outputId": "99152390-057f-4e6c-987e-72863c1010e2"
      },
      "execution_count": 47,
      "outputs": [
        {
          "output_type": "execute_result",
          "data": {
            "text/plain": [
              "8624"
            ]
          },
          "metadata": {},
          "execution_count": 47
        }
      ]
    },
    {
      "cell_type": "code",
      "source": [
        "pq = df[\"Local\"].loc[df[\"Local\"].str.contains(\"eucalipt\")]\n",
        "pq2 = df[\"Local\"].loc[df[\"Local\"].str.contains(\"eucalíp\")]\n",
        "pq.count()"
      ],
      "metadata": {
        "colab": {
          "base_uri": "https://localhost:8080/"
        },
        "id": "tENB3JATrF88",
        "outputId": "55fa249e-1ca1-4414-f98a-04dc3ceae0eb"
      },
      "execution_count": 48,
      "outputs": [
        {
          "output_type": "execute_result",
          "data": {
            "text/plain": [
              "434"
            ]
          },
          "metadata": {},
          "execution_count": 48
        }
      ]
    },
    {
      "cell_type": "code",
      "source": [
        "leme = df[\"Local\"].loc[df[\"Local\"].str.contains(\"leme\")]\n",
        "leme.count()"
      ],
      "metadata": {
        "colab": {
          "base_uri": "https://localhost:8080/"
        },
        "id": "oeeHMTzmybD0",
        "outputId": "bc6d98ee-cf3b-4500-9757-5ff5c4ee80a6"
      },
      "execution_count": 49,
      "outputs": [
        {
          "output_type": "execute_result",
          "data": {
            "text/plain": [
              "23"
            ]
          },
          "metadata": {},
          "execution_count": 49
        }
      ]
    },
    {
      "cell_type": "code",
      "source": [
        "monumental = df[\"Local\"].loc[df[\"Local\"].str.contains(\"monumental\")]\n",
        "monumental.count()"
      ],
      "metadata": {
        "colab": {
          "base_uri": "https://localhost:8080/"
        },
        "id": "kMbNwvuJ0_40",
        "outputId": "c23be5f3-48a1-4b08-8228-63938d77a65a"
      },
      "execution_count": 50,
      "outputs": [
        {
          "output_type": "execute_result",
          "data": {
            "text/plain": [
              "26"
            ]
          },
          "metadata": {},
          "execution_count": 50
        }
      ]
    },
    {
      "cell_type": "code",
      "source": [
        "limeira = df[\"Local\"].loc[df[\"Local\"].str.contains(\"limeira\")]\n",
        "limeira.count()"
      ],
      "metadata": {
        "colab": {
          "base_uri": "https://localhost:8080/"
        },
        "id": "edG2y3Jv1L0I",
        "outputId": "b079696c-dda5-44d3-95ac-0983216a2a20"
      },
      "execution_count": 51,
      "outputs": [
        {
          "output_type": "execute_result",
          "data": {
            "text/plain": [
              "44"
            ]
          },
          "metadata": {},
          "execution_count": 51
        }
      ]
    },
    {
      "cell_type": "code",
      "source": [
        "conchal = df[\"Local\"].loc[df[\"Local\"].str.contains(\"conchal\")]\n",
        "conchal.count()"
      ],
      "metadata": {
        "colab": {
          "base_uri": "https://localhost:8080/"
        },
        "id": "6yE8mhZf3lDR",
        "outputId": "795a27da-3718-4f5c-faf3-b21383dfd27c"
      },
      "execution_count": 52,
      "outputs": [
        {
          "output_type": "execute_result",
          "data": {
            "text/plain": [
              "36"
            ]
          },
          "metadata": {},
          "execution_count": 52
        }
      ]
    },
    {
      "cell_type": "code",
      "source": [
        "rio_claro = df[\"Local\"].loc[df[\"Local\"].str.contains(\"rio claro\")]\n",
        "rio_claro.count()"
      ],
      "metadata": {
        "colab": {
          "base_uri": "https://localhost:8080/"
        },
        "id": "SP9EHJHI5Wzx",
        "outputId": "862d6aec-d58d-4188-863f-cb84c6cf82ef"
      },
      "execution_count": 53,
      "outputs": [
        {
          "output_type": "execute_result",
          "data": {
            "text/plain": [
              "26"
            ]
          },
          "metadata": {},
          "execution_count": 53
        }
      ]
    },
    {
      "cell_type": "code",
      "source": [
        "import re\n",
        "for row in pq.values:\n",
        "  df[\"Local\"] = df[\"Local\"].str.replace(re.escape(row), \"cemitério pq. dos eucalíptos araras sp\")\n",
        "\n",
        "for row in pq2.values:\n",
        "  df[\"Local\"] = df[\"Local\"].str.replace(re.escape(row), \"cemitério pq. dos eucalíptos araras sp\")"
      ],
      "metadata": {
        "colab": {
          "base_uri": "https://localhost:8080/"
        },
        "id": "JZ-wGblKoR4o",
        "outputId": "f7460122-0601-41e4-f6be-0149122796a6"
      },
      "execution_count": 54,
      "outputs": [
        {
          "output_type": "stream",
          "name": "stderr",
          "text": [
            "<ipython-input-54-6d720c1e0d68>:3: FutureWarning: The default value of regex will change from True to False in a future version.\n",
            "  df[\"Local\"] = df[\"Local\"].str.replace(re.escape(row), \"cemitério pq. dos eucalíptos araras sp\")\n",
            "<ipython-input-54-6d720c1e0d68>:6: FutureWarning: The default value of regex will change from True to False in a future version.\n",
            "  df[\"Local\"] = df[\"Local\"].str.replace(re.escape(row), \"cemitério pq. dos eucalíptos araras sp\")\n"
          ]
        }
      ]
    },
    {
      "cell_type": "code",
      "source": [
        "for row in araras.values:\n",
        "  df[\"Local\"] = df[\"Local\"].str.replace(re.escape(row), \"cemitério municipal de araras sp\")"
      ],
      "metadata": {
        "colab": {
          "base_uri": "https://localhost:8080/"
        },
        "id": "4-5PJhGcxW_-",
        "outputId": "bf9290c3-b9b9-4509-f4d3-0f07f3b8e741"
      },
      "execution_count": 55,
      "outputs": [
        {
          "output_type": "stream",
          "name": "stderr",
          "text": [
            "<ipython-input-55-9309985adbfe>:2: FutureWarning: The default value of regex will change from True to False in a future version.\n",
            "  df[\"Local\"] = df[\"Local\"].str.replace(re.escape(row), \"cemitério municipal de araras sp\")\n"
          ]
        }
      ]
    },
    {
      "cell_type": "code",
      "source": [
        "for row in leme.values:\n",
        "  df[\"Local\"] = df[\"Local\"].str.replace(re.escape(row), \"cemitério municipal de leme sp\")"
      ],
      "metadata": {
        "colab": {
          "base_uri": "https://localhost:8080/"
        },
        "id": "0iSQ1rT8yP6L",
        "outputId": "37f16454-09b1-4f46-e21f-f9cef13d293e"
      },
      "execution_count": 56,
      "outputs": [
        {
          "output_type": "stream",
          "name": "stderr",
          "text": [
            "<ipython-input-56-efc9bf87020a>:2: FutureWarning: The default value of regex will change from True to False in a future version.\n",
            "  df[\"Local\"] = df[\"Local\"].str.replace(re.escape(row), \"cemitério municipal de leme sp\")\n"
          ]
        }
      ]
    },
    {
      "cell_type": "code",
      "source": [
        "for row in monumental.values:\n",
        "  df[\"Local\"] = df[\"Local\"].str.replace(re.escape(row), \"crematório monumental bom pastor\")\n",
        "\n",
        "for row in limeira.values:\n",
        "  df[\"Local\"] = df[\"Local\"].str.replace(re.escape(row), \"cemitério municipal de limeira sp\")\n",
        "\n",
        "for row in conchal.values:\n",
        "  df[\"Local\"] = df[\"Local\"].str.replace(re.escape(row), \"cemitério municipal de conchal sp\")\n",
        "\n",
        "for row in rio_claro.values:\n",
        "  df[\"Local\"] = df[\"Local\"].str.replace(re.escape(row), \"cemitério municipal de rio claro sp\")"
      ],
      "metadata": {
        "colab": {
          "base_uri": "https://localhost:8080/"
        },
        "id": "ZWF5rWuR1f-t",
        "outputId": "64edb957-fc0f-468f-a83d-1eabf7e92185"
      },
      "execution_count": 57,
      "outputs": [
        {
          "output_type": "stream",
          "name": "stderr",
          "text": [
            "<ipython-input-57-622b2087c9ac>:2: FutureWarning: The default value of regex will change from True to False in a future version.\n",
            "  df[\"Local\"] = df[\"Local\"].str.replace(re.escape(row), \"crematório monumental bom pastor\")\n",
            "<ipython-input-57-622b2087c9ac>:5: FutureWarning: The default value of regex will change from True to False in a future version.\n",
            "  df[\"Local\"] = df[\"Local\"].str.replace(re.escape(row), \"cemitério municipal de limeira sp\")\n",
            "<ipython-input-57-622b2087c9ac>:8: FutureWarning: The default value of regex will change from True to False in a future version.\n",
            "  df[\"Local\"] = df[\"Local\"].str.replace(re.escape(row), \"cemitério municipal de conchal sp\")\n",
            "<ipython-input-57-622b2087c9ac>:11: FutureWarning: The default value of regex will change from True to False in a future version.\n",
            "  df[\"Local\"] = df[\"Local\"].str.replace(re.escape(row), \"cemitério municipal de rio claro sp\")\n"
          ]
        }
      ]
    },
    {
      "cell_type": "code",
      "source": [
        "araras2 = df[\"Local\"].loc[df[\"Local\"].str.contains(\"rio municipal de araras\")]\n",
        "araras2.count()"
      ],
      "metadata": {
        "colab": {
          "base_uri": "https://localhost:8080/"
        },
        "id": "nNvw19-n7Xez",
        "outputId": "ade20b5c-3bb6-4dd7-a5ee-fed8247273ab"
      },
      "execution_count": 59,
      "outputs": [
        {
          "output_type": "execute_result",
          "data": {
            "text/plain": [
              "9349"
            ]
          },
          "metadata": {},
          "execution_count": 59
        }
      ]
    },
    {
      "cell_type": "code",
      "source": [
        "for row in araras2.values:\n",
        "  df[\"Local\"] = df[\"Local\"].str.replace(re.escape(row), \"cemitério municipal de araras sp\")"
      ],
      "metadata": {
        "colab": {
          "base_uri": "https://localhost:8080/"
        },
        "id": "0IEbDRoj7uH0",
        "outputId": "91d5724f-b650-44d8-b49c-762b58524d67"
      },
      "execution_count": 60,
      "outputs": [
        {
          "output_type": "stream",
          "name": "stderr",
          "text": [
            "<ipython-input-60-138c1f9da44d>:2: FutureWarning: The default value of regex will change from True to False in a future version.\n",
            "  df[\"Local\"] = df[\"Local\"].str.replace(re.escape(row), \"cemitério municipal de araras sp\")\n"
          ]
        }
      ]
    },
    {
      "cell_type": "code",
      "source": [
        "df[\"Local\"].describe()"
      ],
      "metadata": {
        "id": "JALXnaA7sK1G",
        "colab": {
          "base_uri": "https://localhost:8080/"
        },
        "outputId": "cd7c8319-6b91-4e05-ba47-ad3f8b13326d"
      },
      "execution_count": 61,
      "outputs": [
        {
          "output_type": "execute_result",
          "data": {
            "text/plain": [
              "count                                10041\n",
              "unique                                 131\n",
              "top       cemitério municipal de araras sp\n",
              "freq                                  9344\n",
              "Name: Local, dtype: object"
            ]
          },
          "metadata": {},
          "execution_count": 61
        }
      ]
    },
    {
      "cell_type": "code",
      "source": [
        "df.head()"
      ],
      "metadata": {
        "id": "9Ea6WrYnxWle",
        "colab": {
          "base_uri": "https://localhost:8080/",
          "height": 206
        },
        "outputId": "99bc31e9-928b-4759-a944-877b6218d75b"
      },
      "execution_count": 62,
      "outputs": [
        {
          "output_type": "execute_result",
          "data": {
            "text/plain": [
              "                             Nome Idade     DataFal     DataSep  \\\n",
              "0         Gilson de Jesus Tavares    40  31-01-2012  31-01-2012   \n",
              "1  Luzia de Lourdes Silveira Dias    66  31-01-2012  01-02-2012   \n",
              "2  Luci Terezinha Martim De Paula    53  30-01-2012  30-01-2012   \n",
              "3               Valter Sorrantino    47  30-01-2012  31-01-2012   \n",
              "4       Antonio Vieira dos Santos    55  30-01-2012  31-01-2012   \n",
              "\n",
              "                              Local Horário  \n",
              "0  cemitério municipal de araras sp   10:30  \n",
              "1  cemitério municipal de araras sp   09:30  \n",
              "2  cemitério municipal de araras sp     :00  \n",
              "3  cemitério municipal de araras sp   08:00  \n",
              "4  cemitério municipal de araras sp   10:00  "
            ],
            "text/html": [
              "\n",
              "  <div id=\"df-7a308f03-3ced-4659-8b79-678ad3a671ac\">\n",
              "    <div class=\"colab-df-container\">\n",
              "      <div>\n",
              "<style scoped>\n",
              "    .dataframe tbody tr th:only-of-type {\n",
              "        vertical-align: middle;\n",
              "    }\n",
              "\n",
              "    .dataframe tbody tr th {\n",
              "        vertical-align: top;\n",
              "    }\n",
              "\n",
              "    .dataframe thead th {\n",
              "        text-align: right;\n",
              "    }\n",
              "</style>\n",
              "<table border=\"1\" class=\"dataframe\">\n",
              "  <thead>\n",
              "    <tr style=\"text-align: right;\">\n",
              "      <th></th>\n",
              "      <th>Nome</th>\n",
              "      <th>Idade</th>\n",
              "      <th>DataFal</th>\n",
              "      <th>DataSep</th>\n",
              "      <th>Local</th>\n",
              "      <th>Horário</th>\n",
              "    </tr>\n",
              "  </thead>\n",
              "  <tbody>\n",
              "    <tr>\n",
              "      <th>0</th>\n",
              "      <td>Gilson de Jesus Tavares</td>\n",
              "      <td>40</td>\n",
              "      <td>31-01-2012</td>\n",
              "      <td>31-01-2012</td>\n",
              "      <td>cemitério municipal de araras sp</td>\n",
              "      <td>10:30</td>\n",
              "    </tr>\n",
              "    <tr>\n",
              "      <th>1</th>\n",
              "      <td>Luzia de Lourdes Silveira Dias</td>\n",
              "      <td>66</td>\n",
              "      <td>31-01-2012</td>\n",
              "      <td>01-02-2012</td>\n",
              "      <td>cemitério municipal de araras sp</td>\n",
              "      <td>09:30</td>\n",
              "    </tr>\n",
              "    <tr>\n",
              "      <th>2</th>\n",
              "      <td>Luci Terezinha Martim De Paula</td>\n",
              "      <td>53</td>\n",
              "      <td>30-01-2012</td>\n",
              "      <td>30-01-2012</td>\n",
              "      <td>cemitério municipal de araras sp</td>\n",
              "      <td>:00</td>\n",
              "    </tr>\n",
              "    <tr>\n",
              "      <th>3</th>\n",
              "      <td>Valter Sorrantino</td>\n",
              "      <td>47</td>\n",
              "      <td>30-01-2012</td>\n",
              "      <td>31-01-2012</td>\n",
              "      <td>cemitério municipal de araras sp</td>\n",
              "      <td>08:00</td>\n",
              "    </tr>\n",
              "    <tr>\n",
              "      <th>4</th>\n",
              "      <td>Antonio Vieira dos Santos</td>\n",
              "      <td>55</td>\n",
              "      <td>30-01-2012</td>\n",
              "      <td>31-01-2012</td>\n",
              "      <td>cemitério municipal de araras sp</td>\n",
              "      <td>10:00</td>\n",
              "    </tr>\n",
              "  </tbody>\n",
              "</table>\n",
              "</div>\n",
              "      <button class=\"colab-df-convert\" onclick=\"convertToInteractive('df-7a308f03-3ced-4659-8b79-678ad3a671ac')\"\n",
              "              title=\"Convert this dataframe to an interactive table.\"\n",
              "              style=\"display:none;\">\n",
              "        \n",
              "  <svg xmlns=\"http://www.w3.org/2000/svg\" height=\"24px\"viewBox=\"0 0 24 24\"\n",
              "       width=\"24px\">\n",
              "    <path d=\"M0 0h24v24H0V0z\" fill=\"none\"/>\n",
              "    <path d=\"M18.56 5.44l.94 2.06.94-2.06 2.06-.94-2.06-.94-.94-2.06-.94 2.06-2.06.94zm-11 1L8.5 8.5l.94-2.06 2.06-.94-2.06-.94L8.5 2.5l-.94 2.06-2.06.94zm10 10l.94 2.06.94-2.06 2.06-.94-2.06-.94-.94-2.06-.94 2.06-2.06.94z\"/><path d=\"M17.41 7.96l-1.37-1.37c-.4-.4-.92-.59-1.43-.59-.52 0-1.04.2-1.43.59L10.3 9.45l-7.72 7.72c-.78.78-.78 2.05 0 2.83L4 21.41c.39.39.9.59 1.41.59.51 0 1.02-.2 1.41-.59l7.78-7.78 2.81-2.81c.8-.78.8-2.07 0-2.86zM5.41 20L4 18.59l7.72-7.72 1.47 1.35L5.41 20z\"/>\n",
              "  </svg>\n",
              "      </button>\n",
              "      \n",
              "  <style>\n",
              "    .colab-df-container {\n",
              "      display:flex;\n",
              "      flex-wrap:wrap;\n",
              "      gap: 12px;\n",
              "    }\n",
              "\n",
              "    .colab-df-convert {\n",
              "      background-color: #E8F0FE;\n",
              "      border: none;\n",
              "      border-radius: 50%;\n",
              "      cursor: pointer;\n",
              "      display: none;\n",
              "      fill: #1967D2;\n",
              "      height: 32px;\n",
              "      padding: 0 0 0 0;\n",
              "      width: 32px;\n",
              "    }\n",
              "\n",
              "    .colab-df-convert:hover {\n",
              "      background-color: #E2EBFA;\n",
              "      box-shadow: 0px 1px 2px rgba(60, 64, 67, 0.3), 0px 1px 3px 1px rgba(60, 64, 67, 0.15);\n",
              "      fill: #174EA6;\n",
              "    }\n",
              "\n",
              "    [theme=dark] .colab-df-convert {\n",
              "      background-color: #3B4455;\n",
              "      fill: #D2E3FC;\n",
              "    }\n",
              "\n",
              "    [theme=dark] .colab-df-convert:hover {\n",
              "      background-color: #434B5C;\n",
              "      box-shadow: 0px 1px 3px 1px rgba(0, 0, 0, 0.15);\n",
              "      filter: drop-shadow(0px 1px 2px rgba(0, 0, 0, 0.3));\n",
              "      fill: #FFFFFF;\n",
              "    }\n",
              "  </style>\n",
              "\n",
              "      <script>\n",
              "        const buttonEl =\n",
              "          document.querySelector('#df-7a308f03-3ced-4659-8b79-678ad3a671ac button.colab-df-convert');\n",
              "        buttonEl.style.display =\n",
              "          google.colab.kernel.accessAllowed ? 'block' : 'none';\n",
              "\n",
              "        async function convertToInteractive(key) {\n",
              "          const element = document.querySelector('#df-7a308f03-3ced-4659-8b79-678ad3a671ac');\n",
              "          const dataTable =\n",
              "            await google.colab.kernel.invokeFunction('convertToInteractive',\n",
              "                                                     [key], {});\n",
              "          if (!dataTable) return;\n",
              "\n",
              "          const docLinkHtml = 'Like what you see? Visit the ' +\n",
              "            '<a target=\"_blank\" href=https://colab.research.google.com/notebooks/data_table.ipynb>data table notebook</a>'\n",
              "            + ' to learn more about interactive tables.';\n",
              "          element.innerHTML = '';\n",
              "          dataTable['output_type'] = 'display_data';\n",
              "          await google.colab.output.renderOutput(dataTable, element);\n",
              "          const docLink = document.createElement('div');\n",
              "          docLink.innerHTML = docLinkHtml;\n",
              "          element.appendChild(docLink);\n",
              "        }\n",
              "      </script>\n",
              "    </div>\n",
              "  </div>\n",
              "  "
            ]
          },
          "metadata": {},
          "execution_count": 62
        }
      ]
    },
    {
      "cell_type": "code",
      "source": [
        "df.to_excel(\"falecimentos.xlsx\", index=False)"
      ],
      "metadata": {
        "id": "w4fbZc-ToKnS"
      },
      "execution_count": 63,
      "outputs": []
    }
  ]
}