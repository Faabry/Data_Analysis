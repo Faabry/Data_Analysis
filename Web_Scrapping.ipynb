{
  "nbformat": 4,
  "nbformat_minor": 0,
  "metadata": {
    "colab": {
      "provenance": [],
      "authorship_tag": "ABX9TyNZeMoyAWTnOSUsatZmCzJ0",
      "include_colab_link": true
    },
    "kernelspec": {
      "name": "python3",
      "display_name": "Python 3"
    },
    "language_info": {
      "name": "python"
    }
  },
  "cells": [
    {
      "cell_type": "markdown",
      "metadata": {
        "id": "view-in-github",
        "colab_type": "text"
      },
      "source": [
        "<a href=\"https://colab.research.google.com/github/Faabry/Data_Analysis/blob/main/Web_Scrapping.ipynb\" target=\"_parent\"><img src=\"https://colab.research.google.com/assets/colab-badge.svg\" alt=\"Open In Colab\"/></a>"
      ]
    },
    {
      "cell_type": "markdown",
      "source": [
        "<h1><b>Web Scrapping ML</b></h1>"
      ],
      "metadata": {
        "id": "pwku9HdKRUTP"
      }
    },
    {
      "cell_type": "code",
      "execution_count": 1,
      "metadata": {
        "id": "oIvE4RWKJ2p-"
      },
      "outputs": [],
      "source": [
        "# Importando as bibliotecas\n",
        "import requests\n",
        "from bs4 import BeautifulSoup\n",
        "import pandas as pd"
      ]
    },
    {
      "cell_type": "code",
      "source": [
        "# Criando um dicionário de listas vazio\n",
        "product_dict = {\"nome\":  [],\n",
        "                \"preço\": [],\n",
        "                \"link\":  []}"
      ],
      "metadata": {
        "id": "1YuYo1E4RjRr"
      },
      "execution_count": 17,
      "outputs": []
    },
    {
      "cell_type": "code",
      "source": [
        "for i in range(1, 21):\n",
        "    # Definindo a URL que vai ser acessada\n",
        "    url = f\"https://www.mercadolivre.com.br/ofertas?container_id=MLB779362-1&page={i}\"\n",
        "\n",
        "    # Exibindo as informações do \"User Agent\" para que o site detecte que não é um robo\n",
        "    headers = {'User-Agent': \"Mozilla/5.0 (Windows NT 10.0; Win64; x64) AppleWebKit/537.36 (KHTML, like Gecko) Chrome/111.0.0.0 Safari/537.36 Edg/111.0.1661.44\"}\n",
        "\n",
        "    # Acessando a URL através do requests\n",
        "    request = requests.get(url, headers=headers)\n",
        "\n",
        "    # Pegando o conteúdo da URL no formato \"HTML.parser\"\n",
        "    soup = BeautifulSoup(request.content, \"html.parser\")\n",
        "\n",
        "    products = soup.find_all(\"div\", {\"class\": \"promotion-item__description\"})\n",
        "    links = soup.find_all(\"a\", {\"class\":\"promotion-item__link-container\"}, href=True)\n",
        "    sellers = soup.find_all(\"span\", {\"class\": \"promotion-item__seller\"})\n",
        "\n",
        "    for product in products:\n",
        "        # Coletando o nome de cada produto a partir de sua classe HTML\n",
        "        name = product.find(\"p\", {\"class\": \"promotion-item__title\"}).get_text()\n",
        "        # Coletando o proço do produto a partir de sua classe HTML\n",
        "        sale_price = product.find(\"span\", {\"class\": \"andes-money-amount__fraction\"}).get_text()\n",
        "        \n",
        "        # Adicionando as informações no dicionário\n",
        "        product_dict[\"nome\"].append(name)\n",
        "        product_dict[\"preço\"].append(sale_price)\n",
        "    for link in links:\n",
        "      product_dict[\"link\"].append(link.get(\"href\"))\n",
        "      "
      ],
      "metadata": {
        "id": "lpd_UPvgR2BD"
      },
      "execution_count": 19,
      "outputs": []
    },
    {
      "cell_type": "code",
      "source": [
        "print(len(product_dict[\"nome\"]))"
      ],
      "metadata": {
        "colab": {
          "base_uri": "https://localhost:8080/"
        },
        "id": "sMhD2t7zWBiC",
        "outputId": "49e1f4df-a089-4f0e-b7eb-629c193c17a0"
      },
      "execution_count": 22,
      "outputs": [
        {
          "output_type": "stream",
          "name": "stdout",
          "text": [
            "960\n"
          ]
        }
      ]
    },
    {
      "cell_type": "code",
      "source": [
        "df = pd.DataFrame(product_dict)\n",
        "df"
      ],
      "metadata": {
        "colab": {
          "base_uri": "https://localhost:8080/",
          "height": 424
        },
        "id": "2PtxMvQyJ9js",
        "outputId": "ded5ba7c-5378-4ae5-9ab5-cbbc4369da1e"
      },
      "execution_count": 23,
      "outputs": [
        {
          "output_type": "execute_result",
          "data": {
            "text/plain": [
              "                                                  nome  preço  \\\n",
              "0    Samsung Galaxy A03s Dual SIM 64 GB preto 4 GB RAM    799   \n",
              "1    Smart Tv Philco Led 43' Ptv43d10ag11skf Androi...  1.698   \n",
              "2      Kit Whey Protein 2kg + Bcaa + Creatina + Shaker     91   \n",
              "3    Parafusadeira De Impacto Bosch 18v Gsb 180-li ...    663   \n",
              "4    Fone de ouvido on-ear sem fio JBL Tune 510BT J...    219   \n",
              "..                                                 ...    ...   \n",
              "955  4 Cadeiras E Mesa Área Emily Alumínio Piscina,...    982   \n",
              "956  Toalha De Mesa 2 Metros Com Renda Grande 6 Lug...     45   \n",
              "957  Cortina Paris Malha Lisa Com Bandô 2,00 X 1,70...     43   \n",
              "958  Armário De Cozinha Completa Compacta Clara Amê...    571   \n",
              "959            Telefone fixo Intelbras Tok Fácil preto    124   \n",
              "\n",
              "                                                  link  \n",
              "0    https://www.mercadolivre.com.br/samsung-galaxy...  \n",
              "1    https://produto.mercadolivre.com.br/MLB-324001...  \n",
              "2    https://produto.mercadolivre.com.br/MLB-286861...  \n",
              "3    https://produto.mercadolivre.com.br/MLB-322969...  \n",
              "4    https://www.mercadolivre.com.br/fone-de-ouvido...  \n",
              "..                                                 ...  \n",
              "955  https://produto.mercadolivre.com.br/MLB-278060...  \n",
              "956  https://produto.mercadolivre.com.br/MLB-215257...  \n",
              "957  https://produto.mercadolivre.com.br/MLB-186974...  \n",
              "958  https://produto.mercadolivre.com.br/MLB-174458...  \n",
              "959  https://www.mercadolivre.com.br/telefone-fixo-...  \n",
              "\n",
              "[960 rows x 3 columns]"
            ],
            "text/html": [
              "\n",
              "  <div id=\"df-d5a8aa05-a426-4c9b-9e13-b84ee2612292\">\n",
              "    <div class=\"colab-df-container\">\n",
              "      <div>\n",
              "<style scoped>\n",
              "    .dataframe tbody tr th:only-of-type {\n",
              "        vertical-align: middle;\n",
              "    }\n",
              "\n",
              "    .dataframe tbody tr th {\n",
              "        vertical-align: top;\n",
              "    }\n",
              "\n",
              "    .dataframe thead th {\n",
              "        text-align: right;\n",
              "    }\n",
              "</style>\n",
              "<table border=\"1\" class=\"dataframe\">\n",
              "  <thead>\n",
              "    <tr style=\"text-align: right;\">\n",
              "      <th></th>\n",
              "      <th>nome</th>\n",
              "      <th>preço</th>\n",
              "      <th>link</th>\n",
              "    </tr>\n",
              "  </thead>\n",
              "  <tbody>\n",
              "    <tr>\n",
              "      <th>0</th>\n",
              "      <td>Samsung Galaxy A03s Dual SIM 64 GB preto 4 GB RAM</td>\n",
              "      <td>799</td>\n",
              "      <td>https://www.mercadolivre.com.br/samsung-galaxy...</td>\n",
              "    </tr>\n",
              "    <tr>\n",
              "      <th>1</th>\n",
              "      <td>Smart Tv Philco Led 43' Ptv43d10ag11skf Androi...</td>\n",
              "      <td>1.698</td>\n",
              "      <td>https://produto.mercadolivre.com.br/MLB-324001...</td>\n",
              "    </tr>\n",
              "    <tr>\n",
              "      <th>2</th>\n",
              "      <td>Kit Whey Protein 2kg + Bcaa + Creatina + Shaker</td>\n",
              "      <td>91</td>\n",
              "      <td>https://produto.mercadolivre.com.br/MLB-286861...</td>\n",
              "    </tr>\n",
              "    <tr>\n",
              "      <th>3</th>\n",
              "      <td>Parafusadeira De Impacto Bosch 18v Gsb 180-li ...</td>\n",
              "      <td>663</td>\n",
              "      <td>https://produto.mercadolivre.com.br/MLB-322969...</td>\n",
              "    </tr>\n",
              "    <tr>\n",
              "      <th>4</th>\n",
              "      <td>Fone de ouvido on-ear sem fio JBL Tune 510BT J...</td>\n",
              "      <td>219</td>\n",
              "      <td>https://www.mercadolivre.com.br/fone-de-ouvido...</td>\n",
              "    </tr>\n",
              "    <tr>\n",
              "      <th>...</th>\n",
              "      <td>...</td>\n",
              "      <td>...</td>\n",
              "      <td>...</td>\n",
              "    </tr>\n",
              "    <tr>\n",
              "      <th>955</th>\n",
              "      <td>4 Cadeiras E Mesa Área Emily Alumínio Piscina,...</td>\n",
              "      <td>982</td>\n",
              "      <td>https://produto.mercadolivre.com.br/MLB-278060...</td>\n",
              "    </tr>\n",
              "    <tr>\n",
              "      <th>956</th>\n",
              "      <td>Toalha De Mesa 2 Metros Com Renda Grande 6 Lug...</td>\n",
              "      <td>45</td>\n",
              "      <td>https://produto.mercadolivre.com.br/MLB-215257...</td>\n",
              "    </tr>\n",
              "    <tr>\n",
              "      <th>957</th>\n",
              "      <td>Cortina Paris Malha Lisa Com Bandô 2,00 X 1,70...</td>\n",
              "      <td>43</td>\n",
              "      <td>https://produto.mercadolivre.com.br/MLB-186974...</td>\n",
              "    </tr>\n",
              "    <tr>\n",
              "      <th>958</th>\n",
              "      <td>Armário De Cozinha Completa Compacta Clara Amê...</td>\n",
              "      <td>571</td>\n",
              "      <td>https://produto.mercadolivre.com.br/MLB-174458...</td>\n",
              "    </tr>\n",
              "    <tr>\n",
              "      <th>959</th>\n",
              "      <td>Telefone fixo Intelbras Tok Fácil preto</td>\n",
              "      <td>124</td>\n",
              "      <td>https://www.mercadolivre.com.br/telefone-fixo-...</td>\n",
              "    </tr>\n",
              "  </tbody>\n",
              "</table>\n",
              "<p>960 rows × 3 columns</p>\n",
              "</div>\n",
              "      <button class=\"colab-df-convert\" onclick=\"convertToInteractive('df-d5a8aa05-a426-4c9b-9e13-b84ee2612292')\"\n",
              "              title=\"Convert this dataframe to an interactive table.\"\n",
              "              style=\"display:none;\">\n",
              "        \n",
              "  <svg xmlns=\"http://www.w3.org/2000/svg\" height=\"24px\"viewBox=\"0 0 24 24\"\n",
              "       width=\"24px\">\n",
              "    <path d=\"M0 0h24v24H0V0z\" fill=\"none\"/>\n",
              "    <path d=\"M18.56 5.44l.94 2.06.94-2.06 2.06-.94-2.06-.94-.94-2.06-.94 2.06-2.06.94zm-11 1L8.5 8.5l.94-2.06 2.06-.94-2.06-.94L8.5 2.5l-.94 2.06-2.06.94zm10 10l.94 2.06.94-2.06 2.06-.94-2.06-.94-.94-2.06-.94 2.06-2.06.94z\"/><path d=\"M17.41 7.96l-1.37-1.37c-.4-.4-.92-.59-1.43-.59-.52 0-1.04.2-1.43.59L10.3 9.45l-7.72 7.72c-.78.78-.78 2.05 0 2.83L4 21.41c.39.39.9.59 1.41.59.51 0 1.02-.2 1.41-.59l7.78-7.78 2.81-2.81c.8-.78.8-2.07 0-2.86zM5.41 20L4 18.59l7.72-7.72 1.47 1.35L5.41 20z\"/>\n",
              "  </svg>\n",
              "      </button>\n",
              "      \n",
              "  <style>\n",
              "    .colab-df-container {\n",
              "      display:flex;\n",
              "      flex-wrap:wrap;\n",
              "      gap: 12px;\n",
              "    }\n",
              "\n",
              "    .colab-df-convert {\n",
              "      background-color: #E8F0FE;\n",
              "      border: none;\n",
              "      border-radius: 50%;\n",
              "      cursor: pointer;\n",
              "      display: none;\n",
              "      fill: #1967D2;\n",
              "      height: 32px;\n",
              "      padding: 0 0 0 0;\n",
              "      width: 32px;\n",
              "    }\n",
              "\n",
              "    .colab-df-convert:hover {\n",
              "      background-color: #E2EBFA;\n",
              "      box-shadow: 0px 1px 2px rgba(60, 64, 67, 0.3), 0px 1px 3px 1px rgba(60, 64, 67, 0.15);\n",
              "      fill: #174EA6;\n",
              "    }\n",
              "\n",
              "    [theme=dark] .colab-df-convert {\n",
              "      background-color: #3B4455;\n",
              "      fill: #D2E3FC;\n",
              "    }\n",
              "\n",
              "    [theme=dark] .colab-df-convert:hover {\n",
              "      background-color: #434B5C;\n",
              "      box-shadow: 0px 1px 3px 1px rgba(0, 0, 0, 0.15);\n",
              "      filter: drop-shadow(0px 1px 2px rgba(0, 0, 0, 0.3));\n",
              "      fill: #FFFFFF;\n",
              "    }\n",
              "  </style>\n",
              "\n",
              "      <script>\n",
              "        const buttonEl =\n",
              "          document.querySelector('#df-d5a8aa05-a426-4c9b-9e13-b84ee2612292 button.colab-df-convert');\n",
              "        buttonEl.style.display =\n",
              "          google.colab.kernel.accessAllowed ? 'block' : 'none';\n",
              "\n",
              "        async function convertToInteractive(key) {\n",
              "          const element = document.querySelector('#df-d5a8aa05-a426-4c9b-9e13-b84ee2612292');\n",
              "          const dataTable =\n",
              "            await google.colab.kernel.invokeFunction('convertToInteractive',\n",
              "                                                     [key], {});\n",
              "          if (!dataTable) return;\n",
              "\n",
              "          const docLinkHtml = 'Like what you see? Visit the ' +\n",
              "            '<a target=\"_blank\" href=https://colab.research.google.com/notebooks/data_table.ipynb>data table notebook</a>'\n",
              "            + ' to learn more about interactive tables.';\n",
              "          element.innerHTML = '';\n",
              "          dataTable['output_type'] = 'display_data';\n",
              "          await google.colab.output.renderOutput(dataTable, element);\n",
              "          const docLink = document.createElement('div');\n",
              "          docLink.innerHTML = docLinkHtml;\n",
              "          element.appendChild(docLink);\n",
              "        }\n",
              "      </script>\n",
              "    </div>\n",
              "  </div>\n",
              "  "
            ]
          },
          "metadata": {},
          "execution_count": 23
        }
      ]
    },
    {
      "cell_type": "markdown",
      "source": [
        "<p>Temos a opção de salvar nosso dataframe em algum formato e em seguida carregá-lo no Power BI, ou podemos extrair essas informações no Power BI <b>direto do nosso script Python</b></p>"
      ],
      "metadata": {
        "id": "RgEAUvLsYcN0"
      }
    },
    {
      "cell_type": "code",
      "source": [
        "# df.to_excel(\"ml.xlsx\", index=False)"
      ],
      "metadata": {
        "id": "Aeup4pcQKjLG"
      },
      "execution_count": null,
      "outputs": []
    }
  ]
}