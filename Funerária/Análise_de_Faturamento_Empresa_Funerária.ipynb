{
  "cells": [
    {
      "cell_type": "markdown",
      "metadata": {
        "id": "view-in-github",
        "colab_type": "text"
      },
      "source": [
        "<a href=\"https://colab.research.google.com/github/Faabry/Pandas-Repository/blob/main/An%C3%A1lise_de_Faturamento_Empresa_Funer%C3%A1ria.ipynb\" target=\"_parent\"><img src=\"https://colab.research.google.com/assets/colab-badge.svg\" alt=\"Open In Colab\"/></a>"
      ]
    },
    {
      "cell_type": "code",
      "execution_count": null,
      "metadata": {
        "id": "PdPNcK7d40-o"
      },
      "outputs": [],
      "source": [
        "import pandas as pd\n",
        "import matplotlib.pyplot as plt"
      ]
    },
    {
      "cell_type": "markdown",
      "metadata": {
        "id": "Vc0knNrI78rU"
      },
      "source": [
        "# **Análise de dados 2022.**"
      ]
    },
    {
      "cell_type": "code",
      "execution_count": null,
      "metadata": {
        "colab": {
          "base_uri": "https://localhost:8080/"
        },
        "id": "sSuuI7Ib46DA",
        "outputId": "70749e44-e422-4a10-fcf7-4a857c0597f3"
      },
      "outputs": [
        {
          "output_type": "execute_result",
          "data": {
            "text/plain": [
              "                  Data  Processo    Categoria            Vendas  Requerimento  \\\n",
              "0  2022-09-01 00:00:00     352.0  PLANO/COROA               NaN        3110.0   \n",
              "1  2022-09-02 00:00:00     353.0        PLANO  TANATO, 2 COROAS        2900.0   \n",
              "2  2022-09-03 00:00:00     354.0   PARTICULAR          E, COROA           0.0   \n",
              "3  2022-09-03 00:00:00     355.0        PLANO             COROA        3110.0   \n",
              "4  2022-09-03 00:00:00     356.0        PLANO               NaN        2900.0   \n",
              "\n",
              "   Total Vendas  \n",
              "0           0.0  \n",
              "1        1460.0  \n",
              "2        3270.0  \n",
              "3         280.0  \n",
              "4           0.0  "
            ],
            "text/html": [
              "\n",
              "  <div id=\"df-d88bd12e-45ce-4bde-9289-8f6940a5aea3\">\n",
              "    <div class=\"colab-df-container\">\n",
              "      <div>\n",
              "<style scoped>\n",
              "    .dataframe tbody tr th:only-of-type {\n",
              "        vertical-align: middle;\n",
              "    }\n",
              "\n",
              "    .dataframe tbody tr th {\n",
              "        vertical-align: top;\n",
              "    }\n",
              "\n",
              "    .dataframe thead th {\n",
              "        text-align: right;\n",
              "    }\n",
              "</style>\n",
              "<table border=\"1\" class=\"dataframe\">\n",
              "  <thead>\n",
              "    <tr style=\"text-align: right;\">\n",
              "      <th></th>\n",
              "      <th>Data</th>\n",
              "      <th>Processo</th>\n",
              "      <th>Categoria</th>\n",
              "      <th>Vendas</th>\n",
              "      <th>Requerimento</th>\n",
              "      <th>Total Vendas</th>\n",
              "    </tr>\n",
              "  </thead>\n",
              "  <tbody>\n",
              "    <tr>\n",
              "      <th>0</th>\n",
              "      <td>2022-09-01 00:00:00</td>\n",
              "      <td>352.0</td>\n",
              "      <td>PLANO/COROA</td>\n",
              "      <td>NaN</td>\n",
              "      <td>3110.0</td>\n",
              "      <td>0.0</td>\n",
              "    </tr>\n",
              "    <tr>\n",
              "      <th>1</th>\n",
              "      <td>2022-09-02 00:00:00</td>\n",
              "      <td>353.0</td>\n",
              "      <td>PLANO</td>\n",
              "      <td>TANATO, 2 COROAS</td>\n",
              "      <td>2900.0</td>\n",
              "      <td>1460.0</td>\n",
              "    </tr>\n",
              "    <tr>\n",
              "      <th>2</th>\n",
              "      <td>2022-09-03 00:00:00</td>\n",
              "      <td>354.0</td>\n",
              "      <td>PARTICULAR</td>\n",
              "      <td>E, COROA</td>\n",
              "      <td>0.0</td>\n",
              "      <td>3270.0</td>\n",
              "    </tr>\n",
              "    <tr>\n",
              "      <th>3</th>\n",
              "      <td>2022-09-03 00:00:00</td>\n",
              "      <td>355.0</td>\n",
              "      <td>PLANO</td>\n",
              "      <td>COROA</td>\n",
              "      <td>3110.0</td>\n",
              "      <td>280.0</td>\n",
              "    </tr>\n",
              "    <tr>\n",
              "      <th>4</th>\n",
              "      <td>2022-09-03 00:00:00</td>\n",
              "      <td>356.0</td>\n",
              "      <td>PLANO</td>\n",
              "      <td>NaN</td>\n",
              "      <td>2900.0</td>\n",
              "      <td>0.0</td>\n",
              "    </tr>\n",
              "  </tbody>\n",
              "</table>\n",
              "</div>\n",
              "      <button class=\"colab-df-convert\" onclick=\"convertToInteractive('df-d88bd12e-45ce-4bde-9289-8f6940a5aea3')\"\n",
              "              title=\"Convert this dataframe to an interactive table.\"\n",
              "              style=\"display:none;\">\n",
              "        \n",
              "  <svg xmlns=\"http://www.w3.org/2000/svg\" height=\"24px\"viewBox=\"0 0 24 24\"\n",
              "       width=\"24px\">\n",
              "    <path d=\"M0 0h24v24H0V0z\" fill=\"none\"/>\n",
              "    <path d=\"M18.56 5.44l.94 2.06.94-2.06 2.06-.94-2.06-.94-.94-2.06-.94 2.06-2.06.94zm-11 1L8.5 8.5l.94-2.06 2.06-.94-2.06-.94L8.5 2.5l-.94 2.06-2.06.94zm10 10l.94 2.06.94-2.06 2.06-.94-2.06-.94-.94-2.06-.94 2.06-2.06.94z\"/><path d=\"M17.41 7.96l-1.37-1.37c-.4-.4-.92-.59-1.43-.59-.52 0-1.04.2-1.43.59L10.3 9.45l-7.72 7.72c-.78.78-.78 2.05 0 2.83L4 21.41c.39.39.9.59 1.41.59.51 0 1.02-.2 1.41-.59l7.78-7.78 2.81-2.81c.8-.78.8-2.07 0-2.86zM5.41 20L4 18.59l7.72-7.72 1.47 1.35L5.41 20z\"/>\n",
              "  </svg>\n",
              "      </button>\n",
              "      \n",
              "  <style>\n",
              "    .colab-df-container {\n",
              "      display:flex;\n",
              "      flex-wrap:wrap;\n",
              "      gap: 12px;\n",
              "    }\n",
              "\n",
              "    .colab-df-convert {\n",
              "      background-color: #E8F0FE;\n",
              "      border: none;\n",
              "      border-radius: 50%;\n",
              "      cursor: pointer;\n",
              "      display: none;\n",
              "      fill: #1967D2;\n",
              "      height: 32px;\n",
              "      padding: 0 0 0 0;\n",
              "      width: 32px;\n",
              "    }\n",
              "\n",
              "    .colab-df-convert:hover {\n",
              "      background-color: #E2EBFA;\n",
              "      box-shadow: 0px 1px 2px rgba(60, 64, 67, 0.3), 0px 1px 3px 1px rgba(60, 64, 67, 0.15);\n",
              "      fill: #174EA6;\n",
              "    }\n",
              "\n",
              "    [theme=dark] .colab-df-convert {\n",
              "      background-color: #3B4455;\n",
              "      fill: #D2E3FC;\n",
              "    }\n",
              "\n",
              "    [theme=dark] .colab-df-convert:hover {\n",
              "      background-color: #434B5C;\n",
              "      box-shadow: 0px 1px 3px 1px rgba(0, 0, 0, 0.15);\n",
              "      filter: drop-shadow(0px 1px 2px rgba(0, 0, 0, 0.3));\n",
              "      fill: #FFFFFF;\n",
              "    }\n",
              "  </style>\n",
              "\n",
              "      <script>\n",
              "        const buttonEl =\n",
              "          document.querySelector('#df-d88bd12e-45ce-4bde-9289-8f6940a5aea3 button.colab-df-convert');\n",
              "        buttonEl.style.display =\n",
              "          google.colab.kernel.accessAllowed ? 'block' : 'none';\n",
              "\n",
              "        async function convertToInteractive(key) {\n",
              "          const element = document.querySelector('#df-d88bd12e-45ce-4bde-9289-8f6940a5aea3');\n",
              "          const dataTable =\n",
              "            await google.colab.kernel.invokeFunction('convertToInteractive',\n",
              "                                                     [key], {});\n",
              "          if (!dataTable) return;\n",
              "\n",
              "          const docLinkHtml = 'Like what you see? Visit the ' +\n",
              "            '<a target=\"_blank\" href=https://colab.research.google.com/notebooks/data_table.ipynb>data table notebook</a>'\n",
              "            + ' to learn more about interactive tables.';\n",
              "          element.innerHTML = '';\n",
              "          dataTable['output_type'] = 'display_data';\n",
              "          await google.colab.output.renderOutput(dataTable, element);\n",
              "          const docLink = document.createElement('div');\n",
              "          docLink.innerHTML = docLinkHtml;\n",
              "          element.appendChild(docLink);\n",
              "        }\n",
              "      </script>\n",
              "    </div>\n",
              "  </div>\n",
              "  "
            ]
          },
          "metadata": {},
          "execution_count": 18
        }
      ],
      "source": [
        "df = pd.read_excel('BP.xlsx')\n",
        "df.head()"
      ]
    },
    {
      "cell_type": "code",
      "source": [
        "df.info()"
      ],
      "metadata": {
        "colab": {
          "base_uri": "https://localhost:8080/"
        },
        "id": "4v7pMzYGSRNg",
        "outputId": "07ab46d5-ed4f-4b62-ee36-8b61d4da762e"
      },
      "execution_count": null,
      "outputs": [
        {
          "output_type": "stream",
          "name": "stdout",
          "text": [
            "<class 'pandas.core.frame.DataFrame'>\n",
            "RangeIndex: 673 entries, 0 to 672\n",
            "Data columns (total 6 columns):\n",
            " #   Column        Non-Null Count  Dtype  \n",
            "---  ------        --------------  -----  \n",
            " 0   Data          673 non-null    object \n",
            " 1   Processo      134 non-null    float64\n",
            " 2   Categoria     134 non-null    object \n",
            " 3   Vendas        89 non-null     object \n",
            " 4   Requerimento  134 non-null    float64\n",
            " 5   Total Vendas  134 non-null    float64\n",
            "dtypes: float64(3), object(3)\n",
            "memory usage: 31.7+ KB\n"
          ]
        }
      ]
    },
    {
      "cell_type": "markdown",
      "metadata": {
        "id": "IaDtS9VpEbVb"
      },
      "source": [
        "## **Task 0:** Dropar os valores núlos"
      ]
    },
    {
      "cell_type": "markdown",
      "source": [
        "* Antes de dropar os valores **NaN** precisamos converter as linhas que não são totalmente **NaN** values, porquê se simplesmente droparmos vamos perder linhas com dados valiosos para a análise."
      ],
      "metadata": {
        "id": "uLj5aSK2RtTO"
      }
    },
    {
      "cell_type": "code",
      "execution_count": null,
      "metadata": {
        "id": "MNtumLPR5BTO"
      },
      "outputs": [],
      "source": [
        "df['Vendas'] = df['Vendas'].astype('str').apply(lambda x: x.replace('NaN', ''))"
      ]
    },
    {
      "cell_type": "code",
      "source": [
        "df = df.dropna()\n",
        "df.head()"
      ],
      "metadata": {
        "colab": {
          "base_uri": "https://localhost:8080/"
        },
        "id": "qAlPPMsZRbEq",
        "outputId": "83735aa4-3059-409c-f4e3-25526504ed89"
      },
      "execution_count": null,
      "outputs": [
        {
          "output_type": "execute_result",
          "data": {
            "text/plain": [
              "                  Data  Processo    Categoria            Vendas  Requerimento  \\\n",
              "0  2022-09-01 00:00:00     352.0  PLANO/COROA               nan        3110.0   \n",
              "1  2022-09-02 00:00:00     353.0        PLANO  TANATO, 2 COROAS        2900.0   \n",
              "2  2022-09-03 00:00:00     354.0   PARTICULAR          E, COROA           0.0   \n",
              "3  2022-09-03 00:00:00     355.0        PLANO             COROA        3110.0   \n",
              "4  2022-09-03 00:00:00     356.0        PLANO               nan        2900.0   \n",
              "\n",
              "   Total Vendas  \n",
              "0           0.0  \n",
              "1        1460.0  \n",
              "2        3270.0  \n",
              "3         280.0  \n",
              "4           0.0  "
            ],
            "text/html": [
              "\n",
              "  <div id=\"df-c3b775c0-5292-43f6-b54c-99a6c488981c\">\n",
              "    <div class=\"colab-df-container\">\n",
              "      <div>\n",
              "<style scoped>\n",
              "    .dataframe tbody tr th:only-of-type {\n",
              "        vertical-align: middle;\n",
              "    }\n",
              "\n",
              "    .dataframe tbody tr th {\n",
              "        vertical-align: top;\n",
              "    }\n",
              "\n",
              "    .dataframe thead th {\n",
              "        text-align: right;\n",
              "    }\n",
              "</style>\n",
              "<table border=\"1\" class=\"dataframe\">\n",
              "  <thead>\n",
              "    <tr style=\"text-align: right;\">\n",
              "      <th></th>\n",
              "      <th>Data</th>\n",
              "      <th>Processo</th>\n",
              "      <th>Categoria</th>\n",
              "      <th>Vendas</th>\n",
              "      <th>Requerimento</th>\n",
              "      <th>Total Vendas</th>\n",
              "    </tr>\n",
              "  </thead>\n",
              "  <tbody>\n",
              "    <tr>\n",
              "      <th>0</th>\n",
              "      <td>2022-09-01 00:00:00</td>\n",
              "      <td>352.0</td>\n",
              "      <td>PLANO/COROA</td>\n",
              "      <td>nan</td>\n",
              "      <td>3110.0</td>\n",
              "      <td>0.0</td>\n",
              "    </tr>\n",
              "    <tr>\n",
              "      <th>1</th>\n",
              "      <td>2022-09-02 00:00:00</td>\n",
              "      <td>353.0</td>\n",
              "      <td>PLANO</td>\n",
              "      <td>TANATO, 2 COROAS</td>\n",
              "      <td>2900.0</td>\n",
              "      <td>1460.0</td>\n",
              "    </tr>\n",
              "    <tr>\n",
              "      <th>2</th>\n",
              "      <td>2022-09-03 00:00:00</td>\n",
              "      <td>354.0</td>\n",
              "      <td>PARTICULAR</td>\n",
              "      <td>E, COROA</td>\n",
              "      <td>0.0</td>\n",
              "      <td>3270.0</td>\n",
              "    </tr>\n",
              "    <tr>\n",
              "      <th>3</th>\n",
              "      <td>2022-09-03 00:00:00</td>\n",
              "      <td>355.0</td>\n",
              "      <td>PLANO</td>\n",
              "      <td>COROA</td>\n",
              "      <td>3110.0</td>\n",
              "      <td>280.0</td>\n",
              "    </tr>\n",
              "    <tr>\n",
              "      <th>4</th>\n",
              "      <td>2022-09-03 00:00:00</td>\n",
              "      <td>356.0</td>\n",
              "      <td>PLANO</td>\n",
              "      <td>nan</td>\n",
              "      <td>2900.0</td>\n",
              "      <td>0.0</td>\n",
              "    </tr>\n",
              "  </tbody>\n",
              "</table>\n",
              "</div>\n",
              "      <button class=\"colab-df-convert\" onclick=\"convertToInteractive('df-c3b775c0-5292-43f6-b54c-99a6c488981c')\"\n",
              "              title=\"Convert this dataframe to an interactive table.\"\n",
              "              style=\"display:none;\">\n",
              "        \n",
              "  <svg xmlns=\"http://www.w3.org/2000/svg\" height=\"24px\"viewBox=\"0 0 24 24\"\n",
              "       width=\"24px\">\n",
              "    <path d=\"M0 0h24v24H0V0z\" fill=\"none\"/>\n",
              "    <path d=\"M18.56 5.44l.94 2.06.94-2.06 2.06-.94-2.06-.94-.94-2.06-.94 2.06-2.06.94zm-11 1L8.5 8.5l.94-2.06 2.06-.94-2.06-.94L8.5 2.5l-.94 2.06-2.06.94zm10 10l.94 2.06.94-2.06 2.06-.94-2.06-.94-.94-2.06-.94 2.06-2.06.94z\"/><path d=\"M17.41 7.96l-1.37-1.37c-.4-.4-.92-.59-1.43-.59-.52 0-1.04.2-1.43.59L10.3 9.45l-7.72 7.72c-.78.78-.78 2.05 0 2.83L4 21.41c.39.39.9.59 1.41.59.51 0 1.02-.2 1.41-.59l7.78-7.78 2.81-2.81c.8-.78.8-2.07 0-2.86zM5.41 20L4 18.59l7.72-7.72 1.47 1.35L5.41 20z\"/>\n",
              "  </svg>\n",
              "      </button>\n",
              "      \n",
              "  <style>\n",
              "    .colab-df-container {\n",
              "      display:flex;\n",
              "      flex-wrap:wrap;\n",
              "      gap: 12px;\n",
              "    }\n",
              "\n",
              "    .colab-df-convert {\n",
              "      background-color: #E8F0FE;\n",
              "      border: none;\n",
              "      border-radius: 50%;\n",
              "      cursor: pointer;\n",
              "      display: none;\n",
              "      fill: #1967D2;\n",
              "      height: 32px;\n",
              "      padding: 0 0 0 0;\n",
              "      width: 32px;\n",
              "    }\n",
              "\n",
              "    .colab-df-convert:hover {\n",
              "      background-color: #E2EBFA;\n",
              "      box-shadow: 0px 1px 2px rgba(60, 64, 67, 0.3), 0px 1px 3px 1px rgba(60, 64, 67, 0.15);\n",
              "      fill: #174EA6;\n",
              "    }\n",
              "\n",
              "    [theme=dark] .colab-df-convert {\n",
              "      background-color: #3B4455;\n",
              "      fill: #D2E3FC;\n",
              "    }\n",
              "\n",
              "    [theme=dark] .colab-df-convert:hover {\n",
              "      background-color: #434B5C;\n",
              "      box-shadow: 0px 1px 3px 1px rgba(0, 0, 0, 0.15);\n",
              "      filter: drop-shadow(0px 1px 2px rgba(0, 0, 0, 0.3));\n",
              "      fill: #FFFFFF;\n",
              "    }\n",
              "  </style>\n",
              "\n",
              "      <script>\n",
              "        const buttonEl =\n",
              "          document.querySelector('#df-c3b775c0-5292-43f6-b54c-99a6c488981c button.colab-df-convert');\n",
              "        buttonEl.style.display =\n",
              "          google.colab.kernel.accessAllowed ? 'block' : 'none';\n",
              "\n",
              "        async function convertToInteractive(key) {\n",
              "          const element = document.querySelector('#df-c3b775c0-5292-43f6-b54c-99a6c488981c');\n",
              "          const dataTable =\n",
              "            await google.colab.kernel.invokeFunction('convertToInteractive',\n",
              "                                                     [key], {});\n",
              "          if (!dataTable) return;\n",
              "\n",
              "          const docLinkHtml = 'Like what you see? Visit the ' +\n",
              "            '<a target=\"_blank\" href=https://colab.research.google.com/notebooks/data_table.ipynb>data table notebook</a>'\n",
              "            + ' to learn more about interactive tables.';\n",
              "          element.innerHTML = '';\n",
              "          dataTable['output_type'] = 'display_data';\n",
              "          await google.colab.output.renderOutput(dataTable, element);\n",
              "          const docLink = document.createElement('div');\n",
              "          docLink.innerHTML = docLinkHtml;\n",
              "          element.appendChild(docLink);\n",
              "        }\n",
              "      </script>\n",
              "    </div>\n",
              "  </div>\n",
              "  "
            ]
          },
          "metadata": {},
          "execution_count": 21
        }
      ]
    },
    {
      "cell_type": "markdown",
      "source": [
        "## **Taks 1:** Convertendo a coluna \"Data\" em **datetime type.**"
      ],
      "metadata": {
        "id": "jJZmU-yoShVv"
      }
    },
    {
      "cell_type": "code",
      "execution_count": null,
      "metadata": {
        "id": "-XTAiakV5FVM",
        "colab": {
          "base_uri": "https://localhost:8080/"
        },
        "outputId": "8fc018f1-1669-42e9-9845-eee1e046bad4"
      },
      "outputs": [
        {
          "output_type": "stream",
          "name": "stderr",
          "text": [
            "<ipython-input-22-a64ad4345fb0>:1: SettingWithCopyWarning: \n",
            "A value is trying to be set on a copy of a slice from a DataFrame.\n",
            "Try using .loc[row_indexer,col_indexer] = value instead\n",
            "\n",
            "See the caveats in the documentation: https://pandas.pydata.org/pandas-docs/stable/user_guide/indexing.html#returning-a-view-versus-a-copy\n",
            "  df['Data'] = pd.to_datetime(df['Data']).copy()\n"
          ]
        }
      ],
      "source": [
        "df['Data'] = pd.to_datetime(df['Data']).copy()"
      ]
    },
    {
      "cell_type": "markdown",
      "source": [
        "## **Task 2:** Convertendo a coluna \"Processo\" em **int64 type.**"
      ],
      "metadata": {
        "id": "Pq7oW8jHSpU1"
      }
    },
    {
      "cell_type": "code",
      "execution_count": null,
      "metadata": {
        "id": "dXFhA9V-5G_b",
        "colab": {
          "base_uri": "https://localhost:8080/"
        },
        "outputId": "a33e7ffe-0c39-47c3-8614-95ad63d078d3"
      },
      "outputs": [
        {
          "output_type": "stream",
          "name": "stderr",
          "text": [
            "<ipython-input-23-5600c22db8b8>:1: SettingWithCopyWarning: \n",
            "A value is trying to be set on a copy of a slice from a DataFrame.\n",
            "Try using .loc[row_indexer,col_indexer] = value instead\n",
            "\n",
            "See the caveats in the documentation: https://pandas.pydata.org/pandas-docs/stable/user_guide/indexing.html#returning-a-view-versus-a-copy\n",
            "  df['Processo'] = df['Processo'].astype('int64')\n"
          ]
        }
      ],
      "source": [
        "df['Processo'] = df['Processo'].astype('int64')"
      ]
    },
    {
      "cell_type": "code",
      "execution_count": null,
      "metadata": {
        "colab": {
          "base_uri": "https://localhost:8080/"
        },
        "id": "XNCycOfwFkih",
        "outputId": "3ca5626d-4fbd-4762-9b56-887fb439a916"
      },
      "outputs": [
        {
          "output_type": "stream",
          "name": "stdout",
          "text": [
            "<class 'pandas.core.frame.DataFrame'>\n",
            "Int64Index: 134 entries, 0 to 133\n",
            "Data columns (total 6 columns):\n",
            " #   Column        Non-Null Count  Dtype         \n",
            "---  ------        --------------  -----         \n",
            " 0   Data          134 non-null    datetime64[ns]\n",
            " 1   Processo      134 non-null    int64         \n",
            " 2   Categoria     134 non-null    object        \n",
            " 3   Vendas        134 non-null    object        \n",
            " 4   Requerimento  134 non-null    float64       \n",
            " 5   Total Vendas  134 non-null    float64       \n",
            "dtypes: datetime64[ns](1), float64(2), int64(1), object(2)\n",
            "memory usage: 7.3+ KB\n"
          ]
        }
      ],
      "source": [
        "df.info()"
      ]
    },
    {
      "cell_type": "markdown",
      "metadata": {
        "id": "Ri0Ts5tb5bmG"
      },
      "source": [
        "# **Question 1: Quantos atendimento tivemos em cada mês?**"
      ]
    },
    {
      "cell_type": "markdown",
      "source": [
        "## **Task 3**: Criar 2 colunas contendo as informações de **Mês** e **Dia**"
      ],
      "metadata": {
        "id": "XCLR8xF9I8-n"
      }
    },
    {
      "cell_type": "code",
      "execution_count": null,
      "metadata": {
        "id": "0sbmxI3-HHgy"
      },
      "outputs": [],
      "source": [
        "df['Mês'] = df['Data'].astype('str').str[5:7]\n",
        "df['Dia'] = df['Data'].astype('str').str[8:10]"
      ]
    },
    {
      "cell_type": "code",
      "source": [
        "df.head()"
      ],
      "metadata": {
        "colab": {
          "base_uri": "https://localhost:8080/"
        },
        "id": "r3yr9gysIZbL",
        "outputId": "e3a75342-964b-40fd-e950-930a6775d3f9"
      },
      "execution_count": null,
      "outputs": [
        {
          "output_type": "execute_result",
          "data": {
            "text/plain": [
              "        Data  Processo    Categoria            Vendas  Requerimento  \\\n",
              "0 2022-09-01       352  PLANO/COROA               nan        3110.0   \n",
              "1 2022-09-02       353        PLANO  TANATO, 2 COROAS        2900.0   \n",
              "2 2022-09-03       354   PARTICULAR          E, COROA           0.0   \n",
              "3 2022-09-03       355        PLANO             COROA        3110.0   \n",
              "4 2022-09-03       356        PLANO               nan        2900.0   \n",
              "\n",
              "   Total Vendas Mês Dia  \n",
              "0           0.0  09  01  \n",
              "1        1460.0  09  02  \n",
              "2        3270.0  09  03  \n",
              "3         280.0  09  03  \n",
              "4           0.0  09  03  "
            ],
            "text/html": [
              "\n",
              "  <div id=\"df-cc29d5f6-962f-4d66-aed2-401362a8fb64\">\n",
              "    <div class=\"colab-df-container\">\n",
              "      <div>\n",
              "<style scoped>\n",
              "    .dataframe tbody tr th:only-of-type {\n",
              "        vertical-align: middle;\n",
              "    }\n",
              "\n",
              "    .dataframe tbody tr th {\n",
              "        vertical-align: top;\n",
              "    }\n",
              "\n",
              "    .dataframe thead th {\n",
              "        text-align: right;\n",
              "    }\n",
              "</style>\n",
              "<table border=\"1\" class=\"dataframe\">\n",
              "  <thead>\n",
              "    <tr style=\"text-align: right;\">\n",
              "      <th></th>\n",
              "      <th>Data</th>\n",
              "      <th>Processo</th>\n",
              "      <th>Categoria</th>\n",
              "      <th>Vendas</th>\n",
              "      <th>Requerimento</th>\n",
              "      <th>Total Vendas</th>\n",
              "      <th>Mês</th>\n",
              "      <th>Dia</th>\n",
              "    </tr>\n",
              "  </thead>\n",
              "  <tbody>\n",
              "    <tr>\n",
              "      <th>0</th>\n",
              "      <td>2022-09-01</td>\n",
              "      <td>352</td>\n",
              "      <td>PLANO/COROA</td>\n",
              "      <td>nan</td>\n",
              "      <td>3110.0</td>\n",
              "      <td>0.0</td>\n",
              "      <td>09</td>\n",
              "      <td>01</td>\n",
              "    </tr>\n",
              "    <tr>\n",
              "      <th>1</th>\n",
              "      <td>2022-09-02</td>\n",
              "      <td>353</td>\n",
              "      <td>PLANO</td>\n",
              "      <td>TANATO, 2 COROAS</td>\n",
              "      <td>2900.0</td>\n",
              "      <td>1460.0</td>\n",
              "      <td>09</td>\n",
              "      <td>02</td>\n",
              "    </tr>\n",
              "    <tr>\n",
              "      <th>2</th>\n",
              "      <td>2022-09-03</td>\n",
              "      <td>354</td>\n",
              "      <td>PARTICULAR</td>\n",
              "      <td>E, COROA</td>\n",
              "      <td>0.0</td>\n",
              "      <td>3270.0</td>\n",
              "      <td>09</td>\n",
              "      <td>03</td>\n",
              "    </tr>\n",
              "    <tr>\n",
              "      <th>3</th>\n",
              "      <td>2022-09-03</td>\n",
              "      <td>355</td>\n",
              "      <td>PLANO</td>\n",
              "      <td>COROA</td>\n",
              "      <td>3110.0</td>\n",
              "      <td>280.0</td>\n",
              "      <td>09</td>\n",
              "      <td>03</td>\n",
              "    </tr>\n",
              "    <tr>\n",
              "      <th>4</th>\n",
              "      <td>2022-09-03</td>\n",
              "      <td>356</td>\n",
              "      <td>PLANO</td>\n",
              "      <td>nan</td>\n",
              "      <td>2900.0</td>\n",
              "      <td>0.0</td>\n",
              "      <td>09</td>\n",
              "      <td>03</td>\n",
              "    </tr>\n",
              "  </tbody>\n",
              "</table>\n",
              "</div>\n",
              "      <button class=\"colab-df-convert\" onclick=\"convertToInteractive('df-cc29d5f6-962f-4d66-aed2-401362a8fb64')\"\n",
              "              title=\"Convert this dataframe to an interactive table.\"\n",
              "              style=\"display:none;\">\n",
              "        \n",
              "  <svg xmlns=\"http://www.w3.org/2000/svg\" height=\"24px\"viewBox=\"0 0 24 24\"\n",
              "       width=\"24px\">\n",
              "    <path d=\"M0 0h24v24H0V0z\" fill=\"none\"/>\n",
              "    <path d=\"M18.56 5.44l.94 2.06.94-2.06 2.06-.94-2.06-.94-.94-2.06-.94 2.06-2.06.94zm-11 1L8.5 8.5l.94-2.06 2.06-.94-2.06-.94L8.5 2.5l-.94 2.06-2.06.94zm10 10l.94 2.06.94-2.06 2.06-.94-2.06-.94-.94-2.06-.94 2.06-2.06.94z\"/><path d=\"M17.41 7.96l-1.37-1.37c-.4-.4-.92-.59-1.43-.59-.52 0-1.04.2-1.43.59L10.3 9.45l-7.72 7.72c-.78.78-.78 2.05 0 2.83L4 21.41c.39.39.9.59 1.41.59.51 0 1.02-.2 1.41-.59l7.78-7.78 2.81-2.81c.8-.78.8-2.07 0-2.86zM5.41 20L4 18.59l7.72-7.72 1.47 1.35L5.41 20z\"/>\n",
              "  </svg>\n",
              "      </button>\n",
              "      \n",
              "  <style>\n",
              "    .colab-df-container {\n",
              "      display:flex;\n",
              "      flex-wrap:wrap;\n",
              "      gap: 12px;\n",
              "    }\n",
              "\n",
              "    .colab-df-convert {\n",
              "      background-color: #E8F0FE;\n",
              "      border: none;\n",
              "      border-radius: 50%;\n",
              "      cursor: pointer;\n",
              "      display: none;\n",
              "      fill: #1967D2;\n",
              "      height: 32px;\n",
              "      padding: 0 0 0 0;\n",
              "      width: 32px;\n",
              "    }\n",
              "\n",
              "    .colab-df-convert:hover {\n",
              "      background-color: #E2EBFA;\n",
              "      box-shadow: 0px 1px 2px rgba(60, 64, 67, 0.3), 0px 1px 3px 1px rgba(60, 64, 67, 0.15);\n",
              "      fill: #174EA6;\n",
              "    }\n",
              "\n",
              "    [theme=dark] .colab-df-convert {\n",
              "      background-color: #3B4455;\n",
              "      fill: #D2E3FC;\n",
              "    }\n",
              "\n",
              "    [theme=dark] .colab-df-convert:hover {\n",
              "      background-color: #434B5C;\n",
              "      box-shadow: 0px 1px 3px 1px rgba(0, 0, 0, 0.15);\n",
              "      filter: drop-shadow(0px 1px 2px rgba(0, 0, 0, 0.3));\n",
              "      fill: #FFFFFF;\n",
              "    }\n",
              "  </style>\n",
              "\n",
              "      <script>\n",
              "        const buttonEl =\n",
              "          document.querySelector('#df-cc29d5f6-962f-4d66-aed2-401362a8fb64 button.colab-df-convert');\n",
              "        buttonEl.style.display =\n",
              "          google.colab.kernel.accessAllowed ? 'block' : 'none';\n",
              "\n",
              "        async function convertToInteractive(key) {\n",
              "          const element = document.querySelector('#df-cc29d5f6-962f-4d66-aed2-401362a8fb64');\n",
              "          const dataTable =\n",
              "            await google.colab.kernel.invokeFunction('convertToInteractive',\n",
              "                                                     [key], {});\n",
              "          if (!dataTable) return;\n",
              "\n",
              "          const docLinkHtml = 'Like what you see? Visit the ' +\n",
              "            '<a target=\"_blank\" href=https://colab.research.google.com/notebooks/data_table.ipynb>data table notebook</a>'\n",
              "            + ' to learn more about interactive tables.';\n",
              "          element.innerHTML = '';\n",
              "          dataTable['output_type'] = 'display_data';\n",
              "          await google.colab.output.renderOutput(dataTable, element);\n",
              "          const docLink = document.createElement('div');\n",
              "          docLink.innerHTML = docLinkHtml;\n",
              "          element.appendChild(docLink);\n",
              "        }\n",
              "      </script>\n",
              "    </div>\n",
              "  </div>\n",
              "  "
            ]
          },
          "metadata": {},
          "execution_count": 26
        }
      ]
    },
    {
      "cell_type": "markdown",
      "source": [
        "## **Salvando o DataFrame para usar no Power BI**"
      ],
      "metadata": {
        "id": "SsYWEQKMevbE"
      }
    },
    {
      "cell_type": "code",
      "source": [
        "df.to_excel('relatorio.xlsx')"
      ],
      "metadata": {
        "id": "11nyh0tSMg3l"
      },
      "execution_count": null,
      "outputs": []
    },
    {
      "cell_type": "markdown",
      "source": [
        "## **Task 4:** Criar um agrupamento de cada Mês e somar os valores de requerimento e total de vendas"
      ],
      "metadata": {
        "id": "hN8XeahDJeHg"
      }
    },
    {
      "cell_type": "code",
      "source": [
        "month = df.groupby('Mês').sum()\n",
        "month[['Requerimento', 'Total Vendas']]"
      ],
      "metadata": {
        "colab": {
          "base_uri": "https://localhost:8080/"
        },
        "id": "4c_V8pVCJnFS",
        "outputId": "1614d7e6-8aa9-44e6-996c-53fa9d5d8f70"
      },
      "execution_count": null,
      "outputs": [
        {
          "output_type": "execute_result",
          "data": {
            "text/plain": [
              "     Requerimento  Total Vendas\n",
              "Mês                            \n",
              "09        97840.0       46315.0\n",
              "10        79390.0       66373.0\n",
              "11        50420.0       20909.0\n",
              "12        66950.0       42580.0"
            ],
            "text/html": [
              "\n",
              "  <div id=\"df-f394ba3b-b01a-470d-a291-a23c7fddf06d\">\n",
              "    <div class=\"colab-df-container\">\n",
              "      <div>\n",
              "<style scoped>\n",
              "    .dataframe tbody tr th:only-of-type {\n",
              "        vertical-align: middle;\n",
              "    }\n",
              "\n",
              "    .dataframe tbody tr th {\n",
              "        vertical-align: top;\n",
              "    }\n",
              "\n",
              "    .dataframe thead th {\n",
              "        text-align: right;\n",
              "    }\n",
              "</style>\n",
              "<table border=\"1\" class=\"dataframe\">\n",
              "  <thead>\n",
              "    <tr style=\"text-align: right;\">\n",
              "      <th></th>\n",
              "      <th>Requerimento</th>\n",
              "      <th>Total Vendas</th>\n",
              "    </tr>\n",
              "    <tr>\n",
              "      <th>Mês</th>\n",
              "      <th></th>\n",
              "      <th></th>\n",
              "    </tr>\n",
              "  </thead>\n",
              "  <tbody>\n",
              "    <tr>\n",
              "      <th>09</th>\n",
              "      <td>97840.0</td>\n",
              "      <td>46315.0</td>\n",
              "    </tr>\n",
              "    <tr>\n",
              "      <th>10</th>\n",
              "      <td>79390.0</td>\n",
              "      <td>66373.0</td>\n",
              "    </tr>\n",
              "    <tr>\n",
              "      <th>11</th>\n",
              "      <td>50420.0</td>\n",
              "      <td>20909.0</td>\n",
              "    </tr>\n",
              "    <tr>\n",
              "      <th>12</th>\n",
              "      <td>66950.0</td>\n",
              "      <td>42580.0</td>\n",
              "    </tr>\n",
              "  </tbody>\n",
              "</table>\n",
              "</div>\n",
              "      <button class=\"colab-df-convert\" onclick=\"convertToInteractive('df-f394ba3b-b01a-470d-a291-a23c7fddf06d')\"\n",
              "              title=\"Convert this dataframe to an interactive table.\"\n",
              "              style=\"display:none;\">\n",
              "        \n",
              "  <svg xmlns=\"http://www.w3.org/2000/svg\" height=\"24px\"viewBox=\"0 0 24 24\"\n",
              "       width=\"24px\">\n",
              "    <path d=\"M0 0h24v24H0V0z\" fill=\"none\"/>\n",
              "    <path d=\"M18.56 5.44l.94 2.06.94-2.06 2.06-.94-2.06-.94-.94-2.06-.94 2.06-2.06.94zm-11 1L8.5 8.5l.94-2.06 2.06-.94-2.06-.94L8.5 2.5l-.94 2.06-2.06.94zm10 10l.94 2.06.94-2.06 2.06-.94-2.06-.94-.94-2.06-.94 2.06-2.06.94z\"/><path d=\"M17.41 7.96l-1.37-1.37c-.4-.4-.92-.59-1.43-.59-.52 0-1.04.2-1.43.59L10.3 9.45l-7.72 7.72c-.78.78-.78 2.05 0 2.83L4 21.41c.39.39.9.59 1.41.59.51 0 1.02-.2 1.41-.59l7.78-7.78 2.81-2.81c.8-.78.8-2.07 0-2.86zM5.41 20L4 18.59l7.72-7.72 1.47 1.35L5.41 20z\"/>\n",
              "  </svg>\n",
              "      </button>\n",
              "      \n",
              "  <style>\n",
              "    .colab-df-container {\n",
              "      display:flex;\n",
              "      flex-wrap:wrap;\n",
              "      gap: 12px;\n",
              "    }\n",
              "\n",
              "    .colab-df-convert {\n",
              "      background-color: #E8F0FE;\n",
              "      border: none;\n",
              "      border-radius: 50%;\n",
              "      cursor: pointer;\n",
              "      display: none;\n",
              "      fill: #1967D2;\n",
              "      height: 32px;\n",
              "      padding: 0 0 0 0;\n",
              "      width: 32px;\n",
              "    }\n",
              "\n",
              "    .colab-df-convert:hover {\n",
              "      background-color: #E2EBFA;\n",
              "      box-shadow: 0px 1px 2px rgba(60, 64, 67, 0.3), 0px 1px 3px 1px rgba(60, 64, 67, 0.15);\n",
              "      fill: #174EA6;\n",
              "    }\n",
              "\n",
              "    [theme=dark] .colab-df-convert {\n",
              "      background-color: #3B4455;\n",
              "      fill: #D2E3FC;\n",
              "    }\n",
              "\n",
              "    [theme=dark] .colab-df-convert:hover {\n",
              "      background-color: #434B5C;\n",
              "      box-shadow: 0px 1px 3px 1px rgba(0, 0, 0, 0.15);\n",
              "      filter: drop-shadow(0px 1px 2px rgba(0, 0, 0, 0.3));\n",
              "      fill: #FFFFFF;\n",
              "    }\n",
              "  </style>\n",
              "\n",
              "      <script>\n",
              "        const buttonEl =\n",
              "          document.querySelector('#df-f394ba3b-b01a-470d-a291-a23c7fddf06d button.colab-df-convert');\n",
              "        buttonEl.style.display =\n",
              "          google.colab.kernel.accessAllowed ? 'block' : 'none';\n",
              "\n",
              "        async function convertToInteractive(key) {\n",
              "          const element = document.querySelector('#df-f394ba3b-b01a-470d-a291-a23c7fddf06d');\n",
              "          const dataTable =\n",
              "            await google.colab.kernel.invokeFunction('convertToInteractive',\n",
              "                                                     [key], {});\n",
              "          if (!dataTable) return;\n",
              "\n",
              "          const docLinkHtml = 'Like what you see? Visit the ' +\n",
              "            '<a target=\"_blank\" href=https://colab.research.google.com/notebooks/data_table.ipynb>data table notebook</a>'\n",
              "            + ' to learn more about interactive tables.';\n",
              "          element.innerHTML = '';\n",
              "          dataTable['output_type'] = 'display_data';\n",
              "          await google.colab.output.renderOutput(dataTable, element);\n",
              "          const docLink = document.createElement('div');\n",
              "          docLink.innerHTML = docLinkHtml;\n",
              "          element.appendChild(docLink);\n",
              "        }\n",
              "      </script>\n",
              "    </div>\n",
              "  </div>\n",
              "  "
            ]
          },
          "metadata": {},
          "execution_count": 28
        }
      ]
    },
    {
      "cell_type": "markdown",
      "source": [
        "## **Task 5:** Definir os valores de X e Y para plotar no gráfico"
      ],
      "metadata": {
        "id": "0tRaNimTp1NI"
      }
    },
    {
      "cell_type": "code",
      "source": [
        "x = month.index\n",
        "y = month[['Requerimento', 'Total Vendas']]"
      ],
      "metadata": {
        "id": "1Owj_PD8MsaP"
      },
      "execution_count": null,
      "outputs": []
    },
    {
      "cell_type": "markdown",
      "source": [
        "## **Task 6:** Definir a legenda do gráfico"
      ],
      "metadata": {
        "id": "bv1WC5x7p72t"
      }
    },
    {
      "cell_type": "code",
      "source": [
        "legend = ['Requerimentos', 'Vendas']"
      ],
      "metadata": {
        "id": "1E2s9b_eNRSQ"
      },
      "execution_count": null,
      "outputs": []
    },
    {
      "cell_type": "code",
      "source": [
        "plt.figure(figsize=(10, 6))\n",
        "plt.plot(x, y)\n",
        "plt.title('Faturamento BP Mensal', size=25)\n",
        "plt.legend(legend, prop={'size': 16})\n",
        "plt.xlabel('Mês', size=15)\n",
        "plt.ylabel('Faturamento (R$', size=15)\n",
        "plt.grid()\n",
        "plt.show()"
      ],
      "metadata": {
        "colab": {
          "base_uri": "https://localhost:8080/"
        },
        "id": "rTaPZc-BL7GL",
        "outputId": "b2da8729-0fd4-451b-b626-9fa4bfba5d8c"
      },
      "execution_count": null,
      "outputs": [
        {
          "output_type": "display_data",
          "data": {
            "text/plain": [
              "<Figure size 720x432 with 1 Axes>"
            ],
            "image/png": "[encoded data removed]"
          },
          "metadata": {
            "needs_background": "light"
          }
        }
      ]
    },
    {
      "cell_type": "markdown",
      "source": [
        "* Faturamento Requerimento **mês Outubro R$79.390.00**\n",
        "\n",
        "* Faturamento Requerimento **mês Novemrbo\tR$56.420.00**\t\n",
        "\n",
        "* Faturamento Requerimento **mês Dezembro\tR$66.950.00**\t"
      ],
      "metadata": {
        "id": "xoQnzV7HU1Gx"
      }
    },
    {
      "cell_type": "markdown",
      "source": [
        "* Faturamento Particular **mês Outubro R$66.373.00**\n",
        "\n",
        "* Faturamento Particular **mês Novemrbo\tR$14.909.00**\t\n",
        "\n",
        "* Faturamento Particular **mês Dezembro\tR$42.580.00**\t"
      ],
      "metadata": {
        "id": "SJfzEyOAgzNL"
      }
    },
    {
      "cell_type": "markdown",
      "source": [
        "##  Quantidade de atendimentos em cada mês"
      ],
      "metadata": {
        "id": "1fSeYjuohi1R"
      }
    },
    {
      "cell_type": "code",
      "execution_count": null,
      "metadata": {
        "colab": {
          "base_uri": "https://localhost:8080/"
        },
        "id": "OAMrE65z5ckq",
        "outputId": "85855659-9999-4868-827b-061ce5162328"
      },
      "outputs": [
        {
          "output_type": "execute_result",
          "data": {
            "text/plain": [
              "Mês\n",
              "09    42\n",
              "10    41\n",
              "11    21\n",
              "12    30\n",
              "Name: Processo, dtype: int64"
            ]
          },
          "metadata": {},
          "execution_count": 32
        }
      ],
      "source": [
        "process = df.groupby('Mês').count()\n",
        "process['Processo']"
      ]
    },
    {
      "cell_type": "markdown",
      "metadata": {
        "id": "VlYHtmbx5fua"
      },
      "source": [
        "* Foram **41 atendimentos** no mês de Outubro.\n",
        "* Foram **21 atendimentos** no mês de Novembro.\n",
        "* Foram **30 atendimentos** no mês de Dezembro.\n"
      ]
    },
    {
      "cell_type": "markdown",
      "metadata": {
        "id": "UKy35IeL5nMc"
      },
      "source": [
        "# **Question 2: Quantos atendimentos por \"Categoria\" nos ultimos 3 meses?**"
      ]
    },
    {
      "cell_type": "markdown",
      "source": [
        "## **Task 7:** Filtrando quantas vezes apareceu a palavra \"PLANO\"."
      ],
      "metadata": {
        "id": "Ojc0OifKVjn4"
      }
    },
    {
      "cell_type": "code",
      "execution_count": null,
      "metadata": {
        "colab": {
          "base_uri": "https://localhost:8080/"
        },
        "id": "etpBQo0J5qIw",
        "outputId": "414b1a9f-5c74-4e58-86f5-48b2f73956ac"
      },
      "outputs": [
        {
          "output_type": "execute_result",
          "data": {
            "text/plain": [
              "Processo    85\n",
              "dtype: int64"
            ]
          },
          "metadata": {},
          "execution_count": 33
        }
      ],
      "source": [
        "df.loc[df['Categoria'] == 'PLANO', ['Processo']].count()"
      ]
    },
    {
      "cell_type": "markdown",
      "source": [
        "## **Task 8:** Criando um agrupamento de cada atendimento por categoria."
      ],
      "metadata": {
        "id": "8adeKVPwVt6t"
      }
    },
    {
      "cell_type": "code",
      "execution_count": null,
      "metadata": {
        "colab": {
          "base_uri": "https://localhost:8080/"
        },
        "id": "mkhd_YS26LW9",
        "outputId": "b8efbb08-1d23-4bf6-8f8a-347b645a24c1"
      },
      "outputs": [
        {
          "output_type": "execute_result",
          "data": {
            "text/plain": [
              "Categoria\n",
              "COMPLEMENTAÇÃO     3\n",
              "COROA              1\n",
              "GRATUITO           2\n",
              "NOVA FUNERÁRIA     4\n",
              "PARTICULAR        27\n",
              "PLANO             85\n",
              "PLANO/COROA       10\n",
              "SEGURO             2\n",
              "Name: Processo, dtype: int64"
            ]
          },
          "metadata": {},
          "execution_count": 34
        }
      ],
      "source": [
        "categoria = df.groupby('Categoria').count()\n",
        "categoria['Processo']"
      ]
    },
    {
      "cell_type": "markdown",
      "source": [
        "### **Foram:**"
      ],
      "metadata": {
        "id": "sMdq2qAzk9G5"
      }
    },
    {
      "cell_type": "markdown",
      "source": [
        "* **3 antendimentos** Complementação\n",
        "* **2 atendimentos** Gratuito\n",
        "* **2 atendimentos** Nova Funerária\n",
        "* **19 atendimentos** Particular\n",
        "* **58 atendimentos** Plano\n",
        "* **6 atendimentos** Plano C/ Coroa\n",
        "* **2 atendimentos** Seguro"
      ],
      "metadata": {
        "id": "Zy0fZLg-kSwk"
      }
    },
    {
      "cell_type": "markdown",
      "source": [
        "## **Task 9:** Definindo os valores de x e y para usar no gráfico."
      ],
      "metadata": {
        "id": "4I-REtU6V3hO"
      }
    },
    {
      "cell_type": "code",
      "source": [
        "x = categoria.index\n",
        "y = categoria.index = categoria.Processo\n",
        "y"
      ],
      "metadata": {
        "colab": {
          "base_uri": "https://localhost:8080/"
        },
        "id": "ZF13gaq0lWag",
        "outputId": "a75a19e6-38b0-4b61-bd6b-26e36e616366"
      },
      "execution_count": null,
      "outputs": [
        {
          "output_type": "execute_result",
          "data": {
            "text/plain": [
              "Categoria\n",
              "COMPLEMENTAÇÃO     3\n",
              "COROA              1\n",
              "GRATUITO           2\n",
              "NOVA FUNERÁRIA     4\n",
              "PARTICULAR        27\n",
              "PLANO             85\n",
              "PLANO/COROA       10\n",
              "SEGURO             2\n",
              "Name: Processo, dtype: int64"
            ]
          },
          "metadata": {},
          "execution_count": 35
        }
      ]
    },
    {
      "cell_type": "code",
      "source": [
        "yticks = [x for x in range(0, 100, 4)]"
      ],
      "metadata": {
        "id": "RIkAe7uymW8j"
      },
      "execution_count": null,
      "outputs": []
    },
    {
      "cell_type": "code",
      "execution_count": null,
      "metadata": {
        "colab": {
          "base_uri": "https://localhost:8080/"
        },
        "id": "Ve5wHUOr5VKI",
        "outputId": "80c67023-6b95-48a0-8f3f-1d820c16cc17"
      },
      "outputs": [
        {
          "output_type": "display_data",
          "data": {
            "text/plain": [
              "<Figure size 720x432 with 1 Axes>"
            ],
            "image/png": "[encoded data removed]"
          },
          "metadata": {
            "needs_background": "light"
          }
        }
      ],
      "source": [
        "plt.figure(figsize=(10, 6))\n",
        "plt.bar(x, y, width=1)\n",
        "plt.title('Quantidade de Atendimentos por Categoria', size=25)\n",
        "plt.xlabel('Categoria', size=20)\n",
        "plt.ylabel('Quantidade', size=20)\n",
        "plt.xticks(rotation=90)\n",
        "plt.yticks(yticks)\n",
        "plt.grid()\n",
        "plt.show()"
      ]
    },
    {
      "cell_type": "markdown",
      "metadata": {
        "id": "5CrcdriV9Pt0"
      },
      "source": [
        "# **Question 3: Qual foi o produto mais vendido?**"
      ]
    },
    {
      "cell_type": "code",
      "execution_count": null,
      "metadata": {
        "colab": {
          "base_uri": "https://localhost:8080/",
          "height": 206
        },
        "id": "p6L5MU9m_S8S",
        "outputId": "7c05f36d-be82-4ac3-fddc-689ca84f83ab"
      },
      "outputs": [
        {
          "output_type": "execute_result",
          "data": {
            "text/plain": [
              "        Data  Processo    Categoria            Vendas  Requerimento  \\\n",
              "0 2022-09-01       352  PLANO/COROA               nan        3110.0   \n",
              "1 2022-09-02       353        PLANO  TANATO, 2 COROAS        2900.0   \n",
              "2 2022-09-03       354   PARTICULAR          E, COROA           0.0   \n",
              "3 2022-09-03       355        PLANO             COROA        3110.0   \n",
              "4 2022-09-03       356        PLANO               nan        2900.0   \n",
              "\n",
              "   Total Vendas Mês Dia  \n",
              "0           0.0  09  01  \n",
              "1        1460.0  09  02  \n",
              "2        3270.0  09  03  \n",
              "3         280.0  09  03  \n",
              "4           0.0  09  03  "
            ],
            "text/html": [
              "\n",
              "  <div id=\"df-1d4a64b7-e08a-43d2-ac83-cc16eb298065\">\n",
              "    <div class=\"colab-df-container\">\n",
              "      <div>\n",
              "<style scoped>\n",
              "    .dataframe tbody tr th:only-of-type {\n",
              "        vertical-align: middle;\n",
              "    }\n",
              "\n",
              "    .dataframe tbody tr th {\n",
              "        vertical-align: top;\n",
              "    }\n",
              "\n",
              "    .dataframe thead th {\n",
              "        text-align: right;\n",
              "    }\n",
              "</style>\n",
              "<table border=\"1\" class=\"dataframe\">\n",
              "  <thead>\n",
              "    <tr style=\"text-align: right;\">\n",
              "      <th></th>\n",
              "      <th>Data</th>\n",
              "      <th>Processo</th>\n",
              "      <th>Categoria</th>\n",
              "      <th>Vendas</th>\n",
              "      <th>Requerimento</th>\n",
              "      <th>Total Vendas</th>\n",
              "      <th>Mês</th>\n",
              "      <th>Dia</th>\n",
              "    </tr>\n",
              "  </thead>\n",
              "  <tbody>\n",
              "    <tr>\n",
              "      <th>0</th>\n",
              "      <td>2022-09-01</td>\n",
              "      <td>352</td>\n",
              "      <td>PLANO/COROA</td>\n",
              "      <td>nan</td>\n",
              "      <td>3110.0</td>\n",
              "      <td>0.0</td>\n",
              "      <td>09</td>\n",
              "      <td>01</td>\n",
              "    </tr>\n",
              "    <tr>\n",
              "      <th>1</th>\n",
              "      <td>2022-09-02</td>\n",
              "      <td>353</td>\n",
              "      <td>PLANO</td>\n",
              "      <td>TANATO, 2 COROAS</td>\n",
              "      <td>2900.0</td>\n",
              "      <td>1460.0</td>\n",
              "      <td>09</td>\n",
              "      <td>02</td>\n",
              "    </tr>\n",
              "    <tr>\n",
              "      <th>2</th>\n",
              "      <td>2022-09-03</td>\n",
              "      <td>354</td>\n",
              "      <td>PARTICULAR</td>\n",
              "      <td>E, COROA</td>\n",
              "      <td>0.0</td>\n",
              "      <td>3270.0</td>\n",
              "      <td>09</td>\n",
              "      <td>03</td>\n",
              "    </tr>\n",
              "    <tr>\n",
              "      <th>3</th>\n",
              "      <td>2022-09-03</td>\n",
              "      <td>355</td>\n",
              "      <td>PLANO</td>\n",
              "      <td>COROA</td>\n",
              "      <td>3110.0</td>\n",
              "      <td>280.0</td>\n",
              "      <td>09</td>\n",
              "      <td>03</td>\n",
              "    </tr>\n",
              "    <tr>\n",
              "      <th>4</th>\n",
              "      <td>2022-09-03</td>\n",
              "      <td>356</td>\n",
              "      <td>PLANO</td>\n",
              "      <td>nan</td>\n",
              "      <td>2900.0</td>\n",
              "      <td>0.0</td>\n",
              "      <td>09</td>\n",
              "      <td>03</td>\n",
              "    </tr>\n",
              "  </tbody>\n",
              "</table>\n",
              "</div>\n",
              "      <button class=\"colab-df-convert\" onclick=\"convertToInteractive('df-1d4a64b7-e08a-43d2-ac83-cc16eb298065')\"\n",
              "              title=\"Convert this dataframe to an interactive table.\"\n",
              "              style=\"display:none;\">\n",
              "        \n",
              "  <svg xmlns=\"http://www.w3.org/2000/svg\" height=\"24px\"viewBox=\"0 0 24 24\"\n",
              "       width=\"24px\">\n",
              "    <path d=\"M0 0h24v24H0V0z\" fill=\"none\"/>\n",
              "    <path d=\"M18.56 5.44l.94 2.06.94-2.06 2.06-.94-2.06-.94-.94-2.06-.94 2.06-2.06.94zm-11 1L8.5 8.5l.94-2.06 2.06-.94-2.06-.94L8.5 2.5l-.94 2.06-2.06.94zm10 10l.94 2.06.94-2.06 2.06-.94-2.06-.94-.94-2.06-.94 2.06-2.06.94z\"/><path d=\"M17.41 7.96l-1.37-1.37c-.4-.4-.92-.59-1.43-.59-.52 0-1.04.2-1.43.59L10.3 9.45l-7.72 7.72c-.78.78-.78 2.05 0 2.83L4 21.41c.39.39.9.59 1.41.59.51 0 1.02-.2 1.41-.59l7.78-7.78 2.81-2.81c.8-.78.8-2.07 0-2.86zM5.41 20L4 18.59l7.72-7.72 1.47 1.35L5.41 20z\"/>\n",
              "  </svg>\n",
              "      </button>\n",
              "      \n",
              "  <style>\n",
              "    .colab-df-container {\n",
              "      display:flex;\n",
              "      flex-wrap:wrap;\n",
              "      gap: 12px;\n",
              "    }\n",
              "\n",
              "    .colab-df-convert {\n",
              "      background-color: #E8F0FE;\n",
              "      border: none;\n",
              "      border-radius: 50%;\n",
              "      cursor: pointer;\n",
              "      display: none;\n",
              "      fill: #1967D2;\n",
              "      height: 32px;\n",
              "      padding: 0 0 0 0;\n",
              "      width: 32px;\n",
              "    }\n",
              "\n",
              "    .colab-df-convert:hover {\n",
              "      background-color: #E2EBFA;\n",
              "      box-shadow: 0px 1px 2px rgba(60, 64, 67, 0.3), 0px 1px 3px 1px rgba(60, 64, 67, 0.15);\n",
              "      fill: #174EA6;\n",
              "    }\n",
              "\n",
              "    [theme=dark] .colab-df-convert {\n",
              "      background-color: #3B4455;\n",
              "      fill: #D2E3FC;\n",
              "    }\n",
              "\n",
              "    [theme=dark] .colab-df-convert:hover {\n",
              "      background-color: #434B5C;\n",
              "      box-shadow: 0px 1px 3px 1px rgba(0, 0, 0, 0.15);\n",
              "      filter: drop-shadow(0px 1px 2px rgba(0, 0, 0, 0.3));\n",
              "      fill: #FFFFFF;\n",
              "    }\n",
              "  </style>\n",
              "\n",
              "      <script>\n",
              "        const buttonEl =\n",
              "          document.querySelector('#df-1d4a64b7-e08a-43d2-ac83-cc16eb298065 button.colab-df-convert');\n",
              "        buttonEl.style.display =\n",
              "          google.colab.kernel.accessAllowed ? 'block' : 'none';\n",
              "\n",
              "        async function convertToInteractive(key) {\n",
              "          const element = document.querySelector('#df-1d4a64b7-e08a-43d2-ac83-cc16eb298065');\n",
              "          const dataTable =\n",
              "            await google.colab.kernel.invokeFunction('convertToInteractive',\n",
              "                                                     [key], {});\n",
              "          if (!dataTable) return;\n",
              "\n",
              "          const docLinkHtml = 'Like what you see? Visit the ' +\n",
              "            '<a target=\"_blank\" href=https://colab.research.google.com/notebooks/data_table.ipynb>data table notebook</a>'\n",
              "            + ' to learn more about interactive tables.';\n",
              "          element.innerHTML = '';\n",
              "          dataTable['output_type'] = 'display_data';\n",
              "          await google.colab.output.renderOutput(dataTable, element);\n",
              "          const docLink = document.createElement('div');\n",
              "          docLink.innerHTML = docLinkHtml;\n",
              "          element.appendChild(docLink);\n",
              "        }\n",
              "      </script>\n",
              "    </div>\n",
              "  </div>\n",
              "  "
            ]
          },
          "metadata": {},
          "execution_count": 38
        }
      ],
      "source": [
        "df.head()"
      ]
    },
    {
      "cell_type": "markdown",
      "source": [
        "## **Task 10:** Filtrando os atendimentos onde o valor de vendas é diferente de \"nan\""
      ],
      "metadata": {
        "id": "x_z7aEtFPET6"
      }
    },
    {
      "cell_type": "code",
      "execution_count": null,
      "metadata": {
        "colab": {
          "base_uri": "https://localhost:8080/"
        },
        "id": "ouhVaF6h9VBl",
        "outputId": "24d2daab-4947-4d0f-c164-ee2f7c5e26e7"
      },
      "outputs": [
        {
          "output_type": "execute_result",
          "data": {
            "text/plain": [
              "             Vendas\n",
              "1  TANATO, 2 COROAS\n",
              "2          E, COROA\n",
              "3             COROA\n",
              "5          C, COROA\n",
              "6             COROA"
            ],
            "text/html": [
              "\n",
              "  <div id=\"df-636f23ae-79e9-4c8f-ade2-abf700fd6095\">\n",
              "    <div class=\"colab-df-container\">\n",
              "      <div>\n",
              "<style scoped>\n",
              "    .dataframe tbody tr th:only-of-type {\n",
              "        vertical-align: middle;\n",
              "    }\n",
              "\n",
              "    .dataframe tbody tr th {\n",
              "        vertical-align: top;\n",
              "    }\n",
              "\n",
              "    .dataframe thead th {\n",
              "        text-align: right;\n",
              "    }\n",
              "</style>\n",
              "<table border=\"1\" class=\"dataframe\">\n",
              "  <thead>\n",
              "    <tr style=\"text-align: right;\">\n",
              "      <th></th>\n",
              "      <th>Vendas</th>\n",
              "    </tr>\n",
              "  </thead>\n",
              "  <tbody>\n",
              "    <tr>\n",
              "      <th>1</th>\n",
              "      <td>TANATO, 2 COROAS</td>\n",
              "    </tr>\n",
              "    <tr>\n",
              "      <th>2</th>\n",
              "      <td>E, COROA</td>\n",
              "    </tr>\n",
              "    <tr>\n",
              "      <th>3</th>\n",
              "      <td>COROA</td>\n",
              "    </tr>\n",
              "    <tr>\n",
              "      <th>5</th>\n",
              "      <td>C, COROA</td>\n",
              "    </tr>\n",
              "    <tr>\n",
              "      <th>6</th>\n",
              "      <td>COROA</td>\n",
              "    </tr>\n",
              "  </tbody>\n",
              "</table>\n",
              "</div>\n",
              "      <button class=\"colab-df-convert\" onclick=\"convertToInteractive('df-636f23ae-79e9-4c8f-ade2-abf700fd6095')\"\n",
              "              title=\"Convert this dataframe to an interactive table.\"\n",
              "              style=\"display:none;\">\n",
              "        \n",
              "  <svg xmlns=\"http://www.w3.org/2000/svg\" height=\"24px\"viewBox=\"0 0 24 24\"\n",
              "       width=\"24px\">\n",
              "    <path d=\"M0 0h24v24H0V0z\" fill=\"none\"/>\n",
              "    <path d=\"M18.56 5.44l.94 2.06.94-2.06 2.06-.94-2.06-.94-.94-2.06-.94 2.06-2.06.94zm-11 1L8.5 8.5l.94-2.06 2.06-.94-2.06-.94L8.5 2.5l-.94 2.06-2.06.94zm10 10l.94 2.06.94-2.06 2.06-.94-2.06-.94-.94-2.06-.94 2.06-2.06.94z\"/><path d=\"M17.41 7.96l-1.37-1.37c-.4-.4-.92-.59-1.43-.59-.52 0-1.04.2-1.43.59L10.3 9.45l-7.72 7.72c-.78.78-.78 2.05 0 2.83L4 21.41c.39.39.9.59 1.41.59.51 0 1.02-.2 1.41-.59l7.78-7.78 2.81-2.81c.8-.78.8-2.07 0-2.86zM5.41 20L4 18.59l7.72-7.72 1.47 1.35L5.41 20z\"/>\n",
              "  </svg>\n",
              "      </button>\n",
              "      \n",
              "  <style>\n",
              "    .colab-df-container {\n",
              "      display:flex;\n",
              "      flex-wrap:wrap;\n",
              "      gap: 12px;\n",
              "    }\n",
              "\n",
              "    .colab-df-convert {\n",
              "      background-color: #E8F0FE;\n",
              "      border: none;\n",
              "      border-radius: 50%;\n",
              "      cursor: pointer;\n",
              "      display: none;\n",
              "      fill: #1967D2;\n",
              "      height: 32px;\n",
              "      padding: 0 0 0 0;\n",
              "      width: 32px;\n",
              "    }\n",
              "\n",
              "    .colab-df-convert:hover {\n",
              "      background-color: #E2EBFA;\n",
              "      box-shadow: 0px 1px 2px rgba(60, 64, 67, 0.3), 0px 1px 3px 1px rgba(60, 64, 67, 0.15);\n",
              "      fill: #174EA6;\n",
              "    }\n",
              "\n",
              "    [theme=dark] .colab-df-convert {\n",
              "      background-color: #3B4455;\n",
              "      fill: #D2E3FC;\n",
              "    }\n",
              "\n",
              "    [theme=dark] .colab-df-convert:hover {\n",
              "      background-color: #434B5C;\n",
              "      box-shadow: 0px 1px 3px 1px rgba(0, 0, 0, 0.15);\n",
              "      filter: drop-shadow(0px 1px 2px rgba(0, 0, 0, 0.3));\n",
              "      fill: #FFFFFF;\n",
              "    }\n",
              "  </style>\n",
              "\n",
              "      <script>\n",
              "        const buttonEl =\n",
              "          document.querySelector('#df-636f23ae-79e9-4c8f-ade2-abf700fd6095 button.colab-df-convert');\n",
              "        buttonEl.style.display =\n",
              "          google.colab.kernel.accessAllowed ? 'block' : 'none';\n",
              "\n",
              "        async function convertToInteractive(key) {\n",
              "          const element = document.querySelector('#df-636f23ae-79e9-4c8f-ade2-abf700fd6095');\n",
              "          const dataTable =\n",
              "            await google.colab.kernel.invokeFunction('convertToInteractive',\n",
              "                                                     [key], {});\n",
              "          if (!dataTable) return;\n",
              "\n",
              "          const docLinkHtml = 'Like what you see? Visit the ' +\n",
              "            '<a target=\"_blank\" href=https://colab.research.google.com/notebooks/data_table.ipynb>data table notebook</a>'\n",
              "            + ' to learn more about interactive tables.';\n",
              "          element.innerHTML = '';\n",
              "          dataTable['output_type'] = 'display_data';\n",
              "          await google.colab.output.renderOutput(dataTable, element);\n",
              "          const docLink = document.createElement('div');\n",
              "          docLink.innerHTML = docLinkHtml;\n",
              "          element.appendChild(docLink);\n",
              "        }\n",
              "      </script>\n",
              "    </div>\n",
              "  </div>\n",
              "  "
            ]
          },
          "metadata": {},
          "execution_count": 39
        }
      ],
      "source": [
        "produtos = df.loc[df['Vendas'] != 'nan', ['Vendas']]\n",
        "produtos.head()\n"
      ]
    },
    {
      "cell_type": "code",
      "source": [
        "produtos.info()"
      ],
      "metadata": {
        "colab": {
          "base_uri": "https://localhost:8080/"
        },
        "id": "b8jSFmD4PS4j",
        "outputId": "97dd71f0-c937-467a-9023-1e985f9dddd0"
      },
      "execution_count": null,
      "outputs": [
        {
          "output_type": "stream",
          "name": "stdout",
          "text": [
            "<class 'pandas.core.frame.DataFrame'>\n",
            "Int64Index: 89 entries, 1 to 131\n",
            "Data columns (total 1 columns):\n",
            " #   Column  Non-Null Count  Dtype \n",
            "---  ------  --------------  ----- \n",
            " 0   Vendas  89 non-null     object\n",
            "dtypes: object(1)\n",
            "memory usage: 1.4+ KB\n"
          ]
        }
      ]
    },
    {
      "cell_type": "markdown",
      "source": [
        "## **Task 11:** Separando cada valor de vendas individualmente"
      ],
      "metadata": {
        "id": "l6mZg5HBPqy9"
      }
    },
    {
      "cell_type": "code",
      "execution_count": null,
      "metadata": {
        "id": "ZRWPn3QDI-AX"
      },
      "outputs": [],
      "source": [
        "a = produtos['Vendas'].str.split(',').str[0]\n",
        "b = produtos['Vendas'].str.split(',').str[1]\n",
        "c = produtos['Vendas'].str.split(',').str[2]\n",
        "d = produtos['Vendas'].str.split(',').str[3]"
      ]
    },
    {
      "cell_type": "markdown",
      "source": [
        "## **Task 12:** Removendo as vírgulas"
      ],
      "metadata": {
        "id": "Fi8MpYS8VA9e"
      }
    },
    {
      "cell_type": "code",
      "execution_count": null,
      "metadata": {
        "id": "Z0vRjgS0RXxz"
      },
      "outputs": [],
      "source": [
        "a = a.apply(lambda x: x.replace(',', ''))\n",
        "b = b.apply(lambda x: str(x).replace(',', ''))\n",
        "c = c.apply(lambda x: str(x).replace(',', ''))\n",
        "d = d.apply(lambda x: str(x).replace(',', ''))"
      ]
    },
    {
      "cell_type": "markdown",
      "source": [
        "## **Task 13:** Removendo os espaços para que o pandas não interprete como valores diferentes."
      ],
      "metadata": {
        "id": "I_Lctw0eVKZV"
      }
    },
    {
      "cell_type": "code",
      "source": [
        "a = a.apply(lambda x: x.replace(' ', ''))\n",
        "b = b.apply(lambda x: str(x).replace(' ', ''))\n",
        "c = c.apply(lambda x: str(x).replace(' ', ''))\n",
        "d = d.apply(lambda x: str(x).replace(' ', ''))"
      ],
      "metadata": {
        "id": "KcMGJCTKRXzW"
      },
      "execution_count": null,
      "outputs": []
    },
    {
      "cell_type": "markdown",
      "source": [
        "## **Task 14:** Excluindo valores núlos."
      ],
      "metadata": {
        "id": "d5jeq_LTPwSg"
      }
    },
    {
      "cell_type": "code",
      "execution_count": null,
      "metadata": {
        "id": "cTNQNhC0TeXt"
      },
      "outputs": [],
      "source": [
        "b = b.dropna()\n",
        "c = c.dropna()\n",
        "d = d.dropna()"
      ]
    },
    {
      "cell_type": "code",
      "execution_count": null,
      "metadata": {
        "id": "F-mawvgVT-8-"
      },
      "outputs": [],
      "source": [
        "total = pd.concat([a.iloc[0::], b.iloc[0::], c.iloc[0::], d.iloc[0::]], axis=0)\n",
        "total = total.loc[total != 'nan']"
      ]
    },
    {
      "cell_type": "code",
      "source": [
        "total = total.value_counts()"
      ],
      "metadata": {
        "id": "HsJpA8zwQZdZ"
      },
      "execution_count": null,
      "outputs": []
    },
    {
      "cell_type": "code",
      "source": [
        "total.head()"
      ],
      "metadata": {
        "colab": {
          "base_uri": "https://localhost:8080/"
        },
        "id": "JgHz_gChTYj8",
        "outputId": "d8791dc6-8fe5-4ab3-fc10-ec2e6effec06"
      },
      "execution_count": null,
      "outputs": [
        {
          "output_type": "execute_result",
          "data": {
            "text/plain": [
              "COROA     51\n",
              "TANATO    37\n",
              "C         13\n",
              "KM        10\n",
              "D          8\n",
              "Name: Vendas, dtype: int64"
            ]
          },
          "metadata": {},
          "execution_count": 47
        }
      ]
    },
    {
      "cell_type": "code",
      "source": [
        "total.to_excel('vendas_individuais.xlsx')"
      ],
      "metadata": {
        "id": "cQSF2yUKiaoV"
      },
      "execution_count": null,
      "outputs": []
    },
    {
      "cell_type": "markdown",
      "source": [
        "## **Task 15:** Definindo os valores X e Y para plotar o g´rafico"
      ],
      "metadata": {
        "id": "I0So-J2ju1bl"
      }
    },
    {
      "cell_type": "code",
      "execution_count": null,
      "metadata": {
        "id": "4DPfE_QHYAXt"
      },
      "outputs": [],
      "source": [
        "x = total.index\n",
        "y = total"
      ]
    },
    {
      "cell_type": "code",
      "source": [
        "yticks = [x for x in range(0, 70, 2)]"
      ],
      "metadata": {
        "id": "Ukogt7r_TIQD"
      },
      "execution_count": null,
      "outputs": []
    },
    {
      "cell_type": "code",
      "execution_count": null,
      "metadata": {
        "colab": {
          "base_uri": "https://localhost:8080/"
        },
        "id": "JPzfb7goXikT",
        "outputId": "67577a65-3f2e-4499-a062-db0bb4d4e229"
      },
      "outputs": [
        {
          "output_type": "display_data",
          "data": {
            "text/plain": [
              "<Figure size 720x432 with 1 Axes>"
            ],
            "image/png": "[encoded data removed]"
          },
          "metadata": {
            "needs_background": "light"
          }
        }
      ],
      "source": [
        "plt.figure(figsize=(10, 6))\n",
        "plt.bar(x, y)\n",
        "plt.title('Produtos Vendidos nos Últimos 4 Meses', size=25)\n",
        "plt.ylabel('Quantidade Vendida', size=15)\n",
        "plt.xlabel('Produtos', size=15)\n",
        "plt.yticks(yticks)\n",
        "plt.xticks(rotation=90)\n",
        "plt.grid()\n",
        "plt.show()"
      ]
    },
    {
      "cell_type": "markdown",
      "source": [
        "## Conclusão:\n"
      ],
      "metadata": {
        "id": "R4kRo1YoTuyv"
      }
    },
    {
      "cell_type": "code",
      "source": [
        "produtos_periodo = pd.DataFrame(total)\n",
        "produtos_periodo.T"
      ],
      "metadata": {
        "colab": {
          "base_uri": "https://localhost:8080/"
        },
        "id": "V61g6SB4USuy",
        "outputId": "82c55ddd-cbb2-4ce3-98c4-983e281ecd5e"
      },
      "execution_count": null,
      "outputs": [
        {
          "output_type": "execute_result",
          "data": {
            "text/plain": [
              "        COROA  TANATO   C  KM  D  2COROAS  E  G  CREMAÇÃO  H  ...  VESTESMASC  \\\n",
              "Vendas     51      37  13  10  8        7  6  4         3  3  ...           2   \n",
              "\n",
              "        FC  B  T  TXSEP  F  FE  I  VESTESFEM  ORN.ROSAS  \n",
              "Vendas   2  2  2      2  1   1  1          1          1  \n",
              "\n",
              "[1 rows x 21 columns]"
            ],
            "text/html": [
              "\n",
              "  <div id=\"df-6ef10458-9c71-4649-a95d-91cd555e1884\">\n",
              "    <div class=\"colab-df-container\">\n",
              "      <div>\n",
              "<style scoped>\n",
              "    .dataframe tbody tr th:only-of-type {\n",
              "        vertical-align: middle;\n",
              "    }\n",
              "\n",
              "    .dataframe tbody tr th {\n",
              "        vertical-align: top;\n",
              "    }\n",
              "\n",
              "    .dataframe thead th {\n",
              "        text-align: right;\n",
              "    }\n",
              "</style>\n",
              "<table border=\"1\" class=\"dataframe\">\n",
              "  <thead>\n",
              "    <tr style=\"text-align: right;\">\n",
              "      <th></th>\n",
              "      <th>COROA</th>\n",
              "      <th>TANATO</th>\n",
              "      <th>C</th>\n",
              "      <th>KM</th>\n",
              "      <th>D</th>\n",
              "      <th>2COROAS</th>\n",
              "      <th>E</th>\n",
              "      <th>G</th>\n",
              "      <th>CREMAÇÃO</th>\n",
              "      <th>H</th>\n",
              "      <th>...</th>\n",
              "      <th>VESTESMASC</th>\n",
              "      <th>FC</th>\n",
              "      <th>B</th>\n",
              "      <th>T</th>\n",
              "      <th>TXSEP</th>\n",
              "      <th>F</th>\n",
              "      <th>FE</th>\n",
              "      <th>I</th>\n",
              "      <th>VESTESFEM</th>\n",
              "      <th>ORN.ROSAS</th>\n",
              "    </tr>\n",
              "  </thead>\n",
              "  <tbody>\n",
              "    <tr>\n",
              "      <th>Vendas</th>\n",
              "      <td>51</td>\n",
              "      <td>37</td>\n",
              "      <td>13</td>\n",
              "      <td>10</td>\n",
              "      <td>8</td>\n",
              "      <td>7</td>\n",
              "      <td>6</td>\n",
              "      <td>4</td>\n",
              "      <td>3</td>\n",
              "      <td>3</td>\n",
              "      <td>...</td>\n",
              "      <td>2</td>\n",
              "      <td>2</td>\n",
              "      <td>2</td>\n",
              "      <td>2</td>\n",
              "      <td>2</td>\n",
              "      <td>1</td>\n",
              "      <td>1</td>\n",
              "      <td>1</td>\n",
              "      <td>1</td>\n",
              "      <td>1</td>\n",
              "    </tr>\n",
              "  </tbody>\n",
              "</table>\n",
              "<p>1 rows × 21 columns</p>\n",
              "</div>\n",
              "      <button class=\"colab-df-convert\" onclick=\"convertToInteractive('df-6ef10458-9c71-4649-a95d-91cd555e1884')\"\n",
              "              title=\"Convert this dataframe to an interactive table.\"\n",
              "              style=\"display:none;\">\n",
              "        \n",
              "  <svg xmlns=\"http://www.w3.org/2000/svg\" height=\"24px\"viewBox=\"0 0 24 24\"\n",
              "       width=\"24px\">\n",
              "    <path d=\"M0 0h24v24H0V0z\" fill=\"none\"/>\n",
              "    <path d=\"M18.56 5.44l.94 2.06.94-2.06 2.06-.94-2.06-.94-.94-2.06-.94 2.06-2.06.94zm-11 1L8.5 8.5l.94-2.06 2.06-.94-2.06-.94L8.5 2.5l-.94 2.06-2.06.94zm10 10l.94 2.06.94-2.06 2.06-.94-2.06-.94-.94-2.06-.94 2.06-2.06.94z\"/><path d=\"M17.41 7.96l-1.37-1.37c-.4-.4-.92-.59-1.43-.59-.52 0-1.04.2-1.43.59L10.3 9.45l-7.72 7.72c-.78.78-.78 2.05 0 2.83L4 21.41c.39.39.9.59 1.41.59.51 0 1.02-.2 1.41-.59l7.78-7.78 2.81-2.81c.8-.78.8-2.07 0-2.86zM5.41 20L4 18.59l7.72-7.72 1.47 1.35L5.41 20z\"/>\n",
              "  </svg>\n",
              "      </button>\n",
              "      \n",
              "  <style>\n",
              "    .colab-df-container {\n",
              "      display:flex;\n",
              "      flex-wrap:wrap;\n",
              "      gap: 12px;\n",
              "    }\n",
              "\n",
              "    .colab-df-convert {\n",
              "      background-color: #E8F0FE;\n",
              "      border: none;\n",
              "      border-radius: 50%;\n",
              "      cursor: pointer;\n",
              "      display: none;\n",
              "      fill: #1967D2;\n",
              "      height: 32px;\n",
              "      padding: 0 0 0 0;\n",
              "      width: 32px;\n",
              "    }\n",
              "\n",
              "    .colab-df-convert:hover {\n",
              "      background-color: #E2EBFA;\n",
              "      box-shadow: 0px 1px 2px rgba(60, 64, 67, 0.3), 0px 1px 3px 1px rgba(60, 64, 67, 0.15);\n",
              "      fill: #174EA6;\n",
              "    }\n",
              "\n",
              "    [theme=dark] .colab-df-convert {\n",
              "      background-color: #3B4455;\n",
              "      fill: #D2E3FC;\n",
              "    }\n",
              "\n",
              "    [theme=dark] .colab-df-convert:hover {\n",
              "      background-color: #434B5C;\n",
              "      box-shadow: 0px 1px 3px 1px rgba(0, 0, 0, 0.15);\n",
              "      filter: drop-shadow(0px 1px 2px rgba(0, 0, 0, 0.3));\n",
              "      fill: #FFFFFF;\n",
              "    }\n",
              "  </style>\n",
              "\n",
              "      <script>\n",
              "        const buttonEl =\n",
              "          document.querySelector('#df-6ef10458-9c71-4649-a95d-91cd555e1884 button.colab-df-convert');\n",
              "        buttonEl.style.display =\n",
              "          google.colab.kernel.accessAllowed ? 'block' : 'none';\n",
              "\n",
              "        async function convertToInteractive(key) {\n",
              "          const element = document.querySelector('#df-6ef10458-9c71-4649-a95d-91cd555e1884');\n",
              "          const dataTable =\n",
              "            await google.colab.kernel.invokeFunction('convertToInteractive',\n",
              "                                                     [key], {});\n",
              "          if (!dataTable) return;\n",
              "\n",
              "          const docLinkHtml = 'Like what you see? Visit the ' +\n",
              "            '<a target=\"_blank\" href=https://colab.research.google.com/notebooks/data_table.ipynb>data table notebook</a>'\n",
              "            + ' to learn more about interactive tables.';\n",
              "          element.innerHTML = '';\n",
              "          dataTable['output_type'] = 'display_data';\n",
              "          await google.colab.output.renderOutput(dataTable, element);\n",
              "          const docLink = document.createElement('div');\n",
              "          docLink.innerHTML = docLinkHtml;\n",
              "          element.appendChild(docLink);\n",
              "        }\n",
              "      </script>\n",
              "    </div>\n",
              "  </div>\n",
              "  "
            ]
          },
          "metadata": {},
          "execution_count": 51
        }
      ]
    },
    {
      "cell_type": "code",
      "source": [
        "coroas_plano = df.loc[df['Categoria'] == 'PLANO/COROA'].count()\n",
        "coroas_plano['Processo']"
      ],
      "metadata": {
        "colab": {
          "base_uri": "https://localhost:8080/"
        },
        "id": "SwUUf2PnUZ8n",
        "outputId": "7c698137-dbd5-4467-f8b8-145b01285f68"
      },
      "execution_count": null,
      "outputs": [
        {
          "output_type": "execute_result",
          "data": {
            "text/plain": [
              "10"
            ]
          },
          "metadata": {},
          "execution_count": 52
        }
      ]
    },
    {
      "cell_type": "markdown",
      "source": [
        "* Foram utilizadas 11 coroas a parte nos atendimentos do plano"
      ],
      "metadata": {
        "id": "YHT-VVUDUyG5"
      }
    },
    {
      "cell_type": "markdown",
      "source": [
        "# **Question 4: Qual foi a Média de cada produto?**"
      ],
      "metadata": {
        "id": "vAcbX8_cn6jP"
      }
    },
    {
      "cell_type": "markdown",
      "source": [
        "## **Task 16:** Filtrar as colunas Vendas e Total Vendas"
      ],
      "metadata": {
        "id": "qgJWjj-2vATR"
      }
    },
    {
      "cell_type": "code",
      "source": [
        "media_produtos = df.loc[df['Vendas'] != 'nan', ['Vendas', 'Total Vendas']]\n",
        "media_produtos.head()"
      ],
      "metadata": {
        "colab": {
          "base_uri": "https://localhost:8080/"
        },
        "id": "_pmqTTyYqvwc",
        "outputId": "72220512-47ee-4b02-aec4-c9e2dbef7958"
      },
      "execution_count": null,
      "outputs": [
        {
          "output_type": "execute_result",
          "data": {
            "text/plain": [
              "             Vendas  Total Vendas\n",
              "1  TANATO, 2 COROAS        1460.0\n",
              "2          E, COROA        3270.0\n",
              "3             COROA         280.0\n",
              "5          C, COROA        2580.0\n",
              "6             COROA         280.0"
            ],
            "text/html": [
              "\n",
              "  <div id=\"df-dd386b42-d6b0-42c9-8874-408b3ce410d2\">\n",
              "    <div class=\"colab-df-container\">\n",
              "      <div>\n",
              "<style scoped>\n",
              "    .dataframe tbody tr th:only-of-type {\n",
              "        vertical-align: middle;\n",
              "    }\n",
              "\n",
              "    .dataframe tbody tr th {\n",
              "        vertical-align: top;\n",
              "    }\n",
              "\n",
              "    .dataframe thead th {\n",
              "        text-align: right;\n",
              "    }\n",
              "</style>\n",
              "<table border=\"1\" class=\"dataframe\">\n",
              "  <thead>\n",
              "    <tr style=\"text-align: right;\">\n",
              "      <th></th>\n",
              "      <th>Vendas</th>\n",
              "      <th>Total Vendas</th>\n",
              "    </tr>\n",
              "  </thead>\n",
              "  <tbody>\n",
              "    <tr>\n",
              "      <th>1</th>\n",
              "      <td>TANATO, 2 COROAS</td>\n",
              "      <td>1460.0</td>\n",
              "    </tr>\n",
              "    <tr>\n",
              "      <th>2</th>\n",
              "      <td>E, COROA</td>\n",
              "      <td>3270.0</td>\n",
              "    </tr>\n",
              "    <tr>\n",
              "      <th>3</th>\n",
              "      <td>COROA</td>\n",
              "      <td>280.0</td>\n",
              "    </tr>\n",
              "    <tr>\n",
              "      <th>5</th>\n",
              "      <td>C, COROA</td>\n",
              "      <td>2580.0</td>\n",
              "    </tr>\n",
              "    <tr>\n",
              "      <th>6</th>\n",
              "      <td>COROA</td>\n",
              "      <td>280.0</td>\n",
              "    </tr>\n",
              "  </tbody>\n",
              "</table>\n",
              "</div>\n",
              "      <button class=\"colab-df-convert\" onclick=\"convertToInteractive('df-dd386b42-d6b0-42c9-8874-408b3ce410d2')\"\n",
              "              title=\"Convert this dataframe to an interactive table.\"\n",
              "              style=\"display:none;\">\n",
              "        \n",
              "  <svg xmlns=\"http://www.w3.org/2000/svg\" height=\"24px\"viewBox=\"0 0 24 24\"\n",
              "       width=\"24px\">\n",
              "    <path d=\"M0 0h24v24H0V0z\" fill=\"none\"/>\n",
              "    <path d=\"M18.56 5.44l.94 2.06.94-2.06 2.06-.94-2.06-.94-.94-2.06-.94 2.06-2.06.94zm-11 1L8.5 8.5l.94-2.06 2.06-.94-2.06-.94L8.5 2.5l-.94 2.06-2.06.94zm10 10l.94 2.06.94-2.06 2.06-.94-2.06-.94-.94-2.06-.94 2.06-2.06.94z\"/><path d=\"M17.41 7.96l-1.37-1.37c-.4-.4-.92-.59-1.43-.59-.52 0-1.04.2-1.43.59L10.3 9.45l-7.72 7.72c-.78.78-.78 2.05 0 2.83L4 21.41c.39.39.9.59 1.41.59.51 0 1.02-.2 1.41-.59l7.78-7.78 2.81-2.81c.8-.78.8-2.07 0-2.86zM5.41 20L4 18.59l7.72-7.72 1.47 1.35L5.41 20z\"/>\n",
              "  </svg>\n",
              "      </button>\n",
              "      \n",
              "  <style>\n",
              "    .colab-df-container {\n",
              "      display:flex;\n",
              "      flex-wrap:wrap;\n",
              "      gap: 12px;\n",
              "    }\n",
              "\n",
              "    .colab-df-convert {\n",
              "      background-color: #E8F0FE;\n",
              "      border: none;\n",
              "      border-radius: 50%;\n",
              "      cursor: pointer;\n",
              "      display: none;\n",
              "      fill: #1967D2;\n",
              "      height: 32px;\n",
              "      padding: 0 0 0 0;\n",
              "      width: 32px;\n",
              "    }\n",
              "\n",
              "    .colab-df-convert:hover {\n",
              "      background-color: #E2EBFA;\n",
              "      box-shadow: 0px 1px 2px rgba(60, 64, 67, 0.3), 0px 1px 3px 1px rgba(60, 64, 67, 0.15);\n",
              "      fill: #174EA6;\n",
              "    }\n",
              "\n",
              "    [theme=dark] .colab-df-convert {\n",
              "      background-color: #3B4455;\n",
              "      fill: #D2E3FC;\n",
              "    }\n",
              "\n",
              "    [theme=dark] .colab-df-convert:hover {\n",
              "      background-color: #434B5C;\n",
              "      box-shadow: 0px 1px 3px 1px rgba(0, 0, 0, 0.15);\n",
              "      filter: drop-shadow(0px 1px 2px rgba(0, 0, 0, 0.3));\n",
              "      fill: #FFFFFF;\n",
              "    }\n",
              "  </style>\n",
              "\n",
              "      <script>\n",
              "        const buttonEl =\n",
              "          document.querySelector('#df-dd386b42-d6b0-42c9-8874-408b3ce410d2 button.colab-df-convert');\n",
              "        buttonEl.style.display =\n",
              "          google.colab.kernel.accessAllowed ? 'block' : 'none';\n",
              "\n",
              "        async function convertToInteractive(key) {\n",
              "          const element = document.querySelector('#df-dd386b42-d6b0-42c9-8874-408b3ce410d2');\n",
              "          const dataTable =\n",
              "            await google.colab.kernel.invokeFunction('convertToInteractive',\n",
              "                                                     [key], {});\n",
              "          if (!dataTable) return;\n",
              "\n",
              "          const docLinkHtml = 'Like what you see? Visit the ' +\n",
              "            '<a target=\"_blank\" href=https://colab.research.google.com/notebooks/data_table.ipynb>data table notebook</a>'\n",
              "            + ' to learn more about interactive tables.';\n",
              "          element.innerHTML = '';\n",
              "          dataTable['output_type'] = 'display_data';\n",
              "          await google.colab.output.renderOutput(dataTable, element);\n",
              "          const docLink = document.createElement('div');\n",
              "          docLink.innerHTML = docLinkHtml;\n",
              "          element.appendChild(docLink);\n",
              "        }\n",
              "      </script>\n",
              "    </div>\n",
              "  </div>\n",
              "  "
            ]
          },
          "metadata": {},
          "execution_count": 53
        }
      ]
    },
    {
      "cell_type": "markdown",
      "source": [
        "## **Task 17:** Calculando a média "
      ],
      "metadata": {
        "id": "4nMohFvDfUoX"
      }
    },
    {
      "cell_type": "code",
      "source": [
        "a = media_produtos.groupby(media_produtos['Vendas']).sum()"
      ],
      "metadata": {
        "id": "kN_-SqFoB4Je"
      },
      "execution_count": null,
      "outputs": []
    },
    {
      "cell_type": "code",
      "source": [
        "a['Quantidade'] = media_produtos.groupby(media_produtos['Vendas']).count()"
      ],
      "metadata": {
        "id": "VF3iE0fDDWL7"
      },
      "execution_count": null,
      "outputs": []
    },
    {
      "cell_type": "code",
      "source": [
        "a.info()"
      ],
      "metadata": {
        "colab": {
          "base_uri": "https://localhost:8080/"
        },
        "id": "jPC2YAlkDXqz",
        "outputId": "8e01e37b-28fa-4a2c-d299-6d73125556c1"
      },
      "execution_count": null,
      "outputs": [
        {
          "output_type": "stream",
          "name": "stdout",
          "text": [
            "<class 'pandas.core.frame.DataFrame'>\n",
            "Index: 44 entries, 2 COROAS to VESTES MASC, COROA\n",
            "Data columns (total 2 columns):\n",
            " #   Column        Non-Null Count  Dtype  \n",
            "---  ------        --------------  -----  \n",
            " 0   Total Vendas  44 non-null     float64\n",
            " 1   Quantidade    44 non-null     int64  \n",
            "dtypes: float64(1), int64(1)\n",
            "memory usage: 1.0+ KB\n"
          ]
        }
      ]
    },
    {
      "cell_type": "code",
      "source": [
        "a['Média de Valor'] = a['Total Vendas'] / a['Quantidade']\n",
        "a"
      ],
      "metadata": {
        "colab": {
          "base_uri": "https://localhost:8080/"
        },
        "id": "CFiNzQVNoFnM",
        "outputId": "e2af2396-dacc-4f26-b9a0-3d103b228989"
      },
      "execution_count": null,
      "outputs": [
        {
          "output_type": "execute_result",
          "data": {
            "text/plain": [
              "                               Total Vendas  Quantidade  Média de Valor\n",
              "Vendas                                                                 \n",
              "2 COROAS                              560.0           1           560.0\n",
              "B                                    1500.0           1          1500.0\n",
              "B, TANATO, TX SEP, 2 COROAS          4033.0           1          4033.0\n",
              "C                                   11350.0           5          2270.0\n",
              "C, COROA                             5160.0           2          2580.0\n",
              "C, CREMAÇÃO, TANATO, COROA           6910.0           1          6910.0\n",
              "C, KM                                2300.0           1          2300.0\n",
              "C, TANATO                            6080.0           2          3040.0\n",
              "C, TANATO, COROA                     7290.0           2          3645.0\n",
              "COMPLEMENTAÇÃO                        920.0           2           460.0\n",
              "COROA                                5600.0          20           280.0\n",
              "D                                    4260.0           2          2130.0\n",
              "D, 2 COROAS                          3260.0           1          3260.0\n",
              "D, COROA                             3220.0           1          3220.0\n",
              "D, CREMAÇÃO, 2 COROAS                7160.0           1          7160.0\n",
              "D, KM, COROA                         3980.0           1          3980.0\n",
              "D, TANATO, COROA                     7040.0           2          3520.0\n",
              "E, COROA                             3270.0           1          3270.0\n",
              "E, KM, COROA                         2480.0           1          2480.0\n",
              "E, ORN. ROSAS                        2250.0           1          2250.0\n",
              "E, TANATO                            6960.0           2          3480.0\n",
              "E, TANATO, 2 COROAS                  3075.0           1          3075.0\n",
              "F, COROA                             1640.0           1          1640.0\n",
              "FC                                   3700.0           1          3700.0\n",
              "FC, TANATO, TX SEP, 2 COROAS         5000.0           1          5000.0\n",
              "FE, KM, TANATO, COROA                6000.0           1          6000.0\n",
              "G                                    3300.0           2          1650.0\n",
              "G, COROA                             1780.0           1          1780.0\n",
              "G, TANATO                            2470.0           1          2470.0\n",
              "H, CREMAÇÃO, COROA                   7600.0           1          7600.0\n",
              "H, TANATO                            3450.0           1          3450.0\n",
              "H, VESTES MASC, TANATO, COROA        7500.0           1          7500.0\n",
              "I, TANATO, COROA                     5170.0           1          5170.0\n",
              "KM                                    370.0           1           370.0\n",
              "KM, TANATO                           3170.0           2          1585.0\n",
              "KM, TANATO, COROA                    2514.0           1          2514.0\n",
              "T                                    1500.0           1          1500.0\n",
              "T, KM                                2250.0           1          2250.0\n",
              "TANATO                               3600.0           4           900.0\n",
              "TANATO, 2 COROAS                     1460.0           1          1460.0\n",
              "TANATO, COROA                       12980.0          11          1180.0\n",
              "TANATO, KM, COROA                    1285.0           1          1285.0\n",
              "VESTES FEM                            250.0           1           250.0\n",
              "VESTES MASC, COROA                    530.0           1           530.0"
            ],
            "text/html": [
              "\n",
              "  <div id=\"df-ab0b84de-6b5e-4935-a501-dae890b41702\">\n",
              "    <div class=\"colab-df-container\">\n",
              "      <div>\n",
              "<style scoped>\n",
              "    .dataframe tbody tr th:only-of-type {\n",
              "        vertical-align: middle;\n",
              "    }\n",
              "\n",
              "    .dataframe tbody tr th {\n",
              "        vertical-align: top;\n",
              "    }\n",
              "\n",
              "    .dataframe thead th {\n",
              "        text-align: right;\n",
              "    }\n",
              "</style>\n",
              "<table border=\"1\" class=\"dataframe\">\n",
              "  <thead>\n",
              "    <tr style=\"text-align: right;\">\n",
              "      <th></th>\n",
              "      <th>Total Vendas</th>\n",
              "      <th>Quantidade</th>\n",
              "      <th>Média de Valor</th>\n",
              "    </tr>\n",
              "    <tr>\n",
              "      <th>Vendas</th>\n",
              "      <th></th>\n",
              "      <th></th>\n",
              "      <th></th>\n",
              "    </tr>\n",
              "  </thead>\n",
              "  <tbody>\n",
              "    <tr>\n",
              "      <th>2 COROAS</th>\n",
              "      <td>560.0</td>\n",
              "      <td>1</td>\n",
              "      <td>560.0</td>\n",
              "    </tr>\n",
              "    <tr>\n",
              "      <th>B</th>\n",
              "      <td>1500.0</td>\n",
              "      <td>1</td>\n",
              "      <td>1500.0</td>\n",
              "    </tr>\n",
              "    <tr>\n",
              "      <th>B, TANATO, TX SEP, 2 COROAS</th>\n",
              "      <td>4033.0</td>\n",
              "      <td>1</td>\n",
              "      <td>4033.0</td>\n",
              "    </tr>\n",
              "    <tr>\n",
              "      <th>C</th>\n",
              "      <td>11350.0</td>\n",
              "      <td>5</td>\n",
              "      <td>2270.0</td>\n",
              "    </tr>\n",
              "    <tr>\n",
              "      <th>C, COROA</th>\n",
              "      <td>5160.0</td>\n",
              "      <td>2</td>\n",
              "      <td>2580.0</td>\n",
              "    </tr>\n",
              "    <tr>\n",
              "      <th>C, CREMAÇÃO, TANATO, COROA</th>\n",
              "      <td>6910.0</td>\n",
              "      <td>1</td>\n",
              "      <td>6910.0</td>\n",
              "    </tr>\n",
              "    <tr>\n",
              "      <th>C, KM</th>\n",
              "      <td>2300.0</td>\n",
              "      <td>1</td>\n",
              "      <td>2300.0</td>\n",
              "    </tr>\n",
              "    <tr>\n",
              "      <th>C, TANATO</th>\n",
              "      <td>6080.0</td>\n",
              "      <td>2</td>\n",
              "      <td>3040.0</td>\n",
              "    </tr>\n",
              "    <tr>\n",
              "      <th>C, TANATO, COROA</th>\n",
              "      <td>7290.0</td>\n",
              "      <td>2</td>\n",
              "      <td>3645.0</td>\n",
              "    </tr>\n",
              "    <tr>\n",
              "      <th>COMPLEMENTAÇÃO</th>\n",
              "      <td>920.0</td>\n",
              "      <td>2</td>\n",
              "      <td>460.0</td>\n",
              "    </tr>\n",
              "    <tr>\n",
              "      <th>COROA</th>\n",
              "      <td>5600.0</td>\n",
              "      <td>20</td>\n",
              "      <td>280.0</td>\n",
              "    </tr>\n",
              "    <tr>\n",
              "      <th>D</th>\n",
              "      <td>4260.0</td>\n",
              "      <td>2</td>\n",
              "      <td>2130.0</td>\n",
              "    </tr>\n",
              "    <tr>\n",
              "      <th>D, 2 COROAS</th>\n",
              "      <td>3260.0</td>\n",
              "      <td>1</td>\n",
              "      <td>3260.0</td>\n",
              "    </tr>\n",
              "    <tr>\n",
              "      <th>D, COROA</th>\n",
              "      <td>3220.0</td>\n",
              "      <td>1</td>\n",
              "      <td>3220.0</td>\n",
              "    </tr>\n",
              "    <tr>\n",
              "      <th>D, CREMAÇÃO, 2 COROAS</th>\n",
              "      <td>7160.0</td>\n",
              "      <td>1</td>\n",
              "      <td>7160.0</td>\n",
              "    </tr>\n",
              "    <tr>\n",
              "      <th>D, KM, COROA</th>\n",
              "      <td>3980.0</td>\n",
              "      <td>1</td>\n",
              "      <td>3980.0</td>\n",
              "    </tr>\n",
              "    <tr>\n",
              "      <th>D, TANATO, COROA</th>\n",
              "      <td>7040.0</td>\n",
              "      <td>2</td>\n",
              "      <td>3520.0</td>\n",
              "    </tr>\n",
              "    <tr>\n",
              "      <th>E, COROA</th>\n",
              "      <td>3270.0</td>\n",
              "      <td>1</td>\n",
              "      <td>3270.0</td>\n",
              "    </tr>\n",
              "    <tr>\n",
              "      <th>E, KM, COROA</th>\n",
              "      <td>2480.0</td>\n",
              "      <td>1</td>\n",
              "      <td>2480.0</td>\n",
              "    </tr>\n",
              "    <tr>\n",
              "      <th>E, ORN. ROSAS</th>\n",
              "      <td>2250.0</td>\n",
              "      <td>1</td>\n",
              "      <td>2250.0</td>\n",
              "    </tr>\n",
              "    <tr>\n",
              "      <th>E, TANATO</th>\n",
              "      <td>6960.0</td>\n",
              "      <td>2</td>\n",
              "      <td>3480.0</td>\n",
              "    </tr>\n",
              "    <tr>\n",
              "      <th>E, TANATO, 2 COROAS</th>\n",
              "      <td>3075.0</td>\n",
              "      <td>1</td>\n",
              "      <td>3075.0</td>\n",
              "    </tr>\n",
              "    <tr>\n",
              "      <th>F, COROA</th>\n",
              "      <td>1640.0</td>\n",
              "      <td>1</td>\n",
              "      <td>1640.0</td>\n",
              "    </tr>\n",
              "    <tr>\n",
              "      <th>FC</th>\n",
              "      <td>3700.0</td>\n",
              "      <td>1</td>\n",
              "      <td>3700.0</td>\n",
              "    </tr>\n",
              "    <tr>\n",
              "      <th>FC, TANATO, TX SEP, 2 COROAS</th>\n",
              "      <td>5000.0</td>\n",
              "      <td>1</td>\n",
              "      <td>5000.0</td>\n",
              "    </tr>\n",
              "    <tr>\n",
              "      <th>FE, KM, TANATO, COROA</th>\n",
              "      <td>6000.0</td>\n",
              "      <td>1</td>\n",
              "      <td>6000.0</td>\n",
              "    </tr>\n",
              "    <tr>\n",
              "      <th>G</th>\n",
              "      <td>3300.0</td>\n",
              "      <td>2</td>\n",
              "      <td>1650.0</td>\n",
              "    </tr>\n",
              "    <tr>\n",
              "      <th>G, COROA</th>\n",
              "      <td>1780.0</td>\n",
              "      <td>1</td>\n",
              "      <td>1780.0</td>\n",
              "    </tr>\n",
              "    <tr>\n",
              "      <th>G, TANATO</th>\n",
              "      <td>2470.0</td>\n",
              "      <td>1</td>\n",
              "      <td>2470.0</td>\n",
              "    </tr>\n",
              "    <tr>\n",
              "      <th>H, CREMAÇÃO, COROA</th>\n",
              "      <td>7600.0</td>\n",
              "      <td>1</td>\n",
              "      <td>7600.0</td>\n",
              "    </tr>\n",
              "    <tr>\n",
              "      <th>H, TANATO</th>\n",
              "      <td>3450.0</td>\n",
              "      <td>1</td>\n",
              "      <td>3450.0</td>\n",
              "    </tr>\n",
              "    <tr>\n",
              "      <th>H, VESTES MASC, TANATO, COROA</th>\n",
              "      <td>7500.0</td>\n",
              "      <td>1</td>\n",
              "      <td>7500.0</td>\n",
              "    </tr>\n",
              "    <tr>\n",
              "      <th>I, TANATO, COROA</th>\n",
              "      <td>5170.0</td>\n",
              "      <td>1</td>\n",
              "      <td>5170.0</td>\n",
              "    </tr>\n",
              "    <tr>\n",
              "      <th>KM</th>\n",
              "      <td>370.0</td>\n",
              "      <td>1</td>\n",
              "      <td>370.0</td>\n",
              "    </tr>\n",
              "    <tr>\n",
              "      <th>KM, TANATO</th>\n",
              "      <td>3170.0</td>\n",
              "      <td>2</td>\n",
              "      <td>1585.0</td>\n",
              "    </tr>\n",
              "    <tr>\n",
              "      <th>KM, TANATO, COROA</th>\n",
              "      <td>2514.0</td>\n",
              "      <td>1</td>\n",
              "      <td>2514.0</td>\n",
              "    </tr>\n",
              "    <tr>\n",
              "      <th>T</th>\n",
              "      <td>1500.0</td>\n",
              "      <td>1</td>\n",
              "      <td>1500.0</td>\n",
              "    </tr>\n",
              "    <tr>\n",
              "      <th>T, KM</th>\n",
              "      <td>2250.0</td>\n",
              "      <td>1</td>\n",
              "      <td>2250.0</td>\n",
              "    </tr>\n",
              "    <tr>\n",
              "      <th>TANATO</th>\n",
              "      <td>3600.0</td>\n",
              "      <td>4</td>\n",
              "      <td>900.0</td>\n",
              "    </tr>\n",
              "    <tr>\n",
              "      <th>TANATO, 2 COROAS</th>\n",
              "      <td>1460.0</td>\n",
              "      <td>1</td>\n",
              "      <td>1460.0</td>\n",
              "    </tr>\n",
              "    <tr>\n",
              "      <th>TANATO, COROA</th>\n",
              "      <td>12980.0</td>\n",
              "      <td>11</td>\n",
              "      <td>1180.0</td>\n",
              "    </tr>\n",
              "    <tr>\n",
              "      <th>TANATO, KM, COROA</th>\n",
              "      <td>1285.0</td>\n",
              "      <td>1</td>\n",
              "      <td>1285.0</td>\n",
              "    </tr>\n",
              "    <tr>\n",
              "      <th>VESTES FEM</th>\n",
              "      <td>250.0</td>\n",
              "      <td>1</td>\n",
              "      <td>250.0</td>\n",
              "    </tr>\n",
              "    <tr>\n",
              "      <th>VESTES MASC, COROA</th>\n",
              "      <td>530.0</td>\n",
              "      <td>1</td>\n",
              "      <td>530.0</td>\n",
              "    </tr>\n",
              "  </tbody>\n",
              "</table>\n",
              "</div>\n",
              "      <button class=\"colab-df-convert\" onclick=\"convertToInteractive('df-ab0b84de-6b5e-4935-a501-dae890b41702')\"\n",
              "              title=\"Convert this dataframe to an interactive table.\"\n",
              "              style=\"display:none;\">\n",
              "        \n",
              "  <svg xmlns=\"http://www.w3.org/2000/svg\" height=\"24px\"viewBox=\"0 0 24 24\"\n",
              "       width=\"24px\">\n",
              "    <path d=\"M0 0h24v24H0V0z\" fill=\"none\"/>\n",
              "    <path d=\"M18.56 5.44l.94 2.06.94-2.06 2.06-.94-2.06-.94-.94-2.06-.94 2.06-2.06.94zm-11 1L8.5 8.5l.94-2.06 2.06-.94-2.06-.94L8.5 2.5l-.94 2.06-2.06.94zm10 10l.94 2.06.94-2.06 2.06-.94-2.06-.94-.94-2.06-.94 2.06-2.06.94z\"/><path d=\"M17.41 7.96l-1.37-1.37c-.4-.4-.92-.59-1.43-.59-.52 0-1.04.2-1.43.59L10.3 9.45l-7.72 7.72c-.78.78-.78 2.05 0 2.83L4 21.41c.39.39.9.59 1.41.59.51 0 1.02-.2 1.41-.59l7.78-7.78 2.81-2.81c.8-.78.8-2.07 0-2.86zM5.41 20L4 18.59l7.72-7.72 1.47 1.35L5.41 20z\"/>\n",
              "  </svg>\n",
              "      </button>\n",
              "      \n",
              "  <style>\n",
              "    .colab-df-container {\n",
              "      display:flex;\n",
              "      flex-wrap:wrap;\n",
              "      gap: 12px;\n",
              "    }\n",
              "\n",
              "    .colab-df-convert {\n",
              "      background-color: #E8F0FE;\n",
              "      border: none;\n",
              "      border-radius: 50%;\n",
              "      cursor: pointer;\n",
              "      display: none;\n",
              "      fill: #1967D2;\n",
              "      height: 32px;\n",
              "      padding: 0 0 0 0;\n",
              "      width: 32px;\n",
              "    }\n",
              "\n",
              "    .colab-df-convert:hover {\n",
              "      background-color: #E2EBFA;\n",
              "      box-shadow: 0px 1px 2px rgba(60, 64, 67, 0.3), 0px 1px 3px 1px rgba(60, 64, 67, 0.15);\n",
              "      fill: #174EA6;\n",
              "    }\n",
              "\n",
              "    [theme=dark] .colab-df-convert {\n",
              "      background-color: #3B4455;\n",
              "      fill: #D2E3FC;\n",
              "    }\n",
              "\n",
              "    [theme=dark] .colab-df-convert:hover {\n",
              "      background-color: #434B5C;\n",
              "      box-shadow: 0px 1px 3px 1px rgba(0, 0, 0, 0.15);\n",
              "      filter: drop-shadow(0px 1px 2px rgba(0, 0, 0, 0.3));\n",
              "      fill: #FFFFFF;\n",
              "    }\n",
              "  </style>\n",
              "\n",
              "      <script>\n",
              "        const buttonEl =\n",
              "          document.querySelector('#df-ab0b84de-6b5e-4935-a501-dae890b41702 button.colab-df-convert');\n",
              "        buttonEl.style.display =\n",
              "          google.colab.kernel.accessAllowed ? 'block' : 'none';\n",
              "\n",
              "        async function convertToInteractive(key) {\n",
              "          const element = document.querySelector('#df-ab0b84de-6b5e-4935-a501-dae890b41702');\n",
              "          const dataTable =\n",
              "            await google.colab.kernel.invokeFunction('convertToInteractive',\n",
              "                                                     [key], {});\n",
              "          if (!dataTable) return;\n",
              "\n",
              "          const docLinkHtml = 'Like what you see? Visit the ' +\n",
              "            '<a target=\"_blank\" href=https://colab.research.google.com/notebooks/data_table.ipynb>data table notebook</a>'\n",
              "            + ' to learn more about interactive tables.';\n",
              "          element.innerHTML = '';\n",
              "          dataTable['output_type'] = 'display_data';\n",
              "          await google.colab.output.renderOutput(dataTable, element);\n",
              "          const docLink = document.createElement('div');\n",
              "          docLink.innerHTML = docLinkHtml;\n",
              "          element.appendChild(docLink);\n",
              "        }\n",
              "      </script>\n",
              "    </div>\n",
              "  </div>\n",
              "  "
            ]
          },
          "metadata": {},
          "execution_count": 57
        }
      ]
    },
    {
      "cell_type": "code",
      "source": [
        "x = a.index\n",
        "y = a['Média de Valor']"
      ],
      "metadata": {
        "id": "2giUDOn1EAOB"
      },
      "execution_count": null,
      "outputs": []
    },
    {
      "cell_type": "code",
      "source": [
        "yticks = [x for x in range(0, 9000, 500)]"
      ],
      "metadata": {
        "id": "SzRh41M2a8u8"
      },
      "execution_count": null,
      "outputs": []
    },
    {
      "cell_type": "code",
      "source": [
        "plt.figure(figsize=(10, 6))\n",
        "plt.bar(x, y)\n",
        "plt.title('Média de Valores de Cada Combo', size=32)\n",
        "plt.xlabel('Produtos Vendidos Juntos', size=25)\n",
        "plt.ylabel('Valor da Venda (Unitária)', size=25)\n",
        "plt.xticks(rotation=90)\n",
        "plt.yticks(yticks)\n",
        "plt.grid()\n",
        "plt.show()"
      ],
      "metadata": {
        "colab": {
          "base_uri": "https://localhost:8080/"
        },
        "id": "5SGo9IClEHAT",
        "outputId": "6172d564-c71b-4e4b-849f-992b37e03992"
      },
      "execution_count": null,
      "outputs": [
        {
          "output_type": "display_data",
          "data": {
            "text/plain": [
              "<Figure size 720x432 with 1 Axes>"
            ],
            "image/png": "[encoded data removed]"
          },
          "metadata": {
            "needs_background": "light"
          }
        }
      ]
    },
    {
      "cell_type": "code",
      "source": [
        "a = a.to_excel('relatório bp.xlsx')"
      ],
      "metadata": {
        "id": "RpFpSBf4P51f"
      },
      "execution_count": null,
      "outputs": []
    },
    {
      "cell_type": "code",
      "source": [],
      "metadata": {
        "id": "i68F4QfUYIsN"
      },
      "execution_count": null,
      "outputs": []
    }
  ],
  "metadata": {
    "colab": {
      "provenance": [],
      "collapsed_sections": [
        "Vc0knNrI78rU",
        "IaDtS9VpEbVb",
        "Ri0Ts5tb5bmG",
        "XCLR8xF9I8-n",
        "hN8XeahDJeHg",
        "0tRaNimTp1NI",
        "bv1WC5x7p72t",
        "1fSeYjuohi1R",
        "UKy35IeL5nMc",
        "Ojc0OifKVjn4",
        "8adeKVPwVt6t",
        "sMdq2qAzk9G5",
        "4I-REtU6V3hO",
        "5CrcdriV9Pt0",
        "x_z7aEtFPET6",
        "l6mZg5HBPqy9",
        "Fi8MpYS8VA9e",
        "I_Lctw0eVKZV",
        "d5jeq_LTPwSg",
        "I0So-J2ju1bl",
        "R4kRo1YoTuyv",
        "vAcbX8_cn6jP"
      ],
      "authorship_tag": "ABX9TyMWB02BuW7psyOAZgessf05",
      "include_colab_link": true
    },
    "kernelspec": {
      "display_name": "Python 3",
      "name": "python3"
    },
    "language_info": {
      "name": "python"
    }
  },
  "nbformat": 4,
  "nbformat_minor": 0
}