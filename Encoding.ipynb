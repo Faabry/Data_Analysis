{
  "nbformat": 4,
  "nbformat_minor": 0,
  "metadata": {
    "colab": {
      "provenance": [],
      "authorship_tag": "ABX9TyPDS1er7Ca/JsutBy7XCY71",
      "include_colab_link": true
    },
    "kernelspec": {
      "name": "python3",
      "display_name": "Python 3"
    },
    "language_info": {
      "name": "python"
    }
  },
  "cells": [
    {
      "cell_type": "markdown",
      "metadata": {
        "id": "view-in-github",
        "colab_type": "text"
      },
      "source": [
        "<a href=\"https://colab.research.google.com/github/Faabry/Data_Analysis/blob/main/Encoding.ipynb\" target=\"_parent\"><img src=\"https://colab.research.google.com/assets/colab-badge.svg\" alt=\"Open In Colab\"/></a>"
      ]
    },
    {
      "cell_type": "markdown",
      "source": [
        "<h1><b>Encoding</b></h1>\n",
        "<p> O Encoding é uma técnica amplamente utilizada para transformar dados categóricos em numéricos para que possa ser utilizado machine learning e realizar previsões no conjunto de dados, existem três tipos de Encoding sendo eles:</p>\n",
        "<ul>\n",
        "  <li> Count-Frequency: Basicamente conta quantas vezes determinado registro apareceu no conjunto de dados e substitui o seu valor categórico pela quantidade de vezes. Essa técnica é indicada para conjuntos de dados que possuam várias categorias.<br>\n",
        "  <b>PS:</b> Se tiver mais de um registro que aparece o mesmo número de vezes ambos se tornaram o mesmo valor numérico.</li>\n",
        "  <img src=\"count-frequency.png\">\n",
        "  <br>\n",
        "  <li> Label-Encoding: Essa técnica cada valor categórico é atribuído a um número inteiro único. Por exemplo, se tivermos uma coluna de dados categóricos como <i>maçã, banana e laranja</i>, podemos atribuir os valores numéricos 0, 1 e 2, respectivamente. O modelo de aprendizado de máquina pode, então, usar esses valores numéricos para fazer previsões. Essa técnica é indicada para conjuntos de dados com uma quantidade média de dados.</li>\n",
        "  <br>\n",
        "  <li> One-Hot Encoding: Essa técnica gera uma nova coluna para cada registro unico no conjunto de dados, em cada linha onde esse determinado valor estiver presente será adicionado o valor 1 e onde estiver ausente será o valor 0. Esse tipo de técnica é indicado para conjuntos de dados que tenham poucas categorias.\n",
        "</ul>\n"
      ],
      "metadata": {
        "id": "Usl0sukbO0TR"
      }
    },
    {
      "cell_type": "code",
      "execution_count": null,
      "metadata": {
        "id": "7OAmqbeeOvsb"
      },
      "outputs": [],
      "source": []
    },
    {
      "cell_type": "markdown",
      "source": [],
      "metadata": {
        "id": "jylPHlUDOziI"
      }
    }
  ]
}