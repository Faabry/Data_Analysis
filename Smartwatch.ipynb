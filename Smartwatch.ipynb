{
  "nbformat": 4,
  "nbformat_minor": 0,
  "metadata": {
    "colab": {
      "provenance": [],
      "authorship_tag": "ABX9TyMv+CiPEP41Zw7qXDnIIoqC",
      "include_colab_link": true
    },
    "kernelspec": {
      "name": "python3",
      "display_name": "Python 3"
    },
    "language_info": {
      "name": "python"
    }
  },
  "cells": [
    {
      "cell_type": "markdown",
      "metadata": {
        "id": "view-in-github",
        "colab_type": "text"
      },
      "source": [
        "<a href=\"https://colab.research.google.com/github/Faabry/Data_Analysis/blob/main/Smartwatch.ipynb\" target=\"_parent\"><img src=\"https://colab.research.google.com/assets/colab-badge.svg\" alt=\"Open In Colab\"/></a>"
      ]
    },
    {
      "cell_type": "code",
      "execution_count": 3,
      "metadata": {
        "colab": {
          "base_uri": "https://localhost:8080/",
          "height": 354
        },
        "id": "JsC0cW8i2P_2",
        "outputId": "7effc836-818c-4d0d-c787-4f8552db2cbd"
      },
      "outputs": [
        {
          "output_type": "execute_result",
          "data": {
            "text/plain": [
              "    Brand Name  Device Type             Model Name             Color  \\\n",
              "560     Huawei   Smartwatch            Watch 36456             Black   \n",
              "561     Huawei   Smartwatch  GT Fortuna-B19S Sport             Black   \n",
              "562      GOQii  FitnessBand                     HR             Black   \n",
              "563      GOQii  FitnessBand                  Vital             Black   \n",
              "564    FOSSIL    Smartwatch                 Gen 5E  Grey, Multicolor   \n",
              "\n",
              "    Selling Price Original Price         Display  Rating (Out of 5)  \\\n",
              "560        55,000         55,000  AMOLED Display                4.1   \n",
              "561        13,990         20,990  AMOLED Display                4.1   \n",
              "562         1,999          1,999    OLED Display                3.8   \n",
              "563         3,499          3,499    OLED Display                3.7   \n",
              "564        18,495         18,495  AMOLED Display                4.2   \n",
              "\n",
              "                 Strap Material  Average Battery Life (in days) Reviews  \n",
              "560                    Silicone                              14     NaN  \n",
              "561                   Elastomer                              14     NaN  \n",
              "562                    Silicone                               7     NaN  \n",
              "563  Thermoplastic polyurethane                               7     NaN  \n",
              "564             Stainless Steel                               1     NaN  "
            ],
            "text/html": [
              "\n",
              "  <div id=\"df-b423a58a-217b-4686-ba83-ed084d7fa80d\">\n",
              "    <div class=\"colab-df-container\">\n",
              "      <div>\n",
              "<style scoped>\n",
              "    .dataframe tbody tr th:only-of-type {\n",
              "        vertical-align: middle;\n",
              "    }\n",
              "\n",
              "    .dataframe tbody tr th {\n",
              "        vertical-align: top;\n",
              "    }\n",
              "\n",
              "    .dataframe thead th {\n",
              "        text-align: right;\n",
              "    }\n",
              "</style>\n",
              "<table border=\"1\" class=\"dataframe\">\n",
              "  <thead>\n",
              "    <tr style=\"text-align: right;\">\n",
              "      <th></th>\n",
              "      <th>Brand Name</th>\n",
              "      <th>Device Type</th>\n",
              "      <th>Model Name</th>\n",
              "      <th>Color</th>\n",
              "      <th>Selling Price</th>\n",
              "      <th>Original Price</th>\n",
              "      <th>Display</th>\n",
              "      <th>Rating (Out of 5)</th>\n",
              "      <th>Strap Material</th>\n",
              "      <th>Average Battery Life (in days)</th>\n",
              "      <th>Reviews</th>\n",
              "    </tr>\n",
              "  </thead>\n",
              "  <tbody>\n",
              "    <tr>\n",
              "      <th>560</th>\n",
              "      <td>Huawei</td>\n",
              "      <td>Smartwatch</td>\n",
              "      <td>Watch 36456</td>\n",
              "      <td>Black</td>\n",
              "      <td>55,000</td>\n",
              "      <td>55,000</td>\n",
              "      <td>AMOLED Display</td>\n",
              "      <td>4.1</td>\n",
              "      <td>Silicone</td>\n",
              "      <td>14</td>\n",
              "      <td>NaN</td>\n",
              "    </tr>\n",
              "    <tr>\n",
              "      <th>561</th>\n",
              "      <td>Huawei</td>\n",
              "      <td>Smartwatch</td>\n",
              "      <td>GT Fortuna-B19S Sport</td>\n",
              "      <td>Black</td>\n",
              "      <td>13,990</td>\n",
              "      <td>20,990</td>\n",
              "      <td>AMOLED Display</td>\n",
              "      <td>4.1</td>\n",
              "      <td>Elastomer</td>\n",
              "      <td>14</td>\n",
              "      <td>NaN</td>\n",
              "    </tr>\n",
              "    <tr>\n",
              "      <th>562</th>\n",
              "      <td>GOQii</td>\n",
              "      <td>FitnessBand</td>\n",
              "      <td>HR</td>\n",
              "      <td>Black</td>\n",
              "      <td>1,999</td>\n",
              "      <td>1,999</td>\n",
              "      <td>OLED Display</td>\n",
              "      <td>3.8</td>\n",
              "      <td>Silicone</td>\n",
              "      <td>7</td>\n",
              "      <td>NaN</td>\n",
              "    </tr>\n",
              "    <tr>\n",
              "      <th>563</th>\n",
              "      <td>GOQii</td>\n",
              "      <td>FitnessBand</td>\n",
              "      <td>Vital</td>\n",
              "      <td>Black</td>\n",
              "      <td>3,499</td>\n",
              "      <td>3,499</td>\n",
              "      <td>OLED Display</td>\n",
              "      <td>3.7</td>\n",
              "      <td>Thermoplastic polyurethane</td>\n",
              "      <td>7</td>\n",
              "      <td>NaN</td>\n",
              "    </tr>\n",
              "    <tr>\n",
              "      <th>564</th>\n",
              "      <td>FOSSIL</td>\n",
              "      <td>Smartwatch</td>\n",
              "      <td>Gen 5E</td>\n",
              "      <td>Grey, Multicolor</td>\n",
              "      <td>18,495</td>\n",
              "      <td>18,495</td>\n",
              "      <td>AMOLED Display</td>\n",
              "      <td>4.2</td>\n",
              "      <td>Stainless Steel</td>\n",
              "      <td>1</td>\n",
              "      <td>NaN</td>\n",
              "    </tr>\n",
              "  </tbody>\n",
              "</table>\n",
              "</div>\n",
              "      <button class=\"colab-df-convert\" onclick=\"convertToInteractive('df-b423a58a-217b-4686-ba83-ed084d7fa80d')\"\n",
              "              title=\"Convert this dataframe to an interactive table.\"\n",
              "              style=\"display:none;\">\n",
              "        \n",
              "  <svg xmlns=\"http://www.w3.org/2000/svg\" height=\"24px\"viewBox=\"0 0 24 24\"\n",
              "       width=\"24px\">\n",
              "    <path d=\"M0 0h24v24H0V0z\" fill=\"none\"/>\n",
              "    <path d=\"M18.56 5.44l.94 2.06.94-2.06 2.06-.94-2.06-.94-.94-2.06-.94 2.06-2.06.94zm-11 1L8.5 8.5l.94-2.06 2.06-.94-2.06-.94L8.5 2.5l-.94 2.06-2.06.94zm10 10l.94 2.06.94-2.06 2.06-.94-2.06-.94-.94-2.06-.94 2.06-2.06.94z\"/><path d=\"M17.41 7.96l-1.37-1.37c-.4-.4-.92-.59-1.43-.59-.52 0-1.04.2-1.43.59L10.3 9.45l-7.72 7.72c-.78.78-.78 2.05 0 2.83L4 21.41c.39.39.9.59 1.41.59.51 0 1.02-.2 1.41-.59l7.78-7.78 2.81-2.81c.8-.78.8-2.07 0-2.86zM5.41 20L4 18.59l7.72-7.72 1.47 1.35L5.41 20z\"/>\n",
              "  </svg>\n",
              "      </button>\n",
              "      \n",
              "  <style>\n",
              "    .colab-df-container {\n",
              "      display:flex;\n",
              "      flex-wrap:wrap;\n",
              "      gap: 12px;\n",
              "    }\n",
              "\n",
              "    .colab-df-convert {\n",
              "      background-color: #E8F0FE;\n",
              "      border: none;\n",
              "      border-radius: 50%;\n",
              "      cursor: pointer;\n",
              "      display: none;\n",
              "      fill: #1967D2;\n",
              "      height: 32px;\n",
              "      padding: 0 0 0 0;\n",
              "      width: 32px;\n",
              "    }\n",
              "\n",
              "    .colab-df-convert:hover {\n",
              "      background-color: #E2EBFA;\n",
              "      box-shadow: 0px 1px 2px rgba(60, 64, 67, 0.3), 0px 1px 3px 1px rgba(60, 64, 67, 0.15);\n",
              "      fill: #174EA6;\n",
              "    }\n",
              "\n",
              "    [theme=dark] .colab-df-convert {\n",
              "      background-color: #3B4455;\n",
              "      fill: #D2E3FC;\n",
              "    }\n",
              "\n",
              "    [theme=dark] .colab-df-convert:hover {\n",
              "      background-color: #434B5C;\n",
              "      box-shadow: 0px 1px 3px 1px rgba(0, 0, 0, 0.15);\n",
              "      filter: drop-shadow(0px 1px 2px rgba(0, 0, 0, 0.3));\n",
              "      fill: #FFFFFF;\n",
              "    }\n",
              "  </style>\n",
              "\n",
              "      <script>\n",
              "        const buttonEl =\n",
              "          document.querySelector('#df-b423a58a-217b-4686-ba83-ed084d7fa80d button.colab-df-convert');\n",
              "        buttonEl.style.display =\n",
              "          google.colab.kernel.accessAllowed ? 'block' : 'none';\n",
              "\n",
              "        async function convertToInteractive(key) {\n",
              "          const element = document.querySelector('#df-b423a58a-217b-4686-ba83-ed084d7fa80d');\n",
              "          const dataTable =\n",
              "            await google.colab.kernel.invokeFunction('convertToInteractive',\n",
              "                                                     [key], {});\n",
              "          if (!dataTable) return;\n",
              "\n",
              "          const docLinkHtml = 'Like what you see? Visit the ' +\n",
              "            '<a target=\"_blank\" href=https://colab.research.google.com/notebooks/data_table.ipynb>data table notebook</a>'\n",
              "            + ' to learn more about interactive tables.';\n",
              "          element.innerHTML = '';\n",
              "          dataTable['output_type'] = 'display_data';\n",
              "          await google.colab.output.renderOutput(dataTable, element);\n",
              "          const docLink = document.createElement('div');\n",
              "          docLink.innerHTML = docLinkHtml;\n",
              "          element.appendChild(docLink);\n",
              "        }\n",
              "      </script>\n",
              "    </div>\n",
              "  </div>\n",
              "  "
            ]
          },
          "metadata": {},
          "execution_count": 3
        }
      ],
      "source": [
        "import pandas as pd\n",
        "df = pd.read_csv(\"Fitness_trackers.csv\")\n",
        "pd.set_option(\"display.max_rows\", None)\n",
        "df.tail()"
      ]
    },
    {
      "cell_type": "markdown",
      "source": [
        "*  Verficando os tipos primitivos das colunas e se existem valores **nulos**."
      ],
      "metadata": {
        "id": "UZeGgFkzUkJC"
      }
    },
    {
      "cell_type": "code",
      "source": [
        "df.info()"
      ],
      "metadata": {
        "colab": {
          "base_uri": "https://localhost:8080/"
        },
        "id": "vcjuYykG2r7Z",
        "outputId": "fd386d05-7466-4695-e86f-1a3bb67628f4"
      },
      "execution_count": 4,
      "outputs": [
        {
          "output_type": "stream",
          "name": "stdout",
          "text": [
            "<class 'pandas.core.frame.DataFrame'>\n",
            "RangeIndex: 565 entries, 0 to 564\n",
            "Data columns (total 11 columns):\n",
            " #   Column                          Non-Null Count  Dtype  \n",
            "---  ------                          --------------  -----  \n",
            " 0   Brand Name                      565 non-null    object \n",
            " 1   Device Type                     565 non-null    object \n",
            " 2   Model Name                      565 non-null    object \n",
            " 3   Color                           565 non-null    object \n",
            " 4   Selling Price                   565 non-null    object \n",
            " 5   Original Price                  565 non-null    object \n",
            " 6   Display                         565 non-null    object \n",
            " 7   Rating (Out of 5)               514 non-null    float64\n",
            " 8   Strap Material                  565 non-null    object \n",
            " 9   Average Battery Life (in days)  565 non-null    int64  \n",
            " 10  Reviews                         78 non-null     object \n",
            "dtypes: float64(1), int64(1), object(9)\n",
            "memory usage: 48.7+ KB\n"
          ]
        }
      ]
    },
    {
      "cell_type": "markdown",
      "source": [
        "* Precisamos alterar os tipos primitivos das colunas **Selling Price** e **Original Price** para *float*."
      ],
      "metadata": {
        "id": "NNYrUl1u9Gum"
      }
    },
    {
      "cell_type": "code",
      "source": [
        "df[\"Original Price\"] = df[\"Original Price\"].apply(lambda x: x.replace(\",\", \".\"))\n",
        "df[\"Original Price\"] = df[\"Original Price\"].str.replace(\".\", \"\").astype(float)"
      ],
      "metadata": {
        "colab": {
          "base_uri": "https://localhost:8080/"
        },
        "id": "Edoc0kAa444q",
        "outputId": "f8814e38-57da-45be-abed-73c37edb54c2"
      },
      "execution_count": 5,
      "outputs": [
        {
          "output_type": "stream",
          "name": "stderr",
          "text": [
            "<ipython-input-5-7cc3a94ebcdc>:2: FutureWarning: The default value of regex will change from True to False in a future version. In addition, single character regular expressions will *not* be treated as literal strings when regex=True.\n",
            "  df[\"Original Price\"] = df[\"Original Price\"].str.replace(\".\", \"\").astype(float)\n"
          ]
        }
      ]
    },
    {
      "cell_type": "code",
      "source": [
        "df[\"Selling Price\"] = df[\"Selling Price\"].apply(lambda x: x.replace(\",\", \".\"))\n",
        "df[\"Selling Price\"] = df[\"Selling Price\"].str.replace(\".\", \"\").astype(float)"
      ],
      "metadata": {
        "colab": {
          "base_uri": "https://localhost:8080/"
        },
        "id": "l3E1ws_U5Wp6",
        "outputId": "bb97aa1f-2553-4963-a3b5-2d1b212ef098"
      },
      "execution_count": 6,
      "outputs": [
        {
          "output_type": "stream",
          "name": "stderr",
          "text": [
            "<ipython-input-6-7bd6f7fce4b9>:2: FutureWarning: The default value of regex will change from True to False in a future version. In addition, single character regular expressions will *not* be treated as literal strings when regex=True.\n",
            "  df[\"Selling Price\"] = df[\"Selling Price\"].str.replace(\".\", \"\").astype(float)\n"
          ]
        }
      ]
    },
    {
      "cell_type": "code",
      "source": [
        "df.head()"
      ],
      "metadata": {
        "colab": {
          "base_uri": "https://localhost:8080/",
          "height": 320
        },
        "id": "bmjFA9bF5iap",
        "outputId": "0140d53f-b0b7-4f2c-856d-e299bcf48a59"
      },
      "execution_count": 8,
      "outputs": [
        {
          "output_type": "execute_result",
          "data": {
            "text/plain": [
              "  Brand Name  Device Type    Model Name  Color  Selling Price  Original Price  \\\n",
              "0     Xiaomi  FitnessBand  Smart Band 5  Black         2499.0          2999.0   \n",
              "1     Xiaomi  FitnessBand  Smart Band 4  Black         2099.0          2499.0   \n",
              "2     Xiaomi  FitnessBand      HMSH01GE  Black         1722.0          2099.0   \n",
              "3     Xiaomi  FitnessBand  Smart Band 5  Black         2469.0          2999.0   \n",
              "4     Xiaomi  FitnessBand        Band 3  Black         1799.0          2199.0   \n",
              "\n",
              "          Display  Rating (Out of 5)              Strap Material  \\\n",
              "0  AMOLED Display                4.1  Thermoplastic polyurethane   \n",
              "1  AMOLED Display                4.2  Thermoplastic polyurethane   \n",
              "2     LCD Display                3.5                     Leather   \n",
              "3  AMOLED Display                4.1  Thermoplastic polyurethane   \n",
              "4    OLED Display                4.3                     Plastic   \n",
              "\n",
              "   Average Battery Life (in days) Reviews  \n",
              "0                              14     NaN  \n",
              "1                              14     NaN  \n",
              "2                              14     NaN  \n",
              "3                              14     NaN  \n",
              "4                               7     NaN  "
            ],
            "text/html": [
              "\n",
              "  <div id=\"df-5f1df200-d3ef-4010-bf45-6ab05234d1dd\">\n",
              "    <div class=\"colab-df-container\">\n",
              "      <div>\n",
              "<style scoped>\n",
              "    .dataframe tbody tr th:only-of-type {\n",
              "        vertical-align: middle;\n",
              "    }\n",
              "\n",
              "    .dataframe tbody tr th {\n",
              "        vertical-align: top;\n",
              "    }\n",
              "\n",
              "    .dataframe thead th {\n",
              "        text-align: right;\n",
              "    }\n",
              "</style>\n",
              "<table border=\"1\" class=\"dataframe\">\n",
              "  <thead>\n",
              "    <tr style=\"text-align: right;\">\n",
              "      <th></th>\n",
              "      <th>Brand Name</th>\n",
              "      <th>Device Type</th>\n",
              "      <th>Model Name</th>\n",
              "      <th>Color</th>\n",
              "      <th>Selling Price</th>\n",
              "      <th>Original Price</th>\n",
              "      <th>Display</th>\n",
              "      <th>Rating (Out of 5)</th>\n",
              "      <th>Strap Material</th>\n",
              "      <th>Average Battery Life (in days)</th>\n",
              "      <th>Reviews</th>\n",
              "    </tr>\n",
              "  </thead>\n",
              "  <tbody>\n",
              "    <tr>\n",
              "      <th>0</th>\n",
              "      <td>Xiaomi</td>\n",
              "      <td>FitnessBand</td>\n",
              "      <td>Smart Band 5</td>\n",
              "      <td>Black</td>\n",
              "      <td>2499.0</td>\n",
              "      <td>2999.0</td>\n",
              "      <td>AMOLED Display</td>\n",
              "      <td>4.1</td>\n",
              "      <td>Thermoplastic polyurethane</td>\n",
              "      <td>14</td>\n",
              "      <td>NaN</td>\n",
              "    </tr>\n",
              "    <tr>\n",
              "      <th>1</th>\n",
              "      <td>Xiaomi</td>\n",
              "      <td>FitnessBand</td>\n",
              "      <td>Smart Band 4</td>\n",
              "      <td>Black</td>\n",
              "      <td>2099.0</td>\n",
              "      <td>2499.0</td>\n",
              "      <td>AMOLED Display</td>\n",
              "      <td>4.2</td>\n",
              "      <td>Thermoplastic polyurethane</td>\n",
              "      <td>14</td>\n",
              "      <td>NaN</td>\n",
              "    </tr>\n",
              "    <tr>\n",
              "      <th>2</th>\n",
              "      <td>Xiaomi</td>\n",
              "      <td>FitnessBand</td>\n",
              "      <td>HMSH01GE</td>\n",
              "      <td>Black</td>\n",
              "      <td>1722.0</td>\n",
              "      <td>2099.0</td>\n",
              "      <td>LCD Display</td>\n",
              "      <td>3.5</td>\n",
              "      <td>Leather</td>\n",
              "      <td>14</td>\n",
              "      <td>NaN</td>\n",
              "    </tr>\n",
              "    <tr>\n",
              "      <th>3</th>\n",
              "      <td>Xiaomi</td>\n",
              "      <td>FitnessBand</td>\n",
              "      <td>Smart Band 5</td>\n",
              "      <td>Black</td>\n",
              "      <td>2469.0</td>\n",
              "      <td>2999.0</td>\n",
              "      <td>AMOLED Display</td>\n",
              "      <td>4.1</td>\n",
              "      <td>Thermoplastic polyurethane</td>\n",
              "      <td>14</td>\n",
              "      <td>NaN</td>\n",
              "    </tr>\n",
              "    <tr>\n",
              "      <th>4</th>\n",
              "      <td>Xiaomi</td>\n",
              "      <td>FitnessBand</td>\n",
              "      <td>Band 3</td>\n",
              "      <td>Black</td>\n",
              "      <td>1799.0</td>\n",
              "      <td>2199.0</td>\n",
              "      <td>OLED Display</td>\n",
              "      <td>4.3</td>\n",
              "      <td>Plastic</td>\n",
              "      <td>7</td>\n",
              "      <td>NaN</td>\n",
              "    </tr>\n",
              "  </tbody>\n",
              "</table>\n",
              "</div>\n",
              "      <button class=\"colab-df-convert\" onclick=\"convertToInteractive('df-5f1df200-d3ef-4010-bf45-6ab05234d1dd')\"\n",
              "              title=\"Convert this dataframe to an interactive table.\"\n",
              "              style=\"display:none;\">\n",
              "        \n",
              "  <svg xmlns=\"http://www.w3.org/2000/svg\" height=\"24px\"viewBox=\"0 0 24 24\"\n",
              "       width=\"24px\">\n",
              "    <path d=\"M0 0h24v24H0V0z\" fill=\"none\"/>\n",
              "    <path d=\"M18.56 5.44l.94 2.06.94-2.06 2.06-.94-2.06-.94-.94-2.06-.94 2.06-2.06.94zm-11 1L8.5 8.5l.94-2.06 2.06-.94-2.06-.94L8.5 2.5l-.94 2.06-2.06.94zm10 10l.94 2.06.94-2.06 2.06-.94-2.06-.94-.94-2.06-.94 2.06-2.06.94z\"/><path d=\"M17.41 7.96l-1.37-1.37c-.4-.4-.92-.59-1.43-.59-.52 0-1.04.2-1.43.59L10.3 9.45l-7.72 7.72c-.78.78-.78 2.05 0 2.83L4 21.41c.39.39.9.59 1.41.59.51 0 1.02-.2 1.41-.59l7.78-7.78 2.81-2.81c.8-.78.8-2.07 0-2.86zM5.41 20L4 18.59l7.72-7.72 1.47 1.35L5.41 20z\"/>\n",
              "  </svg>\n",
              "      </button>\n",
              "      \n",
              "  <style>\n",
              "    .colab-df-container {\n",
              "      display:flex;\n",
              "      flex-wrap:wrap;\n",
              "      gap: 12px;\n",
              "    }\n",
              "\n",
              "    .colab-df-convert {\n",
              "      background-color: #E8F0FE;\n",
              "      border: none;\n",
              "      border-radius: 50%;\n",
              "      cursor: pointer;\n",
              "      display: none;\n",
              "      fill: #1967D2;\n",
              "      height: 32px;\n",
              "      padding: 0 0 0 0;\n",
              "      width: 32px;\n",
              "    }\n",
              "\n",
              "    .colab-df-convert:hover {\n",
              "      background-color: #E2EBFA;\n",
              "      box-shadow: 0px 1px 2px rgba(60, 64, 67, 0.3), 0px 1px 3px 1px rgba(60, 64, 67, 0.15);\n",
              "      fill: #174EA6;\n",
              "    }\n",
              "\n",
              "    [theme=dark] .colab-df-convert {\n",
              "      background-color: #3B4455;\n",
              "      fill: #D2E3FC;\n",
              "    }\n",
              "\n",
              "    [theme=dark] .colab-df-convert:hover {\n",
              "      background-color: #434B5C;\n",
              "      box-shadow: 0px 1px 3px 1px rgba(0, 0, 0, 0.15);\n",
              "      filter: drop-shadow(0px 1px 2px rgba(0, 0, 0, 0.3));\n",
              "      fill: #FFFFFF;\n",
              "    }\n",
              "  </style>\n",
              "\n",
              "      <script>\n",
              "        const buttonEl =\n",
              "          document.querySelector('#df-5f1df200-d3ef-4010-bf45-6ab05234d1dd button.colab-df-convert');\n",
              "        buttonEl.style.display =\n",
              "          google.colab.kernel.accessAllowed ? 'block' : 'none';\n",
              "\n",
              "        async function convertToInteractive(key) {\n",
              "          const element = document.querySelector('#df-5f1df200-d3ef-4010-bf45-6ab05234d1dd');\n",
              "          const dataTable =\n",
              "            await google.colab.kernel.invokeFunction('convertToInteractive',\n",
              "                                                     [key], {});\n",
              "          if (!dataTable) return;\n",
              "\n",
              "          const docLinkHtml = 'Like what you see? Visit the ' +\n",
              "            '<a target=\"_blank\" href=https://colab.research.google.com/notebooks/data_table.ipynb>data table notebook</a>'\n",
              "            + ' to learn more about interactive tables.';\n",
              "          element.innerHTML = '';\n",
              "          dataTable['output_type'] = 'display_data';\n",
              "          await google.colab.output.renderOutput(dataTable, element);\n",
              "          const docLink = document.createElement('div');\n",
              "          docLink.innerHTML = docLinkHtml;\n",
              "          element.appendChild(docLink);\n",
              "        }\n",
              "      </script>\n",
              "    </div>\n",
              "  </div>\n",
              "  "
            ]
          },
          "metadata": {},
          "execution_count": 8
        }
      ]
    },
    {
      "cell_type": "markdown",
      "source": [
        "# **Question 1: Qual foi o produto mais vendido ?** "
      ],
      "metadata": {
        "id": "4AttheEwAFLc"
      }
    },
    {
      "cell_type": "markdown",
      "source": [
        "* Vamos agrupar todos os produtos por **marca** usando o método **groupby**"
      ],
      "metadata": {
        "id": "2ycHiYIRASW1"
      }
    },
    {
      "cell_type": "code",
      "source": [
        "brand = df.groupby(\"Brand Name\").count()"
      ],
      "metadata": {
        "id": "MnBe7BIl_-EL"
      },
      "execution_count": 9,
      "outputs": []
    },
    {
      "cell_type": "code",
      "source": [
        "brand[\"Model Name\"].sort_values()"
      ],
      "metadata": {
        "colab": {
          "base_uri": "https://localhost:8080/"
        },
        "id": "0EgJ4OW_AoGX",
        "outputId": "6204c1fd-adaa-4b32-8814-823863fa72d0"
      },
      "execution_count": 72,
      "outputs": [
        {
          "output_type": "execute_result",
          "data": {
            "text/plain": [
              "Brand Name\n",
              "LAVA          1\n",
              "Infinix       1\n",
              "Oppo          2\n",
              "Noise         2\n",
              "LCARE         2\n",
              "OnePlus       3\n",
              "boAt          4\n",
              "GOQii         4\n",
              "Fastrack      6\n",
              "Xiaomi       10\n",
              "realme       12\n",
              "Noise        17\n",
              "Honor        20\n",
              "Huawei       26\n",
              "huami        36\n",
              "SAMSUNG      48\n",
              "FitBit       51\n",
              "APPLE        86\n",
              "GARMIN      101\n",
              "FOSSIL      133\n",
              "Name: Model Name, dtype: int64"
            ]
          },
          "metadata": {},
          "execution_count": 72
        }
      ]
    },
    {
      "cell_type": "markdown",
      "source": [
        "# Sabemos que o **top 3** das marcas mais vendidas foram:\n",
        "* FOSSIL\n",
        "* Garmin\n",
        "* Apple\n",
        "\n",
        "* ## No entanto ainda precisamos identificar qual foi de fato o produto mais vendido da marca **Fossil**."
      ],
      "metadata": {
        "id": "8GuJbJNpHVmp"
      }
    },
    {
      "cell_type": "code",
      "source": [
        "# Não estava conseguindo retornar as linhas da coluna \"Brand Name\" fosse iguais à\n",
        "# FOSSIL, então decidi remover possiveis espaços em branco que pudessem estar no nome\n",
        "\n",
        "df[\"Brand Name\"] = df[\"Brand Name\"].apply(lambda x: x.replace(\" \", \"\"))\n",
        "best_seller = df.loc[df[\"Brand Name\"] == \"FOSSIL\"]"
      ],
      "metadata": {
        "id": "kxw1L_BFIkPH"
      },
      "execution_count": 11,
      "outputs": []
    },
    {
      "cell_type": "markdown",
      "source": [
        "* Criei um agrupamento dos modelos vendidos para que pudesse verificar a quantidade vendida de cada produto"
      ],
      "metadata": {
        "id": "8gJHjormVynf"
      }
    },
    {
      "cell_type": "code",
      "source": [
        "best_seller = best_seller.groupby(\"Model Name\").count()\n",
        "best_seller[\"Device Type\"].head()"
      ],
      "metadata": {
        "colab": {
          "base_uri": "https://localhost:8080/"
        },
        "id": "AwiCk3fiJU9Y",
        "outputId": "657dac44-850b-44f0-8147-1057cfeb5b5f"
      },
      "execution_count": 12,
      "outputs": [
        {
          "output_type": "execute_result",
          "data": {
            "text/plain": [
              "Model Name\n",
              "4th Gen Explorist HR    1\n",
              "4th Gen Venture HR      3\n",
              "5th Gen Julianna        1\n",
              "Barstow Hybrid          1\n",
              "Cameron Hybrid          1\n",
              "Name: Device Type, dtype: int64"
            ]
          },
          "metadata": {},
          "execution_count": 12
        }
      ]
    },
    {
      "cell_type": "markdown",
      "source": [
        "* Filtrando qual foi o **produto mais vendido**."
      ],
      "metadata": {
        "id": "ZRdpAcD2V_x6"
      }
    },
    {
      "cell_type": "code",
      "source": [
        "best_seller[\"Brand Name\"].max()"
      ],
      "metadata": {
        "colab": {
          "base_uri": "https://localhost:8080/"
        },
        "id": "Vkp77Tc9RiHr",
        "outputId": "f38230a3-d1ee-4c2c-b8da-bd014c58c883"
      },
      "execution_count": 13,
      "outputs": [
        {
          "output_type": "execute_result",
          "data": {
            "text/plain": [
              "6"
            ]
          },
          "metadata": {},
          "execution_count": 13
        }
      ]
    },
    {
      "cell_type": "markdown",
      "source": [
        "* Localizando qual foi o produto que corresponda ao valor 6.\n"
      ],
      "metadata": {
        "id": "HYkTVvydWJg0"
      }
    },
    {
      "cell_type": "code",
      "source": [
        "best_seller.loc[best_seller[\"Brand Name\"] == 6]"
      ],
      "metadata": {
        "colab": {
          "base_uri": "https://localhost:8080/",
          "height": 191
        },
        "id": "PEwRizohRwWg",
        "outputId": "b36edb10-33fe-4f8d-8e36-dc1ce263bb1e"
      },
      "execution_count": 14,
      "outputs": [
        {
          "output_type": "execute_result",
          "data": {
            "text/plain": [
              "                   Brand Name  Device Type  Color  Selling Price  \\\n",
              "Model Name                                                         \n",
              "Gen 5 Julianna HR           6            6      6              6   \n",
              "\n",
              "                   Original Price  Display  Rating (Out of 5)  Strap Material  \\\n",
              "Model Name                                                                      \n",
              "Gen 5 Julianna HR               6        6                  6               6   \n",
              "\n",
              "                   Average Battery Life (in days)  Reviews  \n",
              "Model Name                                                  \n",
              "Gen 5 Julianna HR                               6        0  "
            ],
            "text/html": [
              "\n",
              "  <div id=\"df-26f8ca53-53f5-46f3-a6ef-f2fc04d3e50c\">\n",
              "    <div class=\"colab-df-container\">\n",
              "      <div>\n",
              "<style scoped>\n",
              "    .dataframe tbody tr th:only-of-type {\n",
              "        vertical-align: middle;\n",
              "    }\n",
              "\n",
              "    .dataframe tbody tr th {\n",
              "        vertical-align: top;\n",
              "    }\n",
              "\n",
              "    .dataframe thead th {\n",
              "        text-align: right;\n",
              "    }\n",
              "</style>\n",
              "<table border=\"1\" class=\"dataframe\">\n",
              "  <thead>\n",
              "    <tr style=\"text-align: right;\">\n",
              "      <th></th>\n",
              "      <th>Brand Name</th>\n",
              "      <th>Device Type</th>\n",
              "      <th>Color</th>\n",
              "      <th>Selling Price</th>\n",
              "      <th>Original Price</th>\n",
              "      <th>Display</th>\n",
              "      <th>Rating (Out of 5)</th>\n",
              "      <th>Strap Material</th>\n",
              "      <th>Average Battery Life (in days)</th>\n",
              "      <th>Reviews</th>\n",
              "    </tr>\n",
              "    <tr>\n",
              "      <th>Model Name</th>\n",
              "      <th></th>\n",
              "      <th></th>\n",
              "      <th></th>\n",
              "      <th></th>\n",
              "      <th></th>\n",
              "      <th></th>\n",
              "      <th></th>\n",
              "      <th></th>\n",
              "      <th></th>\n",
              "      <th></th>\n",
              "    </tr>\n",
              "  </thead>\n",
              "  <tbody>\n",
              "    <tr>\n",
              "      <th>Gen 5 Julianna HR</th>\n",
              "      <td>6</td>\n",
              "      <td>6</td>\n",
              "      <td>6</td>\n",
              "      <td>6</td>\n",
              "      <td>6</td>\n",
              "      <td>6</td>\n",
              "      <td>6</td>\n",
              "      <td>6</td>\n",
              "      <td>6</td>\n",
              "      <td>0</td>\n",
              "    </tr>\n",
              "  </tbody>\n",
              "</table>\n",
              "</div>\n",
              "      <button class=\"colab-df-convert\" onclick=\"convertToInteractive('df-26f8ca53-53f5-46f3-a6ef-f2fc04d3e50c')\"\n",
              "              title=\"Convert this dataframe to an interactive table.\"\n",
              "              style=\"display:none;\">\n",
              "        \n",
              "  <svg xmlns=\"http://www.w3.org/2000/svg\" height=\"24px\"viewBox=\"0 0 24 24\"\n",
              "       width=\"24px\">\n",
              "    <path d=\"M0 0h24v24H0V0z\" fill=\"none\"/>\n",
              "    <path d=\"M18.56 5.44l.94 2.06.94-2.06 2.06-.94-2.06-.94-.94-2.06-.94 2.06-2.06.94zm-11 1L8.5 8.5l.94-2.06 2.06-.94-2.06-.94L8.5 2.5l-.94 2.06-2.06.94zm10 10l.94 2.06.94-2.06 2.06-.94-2.06-.94-.94-2.06-.94 2.06-2.06.94z\"/><path d=\"M17.41 7.96l-1.37-1.37c-.4-.4-.92-.59-1.43-.59-.52 0-1.04.2-1.43.59L10.3 9.45l-7.72 7.72c-.78.78-.78 2.05 0 2.83L4 21.41c.39.39.9.59 1.41.59.51 0 1.02-.2 1.41-.59l7.78-7.78 2.81-2.81c.8-.78.8-2.07 0-2.86zM5.41 20L4 18.59l7.72-7.72 1.47 1.35L5.41 20z\"/>\n",
              "  </svg>\n",
              "      </button>\n",
              "      \n",
              "  <style>\n",
              "    .colab-df-container {\n",
              "      display:flex;\n",
              "      flex-wrap:wrap;\n",
              "      gap: 12px;\n",
              "    }\n",
              "\n",
              "    .colab-df-convert {\n",
              "      background-color: #E8F0FE;\n",
              "      border: none;\n",
              "      border-radius: 50%;\n",
              "      cursor: pointer;\n",
              "      display: none;\n",
              "      fill: #1967D2;\n",
              "      height: 32px;\n",
              "      padding: 0 0 0 0;\n",
              "      width: 32px;\n",
              "    }\n",
              "\n",
              "    .colab-df-convert:hover {\n",
              "      background-color: #E2EBFA;\n",
              "      box-shadow: 0px 1px 2px rgba(60, 64, 67, 0.3), 0px 1px 3px 1px rgba(60, 64, 67, 0.15);\n",
              "      fill: #174EA6;\n",
              "    }\n",
              "\n",
              "    [theme=dark] .colab-df-convert {\n",
              "      background-color: #3B4455;\n",
              "      fill: #D2E3FC;\n",
              "    }\n",
              "\n",
              "    [theme=dark] .colab-df-convert:hover {\n",
              "      background-color: #434B5C;\n",
              "      box-shadow: 0px 1px 3px 1px rgba(0, 0, 0, 0.15);\n",
              "      filter: drop-shadow(0px 1px 2px rgba(0, 0, 0, 0.3));\n",
              "      fill: #FFFFFF;\n",
              "    }\n",
              "  </style>\n",
              "\n",
              "      <script>\n",
              "        const buttonEl =\n",
              "          document.querySelector('#df-26f8ca53-53f5-46f3-a6ef-f2fc04d3e50c button.colab-df-convert');\n",
              "        buttonEl.style.display =\n",
              "          google.colab.kernel.accessAllowed ? 'block' : 'none';\n",
              "\n",
              "        async function convertToInteractive(key) {\n",
              "          const element = document.querySelector('#df-26f8ca53-53f5-46f3-a6ef-f2fc04d3e50c');\n",
              "          const dataTable =\n",
              "            await google.colab.kernel.invokeFunction('convertToInteractive',\n",
              "                                                     [key], {});\n",
              "          if (!dataTable) return;\n",
              "\n",
              "          const docLinkHtml = 'Like what you see? Visit the ' +\n",
              "            '<a target=\"_blank\" href=https://colab.research.google.com/notebooks/data_table.ipynb>data table notebook</a>'\n",
              "            + ' to learn more about interactive tables.';\n",
              "          element.innerHTML = '';\n",
              "          dataTable['output_type'] = 'display_data';\n",
              "          await google.colab.output.renderOutput(dataTable, element);\n",
              "          const docLink = document.createElement('div');\n",
              "          docLink.innerHTML = docLinkHtml;\n",
              "          element.appendChild(docLink);\n",
              "        }\n",
              "      </script>\n",
              "    </div>\n",
              "  </div>\n",
              "  "
            ]
          },
          "metadata": {},
          "execution_count": 14
        }
      ]
    },
    {
      "cell_type": "markdown",
      "source": [
        "# O Produto mais vendido foi **Gen 5 Julianna HR** da marca **FOSSIL** com 6 unidades vendidas."
      ],
      "metadata": {
        "id": "Nfdgp0zmRv4H"
      }
    },
    {
      "cell_type": "markdown",
      "source": [
        "* Definindo o eixo **y** e o eixo **x** para plotar no gráfico."
      ],
      "metadata": {
        "id": "pWJmTZ6MWVrZ"
      }
    },
    {
      "cell_type": "code",
      "source": [
        "y = brand.sort_values(\"Selling Price\")\n",
        "x = brand.sort_values(\"Selling Price\")"
      ],
      "metadata": {
        "id": "C8rzOE3xSwXK"
      },
      "execution_count": 15,
      "outputs": []
    },
    {
      "cell_type": "code",
      "source": [
        "import matplotlib.pyplot as plt\n",
        "\n",
        "plt.figure(figsize=(13, 6))\n",
        "plt.title(\"Análise de vendas de Marcas\", size=20)\n",
        "plt.barh(y.index, x[\"Selling Price\"])\n",
        "plt.text(134, 17.5, r'133', fontsize=15)\n",
        "plt.text(102, 16.7, r'101', fontsize=15)\n",
        "plt.text(88, 15.6, r\"86\", fontsize=15)\n",
        "plt.xlabel(\"Quantidade Vendida por Marca\", size=15)\n",
        "plt.yticks(size=12)\n",
        "plt.show()"
      ],
      "metadata": {
        "colab": {
          "base_uri": "https://localhost:8080/",
          "height": 414
        },
        "id": "EmPPMtxqBhP5",
        "outputId": "3184cf54-6184-4098-e1a2-b9426a5e25e5"
      },
      "execution_count": 16,
      "outputs": [
        {
          "output_type": "display_data",
          "data": {
            "text/plain": [
              "<Figure size 936x432 with 1 Axes>"
            ],
            "image/png": "[encoded data removed]"
          },
          "metadata": {
            "needs_background": "light"
          }
        }
      ]
    },
    {
      "cell_type": "markdown",
      "source": [
        "# **Conslusão:**\n",
        "* # O produto **5 Gen Julianna HR** foi o produto mais vendido, mas será que ele foi também o **mais bem avaliado?**"
      ],
      "metadata": {
        "id": "7m39Pjm4EEsb"
      }
    },
    {
      "cell_type": "markdown",
      "source": [
        "# **Question 2: Qual foi o produto mais bem avaliado?**"
      ],
      "metadata": {
        "id": "_U6OJ4WzXpf9"
      }
    },
    {
      "cell_type": "markdown",
      "source": [
        "* Criando um filtro com os maiores valores da coluna **Rating (Out of 5)**."
      ],
      "metadata": {
        "id": "mdPtn3iZX0kG"
      }
    },
    {
      "cell_type": "code",
      "source": [
        "df[\"Rating (Out of 5)\"].max()"
      ],
      "metadata": {
        "colab": {
          "base_uri": "https://localhost:8080/"
        },
        "id": "MwHCD-V-Ymus",
        "outputId": "767c8891-f906-4bd5-dd10-e0e0ee967913"
      },
      "execution_count": 17,
      "outputs": [
        {
          "output_type": "execute_result",
          "data": {
            "text/plain": [
              "5.0"
            ]
          },
          "metadata": {},
          "execution_count": 17
        }
      ]
    },
    {
      "cell_type": "code",
      "source": [
        "rating_5 = df.loc[df[\"Rating (Out of 5)\"] == 5.0]\n",
        "rating_5[\"Device Type\"].count()"
      ],
      "metadata": {
        "colab": {
          "base_uri": "https://localhost:8080/"
        },
        "id": "qsJi66yFEbAW",
        "outputId": "aed16cba-7448-40f7-e1cf-94659f32337b"
      },
      "execution_count": 24,
      "outputs": [
        {
          "output_type": "execute_result",
          "data": {
            "text/plain": [
              "9"
            ]
          },
          "metadata": {},
          "execution_count": 24
        }
      ]
    },
    {
      "cell_type": "markdown",
      "source": [
        "* Tivemos **9** produtos com **avaliação máxima**, vamos verifiar se existe algum produto que foi avaliado duas ou mais vezes por clientes."
      ],
      "metadata": {
        "id": "tUmlIe63YCJg"
      }
    },
    {
      "cell_type": "code",
      "source": [
        "rating_5[\"Model Name\"].value_counts()"
      ],
      "metadata": {
        "colab": {
          "base_uri": "https://localhost:8080/"
        },
        "id": "Tm2997fgEi5Y",
        "outputId": "f8e3a08b-f737-4993-8085-80bf3afba154"
      },
      "execution_count": 27,
      "outputs": [
        {
          "output_type": "execute_result",
          "data": {
            "text/plain": [
              "Neutra Hybrid                        2\n",
              "Galaxy Classic 4 LTE                 1\n",
              "FTW1159 Hybrid                       1\n",
              "Series 7 GPS 45 mm                   1\n",
              "Series 7 GPS 41 mm Aluminium Case    1\n",
              "Instinct                             1\n",
              "Forerunner 745 Black                 1\n",
              "vivoactive 4S 40mm                   1\n",
              "Name: Model Name, dtype: int64"
            ]
          },
          "metadata": {},
          "execution_count": 27
        }
      ]
    },
    {
      "cell_type": "code",
      "source": [
        "rating_5.loc[rating_5[\"Model Name\"] == \"Neutra Hybrid\"]"
      ],
      "metadata": {
        "colab": {
          "base_uri": "https://localhost:8080/",
          "height": 208
        },
        "id": "WqDZ7dgxE6DV",
        "outputId": "77780b96-2991-4546-b69c-bfabafd07849"
      },
      "execution_count": 28,
      "outputs": [
        {
          "output_type": "execute_result",
          "data": {
            "text/plain": [
              "    Brand Name Device Type     Model Name         Color  Selling Price  \\\n",
              "241     FOSSIL  Smartwatch  Neutra Hybrid        Silver        13495.0   \n",
              "252     FOSSIL  Smartwatch  Neutra Hybrid  Brown, Black        11995.0   \n",
              "\n",
              "     Original Price         Display  Rating (Out of 5)   Strap Material  \\\n",
              "241         13495.0  AMOLED Display                5.0  Stainless Steel   \n",
              "252         11995.0  AMOLED Display                5.0          Leather   \n",
              "\n",
              "     Average Battery Life (in days) Reviews  \n",
              "241                              12     NaN  \n",
              "252                              12     NaN  "
            ],
            "text/html": [
              "\n",
              "  <div id=\"df-a4d4cc28-ded3-4eb1-9248-3191c8e07caf\">\n",
              "    <div class=\"colab-df-container\">\n",
              "      <div>\n",
              "<style scoped>\n",
              "    .dataframe tbody tr th:only-of-type {\n",
              "        vertical-align: middle;\n",
              "    }\n",
              "\n",
              "    .dataframe tbody tr th {\n",
              "        vertical-align: top;\n",
              "    }\n",
              "\n",
              "    .dataframe thead th {\n",
              "        text-align: right;\n",
              "    }\n",
              "</style>\n",
              "<table border=\"1\" class=\"dataframe\">\n",
              "  <thead>\n",
              "    <tr style=\"text-align: right;\">\n",
              "      <th></th>\n",
              "      <th>Brand Name</th>\n",
              "      <th>Device Type</th>\n",
              "      <th>Model Name</th>\n",
              "      <th>Color</th>\n",
              "      <th>Selling Price</th>\n",
              "      <th>Original Price</th>\n",
              "      <th>Display</th>\n",
              "      <th>Rating (Out of 5)</th>\n",
              "      <th>Strap Material</th>\n",
              "      <th>Average Battery Life (in days)</th>\n",
              "      <th>Reviews</th>\n",
              "    </tr>\n",
              "  </thead>\n",
              "  <tbody>\n",
              "    <tr>\n",
              "      <th>241</th>\n",
              "      <td>FOSSIL</td>\n",
              "      <td>Smartwatch</td>\n",
              "      <td>Neutra Hybrid</td>\n",
              "      <td>Silver</td>\n",
              "      <td>13495.0</td>\n",
              "      <td>13495.0</td>\n",
              "      <td>AMOLED Display</td>\n",
              "      <td>5.0</td>\n",
              "      <td>Stainless Steel</td>\n",
              "      <td>12</td>\n",
              "      <td>NaN</td>\n",
              "    </tr>\n",
              "    <tr>\n",
              "      <th>252</th>\n",
              "      <td>FOSSIL</td>\n",
              "      <td>Smartwatch</td>\n",
              "      <td>Neutra Hybrid</td>\n",
              "      <td>Brown, Black</td>\n",
              "      <td>11995.0</td>\n",
              "      <td>11995.0</td>\n",
              "      <td>AMOLED Display</td>\n",
              "      <td>5.0</td>\n",
              "      <td>Leather</td>\n",
              "      <td>12</td>\n",
              "      <td>NaN</td>\n",
              "    </tr>\n",
              "  </tbody>\n",
              "</table>\n",
              "</div>\n",
              "      <button class=\"colab-df-convert\" onclick=\"convertToInteractive('df-a4d4cc28-ded3-4eb1-9248-3191c8e07caf')\"\n",
              "              title=\"Convert this dataframe to an interactive table.\"\n",
              "              style=\"display:none;\">\n",
              "        \n",
              "  <svg xmlns=\"http://www.w3.org/2000/svg\" height=\"24px\"viewBox=\"0 0 24 24\"\n",
              "       width=\"24px\">\n",
              "    <path d=\"M0 0h24v24H0V0z\" fill=\"none\"/>\n",
              "    <path d=\"M18.56 5.44l.94 2.06.94-2.06 2.06-.94-2.06-.94-.94-2.06-.94 2.06-2.06.94zm-11 1L8.5 8.5l.94-2.06 2.06-.94-2.06-.94L8.5 2.5l-.94 2.06-2.06.94zm10 10l.94 2.06.94-2.06 2.06-.94-2.06-.94-.94-2.06-.94 2.06-2.06.94z\"/><path d=\"M17.41 7.96l-1.37-1.37c-.4-.4-.92-.59-1.43-.59-.52 0-1.04.2-1.43.59L10.3 9.45l-7.72 7.72c-.78.78-.78 2.05 0 2.83L4 21.41c.39.39.9.59 1.41.59.51 0 1.02-.2 1.41-.59l7.78-7.78 2.81-2.81c.8-.78.8-2.07 0-2.86zM5.41 20L4 18.59l7.72-7.72 1.47 1.35L5.41 20z\"/>\n",
              "  </svg>\n",
              "      </button>\n",
              "      \n",
              "  <style>\n",
              "    .colab-df-container {\n",
              "      display:flex;\n",
              "      flex-wrap:wrap;\n",
              "      gap: 12px;\n",
              "    }\n",
              "\n",
              "    .colab-df-convert {\n",
              "      background-color: #E8F0FE;\n",
              "      border: none;\n",
              "      border-radius: 50%;\n",
              "      cursor: pointer;\n",
              "      display: none;\n",
              "      fill: #1967D2;\n",
              "      height: 32px;\n",
              "      padding: 0 0 0 0;\n",
              "      width: 32px;\n",
              "    }\n",
              "\n",
              "    .colab-df-convert:hover {\n",
              "      background-color: #E2EBFA;\n",
              "      box-shadow: 0px 1px 2px rgba(60, 64, 67, 0.3), 0px 1px 3px 1px rgba(60, 64, 67, 0.15);\n",
              "      fill: #174EA6;\n",
              "    }\n",
              "\n",
              "    [theme=dark] .colab-df-convert {\n",
              "      background-color: #3B4455;\n",
              "      fill: #D2E3FC;\n",
              "    }\n",
              "\n",
              "    [theme=dark] .colab-df-convert:hover {\n",
              "      background-color: #434B5C;\n",
              "      box-shadow: 0px 1px 3px 1px rgba(0, 0, 0, 0.15);\n",
              "      filter: drop-shadow(0px 1px 2px rgba(0, 0, 0, 0.3));\n",
              "      fill: #FFFFFF;\n",
              "    }\n",
              "  </style>\n",
              "\n",
              "      <script>\n",
              "        const buttonEl =\n",
              "          document.querySelector('#df-a4d4cc28-ded3-4eb1-9248-3191c8e07caf button.colab-df-convert');\n",
              "        buttonEl.style.display =\n",
              "          google.colab.kernel.accessAllowed ? 'block' : 'none';\n",
              "\n",
              "        async function convertToInteractive(key) {\n",
              "          const element = document.querySelector('#df-a4d4cc28-ded3-4eb1-9248-3191c8e07caf');\n",
              "          const dataTable =\n",
              "            await google.colab.kernel.invokeFunction('convertToInteractive',\n",
              "                                                     [key], {});\n",
              "          if (!dataTable) return;\n",
              "\n",
              "          const docLinkHtml = 'Like what you see? Visit the ' +\n",
              "            '<a target=\"_blank\" href=https://colab.research.google.com/notebooks/data_table.ipynb>data table notebook</a>'\n",
              "            + ' to learn more about interactive tables.';\n",
              "          element.innerHTML = '';\n",
              "          dataTable['output_type'] = 'display_data';\n",
              "          await google.colab.output.renderOutput(dataTable, element);\n",
              "          const docLink = document.createElement('div');\n",
              "          docLink.innerHTML = docLinkHtml;\n",
              "          element.appendChild(docLink);\n",
              "        }\n",
              "      </script>\n",
              "    </div>\n",
              "  </div>\n",
              "  "
            ]
          },
          "metadata": {},
          "execution_count": 28
        }
      ]
    },
    {
      "cell_type": "markdown",
      "source": [
        "* Definindo os valores de **x** e **y** para plotar no gráfico."
      ],
      "metadata": {
        "id": "_Y9cquoIW3Cu"
      }
    },
    {
      "cell_type": "code",
      "source": [
        "y = rating_5.groupby(\"Model Name\").count()\n",
        "x = y[\"Device Type\"]\n",
        "y = y.index"
      ],
      "metadata": {
        "id": "-ORXB6nNG-hg"
      },
      "execution_count": 32,
      "outputs": []
    },
    {
      "cell_type": "markdown",
      "source": [
        "* Organizando os valores de **x** e **y** para que sejam exibidos no gráfico em ordem decrescente."
      ],
      "metadata": {
        "id": "tjBAf4jQWtht"
      }
    },
    {
      "cell_type": "code",
      "source": [
        "data = list(zip(x, y))\n",
        "data.sort()\n",
        "\n",
        "x, y = zip(*data)"
      ],
      "metadata": {
        "id": "mOoXlDLPKsBB"
      },
      "execution_count": 48,
      "outputs": []
    },
    {
      "cell_type": "code",
      "source": [
        "max_value = max(enumerate(x), key=lambda x: x[1])[0]\n",
        "colors = [\"#191970\" if i == max_value else \"#696969\" for i in range(len(y))]\n",
        "\n",
        "plt.figure(figsize=(10, 6))\n",
        "plt.title(\"Produtos Com Avaliação de 5 Estrelas\", size=25)\n",
        "plt.barh(y, x, color=colors)\n",
        "plt.yticks(size=15)\n",
        "plt.show()"
      ],
      "metadata": {
        "colab": {
          "base_uri": "https://localhost:8080/",
          "height": 399
        },
        "id": "PTGvF0M4HfrP",
        "outputId": "ea66d46f-9d90-4b91-e4ba-4ab211b052f1"
      },
      "execution_count": 73,
      "outputs": [
        {
          "output_type": "display_data",
          "data": {
            "text/plain": [
              "<Figure size 720x432 with 1 Axes>"
            ],
            "image/png": "[encoded data removed]"
          },
          "metadata": {
            "needs_background": "light"
          }
        }
      ]
    },
    {
      "cell_type": "markdown",
      "source": [
        "# **Conclusão:**\n",
        "* ## Chegamos a conclusão que o produto **mais bem avaliado** com a nota 5 *(entre 0 e 5)* foi **Neutra Hybrid** da marca **FOSSIL**, o mesmo com **duas** unidades avaliadas com **nota máxima** .\n",
        "\n",
        "* ## O produto mais vendido não foi o mais bem avaliado, entretanto a marca **FOSSIL** foi **a marca mais vendida e também a marca mais bem avaliada**."
      ],
      "metadata": {
        "id": "ttriUo2nFm7o"
      }
    },
    {
      "cell_type": "markdown",
      "source": [
        "# **Question 3: Qual a cor favorita dos clientes?**"
      ],
      "metadata": {
        "id": "a2HskcGoXjfH"
      }
    },
    {
      "cell_type": "code",
      "source": [
        "df[\"Color\"] = df[\"Color\"].apply(lambda x: x.replace(\" \", \"\"))\n",
        "favorite_color = df.groupby(\"Color\").count()\n",
        "favorite_color.head()"
      ],
      "metadata": {
        "colab": {
          "base_uri": "https://localhost:8080/",
          "height": 299
        },
        "id": "Faa-IHUqY2TZ",
        "outputId": "25067ad4-4d2b-43c4-9b31-51138ea7f3a3"
      },
      "execution_count": 78,
      "outputs": [
        {
          "output_type": "execute_result",
          "data": {
            "text/plain": [
              "                 Brand Name  Device Type  Model Name  Selling Price  \\\n",
              "Color                                                                 \n",
              "Beige                     5            5           5              5   \n",
              "Black                   201          201         201            201   \n",
              "Black,Beige               1            1           1              1   \n",
              "Black,Blue                4            4           4              4   \n",
              "Black,Blue,Pink           3            3           3              3   \n",
              "\n",
              "                 Original Price  Display  Rating (Out of 5)  Strap Material  \\\n",
              "Color                                                                         \n",
              "Beige                         5        5                  5               5   \n",
              "Black                       201      201                182             201   \n",
              "Black,Beige                   1        1                  1               1   \n",
              "Black,Blue                    4        4                  4               4   \n",
              "Black,Blue,Pink               3        3                  3               3   \n",
              "\n",
              "                 Average Battery Life (in days)  Reviews  \n",
              "Color                                                     \n",
              "Beige                                         5        2  \n",
              "Black                                       201       34  \n",
              "Black,Beige                                   1        0  \n",
              "Black,Blue                                    4        0  \n",
              "Black,Blue,Pink                               3        0  "
            ],
            "text/html": [
              "\n",
              "  <div id=\"df-fcd2ef17-b822-4309-b6b0-bcf9cc0809c1\">\n",
              "    <div class=\"colab-df-container\">\n",
              "      <div>\n",
              "<style scoped>\n",
              "    .dataframe tbody tr th:only-of-type {\n",
              "        vertical-align: middle;\n",
              "    }\n",
              "\n",
              "    .dataframe tbody tr th {\n",
              "        vertical-align: top;\n",
              "    }\n",
              "\n",
              "    .dataframe thead th {\n",
              "        text-align: right;\n",
              "    }\n",
              "</style>\n",
              "<table border=\"1\" class=\"dataframe\">\n",
              "  <thead>\n",
              "    <tr style=\"text-align: right;\">\n",
              "      <th></th>\n",
              "      <th>Brand Name</th>\n",
              "      <th>Device Type</th>\n",
              "      <th>Model Name</th>\n",
              "      <th>Selling Price</th>\n",
              "      <th>Original Price</th>\n",
              "      <th>Display</th>\n",
              "      <th>Rating (Out of 5)</th>\n",
              "      <th>Strap Material</th>\n",
              "      <th>Average Battery Life (in days)</th>\n",
              "      <th>Reviews</th>\n",
              "    </tr>\n",
              "    <tr>\n",
              "      <th>Color</th>\n",
              "      <th></th>\n",
              "      <th></th>\n",
              "      <th></th>\n",
              "      <th></th>\n",
              "      <th></th>\n",
              "      <th></th>\n",
              "      <th></th>\n",
              "      <th></th>\n",
              "      <th></th>\n",
              "      <th></th>\n",
              "    </tr>\n",
              "  </thead>\n",
              "  <tbody>\n",
              "    <tr>\n",
              "      <th>Beige</th>\n",
              "      <td>5</td>\n",
              "      <td>5</td>\n",
              "      <td>5</td>\n",
              "      <td>5</td>\n",
              "      <td>5</td>\n",
              "      <td>5</td>\n",
              "      <td>5</td>\n",
              "      <td>5</td>\n",
              "      <td>5</td>\n",
              "      <td>2</td>\n",
              "    </tr>\n",
              "    <tr>\n",
              "      <th>Black</th>\n",
              "      <td>201</td>\n",
              "      <td>201</td>\n",
              "      <td>201</td>\n",
              "      <td>201</td>\n",
              "      <td>201</td>\n",
              "      <td>201</td>\n",
              "      <td>182</td>\n",
              "      <td>201</td>\n",
              "      <td>201</td>\n",
              "      <td>34</td>\n",
              "    </tr>\n",
              "    <tr>\n",
              "      <th>Black,Beige</th>\n",
              "      <td>1</td>\n",
              "      <td>1</td>\n",
              "      <td>1</td>\n",
              "      <td>1</td>\n",
              "      <td>1</td>\n",
              "      <td>1</td>\n",
              "      <td>1</td>\n",
              "      <td>1</td>\n",
              "      <td>1</td>\n",
              "      <td>0</td>\n",
              "    </tr>\n",
              "    <tr>\n",
              "      <th>Black,Blue</th>\n",
              "      <td>4</td>\n",
              "      <td>4</td>\n",
              "      <td>4</td>\n",
              "      <td>4</td>\n",
              "      <td>4</td>\n",
              "      <td>4</td>\n",
              "      <td>4</td>\n",
              "      <td>4</td>\n",
              "      <td>4</td>\n",
              "      <td>0</td>\n",
              "    </tr>\n",
              "    <tr>\n",
              "      <th>Black,Blue,Pink</th>\n",
              "      <td>3</td>\n",
              "      <td>3</td>\n",
              "      <td>3</td>\n",
              "      <td>3</td>\n",
              "      <td>3</td>\n",
              "      <td>3</td>\n",
              "      <td>3</td>\n",
              "      <td>3</td>\n",
              "      <td>3</td>\n",
              "      <td>0</td>\n",
              "    </tr>\n",
              "  </tbody>\n",
              "</table>\n",
              "</div>\n",
              "      <button class=\"colab-df-convert\" onclick=\"convertToInteractive('df-fcd2ef17-b822-4309-b6b0-bcf9cc0809c1')\"\n",
              "              title=\"Convert this dataframe to an interactive table.\"\n",
              "              style=\"display:none;\">\n",
              "        \n",
              "  <svg xmlns=\"http://www.w3.org/2000/svg\" height=\"24px\"viewBox=\"0 0 24 24\"\n",
              "       width=\"24px\">\n",
              "    <path d=\"M0 0h24v24H0V0z\" fill=\"none\"/>\n",
              "    <path d=\"M18.56 5.44l.94 2.06.94-2.06 2.06-.94-2.06-.94-.94-2.06-.94 2.06-2.06.94zm-11 1L8.5 8.5l.94-2.06 2.06-.94-2.06-.94L8.5 2.5l-.94 2.06-2.06.94zm10 10l.94 2.06.94-2.06 2.06-.94-2.06-.94-.94-2.06-.94 2.06-2.06.94z\"/><path d=\"M17.41 7.96l-1.37-1.37c-.4-.4-.92-.59-1.43-.59-.52 0-1.04.2-1.43.59L10.3 9.45l-7.72 7.72c-.78.78-.78 2.05 0 2.83L4 21.41c.39.39.9.59 1.41.59.51 0 1.02-.2 1.41-.59l7.78-7.78 2.81-2.81c.8-.78.8-2.07 0-2.86zM5.41 20L4 18.59l7.72-7.72 1.47 1.35L5.41 20z\"/>\n",
              "  </svg>\n",
              "      </button>\n",
              "      \n",
              "  <style>\n",
              "    .colab-df-container {\n",
              "      display:flex;\n",
              "      flex-wrap:wrap;\n",
              "      gap: 12px;\n",
              "    }\n",
              "\n",
              "    .colab-df-convert {\n",
              "      background-color: #E8F0FE;\n",
              "      border: none;\n",
              "      border-radius: 50%;\n",
              "      cursor: pointer;\n",
              "      display: none;\n",
              "      fill: #1967D2;\n",
              "      height: 32px;\n",
              "      padding: 0 0 0 0;\n",
              "      width: 32px;\n",
              "    }\n",
              "\n",
              "    .colab-df-convert:hover {\n",
              "      background-color: #E2EBFA;\n",
              "      box-shadow: 0px 1px 2px rgba(60, 64, 67, 0.3), 0px 1px 3px 1px rgba(60, 64, 67, 0.15);\n",
              "      fill: #174EA6;\n",
              "    }\n",
              "\n",
              "    [theme=dark] .colab-df-convert {\n",
              "      background-color: #3B4455;\n",
              "      fill: #D2E3FC;\n",
              "    }\n",
              "\n",
              "    [theme=dark] .colab-df-convert:hover {\n",
              "      background-color: #434B5C;\n",
              "      box-shadow: 0px 1px 3px 1px rgba(0, 0, 0, 0.15);\n",
              "      filter: drop-shadow(0px 1px 2px rgba(0, 0, 0, 0.3));\n",
              "      fill: #FFFFFF;\n",
              "    }\n",
              "  </style>\n",
              "\n",
              "      <script>\n",
              "        const buttonEl =\n",
              "          document.querySelector('#df-fcd2ef17-b822-4309-b6b0-bcf9cc0809c1 button.colab-df-convert');\n",
              "        buttonEl.style.display =\n",
              "          google.colab.kernel.accessAllowed ? 'block' : 'none';\n",
              "\n",
              "        async function convertToInteractive(key) {\n",
              "          const element = document.querySelector('#df-fcd2ef17-b822-4309-b6b0-bcf9cc0809c1');\n",
              "          const dataTable =\n",
              "            await google.colab.kernel.invokeFunction('convertToInteractive',\n",
              "                                                     [key], {});\n",
              "          if (!dataTable) return;\n",
              "\n",
              "          const docLinkHtml = 'Like what you see? Visit the ' +\n",
              "            '<a target=\"_blank\" href=https://colab.research.google.com/notebooks/data_table.ipynb>data table notebook</a>'\n",
              "            + ' to learn more about interactive tables.';\n",
              "          element.innerHTML = '';\n",
              "          dataTable['output_type'] = 'display_data';\n",
              "          await google.colab.output.renderOutput(dataTable, element);\n",
              "          const docLink = document.createElement('div');\n",
              "          docLink.innerHTML = docLinkHtml;\n",
              "          element.appendChild(docLink);\n",
              "        }\n",
              "      </script>\n",
              "    </div>\n",
              "  </div>\n",
              "  "
            ]
          },
          "metadata": {},
          "execution_count": 78
        }
      ]
    },
    {
      "cell_type": "code",
      "source": [
        "favorite_color[\"Brand Name\"].max()"
      ],
      "metadata": {
        "colab": {
          "base_uri": "https://localhost:8080/"
        },
        "id": "RfItqDUmbTTX",
        "outputId": "a3eed50d-414f-4f3c-bf7c-3d97a533ac2d"
      },
      "execution_count": 87,
      "outputs": [
        {
          "output_type": "execute_result",
          "data": {
            "text/plain": [
              "201"
            ]
          },
          "metadata": {},
          "execution_count": 87
        }
      ]
    },
    {
      "cell_type": "code",
      "source": [
        "favorite_color = favorite_color[\"Brand Name\"].sort_values()"
      ],
      "metadata": {
        "id": "Ft1duq8CbY-g"
      },
      "execution_count": 90,
      "outputs": []
    },
    {
      "cell_type": "code",
      "source": [
        "top_10 = favorite_color[124::]\n",
        "top_10"
      ],
      "metadata": {
        "colab": {
          "base_uri": "https://localhost:8080/"
        },
        "id": "_bbiUEClbrS_",
        "outputId": "74e9df6a-dfc8-410a-ccc9-c28eccbaff0d"
      },
      "execution_count": 112,
      "outputs": [
        {
          "output_type": "execute_result",
          "data": {
            "text/plain": [
              "Color\n",
              "DeepNavy      7\n",
              "Purple        9\n",
              "Red          10\n",
              "Brown        13\n",
              "Gold         20\n",
              "White        22\n",
              "Silver       25\n",
              "Grey         26\n",
              "Blue         34\n",
              "Black       201\n",
              "Name: Brand Name, dtype: int64"
            ]
          },
          "metadata": {},
          "execution_count": 112
        }
      ]
    },
    {
      "cell_type": "code",
      "source": [
        "y = top_10.index\n",
        "x = top_10"
      ],
      "metadata": {
        "id": "LihrcQdeY-mm"
      },
      "execution_count": 113,
      "outputs": []
    },
    {
      "cell_type": "code",
      "source": [
        "data = list(zip(x, y))\n",
        "\n",
        "data.sort()\n",
        "\n",
        "x, y = zip(*data)"
      ],
      "metadata": {
        "id": "OHHKEflzaDPx"
      },
      "execution_count": 114,
      "outputs": []
    },
    {
      "cell_type": "code",
      "source": [
        "max_value = max(enumerate(x), key=lambda x: x[1])[0]\n",
        "colors = [\"#000000\" if i == max_value else \"#696969\" for i in range(len(x))]\n",
        "\n",
        "plt.figure(figsize=(10, 6))\n",
        "plt.title(\"Top 10 Cores Favoritas entre os Clientes\", size=(25))\n",
        "plt.bar(y, x, color=colors)\n",
        "plt.text(0, 160, \"Com 201 unidades vendidas (independente do modelo)\\n\" +\n",
        "         \"A cor preferida entre os cliente é a cor Black\", size=13)\n",
        "plt.text(8.75, 202, x[-1], size=13)\n",
        "plt.show()"
      ],
      "metadata": {
        "colab": {
          "base_uri": "https://localhost:8080/",
          "height": 399
        },
        "id": "cwtu1M06aeSe",
        "outputId": "3ee84831-9511-4fe1-bc70-68f765c0c8ba"
      },
      "execution_count": 149,
      "outputs": [
        {
          "output_type": "display_data",
          "data": {
            "text/plain": [
              "<Figure size 720x432 with 1 Axes>"
            ],
            "image/png": "[encoded data removed]"
          },
          "metadata": {
            "needs_background": "light"
          }
        }
      ]
    }
  ]
}